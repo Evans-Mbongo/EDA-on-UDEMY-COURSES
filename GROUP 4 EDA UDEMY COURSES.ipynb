{
 "cells": [
  {
   "cell_type": "code",
   "execution_count": 6,
   "metadata": {},
   "outputs": [],
   "source": [
    "import pandas as pd\n",
    "import numpy as np\n",
    "import matplotlib.pyplot as plt\n",
    "from matplotlib.ticker import FormatStrFormatter\n",
    "import seaborn as sns\n",
    "import plotly.express as px\n",
    "import plotly.graph_objects as go\n",
    "from plotly.subplots import make_subplots\n",
    "\n",
    "%matplotlib inline\n",
    "sns.set_style('darkgrid')"
   ]
  },
  {
   "cell_type": "code",
   "execution_count": 74,
   "metadata": {},
   "outputs": [],
   "source": [
    "df = pd.read_excel(r\"C:\\Users\\Lucky Kreatives\\Downloads\\udemy_courses.xlsx\")"
   ]
  },
  {
   "cell_type": "code",
   "execution_count": 75,
   "metadata": {},
   "outputs": [
    {
     "data": {
      "text/html": [
       "<div>\n",
       "<style scoped>\n",
       "    .dataframe tbody tr th:only-of-type {\n",
       "        vertical-align: middle;\n",
       "    }\n",
       "\n",
       "    .dataframe tbody tr th {\n",
       "        vertical-align: top;\n",
       "    }\n",
       "\n",
       "    .dataframe thead th {\n",
       "        text-align: right;\n",
       "    }\n",
       "</style>\n",
       "<table border=\"1\" class=\"dataframe\">\n",
       "  <thead>\n",
       "    <tr style=\"text-align: right;\">\n",
       "      <th></th>\n",
       "      <th>course_id</th>\n",
       "      <th>course_title</th>\n",
       "      <th>url</th>\n",
       "      <th>is_paid</th>\n",
       "      <th>price</th>\n",
       "      <th>num_subscribers</th>\n",
       "      <th>num_reviews</th>\n",
       "      <th>num_lectures</th>\n",
       "      <th>level</th>\n",
       "      <th>content_duration</th>\n",
       "      <th>published_timestamp</th>\n",
       "      <th>subject</th>\n",
       "    </tr>\n",
       "  </thead>\n",
       "  <tbody>\n",
       "    <tr>\n",
       "      <th>0</th>\n",
       "      <td>1070968</td>\n",
       "      <td>Ultimate Investment Banking Course</td>\n",
       "      <td>https://www.udemy.com/ultimate-investment-bank...</td>\n",
       "      <td>True</td>\n",
       "      <td>200</td>\n",
       "      <td>2147</td>\n",
       "      <td>23</td>\n",
       "      <td>51</td>\n",
       "      <td>All Levels</td>\n",
       "      <td>1.5</td>\n",
       "      <td>2017-01-18T20:58:58Z</td>\n",
       "      <td>Business Finance</td>\n",
       "    </tr>\n",
       "    <tr>\n",
       "      <th>1</th>\n",
       "      <td>1113822</td>\n",
       "      <td>Complete GST Course &amp; Certification - Grow You...</td>\n",
       "      <td>https://www.udemy.com/goods-and-services-tax/</td>\n",
       "      <td>True</td>\n",
       "      <td>75</td>\n",
       "      <td>2792</td>\n",
       "      <td>923</td>\n",
       "      <td>274</td>\n",
       "      <td>All Levels</td>\n",
       "      <td>39.0</td>\n",
       "      <td>2017-03-09T16:34:20Z</td>\n",
       "      <td>Business Finance</td>\n",
       "    </tr>\n",
       "    <tr>\n",
       "      <th>2</th>\n",
       "      <td>1006314</td>\n",
       "      <td>Financial Modeling for Business Analysts and C...</td>\n",
       "      <td>https://www.udemy.com/financial-modeling-for-b...</td>\n",
       "      <td>True</td>\n",
       "      <td>45</td>\n",
       "      <td>2174</td>\n",
       "      <td>74</td>\n",
       "      <td>51</td>\n",
       "      <td>Intermediate Level</td>\n",
       "      <td>2.5</td>\n",
       "      <td>2016-12-19T19:26:30Z</td>\n",
       "      <td>Business Finance</td>\n",
       "    </tr>\n",
       "    <tr>\n",
       "      <th>3</th>\n",
       "      <td>1210588</td>\n",
       "      <td>Beginner to Pro - Financial Analysis in Excel ...</td>\n",
       "      <td>https://www.udemy.com/complete-excel-finance-c...</td>\n",
       "      <td>True</td>\n",
       "      <td>95</td>\n",
       "      <td>2451</td>\n",
       "      <td>11</td>\n",
       "      <td>36</td>\n",
       "      <td>All Levels</td>\n",
       "      <td>3.0</td>\n",
       "      <td>2017-05-30T20:07:24Z</td>\n",
       "      <td>Business Finance</td>\n",
       "    </tr>\n",
       "    <tr>\n",
       "      <th>4</th>\n",
       "      <td>1011058</td>\n",
       "      <td>How To Maximize Your Profits Trading Options</td>\n",
       "      <td>https://www.udemy.com/how-to-maximize-your-pro...</td>\n",
       "      <td>True</td>\n",
       "      <td>200</td>\n",
       "      <td>1276</td>\n",
       "      <td>45</td>\n",
       "      <td>26</td>\n",
       "      <td>Intermediate Level</td>\n",
       "      <td>2.0</td>\n",
       "      <td>2016-12-13T14:57:18Z</td>\n",
       "      <td>Business Finance</td>\n",
       "    </tr>\n",
       "  </tbody>\n",
       "</table>\n",
       "</div>"
      ],
      "text/plain": [
       "   course_id                                       course_title  \\\n",
       "0    1070968                 Ultimate Investment Banking Course   \n",
       "1    1113822  Complete GST Course & Certification - Grow You...   \n",
       "2    1006314  Financial Modeling for Business Analysts and C...   \n",
       "3    1210588  Beginner to Pro - Financial Analysis in Excel ...   \n",
       "4    1011058       How To Maximize Your Profits Trading Options   \n",
       "\n",
       "                                                 url  is_paid  price  \\\n",
       "0  https://www.udemy.com/ultimate-investment-bank...     True    200   \n",
       "1      https://www.udemy.com/goods-and-services-tax/     True     75   \n",
       "2  https://www.udemy.com/financial-modeling-for-b...     True     45   \n",
       "3  https://www.udemy.com/complete-excel-finance-c...     True     95   \n",
       "4  https://www.udemy.com/how-to-maximize-your-pro...     True    200   \n",
       "\n",
       "   num_subscribers  num_reviews  num_lectures               level  \\\n",
       "0             2147           23            51          All Levels   \n",
       "1             2792          923           274          All Levels   \n",
       "2             2174           74            51  Intermediate Level   \n",
       "3             2451           11            36          All Levels   \n",
       "4             1276           45            26  Intermediate Level   \n",
       "\n",
       "   content_duration   published_timestamp           subject  \n",
       "0               1.5  2017-01-18T20:58:58Z  Business Finance  \n",
       "1              39.0  2017-03-09T16:34:20Z  Business Finance  \n",
       "2               2.5  2016-12-19T19:26:30Z  Business Finance  \n",
       "3               3.0  2017-05-30T20:07:24Z  Business Finance  \n",
       "4               2.0  2016-12-13T14:57:18Z  Business Finance  "
      ]
     },
     "execution_count": 75,
     "metadata": {},
     "output_type": "execute_result"
    }
   ],
   "source": [
    "df.head(5)"
   ]
  },
  {
   "cell_type": "code",
   "execution_count": 11,
   "metadata": {},
   "outputs": [
    {
     "data": {
      "text/plain": [
       "Index(['course_id', 'course_title', 'url', 'is_paid', 'price',\n",
       "       'num_subscribers', 'num_reviews', 'num_lectures', 'level',\n",
       "       'content_duration', 'published_timestamp', 'subject'],\n",
       "      dtype='object')"
      ]
     },
     "execution_count": 11,
     "metadata": {},
     "output_type": "execute_result"
    }
   ],
   "source": [
    "df.columns"
   ]
  },
  {
   "cell_type": "code",
   "execution_count": 6,
   "metadata": {},
   "outputs": [
    {
     "data": {
      "text/plain": [
       "(3678, 12)"
      ]
     },
     "execution_count": 6,
     "metadata": {},
     "output_type": "execute_result"
    }
   ],
   "source": [
    "df.shape"
   ]
  },
  {
   "cell_type": "code",
   "execution_count": 12,
   "metadata": {},
   "outputs": [
    {
     "data": {
      "text/plain": [
       "<bound method DataFrame.info of       course_id                                       course_title  \\\n",
       "0       1070968                 Ultimate Investment Banking Course   \n",
       "1       1113822  Complete GST Course & Certification - Grow You...   \n",
       "2       1006314  Financial Modeling for Business Analysts and C...   \n",
       "3       1210588  Beginner to Pro - Financial Analysis in Excel ...   \n",
       "4       1011058       How To Maximize Your Profits Trading Options   \n",
       "...         ...                                                ...   \n",
       "3673     775618  Learn jQuery from Scratch - Master of JavaScri...   \n",
       "3674    1088178  How To Design A WordPress Website With No Codi...   \n",
       "3675     635248                      Learn and Build using Polymer   \n",
       "3676     905096  CSS Animations: Create Amazing Effects on Your...   \n",
       "3677     297602  Using MODX CMS to Build Websites: A Beginner's...   \n",
       "\n",
       "                                                    url  is_paid  price  \\\n",
       "0     https://www.udemy.com/ultimate-investment-bank...     True    200   \n",
       "1         https://www.udemy.com/goods-and-services-tax/     True     75   \n",
       "2     https://www.udemy.com/financial-modeling-for-b...     True     45   \n",
       "3     https://www.udemy.com/complete-excel-finance-c...     True     95   \n",
       "4     https://www.udemy.com/how-to-maximize-your-pro...     True    200   \n",
       "...                                                 ...      ...    ...   \n",
       "3673  https://www.udemy.com/easy-jquery-for-beginner...     True    100   \n",
       "3674  https://www.udemy.com/how-to-make-a-wordpress-...     True     25   \n",
       "3675  https://www.udemy.com/learn-and-build-using-po...     True     40   \n",
       "3676  https://www.udemy.com/css-animations-create-am...     True     50   \n",
       "3677  https://www.udemy.com/using-modx-cms-to-build-...     True     45   \n",
       "\n",
       "      num_subscribers  num_reviews  num_lectures               level  \\\n",
       "0                2147           23            51          All Levels   \n",
       "1                2792          923           274          All Levels   \n",
       "2                2174           74            51  Intermediate Level   \n",
       "3                2451           11            36          All Levels   \n",
       "4                1276           45            26  Intermediate Level   \n",
       "...               ...          ...           ...                 ...   \n",
       "3673             1040           14            21          All Levels   \n",
       "3674              306            3            42      Beginner Level   \n",
       "3675              513          169            48          All Levels   \n",
       "3676              300           31            38          All Levels   \n",
       "3677              901           36            20      Beginner Level   \n",
       "\n",
       "      content_duration   published_timestamp           subject  \n",
       "0                  1.5  2017-01-18T20:58:58Z  Business Finance  \n",
       "1                 39.0  2017-03-09T16:34:20Z  Business Finance  \n",
       "2                  2.5  2016-12-19T19:26:30Z  Business Finance  \n",
       "3                  3.0  2017-05-30T20:07:24Z  Business Finance  \n",
       "4                  2.0  2016-12-13T14:57:18Z  Business Finance  \n",
       "...                ...                   ...               ...  \n",
       "3673               2.0  2016-06-14T17:36:46Z   Web Development  \n",
       "3674               3.5  2017-03-10T22:24:30Z   Web Development  \n",
       "3675               3.5  2015-12-30T16:41:42Z   Web Development  \n",
       "3676               3.0  2016-08-11T19:06:15Z   Web Development  \n",
       "3677               2.0  2014-09-28T19:51:11Z   Web Development  \n",
       "\n",
       "[3678 rows x 12 columns]>"
      ]
     },
     "execution_count": 12,
     "metadata": {},
     "output_type": "execute_result"
    }
   ],
   "source": [
    "df.info"
   ]
  },
  {
   "cell_type": "code",
   "execution_count": 13,
   "metadata": {},
   "outputs": [
    {
     "data": {
      "text/html": [
       "<div>\n",
       "<style scoped>\n",
       "    .dataframe tbody tr th:only-of-type {\n",
       "        vertical-align: middle;\n",
       "    }\n",
       "\n",
       "    .dataframe tbody tr th {\n",
       "        vertical-align: top;\n",
       "    }\n",
       "\n",
       "    .dataframe thead th {\n",
       "        text-align: right;\n",
       "    }\n",
       "</style>\n",
       "<table border=\"1\" class=\"dataframe\">\n",
       "  <thead>\n",
       "    <tr style=\"text-align: right;\">\n",
       "      <th></th>\n",
       "      <th>course_id</th>\n",
       "      <th>price</th>\n",
       "      <th>num_subscribers</th>\n",
       "      <th>num_reviews</th>\n",
       "      <th>num_lectures</th>\n",
       "      <th>content_duration</th>\n",
       "    </tr>\n",
       "  </thead>\n",
       "  <tbody>\n",
       "    <tr>\n",
       "      <th>count</th>\n",
       "      <td>3.678000e+03</td>\n",
       "      <td>3678.000000</td>\n",
       "      <td>3678.000000</td>\n",
       "      <td>3678.000000</td>\n",
       "      <td>3678.000000</td>\n",
       "      <td>3678.000000</td>\n",
       "    </tr>\n",
       "    <tr>\n",
       "      <th>mean</th>\n",
       "      <td>6.759720e+05</td>\n",
       "      <td>66.049483</td>\n",
       "      <td>3197.150625</td>\n",
       "      <td>156.259108</td>\n",
       "      <td>40.108755</td>\n",
       "      <td>4.094517</td>\n",
       "    </tr>\n",
       "    <tr>\n",
       "      <th>std</th>\n",
       "      <td>3.432732e+05</td>\n",
       "      <td>61.005755</td>\n",
       "      <td>9504.117010</td>\n",
       "      <td>935.452044</td>\n",
       "      <td>50.383346</td>\n",
       "      <td>6.053840</td>\n",
       "    </tr>\n",
       "    <tr>\n",
       "      <th>min</th>\n",
       "      <td>8.324000e+03</td>\n",
       "      <td>0.000000</td>\n",
       "      <td>0.000000</td>\n",
       "      <td>0.000000</td>\n",
       "      <td>0.000000</td>\n",
       "      <td>0.000000</td>\n",
       "    </tr>\n",
       "    <tr>\n",
       "      <th>25%</th>\n",
       "      <td>4.076925e+05</td>\n",
       "      <td>20.000000</td>\n",
       "      <td>111.000000</td>\n",
       "      <td>4.000000</td>\n",
       "      <td>15.000000</td>\n",
       "      <td>1.000000</td>\n",
       "    </tr>\n",
       "    <tr>\n",
       "      <th>50%</th>\n",
       "      <td>6.879170e+05</td>\n",
       "      <td>45.000000</td>\n",
       "      <td>911.500000</td>\n",
       "      <td>18.000000</td>\n",
       "      <td>25.000000</td>\n",
       "      <td>2.000000</td>\n",
       "    </tr>\n",
       "    <tr>\n",
       "      <th>75%</th>\n",
       "      <td>9.613555e+05</td>\n",
       "      <td>95.000000</td>\n",
       "      <td>2546.000000</td>\n",
       "      <td>67.000000</td>\n",
       "      <td>45.750000</td>\n",
       "      <td>4.500000</td>\n",
       "    </tr>\n",
       "    <tr>\n",
       "      <th>max</th>\n",
       "      <td>1.282064e+06</td>\n",
       "      <td>200.000000</td>\n",
       "      <td>268923.000000</td>\n",
       "      <td>27445.000000</td>\n",
       "      <td>779.000000</td>\n",
       "      <td>78.500000</td>\n",
       "    </tr>\n",
       "  </tbody>\n",
       "</table>\n",
       "</div>"
      ],
      "text/plain": [
       "          course_id        price  num_subscribers   num_reviews  num_lectures  \\\n",
       "count  3.678000e+03  3678.000000      3678.000000   3678.000000   3678.000000   \n",
       "mean   6.759720e+05    66.049483      3197.150625    156.259108     40.108755   \n",
       "std    3.432732e+05    61.005755      9504.117010    935.452044     50.383346   \n",
       "min    8.324000e+03     0.000000         0.000000      0.000000      0.000000   \n",
       "25%    4.076925e+05    20.000000       111.000000      4.000000     15.000000   \n",
       "50%    6.879170e+05    45.000000       911.500000     18.000000     25.000000   \n",
       "75%    9.613555e+05    95.000000      2546.000000     67.000000     45.750000   \n",
       "max    1.282064e+06   200.000000    268923.000000  27445.000000    779.000000   \n",
       "\n",
       "       content_duration  \n",
       "count       3678.000000  \n",
       "mean           4.094517  \n",
       "std            6.053840  \n",
       "min            0.000000  \n",
       "25%            1.000000  \n",
       "50%            2.000000  \n",
       "75%            4.500000  \n",
       "max           78.500000  "
      ]
     },
     "execution_count": 13,
     "metadata": {},
     "output_type": "execute_result"
    }
   ],
   "source": [
    "df.describe()"
   ]
  },
  {
   "cell_type": "markdown",
   "metadata": {},
   "source": [
    "# Finding null values\n"
   ]
  },
  {
   "cell_type": "code",
   "execution_count": 14,
   "metadata": {},
   "outputs": [
    {
     "data": {
      "text/plain": [
       "course_id              0\n",
       "course_title           0\n",
       "url                    0\n",
       "is_paid                0\n",
       "price                  0\n",
       "num_subscribers        0\n",
       "num_reviews            0\n",
       "num_lectures           0\n",
       "level                  0\n",
       "content_duration       0\n",
       "published_timestamp    0\n",
       "subject                0\n",
       "dtype: int64"
      ]
     },
     "execution_count": 14,
     "metadata": {},
     "output_type": "execute_result"
    }
   ],
   "source": [
    "df.isnull().sum()"
   ]
  },
  {
   "cell_type": "markdown",
   "metadata": {},
   "source": [
    "## Courses Number per Subject"
   ]
  },
  {
   "cell_type": "code",
   "execution_count": 10,
   "metadata": {},
   "outputs": [
    {
     "data": {
      "text/plain": [
       "<matplotlib.axes._subplots.AxesSubplot at 0x7f82e319ecd0>"
      ]
     },
     "execution_count": 10,
     "metadata": {},
     "output_type": "execute_result"
    },
    {
     "data": {
      "image/png": "[encoded data removed]",
      "text/plain": [
       "<Figure size 576x432 with 1 Axes>"
      ]
     },
     "metadata": {},
     "output_type": "display_data"
    }
   ],
   "source": [
    "plt.figure(figsize=(8,6))\n",
    "sns.countplot(df['subject'], palette='magma')"
   ]
  },
  {
   "cell_type": "markdown",
   "metadata": {},
   "source": [
    "The plot above shows that most of the courses in udemy are either about Web Development, or Business Finance. \n",
    "\n"
   ]
  },
  {
   "cell_type": "markdown",
   "metadata": {},
   "source": [
    "## Subject by subscribers"
   ]
  },
  {
   "cell_type": "code",
   "execution_count": 80,
   "metadata": {},
   "outputs": [
    {
     "data": {
      "image/png": "[encoded data removed]",
      "text/plain": [
       "<Figure size 576x432 with 1 Axes>"
      ]
     },
     "metadata": {},
     "output_type": "display_data"
    }
   ],
   "source": [
    "plt.figure(figsize=(8,6))\n",
    "s = df.groupby('subject').sum()['num_subscribers']\n",
    "s.plot(kind='barh', color='c')\n",
    "plt.ylabel('Subject',fontsize = 20)\n",
    "plt.xlabel('Num of Subscribers', fontsize = 20)\n",
    "plt.title('Subject by subscribers', fontsize = 20)\n",
    "plt.ticklabel_format(axis='x', style='plain')\n",
    "plt.show()"
   ]
  },
  {
   "cell_type": "markdown",
   "metadata": {},
   "source": [
    "Web development has the highest number of subscribers"
   ]
  },
  {
   "cell_type": "code",
   "execution_count": 81,
   "metadata": {},
   "outputs": [
    {
     "data": {
      "application/vnd.plotly.v1+json": {
       "config": {
        "plotlyServerURL": "https://plot.ly"
       },
       "data": [
        {
         "marker": {
          "color": [
           24316800,
           22902400,
           15099800,
           14018770,
           13932100
          ],
          "coloraxis": "coloraxis"
         },
         "orientation": "h",
         "type": "bar",
         "x": [
          24316800,
          22902400,
          15099800,
          14018770,
          13932100
         ],
         "xaxis": "x",
         "y": [
          "The Web Developer Bootcamp",
          "The Complete Web Developer Course 2.0",
          "Pianoforall - Incredible New Way To Learn Piano & Keyboard",
          "Angular 4 (formerly Angular 2) - The Complete Guide",
          "JavaScript: Understanding the Weird Parts"
         ],
         "yaxis": "y"
        }
       ],
       "layout": {
        "height": 400,
        "template": {
         "data": {
          "bar": [
           {
            "error_x": {
             "color": "#2a3f5f"
            },
            "error_y": {
             "color": "#2a3f5f"
            },
            "marker": {
             "line": {
              "color": "#E5ECF6",
              "width": 0.5
             },
             "pattern": {
              "fillmode": "overlay",
              "size": 10,
              "solidity": 0.2
             }
            },
            "type": "bar"
           }
          ],
          "barpolar": [
           {
            "marker": {
             "line": {
              "color": "#E5ECF6",
              "width": 0.5
             },
             "pattern": {
              "fillmode": "overlay",
              "size": 10,
              "solidity": 0.2
             }
            },
            "type": "barpolar"
           }
          ],
          "carpet": [
           {
            "aaxis": {
             "endlinecolor": "#2a3f5f",
             "gridcolor": "white",
             "linecolor": "white",
             "minorgridcolor": "white",
             "startlinecolor": "#2a3f5f"
            },
            "baxis": {
             "endlinecolor": "#2a3f5f",
             "gridcolor": "white",
             "linecolor": "white",
             "minorgridcolor": "white",
             "startlinecolor": "#2a3f5f"
            },
            "type": "carpet"
           }
          ],
          "choropleth": [
           {
            "colorbar": {
             "outlinewidth": 0,
             "ticks": ""
            },
            "type": "choropleth"
           }
          ],
          "contour": [
           {
            "colorbar": {
             "outlinewidth": 0,
             "ticks": ""
            },
            "colorscale": [
             [
              0,
              "#0d0887"
             ],
             [
              0.1111111111111111,
              "#46039f"
             ],
             [
              0.2222222222222222,
              "#7201a8"
             ],
             [
              0.3333333333333333,
              "#9c179e"
             ],
             [
              0.4444444444444444,
              "#bd3786"
             ],
             [
              0.5555555555555556,
              "#d8576b"
             ],
             [
              0.6666666666666666,
              "#ed7953"
             ],
             [
              0.7777777777777778,
              "#fb9f3a"
             ],
             [
              0.8888888888888888,
              "#fdca26"
             ],
             [
              1,
              "#f0f921"
             ]
            ],
            "type": "contour"
           }
          ],
          "contourcarpet": [
           {
            "colorbar": {
             "outlinewidth": 0,
             "ticks": ""
            },
            "type": "contourcarpet"
           }
          ],
          "heatmap": [
           {
            "colorbar": {
             "outlinewidth": 0,
             "ticks": ""
            },
            "colorscale": [
             [
              0,
              "#0d0887"
             ],
             [
              0.1111111111111111,
              "#46039f"
             ],
             [
              0.2222222222222222,
              "#7201a8"
             ],
             [
              0.3333333333333333,
              "#9c179e"
             ],
             [
              0.4444444444444444,
              "#bd3786"
             ],
             [
              0.5555555555555556,
              "#d8576b"
             ],
             [
              0.6666666666666666,
              "#ed7953"
             ],
             [
              0.7777777777777778,
              "#fb9f3a"
             ],
             [
              0.8888888888888888,
              "#fdca26"
             ],
             [
              1,
              "#f0f921"
             ]
            ],
            "type": "heatmap"
           }
          ],
          "heatmapgl": [
           {
            "colorbar": {
             "outlinewidth": 0,
             "ticks": ""
            },
            "colorscale": [
             [
              0,
              "#0d0887"
             ],
             [
              0.1111111111111111,
              "#46039f"
             ],
             [
              0.2222222222222222,
              "#7201a8"
             ],
             [
              0.3333333333333333,
              "#9c179e"
             ],
             [
              0.4444444444444444,
              "#bd3786"
             ],
             [
              0.5555555555555556,
              "#d8576b"
             ],
             [
              0.6666666666666666,
              "#ed7953"
             ],
             [
              0.7777777777777778,
              "#fb9f3a"
             ],
             [
              0.8888888888888888,
              "#fdca26"
             ],
             [
              1,
              "#f0f921"
             ]
            ],
            "type": "heatmapgl"
           }
          ],
          "histogram": [
           {
            "marker": {
             "pattern": {
              "fillmode": "overlay",
              "size": 10,
              "solidity": 0.2
             }
            },
            "type": "histogram"
           }
          ],
          "histogram2d": [
           {
            "colorbar": {
             "outlinewidth": 0,
             "ticks": ""
            },
            "colorscale": [
             [
              0,
              "#0d0887"
             ],
             [
              0.1111111111111111,
              "#46039f"
             ],
             [
              0.2222222222222222,
              "#7201a8"
             ],
             [
              0.3333333333333333,
              "#9c179e"
             ],
             [
              0.4444444444444444,
              "#bd3786"
             ],
             [
              0.5555555555555556,
              "#d8576b"
             ],
             [
              0.6666666666666666,
              "#ed7953"
             ],
             [
              0.7777777777777778,
              "#fb9f3a"
             ],
             [
              0.8888888888888888,
              "#fdca26"
             ],
             [
              1,
              "#f0f921"
             ]
            ],
            "type": "histogram2d"
           }
          ],
          "histogram2dcontour": [
           {
            "colorbar": {
             "outlinewidth": 0,
             "ticks": ""
            },
            "colorscale": [
             [
              0,
              "#0d0887"
             ],
             [
              0.1111111111111111,
              "#46039f"
             ],
             [
              0.2222222222222222,
              "#7201a8"
             ],
             [
              0.3333333333333333,
              "#9c179e"
             ],
             [
              0.4444444444444444,
              "#bd3786"
             ],
             [
              0.5555555555555556,
              "#d8576b"
             ],
             [
              0.6666666666666666,
              "#ed7953"
             ],
             [
              0.7777777777777778,
              "#fb9f3a"
             ],
             [
              0.8888888888888888,
              "#fdca26"
             ],
             [
              1,
              "#f0f921"
             ]
            ],
            "type": "histogram2dcontour"
           }
          ],
          "mesh3d": [
           {
            "colorbar": {
             "outlinewidth": 0,
             "ticks": ""
            },
            "type": "mesh3d"
           }
          ],
          "parcoords": [
           {
            "line": {
             "colorbar": {
              "outlinewidth": 0,
              "ticks": ""
             }
            },
            "type": "parcoords"
           }
          ],
          "pie": [
           {
            "automargin": true,
            "type": "pie"
           }
          ],
          "scatter": [
           {
            "marker": {
             "colorbar": {
              "outlinewidth": 0,
              "ticks": ""
             }
            },
            "type": "scatter"
           }
          ],
          "scatter3d": [
           {
            "line": {
             "colorbar": {
              "outlinewidth": 0,
              "ticks": ""
             }
            },
            "marker": {
             "colorbar": {
              "outlinewidth": 0,
              "ticks": ""
             }
            },
            "type": "scatter3d"
           }
          ],
          "scattercarpet": [
           {
            "marker": {
             "colorbar": {
              "outlinewidth": 0,
              "ticks": ""
             }
            },
            "type": "scattercarpet"
           }
          ],
          "scattergeo": [
           {
            "marker": {
             "colorbar": {
              "outlinewidth": 0,
              "ticks": ""
             }
            },
            "type": "scattergeo"
           }
          ],
          "scattergl": [
           {
            "marker": {
             "colorbar": {
              "outlinewidth": 0,
              "ticks": ""
             }
            },
            "type": "scattergl"
           }
          ],
          "scattermapbox": [
           {
            "marker": {
             "colorbar": {
              "outlinewidth": 0,
              "ticks": ""
             }
            },
            "type": "scattermapbox"
           }
          ],
          "scatterpolar": [
           {
            "marker": {
             "colorbar": {
              "outlinewidth": 0,
              "ticks": ""
             }
            },
            "type": "scatterpolar"
           }
          ],
          "scatterpolargl": [
           {
            "marker": {
             "colorbar": {
              "outlinewidth": 0,
              "ticks": ""
             }
            },
            "type": "scatterpolargl"
           }
          ],
          "scatterternary": [
           {
            "marker": {
             "colorbar": {
              "outlinewidth": 0,
              "ticks": ""
             }
            },
            "type": "scatterternary"
           }
          ],
          "surface": [
           {
            "colorbar": {
             "outlinewidth": 0,
             "ticks": ""
            },
            "colorscale": [
             [
              0,
              "#0d0887"
             ],
             [
              0.1111111111111111,
              "#46039f"
             ],
             [
              0.2222222222222222,
              "#7201a8"
             ],
             [
              0.3333333333333333,
              "#9c179e"
             ],
             [
              0.4444444444444444,
              "#bd3786"
             ],
             [
              0.5555555555555556,
              "#d8576b"
             ],
             [
              0.6666666666666666,
              "#ed7953"
             ],
             [
              0.7777777777777778,
              "#fb9f3a"
             ],
             [
              0.8888888888888888,
              "#fdca26"
             ],
             [
              1,
              "#f0f921"
             ]
            ],
            "type": "surface"
           }
          ],
          "table": [
           {
            "cells": {
             "fill": {
              "color": "#EBF0F8"
             },
             "line": {
              "color": "white"
             }
            },
            "header": {
             "fill": {
              "color": "#C8D4E3"
             },
             "line": {
              "color": "white"
             }
            },
            "type": "table"
           }
          ]
         },
         "layout": {
          "annotationdefaults": {
           "arrowcolor": "#2a3f5f",
           "arrowhead": 0,
           "arrowwidth": 1
          },
          "autotypenumbers": "strict",
          "coloraxis": {
           "colorbar": {
            "outlinewidth": 0,
            "ticks": ""
           }
          },
          "colorscale": {
           "diverging": [
            [
             0,
             "#8e0152"
            ],
            [
             0.1,
             "#c51b7d"
            ],
            [
             0.2,
             "#de77ae"
            ],
            [
             0.3,
             "#f1b6da"
            ],
            [
             0.4,
             "#fde0ef"
            ],
            [
             0.5,
             "#f7f7f7"
            ],
            [
             0.6,
             "#e6f5d0"
            ],
            [
             0.7,
             "#b8e186"
            ],
            [
             0.8,
             "#7fbc41"
            ],
            [
             0.9,
             "#4d9221"
            ],
            [
             1,
             "#276419"
            ]
           ],
           "sequential": [
            [
             0,
             "#0d0887"
            ],
            [
             0.1111111111111111,
             "#46039f"
            ],
            [
             0.2222222222222222,
             "#7201a8"
            ],
            [
             0.3333333333333333,
             "#9c179e"
            ],
            [
             0.4444444444444444,
             "#bd3786"
            ],
            [
             0.5555555555555556,
             "#d8576b"
            ],
            [
             0.6666666666666666,
             "#ed7953"
            ],
            [
             0.7777777777777778,
             "#fb9f3a"
            ],
            [
             0.8888888888888888,
             "#fdca26"
            ],
            [
             1,
             "#f0f921"
            ]
           ],
           "sequentialminus": [
            [
             0,
             "#0d0887"
            ],
            [
             0.1111111111111111,
             "#46039f"
            ],
            [
             0.2222222222222222,
             "#7201a8"
            ],
            [
             0.3333333333333333,
             "#9c179e"
            ],
            [
             0.4444444444444444,
             "#bd3786"
            ],
            [
             0.5555555555555556,
             "#d8576b"
            ],
            [
             0.6666666666666666,
             "#ed7953"
            ],
            [
             0.7777777777777778,
             "#fb9f3a"
            ],
            [
             0.8888888888888888,
             "#fdca26"
            ],
            [
             1,
             "#f0f921"
            ]
           ]
          },
          "colorway": [
           "#636efa",
           "#EF553B",
           "#00cc96",
           "#ab63fa",
           "#FFA15A",
           "#19d3f3",
           "#FF6692",
           "#B6E880",
           "#FF97FF",
           "#FECB52"
          ],
          "font": {
           "color": "#2a3f5f"
          },
          "geo": {
           "bgcolor": "white",
           "lakecolor": "white",
           "landcolor": "#E5ECF6",
           "showlakes": true,
           "showland": true,
           "subunitcolor": "white"
          },
          "hoverlabel": {
           "align": "left"
          },
          "hovermode": "closest",
          "mapbox": {
           "style": "light"
          },
          "paper_bgcolor": "white",
          "plot_bgcolor": "#E5ECF6",
          "polar": {
           "angularaxis": {
            "gridcolor": "white",
            "linecolor": "white",
            "ticks": ""
           },
           "bgcolor": "#E5ECF6",
           "radialaxis": {
            "gridcolor": "white",
            "linecolor": "white",
            "ticks": ""
           }
          },
          "scene": {
           "xaxis": {
            "backgroundcolor": "#E5ECF6",
            "gridcolor": "white",
            "gridwidth": 2,
            "linecolor": "white",
            "showbackground": true,
            "ticks": "",
            "zerolinecolor": "white"
           },
           "yaxis": {
            "backgroundcolor": "#E5ECF6",
            "gridcolor": "white",
            "gridwidth": 2,
            "linecolor": "white",
            "showbackground": true,
            "ticks": "",
            "zerolinecolor": "white"
           },
           "zaxis": {
            "backgroundcolor": "#E5ECF6",
            "gridcolor": "white",
            "gridwidth": 2,
            "linecolor": "white",
            "showbackground": true,
            "ticks": "",
            "zerolinecolor": "white"
           }
          },
          "shapedefaults": {
           "line": {
            "color": "#2a3f5f"
           }
          },
          "ternary": {
           "aaxis": {
            "gridcolor": "white",
            "linecolor": "white",
            "ticks": ""
           },
           "baxis": {
            "gridcolor": "white",
            "linecolor": "white",
            "ticks": ""
           },
           "bgcolor": "#E5ECF6",
           "caxis": {
            "gridcolor": "white",
            "linecolor": "white",
            "ticks": ""
           }
          },
          "title": {
           "x": 0.05
          },
          "xaxis": {
           "automargin": true,
           "gridcolor": "white",
           "linecolor": "white",
           "ticks": "",
           "title": {
            "standoff": 15
           },
           "zerolinecolor": "white",
           "zerolinewidth": 2
          },
          "yaxis": {
           "automargin": true,
           "gridcolor": "white",
           "linecolor": "white",
           "ticks": "",
           "title": {
            "standoff": 15
           },
           "zerolinecolor": "white",
           "zerolinewidth": 2
          }
         }
        },
        "title": {
         "text": "Top 5 Profitable Courses (in USD)"
        },
        "width": 700,
        "xaxis": {
         "anchor": "y",
         "domain": [
          0,
          1
         ]
        },
        "yaxis": {
         "anchor": "x",
         "domain": [
          0,
          1
         ]
        }
       }
      },
      "text/html": [
       "<div>                            <div id=\"b3e54c93-cb93-4fe2-a03e-cdd16b3412f6\" class=\"plotly-graph-div\" style=\"height:400px; width:700px;\"></div>            <script type=\"text/javascript\">                require([\"plotly\"], function(Plotly) {                    window.PLOTLYENV=window.PLOTLYENV || {};                                    if (document.getElementById(\"b3e54c93-cb93-4fe2-a03e-cdd16b3412f6\")) {                    Plotly.newPlot(                        \"b3e54c93-cb93-4fe2-a03e-cdd16b3412f6\",                        [{\"marker\":{\"color\":[24316800,22902400,15099800,14018770,13932100],\"coloraxis\":\"coloraxis\"},\"orientation\":\"h\",\"x\":[24316800,22902400,15099800,14018770,13932100],\"y\":[\"The Web Developer Bootcamp\",\"The Complete Web Developer Course 2.0\",\"Pianoforall - Incredible New Way To Learn Piano & Keyboard\",\"Angular 4 (formerly Angular 2) - The Complete Guide\",\"JavaScript: Understanding the Weird Parts\"],\"type\":\"bar\",\"xaxis\":\"x\",\"yaxis\":\"y\"}],                        {\"template\":{\"data\":{\"bar\":[{\"error_x\":{\"color\":\"#2a3f5f\"},\"error_y\":{\"color\":\"#2a3f5f\"},\"marker\":{\"line\":{\"color\":\"#E5ECF6\",\"width\":0.5},\"pattern\":{\"fillmode\":\"overlay\",\"size\":10,\"solidity\":0.2}},\"type\":\"bar\"}],\"barpolar\":[{\"marker\":{\"line\":{\"color\":\"#E5ECF6\",\"width\":0.5},\"pattern\":{\"fillmode\":\"overlay\",\"size\":10,\"solidity\":0.2}},\"type\":\"barpolar\"}],\"carpet\":[{\"aaxis\":{\"endlinecolor\":\"#2a3f5f\",\"gridcolor\":\"white\",\"linecolor\":\"white\",\"minorgridcolor\":\"white\",\"startlinecolor\":\"#2a3f5f\"},\"baxis\":{\"endlinecolor\":\"#2a3f5f\",\"gridcolor\":\"white\",\"linecolor\":\"white\",\"minorgridcolor\":\"white\",\"startlinecolor\":\"#2a3f5f\"},\"type\":\"carpet\"}],\"choropleth\":[{\"colorbar\":{\"outlinewidth\":0,\"ticks\":\"\"},\"type\":\"choropleth\"}],\"contour\":[{\"colorbar\":{\"outlinewidth\":0,\"ticks\":\"\"},\"colorscale\":[[0.0,\"#0d0887\"],[0.1111111111111111,\"#46039f\"],[0.2222222222222222,\"#7201a8\"],[0.3333333333333333,\"#9c179e\"],[0.4444444444444444,\"#bd3786\"],[0.5555555555555556,\"#d8576b\"],[0.6666666666666666,\"#ed7953\"],[0.7777777777777778,\"#fb9f3a\"],[0.8888888888888888,\"#fdca26\"],[1.0,\"#f0f921\"]],\"type\":\"contour\"}],\"contourcarpet\":[{\"colorbar\":{\"outlinewidth\":0,\"ticks\":\"\"},\"type\":\"contourcarpet\"}],\"heatmap\":[{\"colorbar\":{\"outlinewidth\":0,\"ticks\":\"\"},\"colorscale\":[[0.0,\"#0d0887\"],[0.1111111111111111,\"#46039f\"],[0.2222222222222222,\"#7201a8\"],[0.3333333333333333,\"#9c179e\"],[0.4444444444444444,\"#bd3786\"],[0.5555555555555556,\"#d8576b\"],[0.6666666666666666,\"#ed7953\"],[0.7777777777777778,\"#fb9f3a\"],[0.8888888888888888,\"#fdca26\"],[1.0,\"#f0f921\"]],\"type\":\"heatmap\"}],\"heatmapgl\":[{\"colorbar\":{\"outlinewidth\":0,\"ticks\":\"\"},\"colorscale\":[[0.0,\"#0d0887\"],[0.1111111111111111,\"#46039f\"],[0.2222222222222222,\"#7201a8\"],[0.3333333333333333,\"#9c179e\"],[0.4444444444444444,\"#bd3786\"],[0.5555555555555556,\"#d8576b\"],[0.6666666666666666,\"#ed7953\"],[0.7777777777777778,\"#fb9f3a\"],[0.8888888888888888,\"#fdca26\"],[1.0,\"#f0f921\"]],\"type\":\"heatmapgl\"}],\"histogram\":[{\"marker\":{\"pattern\":{\"fillmode\":\"overlay\",\"size\":10,\"solidity\":0.2}},\"type\":\"histogram\"}],\"histogram2d\":[{\"colorbar\":{\"outlinewidth\":0,\"ticks\":\"\"},\"colorscale\":[[0.0,\"#0d0887\"],[0.1111111111111111,\"#46039f\"],[0.2222222222222222,\"#7201a8\"],[0.3333333333333333,\"#9c179e\"],[0.4444444444444444,\"#bd3786\"],[0.5555555555555556,\"#d8576b\"],[0.6666666666666666,\"#ed7953\"],[0.7777777777777778,\"#fb9f3a\"],[0.8888888888888888,\"#fdca26\"],[1.0,\"#f0f921\"]],\"type\":\"histogram2d\"}],\"histogram2dcontour\":[{\"colorbar\":{\"outlinewidth\":0,\"ticks\":\"\"},\"colorscale\":[[0.0,\"#0d0887\"],[0.1111111111111111,\"#46039f\"],[0.2222222222222222,\"#7201a8\"],[0.3333333333333333,\"#9c179e\"],[0.4444444444444444,\"#bd3786\"],[0.5555555555555556,\"#d8576b\"],[0.6666666666666666,\"#ed7953\"],[0.7777777777777778,\"#fb9f3a\"],[0.8888888888888888,\"#fdca26\"],[1.0,\"#f0f921\"]],\"type\":\"histogram2dcontour\"}],\"mesh3d\":[{\"colorbar\":{\"outlinewidth\":0,\"ticks\":\"\"},\"type\":\"mesh3d\"}],\"parcoords\":[{\"line\":{\"colorbar\":{\"outlinewidth\":0,\"ticks\":\"\"}},\"type\":\"parcoords\"}],\"pie\":[{\"automargin\":true,\"type\":\"pie\"}],\"scatter\":[{\"marker\":{\"colorbar\":{\"outlinewidth\":0,\"ticks\":\"\"}},\"type\":\"scatter\"}],\"scatter3d\":[{\"line\":{\"colorbar\":{\"outlinewidth\":0,\"ticks\":\"\"}},\"marker\":{\"colorbar\":{\"outlinewidth\":0,\"ticks\":\"\"}},\"type\":\"scatter3d\"}],\"scattercarpet\":[{\"marker\":{\"colorbar\":{\"outlinewidth\":0,\"ticks\":\"\"}},\"type\":\"scattercarpet\"}],\"scattergeo\":[{\"marker\":{\"colorbar\":{\"outlinewidth\":0,\"ticks\":\"\"}},\"type\":\"scattergeo\"}],\"scattergl\":[{\"marker\":{\"colorbar\":{\"outlinewidth\":0,\"ticks\":\"\"}},\"type\":\"scattergl\"}],\"scattermapbox\":[{\"marker\":{\"colorbar\":{\"outlinewidth\":0,\"ticks\":\"\"}},\"type\":\"scattermapbox\"}],\"scatterpolar\":[{\"marker\":{\"colorbar\":{\"outlinewidth\":0,\"ticks\":\"\"}},\"type\":\"scatterpolar\"}],\"scatterpolargl\":[{\"marker\":{\"colorbar\":{\"outlinewidth\":0,\"ticks\":\"\"}},\"type\":\"scatterpolargl\"}],\"scatterternary\":[{\"marker\":{\"colorbar\":{\"outlinewidth\":0,\"ticks\":\"\"}},\"type\":\"scatterternary\"}],\"surface\":[{\"colorbar\":{\"outlinewidth\":0,\"ticks\":\"\"},\"colorscale\":[[0.0,\"#0d0887\"],[0.1111111111111111,\"#46039f\"],[0.2222222222222222,\"#7201a8\"],[0.3333333333333333,\"#9c179e\"],[0.4444444444444444,\"#bd3786\"],[0.5555555555555556,\"#d8576b\"],[0.6666666666666666,\"#ed7953\"],[0.7777777777777778,\"#fb9f3a\"],[0.8888888888888888,\"#fdca26\"],[1.0,\"#f0f921\"]],\"type\":\"surface\"}],\"table\":[{\"cells\":{\"fill\":{\"color\":\"#EBF0F8\"},\"line\":{\"color\":\"white\"}},\"header\":{\"fill\":{\"color\":\"#C8D4E3\"},\"line\":{\"color\":\"white\"}},\"type\":\"table\"}]},\"layout\":{\"annotationdefaults\":{\"arrowcolor\":\"#2a3f5f\",\"arrowhead\":0,\"arrowwidth\":1},\"autotypenumbers\":\"strict\",\"coloraxis\":{\"colorbar\":{\"outlinewidth\":0,\"ticks\":\"\"}},\"colorscale\":{\"diverging\":[[0,\"#8e0152\"],[0.1,\"#c51b7d\"],[0.2,\"#de77ae\"],[0.3,\"#f1b6da\"],[0.4,\"#fde0ef\"],[0.5,\"#f7f7f7\"],[0.6,\"#e6f5d0\"],[0.7,\"#b8e186\"],[0.8,\"#7fbc41\"],[0.9,\"#4d9221\"],[1,\"#276419\"]],\"sequential\":[[0.0,\"#0d0887\"],[0.1111111111111111,\"#46039f\"],[0.2222222222222222,\"#7201a8\"],[0.3333333333333333,\"#9c179e\"],[0.4444444444444444,\"#bd3786\"],[0.5555555555555556,\"#d8576b\"],[0.6666666666666666,\"#ed7953\"],[0.7777777777777778,\"#fb9f3a\"],[0.8888888888888888,\"#fdca26\"],[1.0,\"#f0f921\"]],\"sequentialminus\":[[0.0,\"#0d0887\"],[0.1111111111111111,\"#46039f\"],[0.2222222222222222,\"#7201a8\"],[0.3333333333333333,\"#9c179e\"],[0.4444444444444444,\"#bd3786\"],[0.5555555555555556,\"#d8576b\"],[0.6666666666666666,\"#ed7953\"],[0.7777777777777778,\"#fb9f3a\"],[0.8888888888888888,\"#fdca26\"],[1.0,\"#f0f921\"]]},\"colorway\":[\"#636efa\",\"#EF553B\",\"#00cc96\",\"#ab63fa\",\"#FFA15A\",\"#19d3f3\",\"#FF6692\",\"#B6E880\",\"#FF97FF\",\"#FECB52\"],\"font\":{\"color\":\"#2a3f5f\"},\"geo\":{\"bgcolor\":\"white\",\"lakecolor\":\"white\",\"landcolor\":\"#E5ECF6\",\"showlakes\":true,\"showland\":true,\"subunitcolor\":\"white\"},\"hoverlabel\":{\"align\":\"left\"},\"hovermode\":\"closest\",\"mapbox\":{\"style\":\"light\"},\"paper_bgcolor\":\"white\",\"plot_bgcolor\":\"#E5ECF6\",\"polar\":{\"angularaxis\":{\"gridcolor\":\"white\",\"linecolor\":\"white\",\"ticks\":\"\"},\"bgcolor\":\"#E5ECF6\",\"radialaxis\":{\"gridcolor\":\"white\",\"linecolor\":\"white\",\"ticks\":\"\"}},\"scene\":{\"xaxis\":{\"backgroundcolor\":\"#E5ECF6\",\"gridcolor\":\"white\",\"gridwidth\":2,\"linecolor\":\"white\",\"showbackground\":true,\"ticks\":\"\",\"zerolinecolor\":\"white\"},\"yaxis\":{\"backgroundcolor\":\"#E5ECF6\",\"gridcolor\":\"white\",\"gridwidth\":2,\"linecolor\":\"white\",\"showbackground\":true,\"ticks\":\"\",\"zerolinecolor\":\"white\"},\"zaxis\":{\"backgroundcolor\":\"#E5ECF6\",\"gridcolor\":\"white\",\"gridwidth\":2,\"linecolor\":\"white\",\"showbackground\":true,\"ticks\":\"\",\"zerolinecolor\":\"white\"}},\"shapedefaults\":{\"line\":{\"color\":\"#2a3f5f\"}},\"ternary\":{\"aaxis\":{\"gridcolor\":\"white\",\"linecolor\":\"white\",\"ticks\":\"\"},\"baxis\":{\"gridcolor\":\"white\",\"linecolor\":\"white\",\"ticks\":\"\"},\"bgcolor\":\"#E5ECF6\",\"caxis\":{\"gridcolor\":\"white\",\"linecolor\":\"white\",\"ticks\":\"\"}},\"title\":{\"x\":0.05},\"xaxis\":{\"automargin\":true,\"gridcolor\":\"white\",\"linecolor\":\"white\",\"ticks\":\"\",\"title\":{\"standoff\":15},\"zerolinecolor\":\"white\",\"zerolinewidth\":2},\"yaxis\":{\"automargin\":true,\"gridcolor\":\"white\",\"linecolor\":\"white\",\"ticks\":\"\",\"title\":{\"standoff\":15},\"zerolinecolor\":\"white\",\"zerolinewidth\":2}}},\"xaxis\":{\"anchor\":\"y\",\"domain\":[0.0,1.0]},\"yaxis\":{\"anchor\":\"x\",\"domain\":[0.0,1.0]},\"height\":400,\"width\":700,\"title\":{\"text\":\"Top 5 Profitable Courses (in USD)\"}},                        {\"responsive\": true}                    ).then(function(){\n",
       "                            \n",
       "var gd = document.getElementById('b3e54c93-cb93-4fe2-a03e-cdd16b3412f6');\n",
       "var x = new MutationObserver(function (mutations, observer) {{\n",
       "        var display = window.getComputedStyle(gd).display;\n",
       "        if (!display || display === 'none') {{\n",
       "            console.log([gd, 'removed!']);\n",
       "            Plotly.purge(gd);\n",
       "            observer.disconnect();\n",
       "        }}\n",
       "}});\n",
       "\n",
       "// Listen for the removal of the full notebook cells\n",
       "var notebookContainer = gd.closest('#notebook-container');\n",
       "if (notebookContainer) {{\n",
       "    x.observe(notebookContainer, {childList: true});\n",
       "}}\n",
       "\n",
       "// Listen for the clearing of the current output cell\n",
       "var outputEl = gd.closest('.output');\n",
       "if (outputEl) {{\n",
       "    x.observe(outputEl, {childList: true});\n",
       "}}\n",
       "\n",
       "                        })                };                });            </script>        </div>"
      ]
     },
     "metadata": {},
     "output_type": "display_data"
    }
   ],
   "source": [
    "df_profit = df\n",
    "df_profit['organic_profit'] = df['num_subscribers'] * df['price']\n",
    "df_profit = df_profit.loc[idx[df_profit['organic_profit'].sort_values(ascending=False).index]][['course_title', 'subject', 'organic_profit']]\n",
    "\n",
    "f=df_profit.head()\n",
    "figs = make_subplots(rows=1, cols=1)\n",
    "figs.append_trace(go.Bar(\n",
    "    x=f['organic_profit'],\n",
    "    y=f['course_title'],\n",
    "    orientation='h',\n",
    "    marker = dict(color=f['organic_profit'].values, coloraxis='coloraxis')\n",
    "    ), row=1, col=1)\n",
    "figs['layout'].update(height=400, width=700, title='Top 5 Profitable Courses (in USD)')\n",
    "figs.show()"
   ]
  },
  {
   "cell_type": "markdown",
   "metadata": {},
   "source": [
    "There is one Musical courses among the 5 most profitable courses on Udemy. The other four are from WebDev subject"
   ]
  },
  {
   "cell_type": "markdown",
   "metadata": {},
   "source": [
    "# How big of a role does price plays?"
   ]
  },
  {
   "cell_type": "code",
   "execution_count": 93,
   "metadata": {},
   "outputs": [
    {
     "data": {
      "application/vnd.plotly.v1+json": {
       "config": {
        "plotlyServerURL": "https://plot.ly"
       },
       "data": [
        {
         "domain": {
          "x": [
           0,
           1
          ],
          "y": [
           0,
           1
          ]
         },
         "hovertemplate": "Is Paid=%{label}<br>Counts=%{value}<extra></extra>",
         "labels": [
          true,
          false
         ],
         "legendgroup": "",
         "name": "",
         "showlegend": true,
         "type": "pie",
         "values": [
          3368,
          310
         ]
        }
       ],
       "layout": {
        "legend": {
         "tracegroupgap": 0
        },
        "margin": {
         "t": 60
        },
        "template": {
         "data": {
          "bar": [
           {
            "error_x": {
             "color": "#2a3f5f"
            },
            "error_y": {
             "color": "#2a3f5f"
            },
            "marker": {
             "line": {
              "color": "#E5ECF6",
              "width": 0.5
             },
             "pattern": {
              "fillmode": "overlay",
              "size": 10,
              "solidity": 0.2
             }
            },
            "type": "bar"
           }
          ],
          "barpolar": [
           {
            "marker": {
             "line": {
              "color": "#E5ECF6",
              "width": 0.5
             },
             "pattern": {
              "fillmode": "overlay",
              "size": 10,
              "solidity": 0.2
             }
            },
            "type": "barpolar"
           }
          ],
          "carpet": [
           {
            "aaxis": {
             "endlinecolor": "#2a3f5f",
             "gridcolor": "white",
             "linecolor": "white",
             "minorgridcolor": "white",
             "startlinecolor": "#2a3f5f"
            },
            "baxis": {
             "endlinecolor": "#2a3f5f",
             "gridcolor": "white",
             "linecolor": "white",
             "minorgridcolor": "white",
             "startlinecolor": "#2a3f5f"
            },
            "type": "carpet"
           }
          ],
          "choropleth": [
           {
            "colorbar": {
             "outlinewidth": 0,
             "ticks": ""
            },
            "type": "choropleth"
           }
          ],
          "contour": [
           {
            "colorbar": {
             "outlinewidth": 0,
             "ticks": ""
            },
            "colorscale": [
             [
              0,
              "#0d0887"
             ],
             [
              0.1111111111111111,
              "#46039f"
             ],
             [
              0.2222222222222222,
              "#7201a8"
             ],
             [
              0.3333333333333333,
              "#9c179e"
             ],
             [
              0.4444444444444444,
              "#bd3786"
             ],
             [
              0.5555555555555556,
              "#d8576b"
             ],
             [
              0.6666666666666666,
              "#ed7953"
             ],
             [
              0.7777777777777778,
              "#fb9f3a"
             ],
             [
              0.8888888888888888,
              "#fdca26"
             ],
             [
              1,
              "#f0f921"
             ]
            ],
            "type": "contour"
           }
          ],
          "contourcarpet": [
           {
            "colorbar": {
             "outlinewidth": 0,
             "ticks": ""
            },
            "type": "contourcarpet"
           }
          ],
          "heatmap": [
           {
            "colorbar": {
             "outlinewidth": 0,
             "ticks": ""
            },
            "colorscale": [
             [
              0,
              "#0d0887"
             ],
             [
              0.1111111111111111,
              "#46039f"
             ],
             [
              0.2222222222222222,
              "#7201a8"
             ],
             [
              0.3333333333333333,
              "#9c179e"
             ],
             [
              0.4444444444444444,
              "#bd3786"
             ],
             [
              0.5555555555555556,
              "#d8576b"
             ],
             [
              0.6666666666666666,
              "#ed7953"
             ],
             [
              0.7777777777777778,
              "#fb9f3a"
             ],
             [
              0.8888888888888888,
              "#fdca26"
             ],
             [
              1,
              "#f0f921"
             ]
            ],
            "type": "heatmap"
           }
          ],
          "heatmapgl": [
           {
            "colorbar": {
             "outlinewidth": 0,
             "ticks": ""
            },
            "colorscale": [
             [
              0,
              "#0d0887"
             ],
             [
              0.1111111111111111,
              "#46039f"
             ],
             [
              0.2222222222222222,
              "#7201a8"
             ],
             [
              0.3333333333333333,
              "#9c179e"
             ],
             [
              0.4444444444444444,
              "#bd3786"
             ],
             [
              0.5555555555555556,
              "#d8576b"
             ],
             [
              0.6666666666666666,
              "#ed7953"
             ],
             [
              0.7777777777777778,
              "#fb9f3a"
             ],
             [
              0.8888888888888888,
              "#fdca26"
             ],
             [
              1,
              "#f0f921"
             ]
            ],
            "type": "heatmapgl"
           }
          ],
          "histogram": [
           {
            "marker": {
             "pattern": {
              "fillmode": "overlay",
              "size": 10,
              "solidity": 0.2
             }
            },
            "type": "histogram"
           }
          ],
          "histogram2d": [
           {
            "colorbar": {
             "outlinewidth": 0,
             "ticks": ""
            },
            "colorscale": [
             [
              0,
              "#0d0887"
             ],
             [
              0.1111111111111111,
              "#46039f"
             ],
             [
              0.2222222222222222,
              "#7201a8"
             ],
             [
              0.3333333333333333,
              "#9c179e"
             ],
             [
              0.4444444444444444,
              "#bd3786"
             ],
             [
              0.5555555555555556,
              "#d8576b"
             ],
             [
              0.6666666666666666,
              "#ed7953"
             ],
             [
              0.7777777777777778,
              "#fb9f3a"
             ],
             [
              0.8888888888888888,
              "#fdca26"
             ],
             [
              1,
              "#f0f921"
             ]
            ],
            "type": "histogram2d"
           }
          ],
          "histogram2dcontour": [
           {
            "colorbar": {
             "outlinewidth": 0,
             "ticks": ""
            },
            "colorscale": [
             [
              0,
              "#0d0887"
             ],
             [
              0.1111111111111111,
              "#46039f"
             ],
             [
              0.2222222222222222,
              "#7201a8"
             ],
             [
              0.3333333333333333,
              "#9c179e"
             ],
             [
              0.4444444444444444,
              "#bd3786"
             ],
             [
              0.5555555555555556,
              "#d8576b"
             ],
             [
              0.6666666666666666,
              "#ed7953"
             ],
             [
              0.7777777777777778,
              "#fb9f3a"
             ],
             [
              0.8888888888888888,
              "#fdca26"
             ],
             [
              1,
              "#f0f921"
             ]
            ],
            "type": "histogram2dcontour"
           }
          ],
          "mesh3d": [
           {
            "colorbar": {
             "outlinewidth": 0,
             "ticks": ""
            },
            "type": "mesh3d"
           }
          ],
          "parcoords": [
           {
            "line": {
             "colorbar": {
              "outlinewidth": 0,
              "ticks": ""
             }
            },
            "type": "parcoords"
           }
          ],
          "pie": [
           {
            "automargin": true,
            "type": "pie"
           }
          ],
          "scatter": [
           {
            "marker": {
             "colorbar": {
              "outlinewidth": 0,
              "ticks": ""
             }
            },
            "type": "scatter"
           }
          ],
          "scatter3d": [
           {
            "line": {
             "colorbar": {
              "outlinewidth": 0,
              "ticks": ""
             }
            },
            "marker": {
             "colorbar": {
              "outlinewidth": 0,
              "ticks": ""
             }
            },
            "type": "scatter3d"
           }
          ],
          "scattercarpet": [
           {
            "marker": {
             "colorbar": {
              "outlinewidth": 0,
              "ticks": ""
             }
            },
            "type": "scattercarpet"
           }
          ],
          "scattergeo": [
           {
            "marker": {
             "colorbar": {
              "outlinewidth": 0,
              "ticks": ""
             }
            },
            "type": "scattergeo"
           }
          ],
          "scattergl": [
           {
            "marker": {
             "colorbar": {
              "outlinewidth": 0,
              "ticks": ""
             }
            },
            "type": "scattergl"
           }
          ],
          "scattermapbox": [
           {
            "marker": {
             "colorbar": {
              "outlinewidth": 0,
              "ticks": ""
             }
            },
            "type": "scattermapbox"
           }
          ],
          "scatterpolar": [
           {
            "marker": {
             "colorbar": {
              "outlinewidth": 0,
              "ticks": ""
             }
            },
            "type": "scatterpolar"
           }
          ],
          "scatterpolargl": [
           {
            "marker": {
             "colorbar": {
              "outlinewidth": 0,
              "ticks": ""
             }
            },
            "type": "scatterpolargl"
           }
          ],
          "scatterternary": [
           {
            "marker": {
             "colorbar": {
              "outlinewidth": 0,
              "ticks": ""
             }
            },
            "type": "scatterternary"
           }
          ],
          "surface": [
           {
            "colorbar": {
             "outlinewidth": 0,
             "ticks": ""
            },
            "colorscale": [
             [
              0,
              "#0d0887"
             ],
             [
              0.1111111111111111,
              "#46039f"
             ],
             [
              0.2222222222222222,
              "#7201a8"
             ],
             [
              0.3333333333333333,
              "#9c179e"
             ],
             [
              0.4444444444444444,
              "#bd3786"
             ],
             [
              0.5555555555555556,
              "#d8576b"
             ],
             [
              0.6666666666666666,
              "#ed7953"
             ],
             [
              0.7777777777777778,
              "#fb9f3a"
             ],
             [
              0.8888888888888888,
              "#fdca26"
             ],
             [
              1,
              "#f0f921"
             ]
            ],
            "type": "surface"
           }
          ],
          "table": [
           {
            "cells": {
             "fill": {
              "color": "#EBF0F8"
             },
             "line": {
              "color": "white"
             }
            },
            "header": {
             "fill": {
              "color": "#C8D4E3"
             },
             "line": {
              "color": "white"
             }
            },
            "type": "table"
           }
          ]
         },
         "layout": {
          "annotationdefaults": {
           "arrowcolor": "#2a3f5f",
           "arrowhead": 0,
           "arrowwidth": 1
          },
          "autotypenumbers": "strict",
          "coloraxis": {
           "colorbar": {
            "outlinewidth": 0,
            "ticks": ""
           }
          },
          "colorscale": {
           "diverging": [
            [
             0,
             "#8e0152"
            ],
            [
             0.1,
             "#c51b7d"
            ],
            [
             0.2,
             "#de77ae"
            ],
            [
             0.3,
             "#f1b6da"
            ],
            [
             0.4,
             "#fde0ef"
            ],
            [
             0.5,
             "#f7f7f7"
            ],
            [
             0.6,
             "#e6f5d0"
            ],
            [
             0.7,
             "#b8e186"
            ],
            [
             0.8,
             "#7fbc41"
            ],
            [
             0.9,
             "#4d9221"
            ],
            [
             1,
             "#276419"
            ]
           ],
           "sequential": [
            [
             0,
             "#0d0887"
            ],
            [
             0.1111111111111111,
             "#46039f"
            ],
            [
             0.2222222222222222,
             "#7201a8"
            ],
            [
             0.3333333333333333,
             "#9c179e"
            ],
            [
             0.4444444444444444,
             "#bd3786"
            ],
            [
             0.5555555555555556,
             "#d8576b"
            ],
            [
             0.6666666666666666,
             "#ed7953"
            ],
            [
             0.7777777777777778,
             "#fb9f3a"
            ],
            [
             0.8888888888888888,
             "#fdca26"
            ],
            [
             1,
             "#f0f921"
            ]
           ],
           "sequentialminus": [
            [
             0,
             "#0d0887"
            ],
            [
             0.1111111111111111,
             "#46039f"
            ],
            [
             0.2222222222222222,
             "#7201a8"
            ],
            [
             0.3333333333333333,
             "#9c179e"
            ],
            [
             0.4444444444444444,
             "#bd3786"
            ],
            [
             0.5555555555555556,
             "#d8576b"
            ],
            [
             0.6666666666666666,
             "#ed7953"
            ],
            [
             0.7777777777777778,
             "#fb9f3a"
            ],
            [
             0.8888888888888888,
             "#fdca26"
            ],
            [
             1,
             "#f0f921"
            ]
           ]
          },
          "colorway": [
           "#636efa",
           "#EF553B",
           "#00cc96",
           "#ab63fa",
           "#FFA15A",
           "#19d3f3",
           "#FF6692",
           "#B6E880",
           "#FF97FF",
           "#FECB52"
          ],
          "font": {
           "color": "#2a3f5f"
          },
          "geo": {
           "bgcolor": "white",
           "lakecolor": "white",
           "landcolor": "#E5ECF6",
           "showlakes": true,
           "showland": true,
           "subunitcolor": "white"
          },
          "hoverlabel": {
           "align": "left"
          },
          "hovermode": "closest",
          "mapbox": {
           "style": "light"
          },
          "paper_bgcolor": "white",
          "plot_bgcolor": "#E5ECF6",
          "polar": {
           "angularaxis": {
            "gridcolor": "white",
            "linecolor": "white",
            "ticks": ""
           },
           "bgcolor": "#E5ECF6",
           "radialaxis": {
            "gridcolor": "white",
            "linecolor": "white",
            "ticks": ""
           }
          },
          "scene": {
           "xaxis": {
            "backgroundcolor": "#E5ECF6",
            "gridcolor": "white",
            "gridwidth": 2,
            "linecolor": "white",
            "showbackground": true,
            "ticks": "",
            "zerolinecolor": "white"
           },
           "yaxis": {
            "backgroundcolor": "#E5ECF6",
            "gridcolor": "white",
            "gridwidth": 2,
            "linecolor": "white",
            "showbackground": true,
            "ticks": "",
            "zerolinecolor": "white"
           },
           "zaxis": {
            "backgroundcolor": "#E5ECF6",
            "gridcolor": "white",
            "gridwidth": 2,
            "linecolor": "white",
            "showbackground": true,
            "ticks": "",
            "zerolinecolor": "white"
           }
          },
          "shapedefaults": {
           "line": {
            "color": "#2a3f5f"
           }
          },
          "ternary": {
           "aaxis": {
            "gridcolor": "white",
            "linecolor": "white",
            "ticks": ""
           },
           "baxis": {
            "gridcolor": "white",
            "linecolor": "white",
            "ticks": ""
           },
           "bgcolor": "#E5ECF6",
           "caxis": {
            "gridcolor": "white",
            "linecolor": "white",
            "ticks": ""
           }
          },
          "title": {
           "x": 0.05
          },
          "xaxis": {
           "automargin": true,
           "gridcolor": "white",
           "linecolor": "white",
           "ticks": "",
           "title": {
            "standoff": 15
           },
           "zerolinecolor": "white",
           "zerolinewidth": 2
          },
          "yaxis": {
           "automargin": true,
           "gridcolor": "white",
           "linecolor": "white",
           "ticks": "",
           "title": {
            "standoff": 15
           },
           "zerolinecolor": "white",
           "zerolinewidth": 2
          }
         }
        },
        "title": {
         "text": "Paid/Free Course Pie Chart"
        },
        "width": 500
       }
      },
      "text/html": [
       "<div>                            <div id=\"c3e70daf-66db-4f81-96d5-6615bad5a292\" class=\"plotly-graph-div\" style=\"height:525px; width:500px;\"></div>            <script type=\"text/javascript\">                require([\"plotly\"], function(Plotly) {                    window.PLOTLYENV=window.PLOTLYENV || {};                                    if (document.getElementById(\"c3e70daf-66db-4f81-96d5-6615bad5a292\")) {                    Plotly.newPlot(                        \"c3e70daf-66db-4f81-96d5-6615bad5a292\",                        [{\"domain\":{\"x\":[0.0,1.0],\"y\":[0.0,1.0]},\"hovertemplate\":\"Is Paid=%{label}<br>Counts=%{value}<extra></extra>\",\"labels\":[true,false],\"legendgroup\":\"\",\"name\":\"\",\"showlegend\":true,\"values\":[3368,310],\"type\":\"pie\"}],                        {\"template\":{\"data\":{\"bar\":[{\"error_x\":{\"color\":\"#2a3f5f\"},\"error_y\":{\"color\":\"#2a3f5f\"},\"marker\":{\"line\":{\"color\":\"#E5ECF6\",\"width\":0.5},\"pattern\":{\"fillmode\":\"overlay\",\"size\":10,\"solidity\":0.2}},\"type\":\"bar\"}],\"barpolar\":[{\"marker\":{\"line\":{\"color\":\"#E5ECF6\",\"width\":0.5},\"pattern\":{\"fillmode\":\"overlay\",\"size\":10,\"solidity\":0.2}},\"type\":\"barpolar\"}],\"carpet\":[{\"aaxis\":{\"endlinecolor\":\"#2a3f5f\",\"gridcolor\":\"white\",\"linecolor\":\"white\",\"minorgridcolor\":\"white\",\"startlinecolor\":\"#2a3f5f\"},\"baxis\":{\"endlinecolor\":\"#2a3f5f\",\"gridcolor\":\"white\",\"linecolor\":\"white\",\"minorgridcolor\":\"white\",\"startlinecolor\":\"#2a3f5f\"},\"type\":\"carpet\"}],\"choropleth\":[{\"colorbar\":{\"outlinewidth\":0,\"ticks\":\"\"},\"type\":\"choropleth\"}],\"contour\":[{\"colorbar\":{\"outlinewidth\":0,\"ticks\":\"\"},\"colorscale\":[[0.0,\"#0d0887\"],[0.1111111111111111,\"#46039f\"],[0.2222222222222222,\"#7201a8\"],[0.3333333333333333,\"#9c179e\"],[0.4444444444444444,\"#bd3786\"],[0.5555555555555556,\"#d8576b\"],[0.6666666666666666,\"#ed7953\"],[0.7777777777777778,\"#fb9f3a\"],[0.8888888888888888,\"#fdca26\"],[1.0,\"#f0f921\"]],\"type\":\"contour\"}],\"contourcarpet\":[{\"colorbar\":{\"outlinewidth\":0,\"ticks\":\"\"},\"type\":\"contourcarpet\"}],\"heatmap\":[{\"colorbar\":{\"outlinewidth\":0,\"ticks\":\"\"},\"colorscale\":[[0.0,\"#0d0887\"],[0.1111111111111111,\"#46039f\"],[0.2222222222222222,\"#7201a8\"],[0.3333333333333333,\"#9c179e\"],[0.4444444444444444,\"#bd3786\"],[0.5555555555555556,\"#d8576b\"],[0.6666666666666666,\"#ed7953\"],[0.7777777777777778,\"#fb9f3a\"],[0.8888888888888888,\"#fdca26\"],[1.0,\"#f0f921\"]],\"type\":\"heatmap\"}],\"heatmapgl\":[{\"colorbar\":{\"outlinewidth\":0,\"ticks\":\"\"},\"colorscale\":[[0.0,\"#0d0887\"],[0.1111111111111111,\"#46039f\"],[0.2222222222222222,\"#7201a8\"],[0.3333333333333333,\"#9c179e\"],[0.4444444444444444,\"#bd3786\"],[0.5555555555555556,\"#d8576b\"],[0.6666666666666666,\"#ed7953\"],[0.7777777777777778,\"#fb9f3a\"],[0.8888888888888888,\"#fdca26\"],[1.0,\"#f0f921\"]],\"type\":\"heatmapgl\"}],\"histogram\":[{\"marker\":{\"pattern\":{\"fillmode\":\"overlay\",\"size\":10,\"solidity\":0.2}},\"type\":\"histogram\"}],\"histogram2d\":[{\"colorbar\":{\"outlinewidth\":0,\"ticks\":\"\"},\"colorscale\":[[0.0,\"#0d0887\"],[0.1111111111111111,\"#46039f\"],[0.2222222222222222,\"#7201a8\"],[0.3333333333333333,\"#9c179e\"],[0.4444444444444444,\"#bd3786\"],[0.5555555555555556,\"#d8576b\"],[0.6666666666666666,\"#ed7953\"],[0.7777777777777778,\"#fb9f3a\"],[0.8888888888888888,\"#fdca26\"],[1.0,\"#f0f921\"]],\"type\":\"histogram2d\"}],\"histogram2dcontour\":[{\"colorbar\":{\"outlinewidth\":0,\"ticks\":\"\"},\"colorscale\":[[0.0,\"#0d0887\"],[0.1111111111111111,\"#46039f\"],[0.2222222222222222,\"#7201a8\"],[0.3333333333333333,\"#9c179e\"],[0.4444444444444444,\"#bd3786\"],[0.5555555555555556,\"#d8576b\"],[0.6666666666666666,\"#ed7953\"],[0.7777777777777778,\"#fb9f3a\"],[0.8888888888888888,\"#fdca26\"],[1.0,\"#f0f921\"]],\"type\":\"histogram2dcontour\"}],\"mesh3d\":[{\"colorbar\":{\"outlinewidth\":0,\"ticks\":\"\"},\"type\":\"mesh3d\"}],\"parcoords\":[{\"line\":{\"colorbar\":{\"outlinewidth\":0,\"ticks\":\"\"}},\"type\":\"parcoords\"}],\"pie\":[{\"automargin\":true,\"type\":\"pie\"}],\"scatter\":[{\"marker\":{\"colorbar\":{\"outlinewidth\":0,\"ticks\":\"\"}},\"type\":\"scatter\"}],\"scatter3d\":[{\"line\":{\"colorbar\":{\"outlinewidth\":0,\"ticks\":\"\"}},\"marker\":{\"colorbar\":{\"outlinewidth\":0,\"ticks\":\"\"}},\"type\":\"scatter3d\"}],\"scattercarpet\":[{\"marker\":{\"colorbar\":{\"outlinewidth\":0,\"ticks\":\"\"}},\"type\":\"scattercarpet\"}],\"scattergeo\":[{\"marker\":{\"colorbar\":{\"outlinewidth\":0,\"ticks\":\"\"}},\"type\":\"scattergeo\"}],\"scattergl\":[{\"marker\":{\"colorbar\":{\"outlinewidth\":0,\"ticks\":\"\"}},\"type\":\"scattergl\"}],\"scattermapbox\":[{\"marker\":{\"colorbar\":{\"outlinewidth\":0,\"ticks\":\"\"}},\"type\":\"scattermapbox\"}],\"scatterpolar\":[{\"marker\":{\"colorbar\":{\"outlinewidth\":0,\"ticks\":\"\"}},\"type\":\"scatterpolar\"}],\"scatterpolargl\":[{\"marker\":{\"colorbar\":{\"outlinewidth\":0,\"ticks\":\"\"}},\"type\":\"scatterpolargl\"}],\"scatterternary\":[{\"marker\":{\"colorbar\":{\"outlinewidth\":0,\"ticks\":\"\"}},\"type\":\"scatterternary\"}],\"surface\":[{\"colorbar\":{\"outlinewidth\":0,\"ticks\":\"\"},\"colorscale\":[[0.0,\"#0d0887\"],[0.1111111111111111,\"#46039f\"],[0.2222222222222222,\"#7201a8\"],[0.3333333333333333,\"#9c179e\"],[0.4444444444444444,\"#bd3786\"],[0.5555555555555556,\"#d8576b\"],[0.6666666666666666,\"#ed7953\"],[0.7777777777777778,\"#fb9f3a\"],[0.8888888888888888,\"#fdca26\"],[1.0,\"#f0f921\"]],\"type\":\"surface\"}],\"table\":[{\"cells\":{\"fill\":{\"color\":\"#EBF0F8\"},\"line\":{\"color\":\"white\"}},\"header\":{\"fill\":{\"color\":\"#C8D4E3\"},\"line\":{\"color\":\"white\"}},\"type\":\"table\"}]},\"layout\":{\"annotationdefaults\":{\"arrowcolor\":\"#2a3f5f\",\"arrowhead\":0,\"arrowwidth\":1},\"autotypenumbers\":\"strict\",\"coloraxis\":{\"colorbar\":{\"outlinewidth\":0,\"ticks\":\"\"}},\"colorscale\":{\"diverging\":[[0,\"#8e0152\"],[0.1,\"#c51b7d\"],[0.2,\"#de77ae\"],[0.3,\"#f1b6da\"],[0.4,\"#fde0ef\"],[0.5,\"#f7f7f7\"],[0.6,\"#e6f5d0\"],[0.7,\"#b8e186\"],[0.8,\"#7fbc41\"],[0.9,\"#4d9221\"],[1,\"#276419\"]],\"sequential\":[[0.0,\"#0d0887\"],[0.1111111111111111,\"#46039f\"],[0.2222222222222222,\"#7201a8\"],[0.3333333333333333,\"#9c179e\"],[0.4444444444444444,\"#bd3786\"],[0.5555555555555556,\"#d8576b\"],[0.6666666666666666,\"#ed7953\"],[0.7777777777777778,\"#fb9f3a\"],[0.8888888888888888,\"#fdca26\"],[1.0,\"#f0f921\"]],\"sequentialminus\":[[0.0,\"#0d0887\"],[0.1111111111111111,\"#46039f\"],[0.2222222222222222,\"#7201a8\"],[0.3333333333333333,\"#9c179e\"],[0.4444444444444444,\"#bd3786\"],[0.5555555555555556,\"#d8576b\"],[0.6666666666666666,\"#ed7953\"],[0.7777777777777778,\"#fb9f3a\"],[0.8888888888888888,\"#fdca26\"],[1.0,\"#f0f921\"]]},\"colorway\":[\"#636efa\",\"#EF553B\",\"#00cc96\",\"#ab63fa\",\"#FFA15A\",\"#19d3f3\",\"#FF6692\",\"#B6E880\",\"#FF97FF\",\"#FECB52\"],\"font\":{\"color\":\"#2a3f5f\"},\"geo\":{\"bgcolor\":\"white\",\"lakecolor\":\"white\",\"landcolor\":\"#E5ECF6\",\"showlakes\":true,\"showland\":true,\"subunitcolor\":\"white\"},\"hoverlabel\":{\"align\":\"left\"},\"hovermode\":\"closest\",\"mapbox\":{\"style\":\"light\"},\"paper_bgcolor\":\"white\",\"plot_bgcolor\":\"#E5ECF6\",\"polar\":{\"angularaxis\":{\"gridcolor\":\"white\",\"linecolor\":\"white\",\"ticks\":\"\"},\"bgcolor\":\"#E5ECF6\",\"radialaxis\":{\"gridcolor\":\"white\",\"linecolor\":\"white\",\"ticks\":\"\"}},\"scene\":{\"xaxis\":{\"backgroundcolor\":\"#E5ECF6\",\"gridcolor\":\"white\",\"gridwidth\":2,\"linecolor\":\"white\",\"showbackground\":true,\"ticks\":\"\",\"zerolinecolor\":\"white\"},\"yaxis\":{\"backgroundcolor\":\"#E5ECF6\",\"gridcolor\":\"white\",\"gridwidth\":2,\"linecolor\":\"white\",\"showbackground\":true,\"ticks\":\"\",\"zerolinecolor\":\"white\"},\"zaxis\":{\"backgroundcolor\":\"#E5ECF6\",\"gridcolor\":\"white\",\"gridwidth\":2,\"linecolor\":\"white\",\"showbackground\":true,\"ticks\":\"\",\"zerolinecolor\":\"white\"}},\"shapedefaults\":{\"line\":{\"color\":\"#2a3f5f\"}},\"ternary\":{\"aaxis\":{\"gridcolor\":\"white\",\"linecolor\":\"white\",\"ticks\":\"\"},\"baxis\":{\"gridcolor\":\"white\",\"linecolor\":\"white\",\"ticks\":\"\"},\"bgcolor\":\"#E5ECF6\",\"caxis\":{\"gridcolor\":\"white\",\"linecolor\":\"white\",\"ticks\":\"\"}},\"title\":{\"x\":0.05},\"xaxis\":{\"automargin\":true,\"gridcolor\":\"white\",\"linecolor\":\"white\",\"ticks\":\"\",\"title\":{\"standoff\":15},\"zerolinecolor\":\"white\",\"zerolinewidth\":2},\"yaxis\":{\"automargin\":true,\"gridcolor\":\"white\",\"linecolor\":\"white\",\"ticks\":\"\",\"title\":{\"standoff\":15},\"zerolinecolor\":\"white\",\"zerolinewidth\":2}}},\"legend\":{\"tracegroupgap\":0},\"margin\":{\"t\":60},\"width\":500,\"title\":{\"text\":\"Paid/Free Course Pie Chart\"}},                        {\"responsive\": true}                    ).then(function(){\n",
       "                            \n",
       "var gd = document.getElementById('c3e70daf-66db-4f81-96d5-6615bad5a292');\n",
       "var x = new MutationObserver(function (mutations, observer) {{\n",
       "        var display = window.getComputedStyle(gd).display;\n",
       "        if (!display || display === 'none') {{\n",
       "            console.log([gd, 'removed!']);\n",
       "            Plotly.purge(gd);\n",
       "            observer.disconnect();\n",
       "        }}\n",
       "}});\n",
       "\n",
       "// Listen for the removal of the full notebook cells\n",
       "var notebookContainer = gd.closest('#notebook-container');\n",
       "if (notebookContainer) {{\n",
       "    x.observe(notebookContainer, {childList: true});\n",
       "}}\n",
       "\n",
       "// Listen for the clearing of the current output cell\n",
       "var outputEl = gd.closest('.output');\n",
       "if (outputEl) {{\n",
       "    x.observe(outputEl, {childList: true});\n",
       "}}\n",
       "\n",
       "                        })                };                });            </script>        </div>"
      ]
     },
     "metadata": {},
     "output_type": "display_data"
    }
   ],
   "source": [
    "split = df['is_paid'].value_counts().reset_index()\n",
    "split.columns = ['Is Paid', 'Counts']\n",
    "fig = px.pie(split, names='Is Paid', values='Counts', width=500)\n",
    "fig['layout'].update(title='Paid/Free Course Pie Chart')\n",
    "fig.show()"
   ]
  },
  {
   "cell_type": "markdown",
   "metadata": {},
   "source": [
    "Most of the courses are paid courses. Thus, 3368 paid courses amounting to 91.6% and 310 free courses amounting to 8.43%"
   ]
  },
  {
   "cell_type": "code",
   "execution_count": 84,
   "metadata": {},
   "outputs": [
    {
     "data": {
      "text/plain": [
       "<AxesSubplot:>"
      ]
     },
     "execution_count": 84,
     "metadata": {},
     "output_type": "execute_result"
    },
    {
     "data": {
      "image/png": "[encoded data removed]",
      "text/plain": [
       "<Figure size 576x432 with 2 Axes>"
      ]
     },
     "metadata": {},
     "output_type": "display_data"
    }
   ],
   "source": [
    "\n",
    "paycorr = df[['price', 'num_subscribers', 'num_reviews', 'num_lectures', 'level']].corr()\n",
    "plt.figure(figsize=(8,6))\n",
    "sns.heatmap(paycorr, cmap='magma', annot=True)"
   ]
  },
  {
   "cell_type": "code",
   "execution_count": null,
   "metadata": {},
   "outputs": [],
   "source": [
    "The correlation between price and number of subscribers for each course is very small (0.051). This could mean that most users don't mind paying for a high price as long as the content meets their criteria. "
   ]
  },
  {
   "cell_type": "markdown",
   "metadata": {},
   "source": [
    "# Most Popular and Engaging Course"
   ]
  },
  {
   "cell_type": "markdown",
   "metadata": {},
   "source": [
    "We should be able to sort the most popular course either by number of subscribers, and the most engaging one by number of reviews. "
   ]
  },
  {
   "cell_type": "code",
   "execution_count": 85,
   "metadata": {},
   "outputs": [
    {
     "data": {
      "application/vnd.plotly.v1+json": {
       "config": {
        "plotlyServerURL": "https://plot.ly"
       },
       "data": [
        {
         "orientation": "h",
         "showlegend": false,
         "type": "bar",
         "x": [
          268923,
          161029,
          121584,
          120291,
          114512,
          101154,
          98867,
          84897,
          83737,
          79612
         ],
         "xaxis": "x",
         "y": [
          "Learn HTML5 Programming From Scratch",
          "Coding for Entrepreneurs Basic",
          "The Web Developer Bootcamp",
          "Build Your First Website in 1 Week with HTML5 and CSS3",
          "The Complete Web Developer Course 2.0",
          "Free Beginner Electric Guitar Lessons",
          "Web Design for Web Developers: Build Beautiful Websites!",
          "Learn Javascript & JQuery From Scratch",
          "Practical PHP: Master the Basics and Code Dynamic Websites",
          "JavaScript: Understanding the Weird Parts"
         ],
         "yaxis": "y"
        },
        {
         "orientation": "h",
         "showlegend": false,
         "type": "bar",
         "x": [
          27445,
          22412,
          19649,
          16976,
          15117,
          11580,
          11123,
          8629,
          8341,
          7676
         ],
         "xaxis": "x2",
         "y": [
          "The Web Developer Bootcamp",
          "The Complete Web Developer Course 2.0",
          "Angular 4 (formerly Angular 2) - The Complete Guide",
          "JavaScript: Understanding the Weird Parts",
          "Modern React with Redux",
          "Learn and Understand AngularJS",
          "Learn and Understand NodeJS",
          "Learn HTML5 Programming From Scratch",
          "Angular 2 with TypeScript for Beginners: The Pragmatic Guide",
          "Pianoforall - Incredible New Way To Learn Piano & Keyboard"
         ],
         "yaxis": "y2"
        }
       ],
       "layout": {
        "annotations": [
         {
          "font": {
           "size": 16
          },
          "showarrow": false,
          "text": "Most Popular Courses",
          "x": 0.5,
          "xanchor": "center",
          "xref": "paper",
          "y": 1,
          "yanchor": "bottom",
          "yref": "paper"
         },
         {
          "font": {
           "size": 16
          },
          "showarrow": false,
          "text": "Most Engaging Courses",
          "x": 0.5,
          "xanchor": "center",
          "xref": "paper",
          "y": 0.375,
          "yanchor": "bottom",
          "yref": "paper"
         }
        ],
        "height": 700,
        "template": {
         "data": {
          "bar": [
           {
            "error_x": {
             "color": "#2a3f5f"
            },
            "error_y": {
             "color": "#2a3f5f"
            },
            "marker": {
             "line": {
              "color": "#E5ECF6",
              "width": 0.5
             },
             "pattern": {
              "fillmode": "overlay",
              "size": 10,
              "solidity": 0.2
             }
            },
            "type": "bar"
           }
          ],
          "barpolar": [
           {
            "marker": {
             "line": {
              "color": "#E5ECF6",
              "width": 0.5
             },
             "pattern": {
              "fillmode": "overlay",
              "size": 10,
              "solidity": 0.2
             }
            },
            "type": "barpolar"
           }
          ],
          "carpet": [
           {
            "aaxis": {
             "endlinecolor": "#2a3f5f",
             "gridcolor": "white",
             "linecolor": "white",
             "minorgridcolor": "white",
             "startlinecolor": "#2a3f5f"
            },
            "baxis": {
             "endlinecolor": "#2a3f5f",
             "gridcolor": "white",
             "linecolor": "white",
             "minorgridcolor": "white",
             "startlinecolor": "#2a3f5f"
            },
            "type": "carpet"
           }
          ],
          "choropleth": [
           {
            "colorbar": {
             "outlinewidth": 0,
             "ticks": ""
            },
            "type": "choropleth"
           }
          ],
          "contour": [
           {
            "colorbar": {
             "outlinewidth": 0,
             "ticks": ""
            },
            "colorscale": [
             [
              0,
              "#0d0887"
             ],
             [
              0.1111111111111111,
              "#46039f"
             ],
             [
              0.2222222222222222,
              "#7201a8"
             ],
             [
              0.3333333333333333,
              "#9c179e"
             ],
             [
              0.4444444444444444,
              "#bd3786"
             ],
             [
              0.5555555555555556,
              "#d8576b"
             ],
             [
              0.6666666666666666,
              "#ed7953"
             ],
             [
              0.7777777777777778,
              "#fb9f3a"
             ],
             [
              0.8888888888888888,
              "#fdca26"
             ],
             [
              1,
              "#f0f921"
             ]
            ],
            "type": "contour"
           }
          ],
          "contourcarpet": [
           {
            "colorbar": {
             "outlinewidth": 0,
             "ticks": ""
            },
            "type": "contourcarpet"
           }
          ],
          "heatmap": [
           {
            "colorbar": {
             "outlinewidth": 0,
             "ticks": ""
            },
            "colorscale": [
             [
              0,
              "#0d0887"
             ],
             [
              0.1111111111111111,
              "#46039f"
             ],
             [
              0.2222222222222222,
              "#7201a8"
             ],
             [
              0.3333333333333333,
              "#9c179e"
             ],
             [
              0.4444444444444444,
              "#bd3786"
             ],
             [
              0.5555555555555556,
              "#d8576b"
             ],
             [
              0.6666666666666666,
              "#ed7953"
             ],
             [
              0.7777777777777778,
              "#fb9f3a"
             ],
             [
              0.8888888888888888,
              "#fdca26"
             ],
             [
              1,
              "#f0f921"
             ]
            ],
            "type": "heatmap"
           }
          ],
          "heatmapgl": [
           {
            "colorbar": {
             "outlinewidth": 0,
             "ticks": ""
            },
            "colorscale": [
             [
              0,
              "#0d0887"
             ],
             [
              0.1111111111111111,
              "#46039f"
             ],
             [
              0.2222222222222222,
              "#7201a8"
             ],
             [
              0.3333333333333333,
              "#9c179e"
             ],
             [
              0.4444444444444444,
              "#bd3786"
             ],
             [
              0.5555555555555556,
              "#d8576b"
             ],
             [
              0.6666666666666666,
              "#ed7953"
             ],
             [
              0.7777777777777778,
              "#fb9f3a"
             ],
             [
              0.8888888888888888,
              "#fdca26"
             ],
             [
              1,
              "#f0f921"
             ]
            ],
            "type": "heatmapgl"
           }
          ],
          "histogram": [
           {
            "marker": {
             "pattern": {
              "fillmode": "overlay",
              "size": 10,
              "solidity": 0.2
             }
            },
            "type": "histogram"
           }
          ],
          "histogram2d": [
           {
            "colorbar": {
             "outlinewidth": 0,
             "ticks": ""
            },
            "colorscale": [
             [
              0,
              "#0d0887"
             ],
             [
              0.1111111111111111,
              "#46039f"
             ],
             [
              0.2222222222222222,
              "#7201a8"
             ],
             [
              0.3333333333333333,
              "#9c179e"
             ],
             [
              0.4444444444444444,
              "#bd3786"
             ],
             [
              0.5555555555555556,
              "#d8576b"
             ],
             [
              0.6666666666666666,
              "#ed7953"
             ],
             [
              0.7777777777777778,
              "#fb9f3a"
             ],
             [
              0.8888888888888888,
              "#fdca26"
             ],
             [
              1,
              "#f0f921"
             ]
            ],
            "type": "histogram2d"
           }
          ],
          "histogram2dcontour": [
           {
            "colorbar": {
             "outlinewidth": 0,
             "ticks": ""
            },
            "colorscale": [
             [
              0,
              "#0d0887"
             ],
             [
              0.1111111111111111,
              "#46039f"
             ],
             [
              0.2222222222222222,
              "#7201a8"
             ],
             [
              0.3333333333333333,
              "#9c179e"
             ],
             [
              0.4444444444444444,
              "#bd3786"
             ],
             [
              0.5555555555555556,
              "#d8576b"
             ],
             [
              0.6666666666666666,
              "#ed7953"
             ],
             [
              0.7777777777777778,
              "#fb9f3a"
             ],
             [
              0.8888888888888888,
              "#fdca26"
             ],
             [
              1,
              "#f0f921"
             ]
            ],
            "type": "histogram2dcontour"
           }
          ],
          "mesh3d": [
           {
            "colorbar": {
             "outlinewidth": 0,
             "ticks": ""
            },
            "type": "mesh3d"
           }
          ],
          "parcoords": [
           {
            "line": {
             "colorbar": {
              "outlinewidth": 0,
              "ticks": ""
             }
            },
            "type": "parcoords"
           }
          ],
          "pie": [
           {
            "automargin": true,
            "type": "pie"
           }
          ],
          "scatter": [
           {
            "marker": {
             "colorbar": {
              "outlinewidth": 0,
              "ticks": ""
             }
            },
            "type": "scatter"
           }
          ],
          "scatter3d": [
           {
            "line": {
             "colorbar": {
              "outlinewidth": 0,
              "ticks": ""
             }
            },
            "marker": {
             "colorbar": {
              "outlinewidth": 0,
              "ticks": ""
             }
            },
            "type": "scatter3d"
           }
          ],
          "scattercarpet": [
           {
            "marker": {
             "colorbar": {
              "outlinewidth": 0,
              "ticks": ""
             }
            },
            "type": "scattercarpet"
           }
          ],
          "scattergeo": [
           {
            "marker": {
             "colorbar": {
              "outlinewidth": 0,
              "ticks": ""
             }
            },
            "type": "scattergeo"
           }
          ],
          "scattergl": [
           {
            "marker": {
             "colorbar": {
              "outlinewidth": 0,
              "ticks": ""
             }
            },
            "type": "scattergl"
           }
          ],
          "scattermapbox": [
           {
            "marker": {
             "colorbar": {
              "outlinewidth": 0,
              "ticks": ""
             }
            },
            "type": "scattermapbox"
           }
          ],
          "scatterpolar": [
           {
            "marker": {
             "colorbar": {
              "outlinewidth": 0,
              "ticks": ""
             }
            },
            "type": "scatterpolar"
           }
          ],
          "scatterpolargl": [
           {
            "marker": {
             "colorbar": {
              "outlinewidth": 0,
              "ticks": ""
             }
            },
            "type": "scatterpolargl"
           }
          ],
          "scatterternary": [
           {
            "marker": {
             "colorbar": {
              "outlinewidth": 0,
              "ticks": ""
             }
            },
            "type": "scatterternary"
           }
          ],
          "surface": [
           {
            "colorbar": {
             "outlinewidth": 0,
             "ticks": ""
            },
            "colorscale": [
             [
              0,
              "#0d0887"
             ],
             [
              0.1111111111111111,
              "#46039f"
             ],
             [
              0.2222222222222222,
              "#7201a8"
             ],
             [
              0.3333333333333333,
              "#9c179e"
             ],
             [
              0.4444444444444444,
              "#bd3786"
             ],
             [
              0.5555555555555556,
              "#d8576b"
             ],
             [
              0.6666666666666666,
              "#ed7953"
             ],
             [
              0.7777777777777778,
              "#fb9f3a"
             ],
             [
              0.8888888888888888,
              "#fdca26"
             ],
             [
              1,
              "#f0f921"
             ]
            ],
            "type": "surface"
           }
          ],
          "table": [
           {
            "cells": {
             "fill": {
              "color": "#EBF0F8"
             },
             "line": {
              "color": "white"
             }
            },
            "header": {
             "fill": {
              "color": "#C8D4E3"
             },
             "line": {
              "color": "white"
             }
            },
            "type": "table"
           }
          ]
         },
         "layout": {
          "annotationdefaults": {
           "arrowcolor": "#2a3f5f",
           "arrowhead": 0,
           "arrowwidth": 1
          },
          "autotypenumbers": "strict",
          "coloraxis": {
           "colorbar": {
            "outlinewidth": 0,
            "ticks": ""
           }
          },
          "colorscale": {
           "diverging": [
            [
             0,
             "#8e0152"
            ],
            [
             0.1,
             "#c51b7d"
            ],
            [
             0.2,
             "#de77ae"
            ],
            [
             0.3,
             "#f1b6da"
            ],
            [
             0.4,
             "#fde0ef"
            ],
            [
             0.5,
             "#f7f7f7"
            ],
            [
             0.6,
             "#e6f5d0"
            ],
            [
             0.7,
             "#b8e186"
            ],
            [
             0.8,
             "#7fbc41"
            ],
            [
             0.9,
             "#4d9221"
            ],
            [
             1,
             "#276419"
            ]
           ],
           "sequential": [
            [
             0,
             "#0d0887"
            ],
            [
             0.1111111111111111,
             "#46039f"
            ],
            [
             0.2222222222222222,
             "#7201a8"
            ],
            [
             0.3333333333333333,
             "#9c179e"
            ],
            [
             0.4444444444444444,
             "#bd3786"
            ],
            [
             0.5555555555555556,
             "#d8576b"
            ],
            [
             0.6666666666666666,
             "#ed7953"
            ],
            [
             0.7777777777777778,
             "#fb9f3a"
            ],
            [
             0.8888888888888888,
             "#fdca26"
            ],
            [
             1,
             "#f0f921"
            ]
           ],
           "sequentialminus": [
            [
             0,
             "#0d0887"
            ],
            [
             0.1111111111111111,
             "#46039f"
            ],
            [
             0.2222222222222222,
             "#7201a8"
            ],
            [
             0.3333333333333333,
             "#9c179e"
            ],
            [
             0.4444444444444444,
             "#bd3786"
            ],
            [
             0.5555555555555556,
             "#d8576b"
            ],
            [
             0.6666666666666666,
             "#ed7953"
            ],
            [
             0.7777777777777778,
             "#fb9f3a"
            ],
            [
             0.8888888888888888,
             "#fdca26"
            ],
            [
             1,
             "#f0f921"
            ]
           ]
          },
          "colorway": [
           "#636efa",
           "#EF553B",
           "#00cc96",
           "#ab63fa",
           "#FFA15A",
           "#19d3f3",
           "#FF6692",
           "#B6E880",
           "#FF97FF",
           "#FECB52"
          ],
          "font": {
           "color": "#2a3f5f"
          },
          "geo": {
           "bgcolor": "white",
           "lakecolor": "white",
           "landcolor": "#E5ECF6",
           "showlakes": true,
           "showland": true,
           "subunitcolor": "white"
          },
          "hoverlabel": {
           "align": "left"
          },
          "hovermode": "closest",
          "mapbox": {
           "style": "light"
          },
          "paper_bgcolor": "white",
          "plot_bgcolor": "#E5ECF6",
          "polar": {
           "angularaxis": {
            "gridcolor": "white",
            "linecolor": "white",
            "ticks": ""
           },
           "bgcolor": "#E5ECF6",
           "radialaxis": {
            "gridcolor": "white",
            "linecolor": "white",
            "ticks": ""
           }
          },
          "scene": {
           "xaxis": {
            "backgroundcolor": "#E5ECF6",
            "gridcolor": "white",
            "gridwidth": 2,
            "linecolor": "white",
            "showbackground": true,
            "ticks": "",
            "zerolinecolor": "white"
           },
           "yaxis": {
            "backgroundcolor": "#E5ECF6",
            "gridcolor": "white",
            "gridwidth": 2,
            "linecolor": "white",
            "showbackground": true,
            "ticks": "",
            "zerolinecolor": "white"
           },
           "zaxis": {
            "backgroundcolor": "#E5ECF6",
            "gridcolor": "white",
            "gridwidth": 2,
            "linecolor": "white",
            "showbackground": true,
            "ticks": "",
            "zerolinecolor": "white"
           }
          },
          "shapedefaults": {
           "line": {
            "color": "#2a3f5f"
           }
          },
          "ternary": {
           "aaxis": {
            "gridcolor": "white",
            "linecolor": "white",
            "ticks": ""
           },
           "baxis": {
            "gridcolor": "white",
            "linecolor": "white",
            "ticks": ""
           },
           "bgcolor": "#E5ECF6",
           "caxis": {
            "gridcolor": "white",
            "linecolor": "white",
            "ticks": ""
           }
          },
          "title": {
           "x": 0.05
          },
          "xaxis": {
           "automargin": true,
           "gridcolor": "white",
           "linecolor": "white",
           "ticks": "",
           "title": {
            "standoff": 15
           },
           "zerolinecolor": "white",
           "zerolinewidth": 2
          },
          "yaxis": {
           "automargin": true,
           "gridcolor": "white",
           "linecolor": "white",
           "ticks": "",
           "title": {
            "standoff": 15
           },
           "zerolinecolor": "white",
           "zerolinewidth": 2
          }
         }
        },
        "width": 800,
        "xaxis": {
         "anchor": "y",
         "domain": [
          0,
          1
         ]
        },
        "xaxis2": {
         "anchor": "y2",
         "domain": [
          0,
          1
         ]
        },
        "yaxis": {
         "anchor": "x",
         "domain": [
          0.625,
          1
         ]
        },
        "yaxis2": {
         "anchor": "x2",
         "domain": [
          0,
          0.375
         ]
        }
       }
      },
      "text/html": [
       "<div>                            <div id=\"094e5065-1489-45f5-b841-68e6975e60a9\" class=\"plotly-graph-div\" style=\"height:700px; width:800px;\"></div>            <script type=\"text/javascript\">                require([\"plotly\"], function(Plotly) {                    window.PLOTLYENV=window.PLOTLYENV || {};                                    if (document.getElementById(\"094e5065-1489-45f5-b841-68e6975e60a9\")) {                    Plotly.newPlot(                        \"094e5065-1489-45f5-b841-68e6975e60a9\",                        [{\"orientation\":\"h\",\"showlegend\":false,\"x\":[268923,161029,121584,120291,114512,101154,98867,84897,83737,79612],\"y\":[\"Learn HTML5 Programming From Scratch\",\"Coding for Entrepreneurs Basic\",\"The Web Developer Bootcamp\",\"Build Your First Website in 1 Week with HTML5 and CSS3\",\"The Complete Web Developer Course 2.0\",\"Free Beginner Electric Guitar Lessons\",\"Web Design for Web Developers: Build Beautiful Websites!\",\"Learn Javascript & JQuery From Scratch\",\"Practical PHP: Master the Basics and Code Dynamic Websites\",\"JavaScript: Understanding the Weird Parts\"],\"type\":\"bar\",\"xaxis\":\"x\",\"yaxis\":\"y\"},{\"orientation\":\"h\",\"showlegend\":false,\"x\":[27445,22412,19649,16976,15117,11580,11123,8629,8341,7676],\"y\":[\"The Web Developer Bootcamp\",\"The Complete Web Developer Course 2.0\",\"Angular 4 (formerly Angular 2) - The Complete Guide\",\"JavaScript: Understanding the Weird Parts\",\"Modern React with Redux\",\"Learn and Understand AngularJS\",\"Learn and Understand NodeJS\",\"Learn HTML5 Programming From Scratch\",\"Angular 2 with TypeScript for Beginners: The Pragmatic Guide\",\"Pianoforall - Incredible New Way To Learn Piano & Keyboard\"],\"type\":\"bar\",\"xaxis\":\"x2\",\"yaxis\":\"y2\"}],                        {\"template\":{\"data\":{\"bar\":[{\"error_x\":{\"color\":\"#2a3f5f\"},\"error_y\":{\"color\":\"#2a3f5f\"},\"marker\":{\"line\":{\"color\":\"#E5ECF6\",\"width\":0.5},\"pattern\":{\"fillmode\":\"overlay\",\"size\":10,\"solidity\":0.2}},\"type\":\"bar\"}],\"barpolar\":[{\"marker\":{\"line\":{\"color\":\"#E5ECF6\",\"width\":0.5},\"pattern\":{\"fillmode\":\"overlay\",\"size\":10,\"solidity\":0.2}},\"type\":\"barpolar\"}],\"carpet\":[{\"aaxis\":{\"endlinecolor\":\"#2a3f5f\",\"gridcolor\":\"white\",\"linecolor\":\"white\",\"minorgridcolor\":\"white\",\"startlinecolor\":\"#2a3f5f\"},\"baxis\":{\"endlinecolor\":\"#2a3f5f\",\"gridcolor\":\"white\",\"linecolor\":\"white\",\"minorgridcolor\":\"white\",\"startlinecolor\":\"#2a3f5f\"},\"type\":\"carpet\"}],\"choropleth\":[{\"colorbar\":{\"outlinewidth\":0,\"ticks\":\"\"},\"type\":\"choropleth\"}],\"contour\":[{\"colorbar\":{\"outlinewidth\":0,\"ticks\":\"\"},\"colorscale\":[[0.0,\"#0d0887\"],[0.1111111111111111,\"#46039f\"],[0.2222222222222222,\"#7201a8\"],[0.3333333333333333,\"#9c179e\"],[0.4444444444444444,\"#bd3786\"],[0.5555555555555556,\"#d8576b\"],[0.6666666666666666,\"#ed7953\"],[0.7777777777777778,\"#fb9f3a\"],[0.8888888888888888,\"#fdca26\"],[1.0,\"#f0f921\"]],\"type\":\"contour\"}],\"contourcarpet\":[{\"colorbar\":{\"outlinewidth\":0,\"ticks\":\"\"},\"type\":\"contourcarpet\"}],\"heatmap\":[{\"colorbar\":{\"outlinewidth\":0,\"ticks\":\"\"},\"colorscale\":[[0.0,\"#0d0887\"],[0.1111111111111111,\"#46039f\"],[0.2222222222222222,\"#7201a8\"],[0.3333333333333333,\"#9c179e\"],[0.4444444444444444,\"#bd3786\"],[0.5555555555555556,\"#d8576b\"],[0.6666666666666666,\"#ed7953\"],[0.7777777777777778,\"#fb9f3a\"],[0.8888888888888888,\"#fdca26\"],[1.0,\"#f0f921\"]],\"type\":\"heatmap\"}],\"heatmapgl\":[{\"colorbar\":{\"outlinewidth\":0,\"ticks\":\"\"},\"colorscale\":[[0.0,\"#0d0887\"],[0.1111111111111111,\"#46039f\"],[0.2222222222222222,\"#7201a8\"],[0.3333333333333333,\"#9c179e\"],[0.4444444444444444,\"#bd3786\"],[0.5555555555555556,\"#d8576b\"],[0.6666666666666666,\"#ed7953\"],[0.7777777777777778,\"#fb9f3a\"],[0.8888888888888888,\"#fdca26\"],[1.0,\"#f0f921\"]],\"type\":\"heatmapgl\"}],\"histogram\":[{\"marker\":{\"pattern\":{\"fillmode\":\"overlay\",\"size\":10,\"solidity\":0.2}},\"type\":\"histogram\"}],\"histogram2d\":[{\"colorbar\":{\"outlinewidth\":0,\"ticks\":\"\"},\"colorscale\":[[0.0,\"#0d0887\"],[0.1111111111111111,\"#46039f\"],[0.2222222222222222,\"#7201a8\"],[0.3333333333333333,\"#9c179e\"],[0.4444444444444444,\"#bd3786\"],[0.5555555555555556,\"#d8576b\"],[0.6666666666666666,\"#ed7953\"],[0.7777777777777778,\"#fb9f3a\"],[0.8888888888888888,\"#fdca26\"],[1.0,\"#f0f921\"]],\"type\":\"histogram2d\"}],\"histogram2dcontour\":[{\"colorbar\":{\"outlinewidth\":0,\"ticks\":\"\"},\"colorscale\":[[0.0,\"#0d0887\"],[0.1111111111111111,\"#46039f\"],[0.2222222222222222,\"#7201a8\"],[0.3333333333333333,\"#9c179e\"],[0.4444444444444444,\"#bd3786\"],[0.5555555555555556,\"#d8576b\"],[0.6666666666666666,\"#ed7953\"],[0.7777777777777778,\"#fb9f3a\"],[0.8888888888888888,\"#fdca26\"],[1.0,\"#f0f921\"]],\"type\":\"histogram2dcontour\"}],\"mesh3d\":[{\"colorbar\":{\"outlinewidth\":0,\"ticks\":\"\"},\"type\":\"mesh3d\"}],\"parcoords\":[{\"line\":{\"colorbar\":{\"outlinewidth\":0,\"ticks\":\"\"}},\"type\":\"parcoords\"}],\"pie\":[{\"automargin\":true,\"type\":\"pie\"}],\"scatter\":[{\"marker\":{\"colorbar\":{\"outlinewidth\":0,\"ticks\":\"\"}},\"type\":\"scatter\"}],\"scatter3d\":[{\"line\":{\"colorbar\":{\"outlinewidth\":0,\"ticks\":\"\"}},\"marker\":{\"colorbar\":{\"outlinewidth\":0,\"ticks\":\"\"}},\"type\":\"scatter3d\"}],\"scattercarpet\":[{\"marker\":{\"colorbar\":{\"outlinewidth\":0,\"ticks\":\"\"}},\"type\":\"scattercarpet\"}],\"scattergeo\":[{\"marker\":{\"colorbar\":{\"outlinewidth\":0,\"ticks\":\"\"}},\"type\":\"scattergeo\"}],\"scattergl\":[{\"marker\":{\"colorbar\":{\"outlinewidth\":0,\"ticks\":\"\"}},\"type\":\"scattergl\"}],\"scattermapbox\":[{\"marker\":{\"colorbar\":{\"outlinewidth\":0,\"ticks\":\"\"}},\"type\":\"scattermapbox\"}],\"scatterpolar\":[{\"marker\":{\"colorbar\":{\"outlinewidth\":0,\"ticks\":\"\"}},\"type\":\"scatterpolar\"}],\"scatterpolargl\":[{\"marker\":{\"colorbar\":{\"outlinewidth\":0,\"ticks\":\"\"}},\"type\":\"scatterpolargl\"}],\"scatterternary\":[{\"marker\":{\"colorbar\":{\"outlinewidth\":0,\"ticks\":\"\"}},\"type\":\"scatterternary\"}],\"surface\":[{\"colorbar\":{\"outlinewidth\":0,\"ticks\":\"\"},\"colorscale\":[[0.0,\"#0d0887\"],[0.1111111111111111,\"#46039f\"],[0.2222222222222222,\"#7201a8\"],[0.3333333333333333,\"#9c179e\"],[0.4444444444444444,\"#bd3786\"],[0.5555555555555556,\"#d8576b\"],[0.6666666666666666,\"#ed7953\"],[0.7777777777777778,\"#fb9f3a\"],[0.8888888888888888,\"#fdca26\"],[1.0,\"#f0f921\"]],\"type\":\"surface\"}],\"table\":[{\"cells\":{\"fill\":{\"color\":\"#EBF0F8\"},\"line\":{\"color\":\"white\"}},\"header\":{\"fill\":{\"color\":\"#C8D4E3\"},\"line\":{\"color\":\"white\"}},\"type\":\"table\"}]},\"layout\":{\"annotationdefaults\":{\"arrowcolor\":\"#2a3f5f\",\"arrowhead\":0,\"arrowwidth\":1},\"autotypenumbers\":\"strict\",\"coloraxis\":{\"colorbar\":{\"outlinewidth\":0,\"ticks\":\"\"}},\"colorscale\":{\"diverging\":[[0,\"#8e0152\"],[0.1,\"#c51b7d\"],[0.2,\"#de77ae\"],[0.3,\"#f1b6da\"],[0.4,\"#fde0ef\"],[0.5,\"#f7f7f7\"],[0.6,\"#e6f5d0\"],[0.7,\"#b8e186\"],[0.8,\"#7fbc41\"],[0.9,\"#4d9221\"],[1,\"#276419\"]],\"sequential\":[[0.0,\"#0d0887\"],[0.1111111111111111,\"#46039f\"],[0.2222222222222222,\"#7201a8\"],[0.3333333333333333,\"#9c179e\"],[0.4444444444444444,\"#bd3786\"],[0.5555555555555556,\"#d8576b\"],[0.6666666666666666,\"#ed7953\"],[0.7777777777777778,\"#fb9f3a\"],[0.8888888888888888,\"#fdca26\"],[1.0,\"#f0f921\"]],\"sequentialminus\":[[0.0,\"#0d0887\"],[0.1111111111111111,\"#46039f\"],[0.2222222222222222,\"#7201a8\"],[0.3333333333333333,\"#9c179e\"],[0.4444444444444444,\"#bd3786\"],[0.5555555555555556,\"#d8576b\"],[0.6666666666666666,\"#ed7953\"],[0.7777777777777778,\"#fb9f3a\"],[0.8888888888888888,\"#fdca26\"],[1.0,\"#f0f921\"]]},\"colorway\":[\"#636efa\",\"#EF553B\",\"#00cc96\",\"#ab63fa\",\"#FFA15A\",\"#19d3f3\",\"#FF6692\",\"#B6E880\",\"#FF97FF\",\"#FECB52\"],\"font\":{\"color\":\"#2a3f5f\"},\"geo\":{\"bgcolor\":\"white\",\"lakecolor\":\"white\",\"landcolor\":\"#E5ECF6\",\"showlakes\":true,\"showland\":true,\"subunitcolor\":\"white\"},\"hoverlabel\":{\"align\":\"left\"},\"hovermode\":\"closest\",\"mapbox\":{\"style\":\"light\"},\"paper_bgcolor\":\"white\",\"plot_bgcolor\":\"#E5ECF6\",\"polar\":{\"angularaxis\":{\"gridcolor\":\"white\",\"linecolor\":\"white\",\"ticks\":\"\"},\"bgcolor\":\"#E5ECF6\",\"radialaxis\":{\"gridcolor\":\"white\",\"linecolor\":\"white\",\"ticks\":\"\"}},\"scene\":{\"xaxis\":{\"backgroundcolor\":\"#E5ECF6\",\"gridcolor\":\"white\",\"gridwidth\":2,\"linecolor\":\"white\",\"showbackground\":true,\"ticks\":\"\",\"zerolinecolor\":\"white\"},\"yaxis\":{\"backgroundcolor\":\"#E5ECF6\",\"gridcolor\":\"white\",\"gridwidth\":2,\"linecolor\":\"white\",\"showbackground\":true,\"ticks\":\"\",\"zerolinecolor\":\"white\"},\"zaxis\":{\"backgroundcolor\":\"#E5ECF6\",\"gridcolor\":\"white\",\"gridwidth\":2,\"linecolor\":\"white\",\"showbackground\":true,\"ticks\":\"\",\"zerolinecolor\":\"white\"}},\"shapedefaults\":{\"line\":{\"color\":\"#2a3f5f\"}},\"ternary\":{\"aaxis\":{\"gridcolor\":\"white\",\"linecolor\":\"white\",\"ticks\":\"\"},\"baxis\":{\"gridcolor\":\"white\",\"linecolor\":\"white\",\"ticks\":\"\"},\"bgcolor\":\"#E5ECF6\",\"caxis\":{\"gridcolor\":\"white\",\"linecolor\":\"white\",\"ticks\":\"\"}},\"title\":{\"x\":0.05},\"xaxis\":{\"automargin\":true,\"gridcolor\":\"white\",\"linecolor\":\"white\",\"ticks\":\"\",\"title\":{\"standoff\":15},\"zerolinecolor\":\"white\",\"zerolinewidth\":2},\"yaxis\":{\"automargin\":true,\"gridcolor\":\"white\",\"linecolor\":\"white\",\"ticks\":\"\",\"title\":{\"standoff\":15},\"zerolinecolor\":\"white\",\"zerolinewidth\":2}}},\"xaxis\":{\"anchor\":\"y\",\"domain\":[0.0,1.0]},\"yaxis\":{\"anchor\":\"x\",\"domain\":[0.625,1.0]},\"xaxis2\":{\"anchor\":\"y2\",\"domain\":[0.0,1.0]},\"yaxis2\":{\"anchor\":\"x2\",\"domain\":[0.0,0.375]},\"annotations\":[{\"font\":{\"size\":16},\"showarrow\":false,\"text\":\"Most Popular Courses\",\"x\":0.5,\"xanchor\":\"center\",\"xref\":\"paper\",\"y\":1.0,\"yanchor\":\"bottom\",\"yref\":\"paper\"},{\"font\":{\"size\":16},\"showarrow\":false,\"text\":\"Most Engaging Courses\",\"x\":0.5,\"xanchor\":\"center\",\"xref\":\"paper\",\"y\":0.375,\"yanchor\":\"bottom\",\"yref\":\"paper\"}],\"height\":700,\"width\":800},                        {\"responsive\": true}                    ).then(function(){\n",
       "                            \n",
       "var gd = document.getElementById('094e5065-1489-45f5-b841-68e6975e60a9');\n",
       "var x = new MutationObserver(function (mutations, observer) {{\n",
       "        var display = window.getComputedStyle(gd).display;\n",
       "        if (!display || display === 'none') {{\n",
       "            console.log([gd, 'removed!']);\n",
       "            Plotly.purge(gd);\n",
       "            observer.disconnect();\n",
       "        }}\n",
       "}});\n",
       "\n",
       "// Listen for the removal of the full notebook cells\n",
       "var notebookContainer = gd.closest('#notebook-container');\n",
       "if (notebookContainer) {{\n",
       "    x.observe(notebookContainer, {childList: true});\n",
       "}}\n",
       "\n",
       "// Listen for the clearing of the current output cell\n",
       "var outputEl = gd.closest('.output');\n",
       "if (outputEl) {{\n",
       "    x.observe(outputEl, {childList: true});\n",
       "}}\n",
       "\n",
       "                        })                };                });            </script>        </div>"
      ]
     },
     "metadata": {},
     "output_type": "display_data"
    }
   ],
   "source": [
    "popular = df.loc[idx[df['num_subscribers'].sort_values(ascending=False).index]][['course_title', 'num_subscribers', 'subject']]\n",
    "mostpop = popular.head(10)\n",
    "engage = df.loc[idx[df['num_reviews'].sort_values(ascending=False).index]][['course_title', 'num_reviews', 'subject']]\n",
    "mosten= engage.head(10)\n",
    "fig = make_subplots(rows=2 ,cols=1, subplot_titles=('Most Popular Courses', 'Most Engaging Courses'))\n",
    "fig.append_trace(go.Bar(x=mostpop['num_subscribers'], y=mostpop['course_title'],\n",
    "                       orientation='h', \n",
    "                       showlegend=False), row=1, col=1)\n",
    "fig.append_trace(go.Bar(x=mosten['num_reviews'], y=mosten['course_title'],\n",
    "                       orientation='h', \n",
    "                       showlegend=False), row=2, col=1)\n",
    "fig['layout'].update(height=700, width=800)\n",
    "fig.show()"
   ]
  },
  {
   "cell_type": "markdown",
   "metadata": {},
   "source": [
    "Pianoforall, the only Musical course in the Top 5 Most Profitable Course, also appears on Top 10 Most Engaging Course as the only course that isn't WebDev."
   ]
  },
  {
   "cell_type": "markdown",
   "metadata": {},
   "source": [
    "# Course Levels Importance"
   ]
  },
  {
   "cell_type": "markdown",
   "metadata": {},
   "source": [
    "Did course levels matter back then? We can try to plot the number of course and subscribers per level to find out about it."
   ]
  },
  {
   "cell_type": "code",
   "execution_count": 49,
   "metadata": {},
   "outputs": [
    {
     "data": {
      "application/vnd.plotly.v1+json": {
       "config": {
        "plotlyServerURL": "https://plot.ly"
       },
       "data": [
        {
         "orientation": "h",
         "showlegend": false,
         "type": "bar",
         "x": [
          6915076,
          4051843,
          50196,
          742005
         ],
         "xaxis": "x",
         "y": [
          "All Levels",
          "Beginner Level",
          "Expert Level",
          "Intermediate Level"
         ],
         "yaxis": "y"
        },
        {
         "orientation": "h",
         "showlegend": false,
         "type": "bar",
         "x": [
          1929,
          1270,
          58,
          421
         ],
         "xaxis": "x2",
         "y": [
          "All Levels",
          "Beginner Level",
          "Expert Level",
          "Intermediate Level"
         ],
         "yaxis": "y2"
        }
       ],
       "layout": {
        "annotations": [
         {
          "font": {
           "size": 16
          },
          "showarrow": false,
          "text": "Levels v Subscribers",
          "x": 0.5,
          "xanchor": "center",
          "xref": "paper",
          "y": 1,
          "yanchor": "bottom",
          "yref": "paper"
         },
         {
          "font": {
           "size": 16
          },
          "showarrow": false,
          "text": "Levels v Number of Courses",
          "x": 0.5,
          "xanchor": "center",
          "xref": "paper",
          "y": 0.375,
          "yanchor": "bottom",
          "yref": "paper"
         }
        ],
        "height": 700,
        "template": {
         "data": {
          "bar": [
           {
            "error_x": {
             "color": "#2a3f5f"
            },
            "error_y": {
             "color": "#2a3f5f"
            },
            "marker": {
             "line": {
              "color": "#E5ECF6",
              "width": 0.5
             },
             "pattern": {
              "fillmode": "overlay",
              "size": 10,
              "solidity": 0.2
             }
            },
            "type": "bar"
           }
          ],
          "barpolar": [
           {
            "marker": {
             "line": {
              "color": "#E5ECF6",
              "width": 0.5
             },
             "pattern": {
              "fillmode": "overlay",
              "size": 10,
              "solidity": 0.2
             }
            },
            "type": "barpolar"
           }
          ],
          "carpet": [
           {
            "aaxis": {
             "endlinecolor": "#2a3f5f",
             "gridcolor": "white",
             "linecolor": "white",
             "minorgridcolor": "white",
             "startlinecolor": "#2a3f5f"
            },
            "baxis": {
             "endlinecolor": "#2a3f5f",
             "gridcolor": "white",
             "linecolor": "white",
             "minorgridcolor": "white",
             "startlinecolor": "#2a3f5f"
            },
            "type": "carpet"
           }
          ],
          "choropleth": [
           {
            "colorbar": {
             "outlinewidth": 0,
             "ticks": ""
            },
            "type": "choropleth"
           }
          ],
          "contour": [
           {
            "colorbar": {
             "outlinewidth": 0,
             "ticks": ""
            },
            "colorscale": [
             [
              0,
              "#0d0887"
             ],
             [
              0.1111111111111111,
              "#46039f"
             ],
             [
              0.2222222222222222,
              "#7201a8"
             ],
             [
              0.3333333333333333,
              "#9c179e"
             ],
             [
              0.4444444444444444,
              "#bd3786"
             ],
             [
              0.5555555555555556,
              "#d8576b"
             ],
             [
              0.6666666666666666,
              "#ed7953"
             ],
             [
              0.7777777777777778,
              "#fb9f3a"
             ],
             [
              0.8888888888888888,
              "#fdca26"
             ],
             [
              1,
              "#f0f921"
             ]
            ],
            "type": "contour"
           }
          ],
          "contourcarpet": [
           {
            "colorbar": {
             "outlinewidth": 0,
             "ticks": ""
            },
            "type": "contourcarpet"
           }
          ],
          "heatmap": [
           {
            "colorbar": {
             "outlinewidth": 0,
             "ticks": ""
            },
            "colorscale": [
             [
              0,
              "#0d0887"
             ],
             [
              0.1111111111111111,
              "#46039f"
             ],
             [
              0.2222222222222222,
              "#7201a8"
             ],
             [
              0.3333333333333333,
              "#9c179e"
             ],
             [
              0.4444444444444444,
              "#bd3786"
             ],
             [
              0.5555555555555556,
              "#d8576b"
             ],
             [
              0.6666666666666666,
              "#ed7953"
             ],
             [
              0.7777777777777778,
              "#fb9f3a"
             ],
             [
              0.8888888888888888,
              "#fdca26"
             ],
             [
              1,
              "#f0f921"
             ]
            ],
            "type": "heatmap"
           }
          ],
          "heatmapgl": [
           {
            "colorbar": {
             "outlinewidth": 0,
             "ticks": ""
            },
            "colorscale": [
             [
              0,
              "#0d0887"
             ],
             [
              0.1111111111111111,
              "#46039f"
             ],
             [
              0.2222222222222222,
              "#7201a8"
             ],
             [
              0.3333333333333333,
              "#9c179e"
             ],
             [
              0.4444444444444444,
              "#bd3786"
             ],
             [
              0.5555555555555556,
              "#d8576b"
             ],
             [
              0.6666666666666666,
              "#ed7953"
             ],
             [
              0.7777777777777778,
              "#fb9f3a"
             ],
             [
              0.8888888888888888,
              "#fdca26"
             ],
             [
              1,
              "#f0f921"
             ]
            ],
            "type": "heatmapgl"
           }
          ],
          "histogram": [
           {
            "marker": {
             "pattern": {
              "fillmode": "overlay",
              "size": 10,
              "solidity": 0.2
             }
            },
            "type": "histogram"
           }
          ],
          "histogram2d": [
           {
            "colorbar": {
             "outlinewidth": 0,
             "ticks": ""
            },
            "colorscale": [
             [
              0,
              "#0d0887"
             ],
             [
              0.1111111111111111,
              "#46039f"
             ],
             [
              0.2222222222222222,
              "#7201a8"
             ],
             [
              0.3333333333333333,
              "#9c179e"
             ],
             [
              0.4444444444444444,
              "#bd3786"
             ],
             [
              0.5555555555555556,
              "#d8576b"
             ],
             [
              0.6666666666666666,
              "#ed7953"
             ],
             [
              0.7777777777777778,
              "#fb9f3a"
             ],
             [
              0.8888888888888888,
              "#fdca26"
             ],
             [
              1,
              "#f0f921"
             ]
            ],
            "type": "histogram2d"
           }
          ],
          "histogram2dcontour": [
           {
            "colorbar": {
             "outlinewidth": 0,
             "ticks": ""
            },
            "colorscale": [
             [
              0,
              "#0d0887"
             ],
             [
              0.1111111111111111,
              "#46039f"
             ],
             [
              0.2222222222222222,
              "#7201a8"
             ],
             [
              0.3333333333333333,
              "#9c179e"
             ],
             [
              0.4444444444444444,
              "#bd3786"
             ],
             [
              0.5555555555555556,
              "#d8576b"
             ],
             [
              0.6666666666666666,
              "#ed7953"
             ],
             [
              0.7777777777777778,
              "#fb9f3a"
             ],
             [
              0.8888888888888888,
              "#fdca26"
             ],
             [
              1,
              "#f0f921"
             ]
            ],
            "type": "histogram2dcontour"
           }
          ],
          "mesh3d": [
           {
            "colorbar": {
             "outlinewidth": 0,
             "ticks": ""
            },
            "type": "mesh3d"
           }
          ],
          "parcoords": [
           {
            "line": {
             "colorbar": {
              "outlinewidth": 0,
              "ticks": ""
             }
            },
            "type": "parcoords"
           }
          ],
          "pie": [
           {
            "automargin": true,
            "type": "pie"
           }
          ],
          "scatter": [
           {
            "marker": {
             "colorbar": {
              "outlinewidth": 0,
              "ticks": ""
             }
            },
            "type": "scatter"
           }
          ],
          "scatter3d": [
           {
            "line": {
             "colorbar": {
              "outlinewidth": 0,
              "ticks": ""
             }
            },
            "marker": {
             "colorbar": {
              "outlinewidth": 0,
              "ticks": ""
             }
            },
            "type": "scatter3d"
           }
          ],
          "scattercarpet": [
           {
            "marker": {
             "colorbar": {
              "outlinewidth": 0,
              "ticks": ""
             }
            },
            "type": "scattercarpet"
           }
          ],
          "scattergeo": [
           {
            "marker": {
             "colorbar": {
              "outlinewidth": 0,
              "ticks": ""
             }
            },
            "type": "scattergeo"
           }
          ],
          "scattergl": [
           {
            "marker": {
             "colorbar": {
              "outlinewidth": 0,
              "ticks": ""
             }
            },
            "type": "scattergl"
           }
          ],
          "scattermapbox": [
           {
            "marker": {
             "colorbar": {
              "outlinewidth": 0,
              "ticks": ""
             }
            },
            "type": "scattermapbox"
           }
          ],
          "scatterpolar": [
           {
            "marker": {
             "colorbar": {
              "outlinewidth": 0,
              "ticks": ""
             }
            },
            "type": "scatterpolar"
           }
          ],
          "scatterpolargl": [
           {
            "marker": {
             "colorbar": {
              "outlinewidth": 0,
              "ticks": ""
             }
            },
            "type": "scatterpolargl"
           }
          ],
          "scatterternary": [
           {
            "marker": {
             "colorbar": {
              "outlinewidth": 0,
              "ticks": ""
             }
            },
            "type": "scatterternary"
           }
          ],
          "surface": [
           {
            "colorbar": {
             "outlinewidth": 0,
             "ticks": ""
            },
            "colorscale": [
             [
              0,
              "#0d0887"
             ],
             [
              0.1111111111111111,
              "#46039f"
             ],
             [
              0.2222222222222222,
              "#7201a8"
             ],
             [
              0.3333333333333333,
              "#9c179e"
             ],
             [
              0.4444444444444444,
              "#bd3786"
             ],
             [
              0.5555555555555556,
              "#d8576b"
             ],
             [
              0.6666666666666666,
              "#ed7953"
             ],
             [
              0.7777777777777778,
              "#fb9f3a"
             ],
             [
              0.8888888888888888,
              "#fdca26"
             ],
             [
              1,
              "#f0f921"
             ]
            ],
            "type": "surface"
           }
          ],
          "table": [
           {
            "cells": {
             "fill": {
              "color": "#EBF0F8"
             },
             "line": {
              "color": "white"
             }
            },
            "header": {
             "fill": {
              "color": "#C8D4E3"
             },
             "line": {
              "color": "white"
             }
            },
            "type": "table"
           }
          ]
         },
         "layout": {
          "annotationdefaults": {
           "arrowcolor": "#2a3f5f",
           "arrowhead": 0,
           "arrowwidth": 1
          },
          "autotypenumbers": "strict",
          "coloraxis": {
           "colorbar": {
            "outlinewidth": 0,
            "ticks": ""
           }
          },
          "colorscale": {
           "diverging": [
            [
             0,
             "#8e0152"
            ],
            [
             0.1,
             "#c51b7d"
            ],
            [
             0.2,
             "#de77ae"
            ],
            [
             0.3,
             "#f1b6da"
            ],
            [
             0.4,
             "#fde0ef"
            ],
            [
             0.5,
             "#f7f7f7"
            ],
            [
             0.6,
             "#e6f5d0"
            ],
            [
             0.7,
             "#b8e186"
            ],
            [
             0.8,
             "#7fbc41"
            ],
            [
             0.9,
             "#4d9221"
            ],
            [
             1,
             "#276419"
            ]
           ],
           "sequential": [
            [
             0,
             "#0d0887"
            ],
            [
             0.1111111111111111,
             "#46039f"
            ],
            [
             0.2222222222222222,
             "#7201a8"
            ],
            [
             0.3333333333333333,
             "#9c179e"
            ],
            [
             0.4444444444444444,
             "#bd3786"
            ],
            [
             0.5555555555555556,
             "#d8576b"
            ],
            [
             0.6666666666666666,
             "#ed7953"
            ],
            [
             0.7777777777777778,
             "#fb9f3a"
            ],
            [
             0.8888888888888888,
             "#fdca26"
            ],
            [
             1,
             "#f0f921"
            ]
           ],
           "sequentialminus": [
            [
             0,
             "#0d0887"
            ],
            [
             0.1111111111111111,
             "#46039f"
            ],
            [
             0.2222222222222222,
             "#7201a8"
            ],
            [
             0.3333333333333333,
             "#9c179e"
            ],
            [
             0.4444444444444444,
             "#bd3786"
            ],
            [
             0.5555555555555556,
             "#d8576b"
            ],
            [
             0.6666666666666666,
             "#ed7953"
            ],
            [
             0.7777777777777778,
             "#fb9f3a"
            ],
            [
             0.8888888888888888,
             "#fdca26"
            ],
            [
             1,
             "#f0f921"
            ]
           ]
          },
          "colorway": [
           "#636efa",
           "#EF553B",
           "#00cc96",
           "#ab63fa",
           "#FFA15A",
           "#19d3f3",
           "#FF6692",
           "#B6E880",
           "#FF97FF",
           "#FECB52"
          ],
          "font": {
           "color": "#2a3f5f"
          },
          "geo": {
           "bgcolor": "white",
           "lakecolor": "white",
           "landcolor": "#E5ECF6",
           "showlakes": true,
           "showland": true,
           "subunitcolor": "white"
          },
          "hoverlabel": {
           "align": "left"
          },
          "hovermode": "closest",
          "mapbox": {
           "style": "light"
          },
          "paper_bgcolor": "white",
          "plot_bgcolor": "#E5ECF6",
          "polar": {
           "angularaxis": {
            "gridcolor": "white",
            "linecolor": "white",
            "ticks": ""
           },
           "bgcolor": "#E5ECF6",
           "radialaxis": {
            "gridcolor": "white",
            "linecolor": "white",
            "ticks": ""
           }
          },
          "scene": {
           "xaxis": {
            "backgroundcolor": "#E5ECF6",
            "gridcolor": "white",
            "gridwidth": 2,
            "linecolor": "white",
            "showbackground": true,
            "ticks": "",
            "zerolinecolor": "white"
           },
           "yaxis": {
            "backgroundcolor": "#E5ECF6",
            "gridcolor": "white",
            "gridwidth": 2,
            "linecolor": "white",
            "showbackground": true,
            "ticks": "",
            "zerolinecolor": "white"
           },
           "zaxis": {
            "backgroundcolor": "#E5ECF6",
            "gridcolor": "white",
            "gridwidth": 2,
            "linecolor": "white",
            "showbackground": true,
            "ticks": "",
            "zerolinecolor": "white"
           }
          },
          "shapedefaults": {
           "line": {
            "color": "#2a3f5f"
           }
          },
          "ternary": {
           "aaxis": {
            "gridcolor": "white",
            "linecolor": "white",
            "ticks": ""
           },
           "baxis": {
            "gridcolor": "white",
            "linecolor": "white",
            "ticks": ""
           },
           "bgcolor": "#E5ECF6",
           "caxis": {
            "gridcolor": "white",
            "linecolor": "white",
            "ticks": ""
           }
          },
          "title": {
           "x": 0.05
          },
          "xaxis": {
           "automargin": true,
           "gridcolor": "white",
           "linecolor": "white",
           "ticks": "",
           "title": {
            "standoff": 15
           },
           "zerolinecolor": "white",
           "zerolinewidth": 2
          },
          "yaxis": {
           "automargin": true,
           "gridcolor": "white",
           "linecolor": "white",
           "ticks": "",
           "title": {
            "standoff": 15
           },
           "zerolinecolor": "white",
           "zerolinewidth": 2
          }
         }
        },
        "width": 800,
        "xaxis": {
         "anchor": "y",
         "domain": [
          0,
          1
         ]
        },
        "xaxis2": {
         "anchor": "y2",
         "domain": [
          0,
          1
         ]
        },
        "yaxis": {
         "anchor": "x",
         "domain": [
          0.625,
          1
         ]
        },
        "yaxis2": {
         "anchor": "x2",
         "domain": [
          0,
          0.375
         ]
        }
       }
      },
      "text/html": [
       "<div>                            <div id=\"22d97d94-11aa-4d34-b429-001b32ff1abd\" class=\"plotly-graph-div\" style=\"height:700px; width:800px;\"></div>            <script type=\"text/javascript\">                require([\"plotly\"], function(Plotly) {                    window.PLOTLYENV=window.PLOTLYENV || {};                                    if (document.getElementById(\"22d97d94-11aa-4d34-b429-001b32ff1abd\")) {                    Plotly.newPlot(                        \"22d97d94-11aa-4d34-b429-001b32ff1abd\",                        [{\"orientation\":\"h\",\"showlegend\":false,\"x\":[6915076,4051843,50196,742005],\"y\":[\"All Levels\",\"Beginner Level\",\"Expert Level\",\"Intermediate Level\"],\"type\":\"bar\",\"xaxis\":\"x\",\"yaxis\":\"y\"},{\"orientation\":\"h\",\"showlegend\":false,\"x\":[1929,1270,58,421],\"y\":[\"All Levels\",\"Beginner Level\",\"Expert Level\",\"Intermediate Level\"],\"type\":\"bar\",\"xaxis\":\"x2\",\"yaxis\":\"y2\"}],                        {\"template\":{\"data\":{\"bar\":[{\"error_x\":{\"color\":\"#2a3f5f\"},\"error_y\":{\"color\":\"#2a3f5f\"},\"marker\":{\"line\":{\"color\":\"#E5ECF6\",\"width\":0.5},\"pattern\":{\"fillmode\":\"overlay\",\"size\":10,\"solidity\":0.2}},\"type\":\"bar\"}],\"barpolar\":[{\"marker\":{\"line\":{\"color\":\"#E5ECF6\",\"width\":0.5},\"pattern\":{\"fillmode\":\"overlay\",\"size\":10,\"solidity\":0.2}},\"type\":\"barpolar\"}],\"carpet\":[{\"aaxis\":{\"endlinecolor\":\"#2a3f5f\",\"gridcolor\":\"white\",\"linecolor\":\"white\",\"minorgridcolor\":\"white\",\"startlinecolor\":\"#2a3f5f\"},\"baxis\":{\"endlinecolor\":\"#2a3f5f\",\"gridcolor\":\"white\",\"linecolor\":\"white\",\"minorgridcolor\":\"white\",\"startlinecolor\":\"#2a3f5f\"},\"type\":\"carpet\"}],\"choropleth\":[{\"colorbar\":{\"outlinewidth\":0,\"ticks\":\"\"},\"type\":\"choropleth\"}],\"contour\":[{\"colorbar\":{\"outlinewidth\":0,\"ticks\":\"\"},\"colorscale\":[[0.0,\"#0d0887\"],[0.1111111111111111,\"#46039f\"],[0.2222222222222222,\"#7201a8\"],[0.3333333333333333,\"#9c179e\"],[0.4444444444444444,\"#bd3786\"],[0.5555555555555556,\"#d8576b\"],[0.6666666666666666,\"#ed7953\"],[0.7777777777777778,\"#fb9f3a\"],[0.8888888888888888,\"#fdca26\"],[1.0,\"#f0f921\"]],\"type\":\"contour\"}],\"contourcarpet\":[{\"colorbar\":{\"outlinewidth\":0,\"ticks\":\"\"},\"type\":\"contourcarpet\"}],\"heatmap\":[{\"colorbar\":{\"outlinewidth\":0,\"ticks\":\"\"},\"colorscale\":[[0.0,\"#0d0887\"],[0.1111111111111111,\"#46039f\"],[0.2222222222222222,\"#7201a8\"],[0.3333333333333333,\"#9c179e\"],[0.4444444444444444,\"#bd3786\"],[0.5555555555555556,\"#d8576b\"],[0.6666666666666666,\"#ed7953\"],[0.7777777777777778,\"#fb9f3a\"],[0.8888888888888888,\"#fdca26\"],[1.0,\"#f0f921\"]],\"type\":\"heatmap\"}],\"heatmapgl\":[{\"colorbar\":{\"outlinewidth\":0,\"ticks\":\"\"},\"colorscale\":[[0.0,\"#0d0887\"],[0.1111111111111111,\"#46039f\"],[0.2222222222222222,\"#7201a8\"],[0.3333333333333333,\"#9c179e\"],[0.4444444444444444,\"#bd3786\"],[0.5555555555555556,\"#d8576b\"],[0.6666666666666666,\"#ed7953\"],[0.7777777777777778,\"#fb9f3a\"],[0.8888888888888888,\"#fdca26\"],[1.0,\"#f0f921\"]],\"type\":\"heatmapgl\"}],\"histogram\":[{\"marker\":{\"pattern\":{\"fillmode\":\"overlay\",\"size\":10,\"solidity\":0.2}},\"type\":\"histogram\"}],\"histogram2d\":[{\"colorbar\":{\"outlinewidth\":0,\"ticks\":\"\"},\"colorscale\":[[0.0,\"#0d0887\"],[0.1111111111111111,\"#46039f\"],[0.2222222222222222,\"#7201a8\"],[0.3333333333333333,\"#9c179e\"],[0.4444444444444444,\"#bd3786\"],[0.5555555555555556,\"#d8576b\"],[0.6666666666666666,\"#ed7953\"],[0.7777777777777778,\"#fb9f3a\"],[0.8888888888888888,\"#fdca26\"],[1.0,\"#f0f921\"]],\"type\":\"histogram2d\"}],\"histogram2dcontour\":[{\"colorbar\":{\"outlinewidth\":0,\"ticks\":\"\"},\"colorscale\":[[0.0,\"#0d0887\"],[0.1111111111111111,\"#46039f\"],[0.2222222222222222,\"#7201a8\"],[0.3333333333333333,\"#9c179e\"],[0.4444444444444444,\"#bd3786\"],[0.5555555555555556,\"#d8576b\"],[0.6666666666666666,\"#ed7953\"],[0.7777777777777778,\"#fb9f3a\"],[0.8888888888888888,\"#fdca26\"],[1.0,\"#f0f921\"]],\"type\":\"histogram2dcontour\"}],\"mesh3d\":[{\"colorbar\":{\"outlinewidth\":0,\"ticks\":\"\"},\"type\":\"mesh3d\"}],\"parcoords\":[{\"line\":{\"colorbar\":{\"outlinewidth\":0,\"ticks\":\"\"}},\"type\":\"parcoords\"}],\"pie\":[{\"automargin\":true,\"type\":\"pie\"}],\"scatter\":[{\"marker\":{\"colorbar\":{\"outlinewidth\":0,\"ticks\":\"\"}},\"type\":\"scatter\"}],\"scatter3d\":[{\"line\":{\"colorbar\":{\"outlinewidth\":0,\"ticks\":\"\"}},\"marker\":{\"colorbar\":{\"outlinewidth\":0,\"ticks\":\"\"}},\"type\":\"scatter3d\"}],\"scattercarpet\":[{\"marker\":{\"colorbar\":{\"outlinewidth\":0,\"ticks\":\"\"}},\"type\":\"scattercarpet\"}],\"scattergeo\":[{\"marker\":{\"colorbar\":{\"outlinewidth\":0,\"ticks\":\"\"}},\"type\":\"scattergeo\"}],\"scattergl\":[{\"marker\":{\"colorbar\":{\"outlinewidth\":0,\"ticks\":\"\"}},\"type\":\"scattergl\"}],\"scattermapbox\":[{\"marker\":{\"colorbar\":{\"outlinewidth\":0,\"ticks\":\"\"}},\"type\":\"scattermapbox\"}],\"scatterpolar\":[{\"marker\":{\"colorbar\":{\"outlinewidth\":0,\"ticks\":\"\"}},\"type\":\"scatterpolar\"}],\"scatterpolargl\":[{\"marker\":{\"colorbar\":{\"outlinewidth\":0,\"ticks\":\"\"}},\"type\":\"scatterpolargl\"}],\"scatterternary\":[{\"marker\":{\"colorbar\":{\"outlinewidth\":0,\"ticks\":\"\"}},\"type\":\"scatterternary\"}],\"surface\":[{\"colorbar\":{\"outlinewidth\":0,\"ticks\":\"\"},\"colorscale\":[[0.0,\"#0d0887\"],[0.1111111111111111,\"#46039f\"],[0.2222222222222222,\"#7201a8\"],[0.3333333333333333,\"#9c179e\"],[0.4444444444444444,\"#bd3786\"],[0.5555555555555556,\"#d8576b\"],[0.6666666666666666,\"#ed7953\"],[0.7777777777777778,\"#fb9f3a\"],[0.8888888888888888,\"#fdca26\"],[1.0,\"#f0f921\"]],\"type\":\"surface\"}],\"table\":[{\"cells\":{\"fill\":{\"color\":\"#EBF0F8\"},\"line\":{\"color\":\"white\"}},\"header\":{\"fill\":{\"color\":\"#C8D4E3\"},\"line\":{\"color\":\"white\"}},\"type\":\"table\"}]},\"layout\":{\"annotationdefaults\":{\"arrowcolor\":\"#2a3f5f\",\"arrowhead\":0,\"arrowwidth\":1},\"autotypenumbers\":\"strict\",\"coloraxis\":{\"colorbar\":{\"outlinewidth\":0,\"ticks\":\"\"}},\"colorscale\":{\"diverging\":[[0,\"#8e0152\"],[0.1,\"#c51b7d\"],[0.2,\"#de77ae\"],[0.3,\"#f1b6da\"],[0.4,\"#fde0ef\"],[0.5,\"#f7f7f7\"],[0.6,\"#e6f5d0\"],[0.7,\"#b8e186\"],[0.8,\"#7fbc41\"],[0.9,\"#4d9221\"],[1,\"#276419\"]],\"sequential\":[[0.0,\"#0d0887\"],[0.1111111111111111,\"#46039f\"],[0.2222222222222222,\"#7201a8\"],[0.3333333333333333,\"#9c179e\"],[0.4444444444444444,\"#bd3786\"],[0.5555555555555556,\"#d8576b\"],[0.6666666666666666,\"#ed7953\"],[0.7777777777777778,\"#fb9f3a\"],[0.8888888888888888,\"#fdca26\"],[1.0,\"#f0f921\"]],\"sequentialminus\":[[0.0,\"#0d0887\"],[0.1111111111111111,\"#46039f\"],[0.2222222222222222,\"#7201a8\"],[0.3333333333333333,\"#9c179e\"],[0.4444444444444444,\"#bd3786\"],[0.5555555555555556,\"#d8576b\"],[0.6666666666666666,\"#ed7953\"],[0.7777777777777778,\"#fb9f3a\"],[0.8888888888888888,\"#fdca26\"],[1.0,\"#f0f921\"]]},\"colorway\":[\"#636efa\",\"#EF553B\",\"#00cc96\",\"#ab63fa\",\"#FFA15A\",\"#19d3f3\",\"#FF6692\",\"#B6E880\",\"#FF97FF\",\"#FECB52\"],\"font\":{\"color\":\"#2a3f5f\"},\"geo\":{\"bgcolor\":\"white\",\"lakecolor\":\"white\",\"landcolor\":\"#E5ECF6\",\"showlakes\":true,\"showland\":true,\"subunitcolor\":\"white\"},\"hoverlabel\":{\"align\":\"left\"},\"hovermode\":\"closest\",\"mapbox\":{\"style\":\"light\"},\"paper_bgcolor\":\"white\",\"plot_bgcolor\":\"#E5ECF6\",\"polar\":{\"angularaxis\":{\"gridcolor\":\"white\",\"linecolor\":\"white\",\"ticks\":\"\"},\"bgcolor\":\"#E5ECF6\",\"radialaxis\":{\"gridcolor\":\"white\",\"linecolor\":\"white\",\"ticks\":\"\"}},\"scene\":{\"xaxis\":{\"backgroundcolor\":\"#E5ECF6\",\"gridcolor\":\"white\",\"gridwidth\":2,\"linecolor\":\"white\",\"showbackground\":true,\"ticks\":\"\",\"zerolinecolor\":\"white\"},\"yaxis\":{\"backgroundcolor\":\"#E5ECF6\",\"gridcolor\":\"white\",\"gridwidth\":2,\"linecolor\":\"white\",\"showbackground\":true,\"ticks\":\"\",\"zerolinecolor\":\"white\"},\"zaxis\":{\"backgroundcolor\":\"#E5ECF6\",\"gridcolor\":\"white\",\"gridwidth\":2,\"linecolor\":\"white\",\"showbackground\":true,\"ticks\":\"\",\"zerolinecolor\":\"white\"}},\"shapedefaults\":{\"line\":{\"color\":\"#2a3f5f\"}},\"ternary\":{\"aaxis\":{\"gridcolor\":\"white\",\"linecolor\":\"white\",\"ticks\":\"\"},\"baxis\":{\"gridcolor\":\"white\",\"linecolor\":\"white\",\"ticks\":\"\"},\"bgcolor\":\"#E5ECF6\",\"caxis\":{\"gridcolor\":\"white\",\"linecolor\":\"white\",\"ticks\":\"\"}},\"title\":{\"x\":0.05},\"xaxis\":{\"automargin\":true,\"gridcolor\":\"white\",\"linecolor\":\"white\",\"ticks\":\"\",\"title\":{\"standoff\":15},\"zerolinecolor\":\"white\",\"zerolinewidth\":2},\"yaxis\":{\"automargin\":true,\"gridcolor\":\"white\",\"linecolor\":\"white\",\"ticks\":\"\",\"title\":{\"standoff\":15},\"zerolinecolor\":\"white\",\"zerolinewidth\":2}}},\"xaxis\":{\"anchor\":\"y\",\"domain\":[0.0,1.0]},\"yaxis\":{\"anchor\":\"x\",\"domain\":[0.625,1.0]},\"xaxis2\":{\"anchor\":\"y2\",\"domain\":[0.0,1.0]},\"yaxis2\":{\"anchor\":\"x2\",\"domain\":[0.0,0.375]},\"annotations\":[{\"font\":{\"size\":16},\"showarrow\":false,\"text\":\"Levels v Subscribers\",\"x\":0.5,\"xanchor\":\"center\",\"xref\":\"paper\",\"y\":1.0,\"yanchor\":\"bottom\",\"yref\":\"paper\"},{\"font\":{\"size\":16},\"showarrow\":false,\"text\":\"Levels v Number of Courses\",\"x\":0.5,\"xanchor\":\"center\",\"xref\":\"paper\",\"y\":0.375,\"yanchor\":\"bottom\",\"yref\":\"paper\"}],\"height\":700,\"width\":800},                        {\"responsive\": true}                    ).then(function(){\n",
       "                            \n",
       "var gd = document.getElementById('22d97d94-11aa-4d34-b429-001b32ff1abd');\n",
       "var x = new MutationObserver(function (mutations, observer) {{\n",
       "        var display = window.getComputedStyle(gd).display;\n",
       "        if (!display || display === 'none') {{\n",
       "            console.log([gd, 'removed!']);\n",
       "            Plotly.purge(gd);\n",
       "            observer.disconnect();\n",
       "        }}\n",
       "}});\n",
       "\n",
       "// Listen for the removal of the full notebook cells\n",
       "var notebookContainer = gd.closest('#notebook-container');\n",
       "if (notebookContainer) {{\n",
       "    x.observe(notebookContainer, {childList: true});\n",
       "}}\n",
       "\n",
       "// Listen for the clearing of the current output cell\n",
       "var outputEl = gd.closest('.output');\n",
       "if (outputEl) {{\n",
       "    x.observe(outputEl, {childList: true});\n",
       "}}\n",
       "\n",
       "                        })                };                });            </script>        </div>"
      ]
     },
     "metadata": {},
     "output_type": "display_data"
    }
   ],
   "source": [
    "df_level = df[['level', 'num_subscribers', 'course_title']]\n",
    "subs_level = df_level.groupby('level').sum().reset_index()\n",
    "course_level = df_level.groupby('level').count().reset_index()\n",
    "\n",
    "fig = make_subplots(rows=2 ,cols=1, subplot_titles=('Levels v Subscribers', 'Levels v Number of Courses'))\n",
    "fig.append_trace(go.Bar(x=subs_level['num_subscribers'], y=subs_level['level'],\n",
    "                       orientation='h', \n",
    "                       showlegend=False), row=1, col=1)\n",
    "fig.append_trace(go.Bar(x=course_level['course_title'], y=course_level['level'],\n",
    "                       orientation='h', \n",
    "                       showlegend=False), row=2, col=1)\n",
    "fig['layout'].update(height=700, width=800)\n",
    "fig.show()"
   ]
  },
  {
   "cell_type": "markdown",
   "metadata": {},
   "source": [
    "Most of the courses are open for All level, then followed by Beginner Levels, Intermediate Level, and finally Expert Level "
   ]
  },
  {
   "cell_type": "code",
   "execution_count": 50,
   "metadata": {},
   "outputs": [],
   "source": [
    "norm_level = pd.DataFrame(subs_level['num_subscribers']/course_level['course_title'])\n",
    "norm_level = pd.concat([subs_level['level'], norm_level], axis=1)\n",
    "norm_level.columns = ['level', 'subs per course']"
   ]
  },
  {
   "cell_type": "code",
   "execution_count": 34,
   "metadata": {},
   "outputs": [
    {
     "data": {
      "application/vnd.plotly.v1+json": {
       "config": {
        "plotlyServerURL": "https://plot.ly"
       },
       "data": [
        {
         "alignmentgroup": "True",
         "hovertemplate": "level=%{y}<br>subs per course=%{x}<extra></extra>",
         "legendgroup": "All Levels",
         "marker": {
          "color": "#636efa",
          "pattern": {
           "shape": ""
          }
         },
         "name": "All Levels",
         "offsetgroup": "All Levels",
         "orientation": "h",
         "showlegend": true,
         "textposition": "auto",
         "type": "bar",
         "x": [
          3584.7983411093833
         ],
         "xaxis": "x",
         "y": [
          "All Levels"
         ],
         "yaxis": "y"
        },
        {
         "alignmentgroup": "True",
         "hovertemplate": "level=%{y}<br>subs per course=%{x}<extra></extra>",
         "legendgroup": "Beginner Level",
         "marker": {
          "color": "#EF553B",
          "pattern": {
           "shape": ""
          }
         },
         "name": "Beginner Level",
         "offsetgroup": "Beginner Level",
         "orientation": "h",
         "showlegend": true,
         "textposition": "auto",
         "type": "bar",
         "x": [
          3190.4275590551183
         ],
         "xaxis": "x",
         "y": [
          "Beginner Level"
         ],
         "yaxis": "y"
        },
        {
         "alignmentgroup": "True",
         "hovertemplate": "level=%{y}<br>subs per course=%{x}<extra></extra>",
         "legendgroup": "Expert Level",
         "marker": {
          "color": "#00cc96",
          "pattern": {
           "shape": ""
          }
         },
         "name": "Expert Level",
         "offsetgroup": "Expert Level",
         "orientation": "h",
         "showlegend": true,
         "textposition": "auto",
         "type": "bar",
         "x": [
          865.448275862069
         ],
         "xaxis": "x",
         "y": [
          "Expert Level"
         ],
         "yaxis": "y"
        },
        {
         "alignmentgroup": "True",
         "hovertemplate": "level=%{y}<br>subs per course=%{x}<extra></extra>",
         "legendgroup": "Intermediate Level",
         "marker": {
          "color": "#ab63fa",
          "pattern": {
           "shape": ""
          }
         },
         "name": "Intermediate Level",
         "offsetgroup": "Intermediate Level",
         "orientation": "h",
         "showlegend": true,
         "textposition": "auto",
         "type": "bar",
         "x": [
          1762.482185273159
         ],
         "xaxis": "x",
         "y": [
          "Intermediate Level"
         ],
         "yaxis": "y"
        }
       ],
       "layout": {
        "barmode": "relative",
        "legend": {
         "title": {
          "text": "level"
         },
         "tracegroupgap": 0
        },
        "template": {
         "data": {
          "bar": [
           {
            "error_x": {
             "color": "#2a3f5f"
            },
            "error_y": {
             "color": "#2a3f5f"
            },
            "marker": {
             "line": {
              "color": "#E5ECF6",
              "width": 0.5
             },
             "pattern": {
              "fillmode": "overlay",
              "size": 10,
              "solidity": 0.2
             }
            },
            "type": "bar"
           }
          ],
          "barpolar": [
           {
            "marker": {
             "line": {
              "color": "#E5ECF6",
              "width": 0.5
             },
             "pattern": {
              "fillmode": "overlay",
              "size": 10,
              "solidity": 0.2
             }
            },
            "type": "barpolar"
           }
          ],
          "carpet": [
           {
            "aaxis": {
             "endlinecolor": "#2a3f5f",
             "gridcolor": "white",
             "linecolor": "white",
             "minorgridcolor": "white",
             "startlinecolor": "#2a3f5f"
            },
            "baxis": {
             "endlinecolor": "#2a3f5f",
             "gridcolor": "white",
             "linecolor": "white",
             "minorgridcolor": "white",
             "startlinecolor": "#2a3f5f"
            },
            "type": "carpet"
           }
          ],
          "choropleth": [
           {
            "colorbar": {
             "outlinewidth": 0,
             "ticks": ""
            },
            "type": "choropleth"
           }
          ],
          "contour": [
           {
            "colorbar": {
             "outlinewidth": 0,
             "ticks": ""
            },
            "colorscale": [
             [
              0,
              "#0d0887"
             ],
             [
              0.1111111111111111,
              "#46039f"
             ],
             [
              0.2222222222222222,
              "#7201a8"
             ],
             [
              0.3333333333333333,
              "#9c179e"
             ],
             [
              0.4444444444444444,
              "#bd3786"
             ],
             [
              0.5555555555555556,
              "#d8576b"
             ],
             [
              0.6666666666666666,
              "#ed7953"
             ],
             [
              0.7777777777777778,
              "#fb9f3a"
             ],
             [
              0.8888888888888888,
              "#fdca26"
             ],
             [
              1,
              "#f0f921"
             ]
            ],
            "type": "contour"
           }
          ],
          "contourcarpet": [
           {
            "colorbar": {
             "outlinewidth": 0,
             "ticks": ""
            },
            "type": "contourcarpet"
           }
          ],
          "heatmap": [
           {
            "colorbar": {
             "outlinewidth": 0,
             "ticks": ""
            },
            "colorscale": [
             [
              0,
              "#0d0887"
             ],
             [
              0.1111111111111111,
              "#46039f"
             ],
             [
              0.2222222222222222,
              "#7201a8"
             ],
             [
              0.3333333333333333,
              "#9c179e"
             ],
             [
              0.4444444444444444,
              "#bd3786"
             ],
             [
              0.5555555555555556,
              "#d8576b"
             ],
             [
              0.6666666666666666,
              "#ed7953"
             ],
             [
              0.7777777777777778,
              "#fb9f3a"
             ],
             [
              0.8888888888888888,
              "#fdca26"
             ],
             [
              1,
              "#f0f921"
             ]
            ],
            "type": "heatmap"
           }
          ],
          "heatmapgl": [
           {
            "colorbar": {
             "outlinewidth": 0,
             "ticks": ""
            },
            "colorscale": [
             [
              0,
              "#0d0887"
             ],
             [
              0.1111111111111111,
              "#46039f"
             ],
             [
              0.2222222222222222,
              "#7201a8"
             ],
             [
              0.3333333333333333,
              "#9c179e"
             ],
             [
              0.4444444444444444,
              "#bd3786"
             ],
             [
              0.5555555555555556,
              "#d8576b"
             ],
             [
              0.6666666666666666,
              "#ed7953"
             ],
             [
              0.7777777777777778,
              "#fb9f3a"
             ],
             [
              0.8888888888888888,
              "#fdca26"
             ],
             [
              1,
              "#f0f921"
             ]
            ],
            "type": "heatmapgl"
           }
          ],
          "histogram": [
           {
            "marker": {
             "pattern": {
              "fillmode": "overlay",
              "size": 10,
              "solidity": 0.2
             }
            },
            "type": "histogram"
           }
          ],
          "histogram2d": [
           {
            "colorbar": {
             "outlinewidth": 0,
             "ticks": ""
            },
            "colorscale": [
             [
              0,
              "#0d0887"
             ],
             [
              0.1111111111111111,
              "#46039f"
             ],
             [
              0.2222222222222222,
              "#7201a8"
             ],
             [
              0.3333333333333333,
              "#9c179e"
             ],
             [
              0.4444444444444444,
              "#bd3786"
             ],
             [
              0.5555555555555556,
              "#d8576b"
             ],
             [
              0.6666666666666666,
              "#ed7953"
             ],
             [
              0.7777777777777778,
              "#fb9f3a"
             ],
             [
              0.8888888888888888,
              "#fdca26"
             ],
             [
              1,
              "#f0f921"
             ]
            ],
            "type": "histogram2d"
           }
          ],
          "histogram2dcontour": [
           {
            "colorbar": {
             "outlinewidth": 0,
             "ticks": ""
            },
            "colorscale": [
             [
              0,
              "#0d0887"
             ],
             [
              0.1111111111111111,
              "#46039f"
             ],
             [
              0.2222222222222222,
              "#7201a8"
             ],
             [
              0.3333333333333333,
              "#9c179e"
             ],
             [
              0.4444444444444444,
              "#bd3786"
             ],
             [
              0.5555555555555556,
              "#d8576b"
             ],
             [
              0.6666666666666666,
              "#ed7953"
             ],
             [
              0.7777777777777778,
              "#fb9f3a"
             ],
             [
              0.8888888888888888,
              "#fdca26"
             ],
             [
              1,
              "#f0f921"
             ]
            ],
            "type": "histogram2dcontour"
           }
          ],
          "mesh3d": [
           {
            "colorbar": {
             "outlinewidth": 0,
             "ticks": ""
            },
            "type": "mesh3d"
           }
          ],
          "parcoords": [
           {
            "line": {
             "colorbar": {
              "outlinewidth": 0,
              "ticks": ""
             }
            },
            "type": "parcoords"
           }
          ],
          "pie": [
           {
            "automargin": true,
            "type": "pie"
           }
          ],
          "scatter": [
           {
            "marker": {
             "colorbar": {
              "outlinewidth": 0,
              "ticks": ""
             }
            },
            "type": "scatter"
           }
          ],
          "scatter3d": [
           {
            "line": {
             "colorbar": {
              "outlinewidth": 0,
              "ticks": ""
             }
            },
            "marker": {
             "colorbar": {
              "outlinewidth": 0,
              "ticks": ""
             }
            },
            "type": "scatter3d"
           }
          ],
          "scattercarpet": [
           {
            "marker": {
             "colorbar": {
              "outlinewidth": 0,
              "ticks": ""
             }
            },
            "type": "scattercarpet"
           }
          ],
          "scattergeo": [
           {
            "marker": {
             "colorbar": {
              "outlinewidth": 0,
              "ticks": ""
             }
            },
            "type": "scattergeo"
           }
          ],
          "scattergl": [
           {
            "marker": {
             "colorbar": {
              "outlinewidth": 0,
              "ticks": ""
             }
            },
            "type": "scattergl"
           }
          ],
          "scattermapbox": [
           {
            "marker": {
             "colorbar": {
              "outlinewidth": 0,
              "ticks": ""
             }
            },
            "type": "scattermapbox"
           }
          ],
          "scatterpolar": [
           {
            "marker": {
             "colorbar": {
              "outlinewidth": 0,
              "ticks": ""
             }
            },
            "type": "scatterpolar"
           }
          ],
          "scatterpolargl": [
           {
            "marker": {
             "colorbar": {
              "outlinewidth": 0,
              "ticks": ""
             }
            },
            "type": "scatterpolargl"
           }
          ],
          "scatterternary": [
           {
            "marker": {
             "colorbar": {
              "outlinewidth": 0,
              "ticks": ""
             }
            },
            "type": "scatterternary"
           }
          ],
          "surface": [
           {
            "colorbar": {
             "outlinewidth": 0,
             "ticks": ""
            },
            "colorscale": [
             [
              0,
              "#0d0887"
             ],
             [
              0.1111111111111111,
              "#46039f"
             ],
             [
              0.2222222222222222,
              "#7201a8"
             ],
             [
              0.3333333333333333,
              "#9c179e"
             ],
             [
              0.4444444444444444,
              "#bd3786"
             ],
             [
              0.5555555555555556,
              "#d8576b"
             ],
             [
              0.6666666666666666,
              "#ed7953"
             ],
             [
              0.7777777777777778,
              "#fb9f3a"
             ],
             [
              0.8888888888888888,
              "#fdca26"
             ],
             [
              1,
              "#f0f921"
             ]
            ],
            "type": "surface"
           }
          ],
          "table": [
           {
            "cells": {
             "fill": {
              "color": "#EBF0F8"
             },
             "line": {
              "color": "white"
             }
            },
            "header": {
             "fill": {
              "color": "#C8D4E3"
             },
             "line": {
              "color": "white"
             }
            },
            "type": "table"
           }
          ]
         },
         "layout": {
          "annotationdefaults": {
           "arrowcolor": "#2a3f5f",
           "arrowhead": 0,
           "arrowwidth": 1
          },
          "autotypenumbers": "strict",
          "coloraxis": {
           "colorbar": {
            "outlinewidth": 0,
            "ticks": ""
           }
          },
          "colorscale": {
           "diverging": [
            [
             0,
             "#8e0152"
            ],
            [
             0.1,
             "#c51b7d"
            ],
            [
             0.2,
             "#de77ae"
            ],
            [
             0.3,
             "#f1b6da"
            ],
            [
             0.4,
             "#fde0ef"
            ],
            [
             0.5,
             "#f7f7f7"
            ],
            [
             0.6,
             "#e6f5d0"
            ],
            [
             0.7,
             "#b8e186"
            ],
            [
             0.8,
             "#7fbc41"
            ],
            [
             0.9,
             "#4d9221"
            ],
            [
             1,
             "#276419"
            ]
           ],
           "sequential": [
            [
             0,
             "#0d0887"
            ],
            [
             0.1111111111111111,
             "#46039f"
            ],
            [
             0.2222222222222222,
             "#7201a8"
            ],
            [
             0.3333333333333333,
             "#9c179e"
            ],
            [
             0.4444444444444444,
             "#bd3786"
            ],
            [
             0.5555555555555556,
             "#d8576b"
            ],
            [
             0.6666666666666666,
             "#ed7953"
            ],
            [
             0.7777777777777778,
             "#fb9f3a"
            ],
            [
             0.8888888888888888,
             "#fdca26"
            ],
            [
             1,
             "#f0f921"
            ]
           ],
           "sequentialminus": [
            [
             0,
             "#0d0887"
            ],
            [
             0.1111111111111111,
             "#46039f"
            ],
            [
             0.2222222222222222,
             "#7201a8"
            ],
            [
             0.3333333333333333,
             "#9c179e"
            ],
            [
             0.4444444444444444,
             "#bd3786"
            ],
            [
             0.5555555555555556,
             "#d8576b"
            ],
            [
             0.6666666666666666,
             "#ed7953"
            ],
            [
             0.7777777777777778,
             "#fb9f3a"
            ],
            [
             0.8888888888888888,
             "#fdca26"
            ],
            [
             1,
             "#f0f921"
            ]
           ]
          },
          "colorway": [
           "#636efa",
           "#EF553B",
           "#00cc96",
           "#ab63fa",
           "#FFA15A",
           "#19d3f3",
           "#FF6692",
           "#B6E880",
           "#FF97FF",
           "#FECB52"
          ],
          "font": {
           "color": "#2a3f5f"
          },
          "geo": {
           "bgcolor": "white",
           "lakecolor": "white",
           "landcolor": "#E5ECF6",
           "showlakes": true,
           "showland": true,
           "subunitcolor": "white"
          },
          "hoverlabel": {
           "align": "left"
          },
          "hovermode": "closest",
          "mapbox": {
           "style": "light"
          },
          "paper_bgcolor": "white",
          "plot_bgcolor": "#E5ECF6",
          "polar": {
           "angularaxis": {
            "gridcolor": "white",
            "linecolor": "white",
            "ticks": ""
           },
           "bgcolor": "#E5ECF6",
           "radialaxis": {
            "gridcolor": "white",
            "linecolor": "white",
            "ticks": ""
           }
          },
          "scene": {
           "xaxis": {
            "backgroundcolor": "#E5ECF6",
            "gridcolor": "white",
            "gridwidth": 2,
            "linecolor": "white",
            "showbackground": true,
            "ticks": "",
            "zerolinecolor": "white"
           },
           "yaxis": {
            "backgroundcolor": "#E5ECF6",
            "gridcolor": "white",
            "gridwidth": 2,
            "linecolor": "white",
            "showbackground": true,
            "ticks": "",
            "zerolinecolor": "white"
           },
           "zaxis": {
            "backgroundcolor": "#E5ECF6",
            "gridcolor": "white",
            "gridwidth": 2,
            "linecolor": "white",
            "showbackground": true,
            "ticks": "",
            "zerolinecolor": "white"
           }
          },
          "shapedefaults": {
           "line": {
            "color": "#2a3f5f"
           }
          },
          "ternary": {
           "aaxis": {
            "gridcolor": "white",
            "linecolor": "white",
            "ticks": ""
           },
           "baxis": {
            "gridcolor": "white",
            "linecolor": "white",
            "ticks": ""
           },
           "bgcolor": "#E5ECF6",
           "caxis": {
            "gridcolor": "white",
            "linecolor": "white",
            "ticks": ""
           }
          },
          "title": {
           "x": 0.05
          },
          "xaxis": {
           "automargin": true,
           "gridcolor": "white",
           "linecolor": "white",
           "ticks": "",
           "title": {
            "standoff": 15
           },
           "zerolinecolor": "white",
           "zerolinewidth": 2
          },
          "yaxis": {
           "automargin": true,
           "gridcolor": "white",
           "linecolor": "white",
           "ticks": "",
           "title": {
            "standoff": 15
           },
           "zerolinecolor": "white",
           "zerolinewidth": 2
          }
         }
        },
        "title": {
         "text": "Subs per Course v Level"
        },
        "xaxis": {
         "anchor": "y",
         "domain": [
          0,
          1
         ],
         "title": {
          "text": "subs per course"
         }
        },
        "yaxis": {
         "anchor": "x",
         "categoryarray": [
          "Intermediate Level",
          "Expert Level",
          "Beginner Level",
          "All Levels"
         ],
         "categoryorder": "array",
         "domain": [
          0,
          1
         ],
         "title": {
          "text": "level"
         }
        }
       }
      },
      "text/html": [
       "<div>                            <div id=\"c7617a51-c768-45f7-a9e2-a1922c05ce7e\" class=\"plotly-graph-div\" style=\"height:525px; width:100%;\"></div>            <script type=\"text/javascript\">                require([\"plotly\"], function(Plotly) {                    window.PLOTLYENV=window.PLOTLYENV || {};                                    if (document.getElementById(\"c7617a51-c768-45f7-a9e2-a1922c05ce7e\")) {                    Plotly.newPlot(                        \"c7617a51-c768-45f7-a9e2-a1922c05ce7e\",                        [{\"alignmentgroup\":\"True\",\"hovertemplate\":\"level=%{y}<br>subs per course=%{x}<extra></extra>\",\"legendgroup\":\"All Levels\",\"marker\":{\"color\":\"#636efa\",\"pattern\":{\"shape\":\"\"}},\"name\":\"All Levels\",\"offsetgroup\":\"All Levels\",\"orientation\":\"h\",\"showlegend\":true,\"textposition\":\"auto\",\"x\":[3584.7983411093833],\"xaxis\":\"x\",\"y\":[\"All Levels\"],\"yaxis\":\"y\",\"type\":\"bar\"},{\"alignmentgroup\":\"True\",\"hovertemplate\":\"level=%{y}<br>subs per course=%{x}<extra></extra>\",\"legendgroup\":\"Beginner Level\",\"marker\":{\"color\":\"#EF553B\",\"pattern\":{\"shape\":\"\"}},\"name\":\"Beginner Level\",\"offsetgroup\":\"Beginner Level\",\"orientation\":\"h\",\"showlegend\":true,\"textposition\":\"auto\",\"x\":[3190.4275590551183],\"xaxis\":\"x\",\"y\":[\"Beginner Level\"],\"yaxis\":\"y\",\"type\":\"bar\"},{\"alignmentgroup\":\"True\",\"hovertemplate\":\"level=%{y}<br>subs per course=%{x}<extra></extra>\",\"legendgroup\":\"Expert Level\",\"marker\":{\"color\":\"#00cc96\",\"pattern\":{\"shape\":\"\"}},\"name\":\"Expert Level\",\"offsetgroup\":\"Expert Level\",\"orientation\":\"h\",\"showlegend\":true,\"textposition\":\"auto\",\"x\":[865.448275862069],\"xaxis\":\"x\",\"y\":[\"Expert Level\"],\"yaxis\":\"y\",\"type\":\"bar\"},{\"alignmentgroup\":\"True\",\"hovertemplate\":\"level=%{y}<br>subs per course=%{x}<extra></extra>\",\"legendgroup\":\"Intermediate Level\",\"marker\":{\"color\":\"#ab63fa\",\"pattern\":{\"shape\":\"\"}},\"name\":\"Intermediate Level\",\"offsetgroup\":\"Intermediate Level\",\"orientation\":\"h\",\"showlegend\":true,\"textposition\":\"auto\",\"x\":[1762.482185273159],\"xaxis\":\"x\",\"y\":[\"Intermediate Level\"],\"yaxis\":\"y\",\"type\":\"bar\"}],                        {\"template\":{\"data\":{\"bar\":[{\"error_x\":{\"color\":\"#2a3f5f\"},\"error_y\":{\"color\":\"#2a3f5f\"},\"marker\":{\"line\":{\"color\":\"#E5ECF6\",\"width\":0.5},\"pattern\":{\"fillmode\":\"overlay\",\"size\":10,\"solidity\":0.2}},\"type\":\"bar\"}],\"barpolar\":[{\"marker\":{\"line\":{\"color\":\"#E5ECF6\",\"width\":0.5},\"pattern\":{\"fillmode\":\"overlay\",\"size\":10,\"solidity\":0.2}},\"type\":\"barpolar\"}],\"carpet\":[{\"aaxis\":{\"endlinecolor\":\"#2a3f5f\",\"gridcolor\":\"white\",\"linecolor\":\"white\",\"minorgridcolor\":\"white\",\"startlinecolor\":\"#2a3f5f\"},\"baxis\":{\"endlinecolor\":\"#2a3f5f\",\"gridcolor\":\"white\",\"linecolor\":\"white\",\"minorgridcolor\":\"white\",\"startlinecolor\":\"#2a3f5f\"},\"type\":\"carpet\"}],\"choropleth\":[{\"colorbar\":{\"outlinewidth\":0,\"ticks\":\"\"},\"type\":\"choropleth\"}],\"contour\":[{\"colorbar\":{\"outlinewidth\":0,\"ticks\":\"\"},\"colorscale\":[[0.0,\"#0d0887\"],[0.1111111111111111,\"#46039f\"],[0.2222222222222222,\"#7201a8\"],[0.3333333333333333,\"#9c179e\"],[0.4444444444444444,\"#bd3786\"],[0.5555555555555556,\"#d8576b\"],[0.6666666666666666,\"#ed7953\"],[0.7777777777777778,\"#fb9f3a\"],[0.8888888888888888,\"#fdca26\"],[1.0,\"#f0f921\"]],\"type\":\"contour\"}],\"contourcarpet\":[{\"colorbar\":{\"outlinewidth\":0,\"ticks\":\"\"},\"type\":\"contourcarpet\"}],\"heatmap\":[{\"colorbar\":{\"outlinewidth\":0,\"ticks\":\"\"},\"colorscale\":[[0.0,\"#0d0887\"],[0.1111111111111111,\"#46039f\"],[0.2222222222222222,\"#7201a8\"],[0.3333333333333333,\"#9c179e\"],[0.4444444444444444,\"#bd3786\"],[0.5555555555555556,\"#d8576b\"],[0.6666666666666666,\"#ed7953\"],[0.7777777777777778,\"#fb9f3a\"],[0.8888888888888888,\"#fdca26\"],[1.0,\"#f0f921\"]],\"type\":\"heatmap\"}],\"heatmapgl\":[{\"colorbar\":{\"outlinewidth\":0,\"ticks\":\"\"},\"colorscale\":[[0.0,\"#0d0887\"],[0.1111111111111111,\"#46039f\"],[0.2222222222222222,\"#7201a8\"],[0.3333333333333333,\"#9c179e\"],[0.4444444444444444,\"#bd3786\"],[0.5555555555555556,\"#d8576b\"],[0.6666666666666666,\"#ed7953\"],[0.7777777777777778,\"#fb9f3a\"],[0.8888888888888888,\"#fdca26\"],[1.0,\"#f0f921\"]],\"type\":\"heatmapgl\"}],\"histogram\":[{\"marker\":{\"pattern\":{\"fillmode\":\"overlay\",\"size\":10,\"solidity\":0.2}},\"type\":\"histogram\"}],\"histogram2d\":[{\"colorbar\":{\"outlinewidth\":0,\"ticks\":\"\"},\"colorscale\":[[0.0,\"#0d0887\"],[0.1111111111111111,\"#46039f\"],[0.2222222222222222,\"#7201a8\"],[0.3333333333333333,\"#9c179e\"],[0.4444444444444444,\"#bd3786\"],[0.5555555555555556,\"#d8576b\"],[0.6666666666666666,\"#ed7953\"],[0.7777777777777778,\"#fb9f3a\"],[0.8888888888888888,\"#fdca26\"],[1.0,\"#f0f921\"]],\"type\":\"histogram2d\"}],\"histogram2dcontour\":[{\"colorbar\":{\"outlinewidth\":0,\"ticks\":\"\"},\"colorscale\":[[0.0,\"#0d0887\"],[0.1111111111111111,\"#46039f\"],[0.2222222222222222,\"#7201a8\"],[0.3333333333333333,\"#9c179e\"],[0.4444444444444444,\"#bd3786\"],[0.5555555555555556,\"#d8576b\"],[0.6666666666666666,\"#ed7953\"],[0.7777777777777778,\"#fb9f3a\"],[0.8888888888888888,\"#fdca26\"],[1.0,\"#f0f921\"]],\"type\":\"histogram2dcontour\"}],\"mesh3d\":[{\"colorbar\":{\"outlinewidth\":0,\"ticks\":\"\"},\"type\":\"mesh3d\"}],\"parcoords\":[{\"line\":{\"colorbar\":{\"outlinewidth\":0,\"ticks\":\"\"}},\"type\":\"parcoords\"}],\"pie\":[{\"automargin\":true,\"type\":\"pie\"}],\"scatter\":[{\"marker\":{\"colorbar\":{\"outlinewidth\":0,\"ticks\":\"\"}},\"type\":\"scatter\"}],\"scatter3d\":[{\"line\":{\"colorbar\":{\"outlinewidth\":0,\"ticks\":\"\"}},\"marker\":{\"colorbar\":{\"outlinewidth\":0,\"ticks\":\"\"}},\"type\":\"scatter3d\"}],\"scattercarpet\":[{\"marker\":{\"colorbar\":{\"outlinewidth\":0,\"ticks\":\"\"}},\"type\":\"scattercarpet\"}],\"scattergeo\":[{\"marker\":{\"colorbar\":{\"outlinewidth\":0,\"ticks\":\"\"}},\"type\":\"scattergeo\"}],\"scattergl\":[{\"marker\":{\"colorbar\":{\"outlinewidth\":0,\"ticks\":\"\"}},\"type\":\"scattergl\"}],\"scattermapbox\":[{\"marker\":{\"colorbar\":{\"outlinewidth\":0,\"ticks\":\"\"}},\"type\":\"scattermapbox\"}],\"scatterpolar\":[{\"marker\":{\"colorbar\":{\"outlinewidth\":0,\"ticks\":\"\"}},\"type\":\"scatterpolar\"}],\"scatterpolargl\":[{\"marker\":{\"colorbar\":{\"outlinewidth\":0,\"ticks\":\"\"}},\"type\":\"scatterpolargl\"}],\"scatterternary\":[{\"marker\":{\"colorbar\":{\"outlinewidth\":0,\"ticks\":\"\"}},\"type\":\"scatterternary\"}],\"surface\":[{\"colorbar\":{\"outlinewidth\":0,\"ticks\":\"\"},\"colorscale\":[[0.0,\"#0d0887\"],[0.1111111111111111,\"#46039f\"],[0.2222222222222222,\"#7201a8\"],[0.3333333333333333,\"#9c179e\"],[0.4444444444444444,\"#bd3786\"],[0.5555555555555556,\"#d8576b\"],[0.6666666666666666,\"#ed7953\"],[0.7777777777777778,\"#fb9f3a\"],[0.8888888888888888,\"#fdca26\"],[1.0,\"#f0f921\"]],\"type\":\"surface\"}],\"table\":[{\"cells\":{\"fill\":{\"color\":\"#EBF0F8\"},\"line\":{\"color\":\"white\"}},\"header\":{\"fill\":{\"color\":\"#C8D4E3\"},\"line\":{\"color\":\"white\"}},\"type\":\"table\"}]},\"layout\":{\"annotationdefaults\":{\"arrowcolor\":\"#2a3f5f\",\"arrowhead\":0,\"arrowwidth\":1},\"autotypenumbers\":\"strict\",\"coloraxis\":{\"colorbar\":{\"outlinewidth\":0,\"ticks\":\"\"}},\"colorscale\":{\"diverging\":[[0,\"#8e0152\"],[0.1,\"#c51b7d\"],[0.2,\"#de77ae\"],[0.3,\"#f1b6da\"],[0.4,\"#fde0ef\"],[0.5,\"#f7f7f7\"],[0.6,\"#e6f5d0\"],[0.7,\"#b8e186\"],[0.8,\"#7fbc41\"],[0.9,\"#4d9221\"],[1,\"#276419\"]],\"sequential\":[[0.0,\"#0d0887\"],[0.1111111111111111,\"#46039f\"],[0.2222222222222222,\"#7201a8\"],[0.3333333333333333,\"#9c179e\"],[0.4444444444444444,\"#bd3786\"],[0.5555555555555556,\"#d8576b\"],[0.6666666666666666,\"#ed7953\"],[0.7777777777777778,\"#fb9f3a\"],[0.8888888888888888,\"#fdca26\"],[1.0,\"#f0f921\"]],\"sequentialminus\":[[0.0,\"#0d0887\"],[0.1111111111111111,\"#46039f\"],[0.2222222222222222,\"#7201a8\"],[0.3333333333333333,\"#9c179e\"],[0.4444444444444444,\"#bd3786\"],[0.5555555555555556,\"#d8576b\"],[0.6666666666666666,\"#ed7953\"],[0.7777777777777778,\"#fb9f3a\"],[0.8888888888888888,\"#fdca26\"],[1.0,\"#f0f921\"]]},\"colorway\":[\"#636efa\",\"#EF553B\",\"#00cc96\",\"#ab63fa\",\"#FFA15A\",\"#19d3f3\",\"#FF6692\",\"#B6E880\",\"#FF97FF\",\"#FECB52\"],\"font\":{\"color\":\"#2a3f5f\"},\"geo\":{\"bgcolor\":\"white\",\"lakecolor\":\"white\",\"landcolor\":\"#E5ECF6\",\"showlakes\":true,\"showland\":true,\"subunitcolor\":\"white\"},\"hoverlabel\":{\"align\":\"left\"},\"hovermode\":\"closest\",\"mapbox\":{\"style\":\"light\"},\"paper_bgcolor\":\"white\",\"plot_bgcolor\":\"#E5ECF6\",\"polar\":{\"angularaxis\":{\"gridcolor\":\"white\",\"linecolor\":\"white\",\"ticks\":\"\"},\"bgcolor\":\"#E5ECF6\",\"radialaxis\":{\"gridcolor\":\"white\",\"linecolor\":\"white\",\"ticks\":\"\"}},\"scene\":{\"xaxis\":{\"backgroundcolor\":\"#E5ECF6\",\"gridcolor\":\"white\",\"gridwidth\":2,\"linecolor\":\"white\",\"showbackground\":true,\"ticks\":\"\",\"zerolinecolor\":\"white\"},\"yaxis\":{\"backgroundcolor\":\"#E5ECF6\",\"gridcolor\":\"white\",\"gridwidth\":2,\"linecolor\":\"white\",\"showbackground\":true,\"ticks\":\"\",\"zerolinecolor\":\"white\"},\"zaxis\":{\"backgroundcolor\":\"#E5ECF6\",\"gridcolor\":\"white\",\"gridwidth\":2,\"linecolor\":\"white\",\"showbackground\":true,\"ticks\":\"\",\"zerolinecolor\":\"white\"}},\"shapedefaults\":{\"line\":{\"color\":\"#2a3f5f\"}},\"ternary\":{\"aaxis\":{\"gridcolor\":\"white\",\"linecolor\":\"white\",\"ticks\":\"\"},\"baxis\":{\"gridcolor\":\"white\",\"linecolor\":\"white\",\"ticks\":\"\"},\"bgcolor\":\"#E5ECF6\",\"caxis\":{\"gridcolor\":\"white\",\"linecolor\":\"white\",\"ticks\":\"\"}},\"title\":{\"x\":0.05},\"xaxis\":{\"automargin\":true,\"gridcolor\":\"white\",\"linecolor\":\"white\",\"ticks\":\"\",\"title\":{\"standoff\":15},\"zerolinecolor\":\"white\",\"zerolinewidth\":2},\"yaxis\":{\"automargin\":true,\"gridcolor\":\"white\",\"linecolor\":\"white\",\"ticks\":\"\",\"title\":{\"standoff\":15},\"zerolinecolor\":\"white\",\"zerolinewidth\":2}}},\"xaxis\":{\"anchor\":\"y\",\"domain\":[0.0,1.0],\"title\":{\"text\":\"subs per course\"}},\"yaxis\":{\"anchor\":\"x\",\"domain\":[0.0,1.0],\"title\":{\"text\":\"level\"},\"categoryorder\":\"array\",\"categoryarray\":[\"Intermediate Level\",\"Expert Level\",\"Beginner Level\",\"All Levels\"]},\"legend\":{\"title\":{\"text\":\"level\"},\"tracegroupgap\":0},\"title\":{\"text\":\"Subs per Course v Level\"},\"barmode\":\"relative\"},                        {\"responsive\": true}                    ).then(function(){\n",
       "                            \n",
       "var gd = document.getElementById('c7617a51-c768-45f7-a9e2-a1922c05ce7e');\n",
       "var x = new MutationObserver(function (mutations, observer) {{\n",
       "        var display = window.getComputedStyle(gd).display;\n",
       "        if (!display || display === 'none') {{\n",
       "            console.log([gd, 'removed!']);\n",
       "            Plotly.purge(gd);\n",
       "            observer.disconnect();\n",
       "        }}\n",
       "}});\n",
       "\n",
       "// Listen for the removal of the full notebook cells\n",
       "var notebookContainer = gd.closest('#notebook-container');\n",
       "if (notebookContainer) {{\n",
       "    x.observe(notebookContainer, {childList: true});\n",
       "}}\n",
       "\n",
       "// Listen for the clearing of the current output cell\n",
       "var outputEl = gd.closest('.output');\n",
       "if (outputEl) {{\n",
       "    x.observe(outputEl, {childList: true});\n",
       "}}\n",
       "\n",
       "                        })                };                });            </script>        </div>"
      ]
     },
     "metadata": {},
     "output_type": "display_data"
    }
   ],
   "source": [
    "fig =px.bar(data_frame=norm_level,x='subs per course', y='level', color='level', title='Subs per Course v Level')\n",
    "fig.show()"
   ]
  },
  {
   "cell_type": "markdown",
   "metadata": {},
   "source": [
    "The plot still shows the same level rank as the other 2 plots before, but now with smaller margin between All Level Courses and Beginner Level Courses."
   ]
  },
  {
   "cell_type": "markdown",
   "metadata": {},
   "source": [
    "# Course Duration"
   ]
  },
  {
   "cell_type": "code",
   "execution_count": 35,
   "metadata": {},
   "outputs": [
    {
     "data": {
      "application/vnd.plotly.v1+json": {
       "config": {
        "plotlyServerURL": "https://plot.ly"
       },
       "data": [
        {
         "alignmentgroup": "True",
         "hovertemplate": "level=%{x}<br>content_duration=%{y}<extra></extra>",
         "legendgroup": "All Levels",
         "marker": {
          "color": "#636efa"
         },
         "name": "All Levels",
         "notched": false,
         "offsetgroup": "All Levels",
         "orientation": "v",
         "showlegend": true,
         "type": "box",
         "x": [
          "All Levels",
          "All Levels",
          "All Levels",
          "All Levels",
          "All Levels",
          "All Levels",
          "All Levels",
          "All Levels",
          "All Levels",
          "All Levels",
          "All Levels",
          "All Levels",
          "All Levels",
          "All Levels",
          "All Levels",
          "All Levels",
          "All Levels",
          "All Levels",
          "All Levels",
          "All Levels",
          "All Levels",
          "All Levels",
          "All Levels",
          "All Levels",
          "All Levels",
          "All Levels",
          "All Levels",
          "All Levels",
          "All Levels",
          "All Levels",
          "All Levels",
          "All Levels",
          "All Levels",
          "All Levels",
          "All Levels",
          "All Levels",
          "All Levels",
          "All Levels",
          "All Levels",
          "All Levels",
          "All Levels",
          "All Levels",
          "All Levels",
          "All Levels",
          "All Levels",
          "All Levels",
          "All Levels",
          "All Levels",
          "All Levels",
          "All Levels",
          "All Levels",
          "All Levels",
          "All Levels",
          "All Levels",
          "All Levels",
          "All Levels",
          "All Levels",
          "All Levels",
          "All Levels",
          "All Levels",
          "All Levels",
          "All Levels",
          "All Levels",
          "All Levels",
          "All Levels",
          "All Levels",
          "All Levels",
          "All Levels",
          "All Levels",
          "All Levels",
          "All Levels",
          "All Levels",
          "All Levels",
          "All Levels",
          "All Levels",
          "All Levels",
          "All Levels",
          "All Levels",
          "All Levels",
          "All Levels",
          "All Levels",
          "All Levels",
          "All Levels",
          "All Levels",
          "All Levels",
          "All Levels",
          "All Levels",
          "All Levels",
          "All Levels",
          "All Levels",
          "All Levels",
          "All Levels",
          "All Levels",
          "All Levels",
          "All Levels",
          "All Levels",
          "All Levels",
          "All Levels",
          "All Levels",
          "All Levels",
          "All Levels",
          "All Levels",
          "All Levels",
          "All Levels",
          "All Levels",
          "All Levels",
          "All Levels",
          "All Levels",
          "All Levels",
          "All Levels",
          "All Levels",
          "All Levels",
          "All Levels",
          "All Levels",
          "All Levels",
          "All Levels",
          "All Levels",
          "All Levels",
          "All Levels",
          "All Levels",
          "All Levels",
          "All Levels",
          "All Levels",
          "All Levels",
          "All Levels",
          "All Levels",
          "All Levels",
          "All Levels",
          "All Levels",
          "All Levels",
          "All Levels",
          "All Levels",
          "All Levels",
          "All Levels",
          "All Levels",
          "All Levels",
          "All Levels",
          "All Levels",
          "All Levels",
          "All Levels",
          "All Levels",
          "All Levels",
          "All Levels",
          "All Levels",
          "All Levels",
          "All Levels",
          "All Levels",
          "All Levels",
          "All Levels",
          "All Levels",
          "All Levels",
          "All Levels",
          "All Levels",
          "All Levels",
          "All Levels",
          "All Levels",
          "All Levels",
          "All Levels",
          "All Levels",
          "All Levels",
          "All Levels",
          "All Levels",
          "All Levels",
          "All Levels",
          "All Levels",
          "All Levels",
          "All Levels",
          "All Levels",
          "All Levels",
          "All Levels",
          "All Levels",
          "All Levels",
          "All Levels",
          "All Levels",
          "All Levels",
          "All Levels",
          "All Levels",
          "All Levels",
          "All Levels",
          "All Levels",
          "All Levels",
          "All Levels",
          "All Levels",
          "All Levels",
          "All Levels",
          "All Levels",
          "All Levels",
          "All Levels",
          "All Levels",
          "All Levels",
          "All Levels",
          "All Levels",
          "All Levels",
          "All Levels",
          "All Levels",
          "All Levels",
          "All Levels",
          "All Levels",
          "All Levels",
          "All Levels",
          "All Levels",
          "All Levels",
          "All Levels",
          "All Levels",
          "All Levels",
          "All Levels",
          "All Levels",
          "All Levels",
          "All Levels",
          "All Levels",
          "All Levels",
          "All Levels",
          "All Levels",
          "All Levels",
          "All Levels",
          "All Levels",
          "All Levels",
          "All Levels",
          "All Levels",
          "All Levels",
          "All Levels",
          "All Levels",
          "All Levels",
          "All Levels",
          "All Levels",
          "All Levels",
          "All Levels",
          "All Levels",
          "All Levels",
          "All Levels",
          "All Levels",
          "All Levels",
          "All Levels",
          "All Levels",
          "All Levels",
          "All Levels",
          "All Levels",
          "All Levels",
          "All Levels",
          "All Levels",
          "All Levels",
          "All Levels",
          "All Levels",
          "All Levels",
          "All Levels",
          "All Levels",
          "All Levels",
          "All Levels",
          "All Levels",
          "All Levels",
          "All Levels",
          "All Levels",
          "All Levels",
          "All Levels",
          "All Levels",
          "All Levels",
          "All Levels",
          "All Levels",
          "All Levels",
          "All Levels",
          "All Levels",
          "All Levels",
          "All Levels",
          "All Levels",
          "All Levels",
          "All Levels",
          "All Levels",
          "All Levels",
          "All Levels",
          "All Levels",
          "All Levels",
          "All Levels",
          "All Levels",
          "All Levels",
          "All Levels",
          "All Levels",
          "All Levels",
          "All Levels",
          "All Levels",
          "All Levels",
          "All Levels",
          "All Levels",
          "All Levels",
          "All Levels",
          "All Levels",
          "All Levels",
          "All Levels",
          "All Levels",
          "All Levels",
          "All Levels",
          "All Levels",
          "All Levels",
          "All Levels",
          "All Levels",
          "All Levels",
          "All Levels",
          "All Levels",
          "All Levels",
          "All Levels",
          "All Levels",
          "All Levels",
          "All Levels",
          "All Levels",
          "All Levels",
          "All Levels",
          "All Levels",
          "All Levels",
          "All Levels",
          "All Levels",
          "All Levels",
          "All Levels",
          "All Levels",
          "All Levels",
          "All Levels",
          "All Levels",
          "All Levels",
          "All Levels",
          "All Levels",
          "All Levels",
          "All Levels",
          "All Levels",
          "All Levels",
          "All Levels",
          "All Levels",
          "All Levels",
          "All Levels",
          "All Levels",
          "All Levels",
          "All Levels",
          "All Levels",
          "All Levels",
          "All Levels",
          "All Levels",
          "All Levels",
          "All Levels",
          "All Levels",
          "All Levels",
          "All Levels",
          "All Levels",
          "All Levels",
          "All Levels",
          "All Levels",
          "All Levels",
          "All Levels",
          "All Levels",
          "All Levels",
          "All Levels",
          "All Levels",
          "All Levels",
          "All Levels",
          "All Levels",
          "All Levels",
          "All Levels",
          "All Levels",
          "All Levels",
          "All Levels",
          "All Levels",
          "All Levels",
          "All Levels",
          "All Levels",
          "All Levels",
          "All Levels",
          "All Levels",
          "All Levels",
          "All Levels",
          "All Levels",
          "All Levels",
          "All Levels",
          "All Levels",
          "All Levels",
          "All Levels",
          "All Levels",
          "All Levels",
          "All Levels",
          "All Levels",
          "All Levels",
          "All Levels",
          "All Levels",
          "All Levels",
          "All Levels",
          "All Levels",
          "All Levels",
          "All Levels",
          "All Levels",
          "All Levels",
          "All Levels",
          "All Levels",
          "All Levels",
          "All Levels",
          "All Levels",
          "All Levels",
          "All Levels",
          "All Levels",
          "All Levels",
          "All Levels",
          "All Levels",
          "All Levels",
          "All Levels",
          "All Levels",
          "All Levels",
          "All Levels",
          "All Levels",
          "All Levels",
          "All Levels",
          "All Levels",
          "All Levels",
          "All Levels",
          "All Levels",
          "All Levels",
          "All Levels",
          "All Levels",
          "All Levels",
          "All Levels",
          "All Levels",
          "All Levels",
          "All Levels",
          "All Levels",
          "All Levels",
          "All Levels",
          "All Levels",
          "All Levels",
          "All Levels",
          "All Levels",
          "All Levels",
          "All Levels",
          "All Levels",
          "All Levels",
          "All Levels",
          "All Levels",
          "All Levels",
          "All Levels",
          "All Levels",
          "All Levels",
          "All Levels",
          "All Levels",
          "All Levels",
          "All Levels",
          "All Levels",
          "All Levels",
          "All Levels",
          "All Levels",
          "All Levels",
          "All Levels",
          "All Levels",
          "All Levels",
          "All Levels",
          "All Levels",
          "All Levels",
          "All Levels",
          "All Levels",
          "All Levels",
          "All Levels",
          "All Levels",
          "All Levels",
          "All Levels",
          "All Levels",
          "All Levels",
          "All Levels",
          "All Levels",
          "All Levels",
          "All Levels",
          "All Levels",
          "All Levels",
          "All Levels",
          "All Levels",
          "All Levels",
          "All Levels",
          "All Levels",
          "All Levels",
          "All Levels",
          "All Levels",
          "All Levels",
          "All Levels",
          "All Levels",
          "All Levels",
          "All Levels",
          "All Levels",
          "All Levels",
          "All Levels",
          "All Levels",
          "All Levels",
          "All Levels",
          "All Levels",
          "All Levels",
          "All Levels",
          "All Levels",
          "All Levels",
          "All Levels",
          "All Levels",
          "All Levels",
          "All Levels",
          "All Levels",
          "All Levels",
          "All Levels",
          "All Levels",
          "All Levels",
          "All Levels",
          "All Levels",
          "All Levels",
          "All Levels",
          "All Levels",
          "All Levels",
          "All Levels",
          "All Levels",
          "All Levels",
          "All Levels",
          "All Levels",
          "All Levels",
          "All Levels",
          "All Levels",
          "All Levels",
          "All Levels",
          "All Levels",
          "All Levels",
          "All Levels",
          "All Levels",
          "All Levels",
          "All Levels",
          "All Levels",
          "All Levels",
          "All Levels",
          "All Levels",
          "All Levels",
          "All Levels",
          "All Levels",
          "All Levels",
          "All Levels",
          "All Levels",
          "All Levels",
          "All Levels",
          "All Levels",
          "All Levels",
          "All Levels",
          "All Levels",
          "All Levels",
          "All Levels",
          "All Levels",
          "All Levels",
          "All Levels",
          "All Levels",
          "All Levels",
          "All Levels",
          "All Levels",
          "All Levels",
          "All Levels",
          "All Levels",
          "All Levels",
          "All Levels",
          "All Levels",
          "All Levels",
          "All Levels",
          "All Levels",
          "All Levels",
          "All Levels",
          "All Levels",
          "All Levels",
          "All Levels",
          "All Levels",
          "All Levels",
          "All Levels",
          "All Levels",
          "All Levels",
          "All Levels",
          "All Levels",
          "All Levels",
          "All Levels",
          "All Levels",
          "All Levels",
          "All Levels",
          "All Levels",
          "All Levels",
          "All Levels",
          "All Levels",
          "All Levels",
          "All Levels",
          "All Levels",
          "All Levels",
          "All Levels",
          "All Levels",
          "All Levels",
          "All Levels",
          "All Levels",
          "All Levels",
          "All Levels",
          "All Levels",
          "All Levels",
          "All Levels",
          "All Levels",
          "All Levels",
          "All Levels",
          "All Levels",
          "All Levels",
          "All Levels",
          "All Levels",
          "All Levels",
          "All Levels",
          "All Levels",
          "All Levels",
          "All Levels",
          "All Levels",
          "All Levels",
          "All Levels",
          "All Levels",
          "All Levels",
          "All Levels",
          "All Levels",
          "All Levels",
          "All Levels",
          "All Levels",
          "All Levels",
          "All Levels",
          "All Levels",
          "All Levels",
          "All Levels",
          "All Levels",
          "All Levels",
          "All Levels",
          "All Levels",
          "All Levels",
          "All Levels",
          "All Levels",
          "All Levels",
          "All Levels",
          "All Levels",
          "All Levels",
          "All Levels",
          "All Levels",
          "All Levels",
          "All Levels",
          "All Levels",
          "All Levels",
          "All Levels",
          "All Levels",
          "All Levels",
          "All Levels",
          "All Levels",
          "All Levels",
          "All Levels",
          "All Levels",
          "All Levels",
          "All Levels",
          "All Levels",
          "All Levels",
          "All Levels",
          "All Levels",
          "All Levels",
          "All Levels",
          "All Levels",
          "All Levels",
          "All Levels",
          "All Levels",
          "All Levels",
          "All Levels",
          "All Levels",
          "All Levels",
          "All Levels",
          "All Levels",
          "All Levels",
          "All Levels",
          "All Levels",
          "All Levels",
          "All Levels",
          "All Levels",
          "All Levels",
          "All Levels",
          "All Levels",
          "All Levels",
          "All Levels",
          "All Levels",
          "All Levels",
          "All Levels",
          "All Levels",
          "All Levels",
          "All Levels",
          "All Levels",
          "All Levels",
          "All Levels",
          "All Levels",
          "All Levels",
          "All Levels",
          "All Levels",
          "All Levels",
          "All Levels",
          "All Levels",
          "All Levels",
          "All Levels",
          "All Levels",
          "All Levels",
          "All Levels",
          "All Levels",
          "All Levels",
          "All Levels",
          "All Levels",
          "All Levels",
          "All Levels",
          "All Levels",
          "All Levels",
          "All Levels",
          "All Levels",
          "All Levels",
          "All Levels",
          "All Levels",
          "All Levels",
          "All Levels",
          "All Levels",
          "All Levels",
          "All Levels",
          "All Levels",
          "All Levels",
          "All Levels",
          "All Levels",
          "All Levels",
          "All Levels",
          "All Levels",
          "All Levels",
          "All Levels",
          "All Levels",
          "All Levels",
          "All Levels",
          "All Levels",
          "All Levels",
          "All Levels",
          "All Levels",
          "All Levels",
          "All Levels",
          "All Levels",
          "All Levels",
          "All Levels",
          "All Levels",
          "All Levels",
          "All Levels",
          "All Levels",
          "All Levels",
          "All Levels",
          "All Levels",
          "All Levels",
          "All Levels",
          "All Levels",
          "All Levels",
          "All Levels",
          "All Levels",
          "All Levels",
          "All Levels",
          "All Levels",
          "All Levels",
          "All Levels",
          "All Levels",
          "All Levels",
          "All Levels",
          "All Levels",
          "All Levels",
          "All Levels",
          "All Levels",
          "All Levels",
          "All Levels",
          "All Levels",
          "All Levels",
          "All Levels",
          "All Levels",
          "All Levels",
          "All Levels",
          "All Levels",
          "All Levels",
          "All Levels",
          "All Levels",
          "All Levels",
          "All Levels",
          "All Levels",
          "All Levels",
          "All Levels",
          "All Levels",
          "All Levels",
          "All Levels",
          "All Levels",
          "All Levels",
          "All Levels",
          "All Levels",
          "All Levels",
          "All Levels",
          "All Levels",
          "All Levels",
          "All Levels",
          "All Levels",
          "All Levels",
          "All Levels",
          "All Levels",
          "All Levels",
          "All Levels",
          "All Levels",
          "All Levels",
          "All Levels",
          "All Levels",
          "All Levels",
          "All Levels",
          "All Levels",
          "All Levels",
          "All Levels",
          "All Levels",
          "All Levels",
          "All Levels",
          "All Levels",
          "All Levels",
          "All Levels",
          "All Levels",
          "All Levels",
          "All Levels",
          "All Levels",
          "All Levels",
          "All Levels",
          "All Levels",
          "All Levels",
          "All Levels",
          "All Levels",
          "All Levels",
          "All Levels",
          "All Levels",
          "All Levels",
          "All Levels",
          "All Levels",
          "All Levels",
          "All Levels",
          "All Levels",
          "All Levels",
          "All Levels",
          "All Levels",
          "All Levels",
          "All Levels",
          "All Levels",
          "All Levels",
          "All Levels",
          "All Levels",
          "All Levels",
          "All Levels",
          "All Levels",
          "All Levels",
          "All Levels",
          "All Levels",
          "All Levels",
          "All Levels",
          "All Levels",
          "All Levels",
          "All Levels",
          "All Levels",
          "All Levels",
          "All Levels",
          "All Levels",
          "All Levels",
          "All Levels",
          "All Levels",
          "All Levels",
          "All Levels",
          "All Levels",
          "All Levels",
          "All Levels",
          "All Levels",
          "All Levels",
          "All Levels",
          "All Levels",
          "All Levels",
          "All Levels",
          "All Levels",
          "All Levels",
          "All Levels",
          "All Levels",
          "All Levels",
          "All Levels",
          "All Levels",
          "All Levels",
          "All Levels",
          "All Levels",
          "All Levels",
          "All Levels",
          "All Levels",
          "All Levels",
          "All Levels",
          "All Levels",
          "All Levels",
          "All Levels",
          "All Levels",
          "All Levels",
          "All Levels",
          "All Levels",
          "All Levels",
          "All Levels",
          "All Levels",
          "All Levels",
          "All Levels",
          "All Levels",
          "All Levels",
          "All Levels",
          "All Levels",
          "All Levels",
          "All Levels",
          "All Levels",
          "All Levels",
          "All Levels",
          "All Levels",
          "All Levels",
          "All Levels",
          "All Levels",
          "All Levels",
          "All Levels",
          "All Levels",
          "All Levels",
          "All Levels",
          "All Levels",
          "All Levels",
          "All Levels",
          "All Levels",
          "All Levels",
          "All Levels",
          "All Levels",
          "All Levels",
          "All Levels",
          "All Levels",
          "All Levels",
          "All Levels",
          "All Levels",
          "All Levels",
          "All Levels",
          "All Levels",
          "All Levels",
          "All Levels",
          "All Levels",
          "All Levels",
          "All Levels",
          "All Levels",
          "All Levels",
          "All Levels",
          "All Levels",
          "All Levels",
          "All Levels",
          "All Levels",
          "All Levels",
          "All Levels",
          "All Levels",
          "All Levels",
          "All Levels",
          "All Levels",
          "All Levels",
          "All Levels",
          "All Levels",
          "All Levels",
          "All Levels",
          "All Levels",
          "All Levels",
          "All Levels",
          "All Levels",
          "All Levels",
          "All Levels",
          "All Levels",
          "All Levels",
          "All Levels",
          "All Levels",
          "All Levels",
          "All Levels",
          "All Levels",
          "All Levels",
          "All Levels",
          "All Levels",
          "All Levels",
          "All Levels",
          "All Levels",
          "All Levels",
          "All Levels",
          "All Levels",
          "All Levels",
          "All Levels",
          "All Levels",
          "All Levels",
          "All Levels",
          "All Levels",
          "All Levels",
          "All Levels",
          "All Levels",
          "All Levels",
          "All Levels",
          "All Levels",
          "All Levels",
          "All Levels",
          "All Levels",
          "All Levels",
          "All Levels",
          "All Levels",
          "All Levels",
          "All Levels",
          "All Levels",
          "All Levels",
          "All Levels",
          "All Levels",
          "All Levels",
          "All Levels",
          "All Levels",
          "All Levels",
          "All Levels",
          "All Levels",
          "All Levels",
          "All Levels",
          "All Levels",
          "All Levels",
          "All Levels",
          "All Levels",
          "All Levels",
          "All Levels",
          "All Levels",
          "All Levels",
          "All Levels",
          "All Levels",
          "All Levels",
          "All Levels",
          "All Levels",
          "All Levels",
          "All Levels",
          "All Levels",
          "All Levels",
          "All Levels",
          "All Levels",
          "All Levels",
          "All Levels",
          "All Levels",
          "All Levels",
          "All Levels",
          "All Levels",
          "All Levels",
          "All Levels",
          "All Levels",
          "All Levels",
          "All Levels",
          "All Levels",
          "All Levels",
          "All Levels",
          "All Levels",
          "All Levels",
          "All Levels",
          "All Levels",
          "All Levels",
          "All Levels",
          "All Levels",
          "All Levels",
          "All Levels",
          "All Levels",
          "All Levels",
          "All Levels",
          "All Levels",
          "All Levels",
          "All Levels",
          "All Levels",
          "All Levels",
          "All Levels",
          "All Levels",
          "All Levels",
          "All Levels",
          "All Levels",
          "All Levels",
          "All Levels",
          "All Levels",
          "All Levels",
          "All Levels",
          "All Levels",
          "All Levels",
          "All Levels",
          "All Levels",
          "All Levels",
          "All Levels",
          "All Levels",
          "All Levels",
          "All Levels",
          "All Levels",
          "All Levels",
          "All Levels",
          "All Levels",
          "All Levels",
          "All Levels",
          "All Levels",
          "All Levels",
          "All Levels",
          "All Levels",
          "All Levels",
          "All Levels",
          "All Levels",
          "All Levels",
          "All Levels",
          "All Levels",
          "All Levels",
          "All Levels",
          "All Levels",
          "All Levels",
          "All Levels",
          "All Levels",
          "All Levels",
          "All Levels",
          "All Levels",
          "All Levels",
          "All Levels",
          "All Levels",
          "All Levels",
          "All Levels",
          "All Levels",
          "All Levels",
          "All Levels",
          "All Levels",
          "All Levels",
          "All Levels",
          "All Levels",
          "All Levels",
          "All Levels",
          "All Levels",
          "All Levels",
          "All Levels",
          "All Levels",
          "All Levels",
          "All Levels",
          "All Levels",
          "All Levels",
          "All Levels",
          "All Levels",
          "All Levels",
          "All Levels",
          "All Levels",
          "All Levels",
          "All Levels",
          "All Levels",
          "All Levels",
          "All Levels",
          "All Levels",
          "All Levels",
          "All Levels",
          "All Levels",
          "All Levels",
          "All Levels",
          "All Levels",
          "All Levels",
          "All Levels",
          "All Levels",
          "All Levels",
          "All Levels",
          "All Levels",
          "All Levels",
          "All Levels",
          "All Levels",
          "All Levels",
          "All Levels",
          "All Levels",
          "All Levels",
          "All Levels",
          "All Levels",
          "All Levels",
          "All Levels",
          "All Levels",
          "All Levels",
          "All Levels",
          "All Levels",
          "All Levels",
          "All Levels",
          "All Levels",
          "All Levels",
          "All Levels",
          "All Levels",
          "All Levels",
          "All Levels",
          "All Levels",
          "All Levels",
          "All Levels",
          "All Levels",
          "All Levels",
          "All Levels",
          "All Levels",
          "All Levels",
          "All Levels",
          "All Levels",
          "All Levels",
          "All Levels",
          "All Levels",
          "All Levels",
          "All Levels",
          "All Levels",
          "All Levels",
          "All Levels",
          "All Levels",
          "All Levels",
          "All Levels",
          "All Levels",
          "All Levels",
          "All Levels",
          "All Levels",
          "All Levels",
          "All Levels",
          "All Levels",
          "All Levels",
          "All Levels",
          "All Levels",
          "All Levels",
          "All Levels",
          "All Levels",
          "All Levels",
          "All Levels",
          "All Levels",
          "All Levels",
          "All Levels",
          "All Levels",
          "All Levels",
          "All Levels",
          "All Levels",
          "All Levels",
          "All Levels",
          "All Levels",
          "All Levels",
          "All Levels",
          "All Levels",
          "All Levels",
          "All Levels",
          "All Levels",
          "All Levels",
          "All Levels",
          "All Levels",
          "All Levels",
          "All Levels",
          "All Levels",
          "All Levels",
          "All Levels",
          "All Levels",
          "All Levels",
          "All Levels",
          "All Levels",
          "All Levels",
          "All Levels",
          "All Levels",
          "All Levels",
          "All Levels",
          "All Levels",
          "All Levels",
          "All Levels",
          "All Levels",
          "All Levels",
          "All Levels",
          "All Levels",
          "All Levels",
          "All Levels",
          "All Levels",
          "All Levels",
          "All Levels",
          "All Levels",
          "All Levels",
          "All Levels",
          "All Levels",
          "All Levels",
          "All Levels",
          "All Levels",
          "All Levels",
          "All Levels",
          "All Levels",
          "All Levels",
          "All Levels",
          "All Levels",
          "All Levels",
          "All Levels",
          "All Levels",
          "All Levels",
          "All Levels",
          "All Levels",
          "All Levels",
          "All Levels",
          "All Levels",
          "All Levels",
          "All Levels",
          "All Levels",
          "All Levels",
          "All Levels",
          "All Levels",
          "All Levels",
          "All Levels",
          "All Levels",
          "All Levels",
          "All Levels",
          "All Levels",
          "All Levels",
          "All Levels",
          "All Levels",
          "All Levels",
          "All Levels",
          "All Levels",
          "All Levels",
          "All Levels",
          "All Levels",
          "All Levels",
          "All Levels",
          "All Levels",
          "All Levels",
          "All Levels",
          "All Levels",
          "All Levels",
          "All Levels",
          "All Levels",
          "All Levels",
          "All Levels",
          "All Levels",
          "All Levels",
          "All Levels",
          "All Levels",
          "All Levels",
          "All Levels",
          "All Levels",
          "All Levels",
          "All Levels",
          "All Levels",
          "All Levels",
          "All Levels",
          "All Levels",
          "All Levels",
          "All Levels",
          "All Levels",
          "All Levels",
          "All Levels",
          "All Levels",
          "All Levels",
          "All Levels",
          "All Levels",
          "All Levels",
          "All Levels",
          "All Levels",
          "All Levels",
          "All Levels",
          "All Levels",
          "All Levels",
          "All Levels",
          "All Levels",
          "All Levels",
          "All Levels",
          "All Levels",
          "All Levels",
          "All Levels",
          "All Levels",
          "All Levels",
          "All Levels",
          "All Levels",
          "All Levels",
          "All Levels",
          "All Levels",
          "All Levels",
          "All Levels",
          "All Levels",
          "All Levels",
          "All Levels",
          "All Levels",
          "All Levels",
          "All Levels",
          "All Levels",
          "All Levels",
          "All Levels",
          "All Levels",
          "All Levels",
          "All Levels",
          "All Levels",
          "All Levels",
          "All Levels",
          "All Levels",
          "All Levels",
          "All Levels",
          "All Levels",
          "All Levels",
          "All Levels",
          "All Levels",
          "All Levels",
          "All Levels",
          "All Levels",
          "All Levels",
          "All Levels",
          "All Levels",
          "All Levels",
          "All Levels",
          "All Levels",
          "All Levels",
          "All Levels",
          "All Levels",
          "All Levels",
          "All Levels",
          "All Levels",
          "All Levels",
          "All Levels",
          "All Levels",
          "All Levels",
          "All Levels",
          "All Levels",
          "All Levels",
          "All Levels",
          "All Levels",
          "All Levels",
          "All Levels",
          "All Levels",
          "All Levels",
          "All Levels",
          "All Levels",
          "All Levels",
          "All Levels",
          "All Levels",
          "All Levels",
          "All Levels",
          "All Levels",
          "All Levels",
          "All Levels",
          "All Levels",
          "All Levels",
          "All Levels",
          "All Levels",
          "All Levels",
          "All Levels",
          "All Levels",
          "All Levels",
          "All Levels",
          "All Levels",
          "All Levels",
          "All Levels",
          "All Levels",
          "All Levels",
          "All Levels",
          "All Levels",
          "All Levels",
          "All Levels",
          "All Levels",
          "All Levels",
          "All Levels",
          "All Levels",
          "All Levels",
          "All Levels",
          "All Levels",
          "All Levels",
          "All Levels",
          "All Levels",
          "All Levels",
          "All Levels",
          "All Levels",
          "All Levels",
          "All Levels",
          "All Levels",
          "All Levels",
          "All Levels",
          "All Levels",
          "All Levels",
          "All Levels",
          "All Levels",
          "All Levels",
          "All Levels",
          "All Levels",
          "All Levels",
          "All Levels",
          "All Levels",
          "All Levels",
          "All Levels",
          "All Levels",
          "All Levels",
          "All Levels",
          "All Levels",
          "All Levels",
          "All Levels",
          "All Levels",
          "All Levels",
          "All Levels",
          "All Levels",
          "All Levels",
          "All Levels",
          "All Levels",
          "All Levels",
          "All Levels",
          "All Levels",
          "All Levels",
          "All Levels",
          "All Levels",
          "All Levels",
          "All Levels",
          "All Levels",
          "All Levels",
          "All Levels",
          "All Levels",
          "All Levels",
          "All Levels",
          "All Levels",
          "All Levels",
          "All Levels",
          "All Levels",
          "All Levels",
          "All Levels",
          "All Levels",
          "All Levels",
          "All Levels",
          "All Levels",
          "All Levels",
          "All Levels",
          "All Levels",
          "All Levels",
          "All Levels",
          "All Levels",
          "All Levels",
          "All Levels",
          "All Levels",
          "All Levels",
          "All Levels",
          "All Levels",
          "All Levels",
          "All Levels",
          "All Levels",
          "All Levels",
          "All Levels",
          "All Levels",
          "All Levels",
          "All Levels",
          "All Levels",
          "All Levels",
          "All Levels",
          "All Levels",
          "All Levels",
          "All Levels",
          "All Levels",
          "All Levels",
          "All Levels",
          "All Levels",
          "All Levels",
          "All Levels",
          "All Levels",
          "All Levels",
          "All Levels",
          "All Levels",
          "All Levels",
          "All Levels",
          "All Levels",
          "All Levels",
          "All Levels",
          "All Levels",
          "All Levels",
          "All Levels",
          "All Levels",
          "All Levels",
          "All Levels",
          "All Levels",
          "All Levels",
          "All Levels",
          "All Levels",
          "All Levels",
          "All Levels",
          "All Levels",
          "All Levels",
          "All Levels",
          "All Levels",
          "All Levels",
          "All Levels",
          "All Levels",
          "All Levels",
          "All Levels",
          "All Levels",
          "All Levels",
          "All Levels",
          "All Levels",
          "All Levels",
          "All Levels",
          "All Levels",
          "All Levels",
          "All Levels",
          "All Levels",
          "All Levels",
          "All Levels",
          "All Levels",
          "All Levels",
          "All Levels",
          "All Levels",
          "All Levels",
          "All Levels",
          "All Levels",
          "All Levels",
          "All Levels",
          "All Levels",
          "All Levels",
          "All Levels",
          "All Levels",
          "All Levels",
          "All Levels",
          "All Levels",
          "All Levels",
          "All Levels",
          "All Levels",
          "All Levels",
          "All Levels",
          "All Levels",
          "All Levels",
          "All Levels",
          "All Levels",
          "All Levels",
          "All Levels",
          "All Levels",
          "All Levels",
          "All Levels",
          "All Levels",
          "All Levels",
          "All Levels",
          "All Levels",
          "All Levels",
          "All Levels",
          "All Levels",
          "All Levels",
          "All Levels",
          "All Levels",
          "All Levels",
          "All Levels",
          "All Levels",
          "All Levels",
          "All Levels",
          "All Levels",
          "All Levels",
          "All Levels",
          "All Levels",
          "All Levels",
          "All Levels",
          "All Levels",
          "All Levels",
          "All Levels",
          "All Levels",
          "All Levels",
          "All Levels",
          "All Levels",
          "All Levels",
          "All Levels",
          "All Levels",
          "All Levels",
          "All Levels",
          "All Levels",
          "All Levels",
          "All Levels",
          "All Levels",
          "All Levels",
          "All Levels",
          "All Levels",
          "All Levels",
          "All Levels",
          "All Levels",
          "All Levels",
          "All Levels",
          "All Levels",
          "All Levels",
          "All Levels",
          "All Levels",
          "All Levels",
          "All Levels",
          "All Levels",
          "All Levels",
          "All Levels",
          "All Levels",
          "All Levels",
          "All Levels",
          "All Levels",
          "All Levels",
          "All Levels",
          "All Levels",
          "All Levels",
          "All Levels",
          "All Levels",
          "All Levels",
          "All Levels",
          "All Levels",
          "All Levels",
          "All Levels",
          "All Levels",
          "All Levels",
          "All Levels",
          "All Levels",
          "All Levels",
          "All Levels",
          "All Levels",
          "All Levels",
          "All Levels",
          "All Levels",
          "All Levels",
          "All Levels",
          "All Levels",
          "All Levels",
          "All Levels",
          "All Levels",
          "All Levels",
          "All Levels",
          "All Levels",
          "All Levels",
          "All Levels",
          "All Levels",
          "All Levels",
          "All Levels",
          "All Levels",
          "All Levels",
          "All Levels",
          "All Levels",
          "All Levels",
          "All Levels",
          "All Levels",
          "All Levels",
          "All Levels",
          "All Levels",
          "All Levels",
          "All Levels",
          "All Levels",
          "All Levels",
          "All Levels",
          "All Levels",
          "All Levels",
          "All Levels",
          "All Levels",
          "All Levels",
          "All Levels",
          "All Levels",
          "All Levels",
          "All Levels",
          "All Levels",
          "All Levels",
          "All Levels",
          "All Levels",
          "All Levels",
          "All Levels",
          "All Levels",
          "All Levels",
          "All Levels",
          "All Levels",
          "All Levels",
          "All Levels",
          "All Levels",
          "All Levels",
          "All Levels",
          "All Levels",
          "All Levels",
          "All Levels",
          "All Levels",
          "All Levels",
          "All Levels",
          "All Levels",
          "All Levels",
          "All Levels",
          "All Levels",
          "All Levels",
          "All Levels",
          "All Levels",
          "All Levels",
          "All Levels",
          "All Levels",
          "All Levels",
          "All Levels",
          "All Levels",
          "All Levels",
          "All Levels",
          "All Levels",
          "All Levels",
          "All Levels",
          "All Levels",
          "All Levels",
          "All Levels",
          "All Levels",
          "All Levels",
          "All Levels",
          "All Levels",
          "All Levels",
          "All Levels",
          "All Levels",
          "All Levels",
          "All Levels",
          "All Levels",
          "All Levels",
          "All Levels",
          "All Levels",
          "All Levels",
          "All Levels",
          "All Levels",
          "All Levels",
          "All Levels",
          "All Levels",
          "All Levels",
          "All Levels",
          "All Levels",
          "All Levels",
          "All Levels",
          "All Levels",
          "All Levels",
          "All Levels",
          "All Levels",
          "All Levels",
          "All Levels",
          "All Levels",
          "All Levels",
          "All Levels",
          "All Levels",
          "All Levels",
          "All Levels",
          "All Levels",
          "All Levels",
          "All Levels",
          "All Levels",
          "All Levels",
          "All Levels",
          "All Levels",
          "All Levels",
          "All Levels",
          "All Levels",
          "All Levels",
          "All Levels",
          "All Levels",
          "All Levels",
          "All Levels",
          "All Levels",
          "All Levels",
          "All Levels",
          "All Levels",
          "All Levels",
          "All Levels",
          "All Levels",
          "All Levels",
          "All Levels",
          "All Levels",
          "All Levels",
          "All Levels",
          "All Levels",
          "All Levels",
          "All Levels",
          "All Levels",
          "All Levels",
          "All Levels",
          "All Levels",
          "All Levels",
          "All Levels",
          "All Levels",
          "All Levels",
          "All Levels",
          "All Levels",
          "All Levels",
          "All Levels",
          "All Levels",
          "All Levels",
          "All Levels",
          "All Levels",
          "All Levels",
          "All Levels",
          "All Levels",
          "All Levels",
          "All Levels",
          "All Levels",
          "All Levels",
          "All Levels",
          "All Levels",
          "All Levels",
          "All Levels",
          "All Levels",
          "All Levels",
          "All Levels",
          "All Levels",
          "All Levels",
          "All Levels",
          "All Levels",
          "All Levels",
          "All Levels",
          "All Levels",
          "All Levels",
          "All Levels",
          "All Levels",
          "All Levels",
          "All Levels",
          "All Levels",
          "All Levels",
          "All Levels",
          "All Levels",
          "All Levels",
          "All Levels",
          "All Levels",
          "All Levels",
          "All Levels",
          "All Levels",
          "All Levels",
          "All Levels",
          "All Levels",
          "All Levels",
          "All Levels",
          "All Levels",
          "All Levels",
          "All Levels",
          "All Levels",
          "All Levels",
          "All Levels",
          "All Levels",
          "All Levels",
          "All Levels",
          "All Levels",
          "All Levels",
          "All Levels",
          "All Levels",
          "All Levels",
          "All Levels",
          "All Levels",
          "All Levels",
          "All Levels",
          "All Levels",
          "All Levels",
          "All Levels",
          "All Levels",
          "All Levels",
          "All Levels",
          "All Levels",
          "All Levels",
          "All Levels",
          "All Levels",
          "All Levels",
          "All Levels",
          "All Levels",
          "All Levels",
          "All Levels",
          "All Levels",
          "All Levels",
          "All Levels",
          "All Levels",
          "All Levels",
          "All Levels",
          "All Levels",
          "All Levels",
          "All Levels",
          "All Levels",
          "All Levels",
          "All Levels",
          "All Levels",
          "All Levels",
          "All Levels",
          "All Levels",
          "All Levels",
          "All Levels",
          "All Levels",
          "All Levels",
          "All Levels",
          "All Levels",
          "All Levels",
          "All Levels",
          "All Levels"
         ],
         "x0": " ",
         "xaxis": "x",
         "y": [
          1.5,
          39,
          3,
          3,
          2.5,
          1,
          5,
          1,
          1.5,
          2,
          7,
          4,
          1.5,
          2,
          4,
          2,
          2,
          5,
          4.5,
          4.5,
          1.5,
          6.5,
          2,
          1.5,
          4.5,
          7.5,
          5.5,
          10,
          6.5,
          16,
          3,
          5,
          5.5,
          5,
          2,
          3,
          1,
          1.5,
          1,
          3.5,
          4.5,
          8.5,
          6.5,
          5.5,
          1.5,
          3.5,
          3,
          5,
          1,
          1,
          2,
          4,
          1,
          4,
          2,
          1,
          1.5,
          1,
          4.5,
          1.5,
          9.5,
          1,
          5.5,
          1.5,
          1.5,
          1,
          1,
          2,
          4.5,
          5,
          1,
          62,
          1.5,
          0.133333333333333,
          0.683333333333333,
          3,
          31.5,
          3.5,
          2.5,
          2.5,
          1,
          1,
          1.5,
          9.5,
          20,
          2.5,
          1,
          4,
          1.5,
          1.5,
          1,
          3,
          3.5,
          4.5,
          46.5,
          5,
          2.5,
          1,
          1.5,
          2,
          1.5,
          4.5,
          1.5,
          2,
          3,
          1.5,
          5.5,
          1.5,
          5.5,
          3,
          0.7,
          1.5,
          1.5,
          2,
          1.5,
          4.5,
          3.5,
          1.5,
          0.55,
          9,
          2,
          1,
          1.5,
          5.5,
          2,
          7,
          1,
          1.5,
          10,
          1,
          2,
          1.5,
          17.5,
          1,
          4.5,
          1,
          2,
          3.5,
          1,
          1.5,
          2,
          0.683333333333333,
          3,
          1.5,
          4,
          2,
          2,
          2.5,
          2,
          2.5,
          1,
          1,
          1,
          4.5,
          1,
          4.5,
          3,
          24,
          19.5,
          1.5,
          3.5,
          2.5,
          20.5,
          2,
          2.5,
          2,
          10,
          20.5,
          2,
          10.5,
          1,
          1.5,
          3,
          0.516666666666666,
          1.5,
          5,
          4.5,
          1,
          2.5,
          0.6,
          2,
          1.5,
          1,
          1,
          0.7,
          5.5,
          7,
          1,
          5.5,
          1.5,
          2.5,
          0.683333333333333,
          2,
          2,
          2,
          0.683333333333333,
          5.5,
          8,
          2,
          29,
          3,
          8,
          26,
          1.5,
          2.5,
          1.5,
          6,
          1,
          2.5,
          1,
          1,
          10,
          1,
          1,
          11,
          24.5,
          1.5,
          2,
          1,
          2.5,
          2,
          6,
          6,
          1,
          2,
          2.5,
          2.5,
          1.5,
          8,
          1,
          1.5,
          10,
          1,
          5.5,
          3.5,
          1.5,
          13,
          1,
          2.5,
          1.5,
          1,
          3.5,
          1,
          1.5,
          7.5,
          6,
          2,
          1.5,
          7.5,
          3.5,
          1,
          3.5,
          1.5,
          1,
          1.5,
          1,
          1.5,
          2.5,
          1.5,
          2,
          4.5,
          1,
          1.5,
          5.5,
          2,
          1,
          3.5,
          12.5,
          2,
          1,
          0.316666666666666,
          5.5,
          11.5,
          0.616666666666666,
          1,
          5.5,
          4,
          0.666666666666666,
          2.5,
          4.5,
          3,
          4.5,
          2,
          1.5,
          0.666666666666666,
          2,
          2,
          3.5,
          2,
          6,
          1.5,
          4,
          1.5,
          8,
          0.6,
          2,
          8,
          1.5,
          2.5,
          18,
          3.5,
          1.5,
          0.566666666666666,
          0.616666666666666,
          1,
          1,
          24.5,
          1.5,
          1,
          5.5,
          7.5,
          1.5,
          1,
          0.566666666666666,
          2,
          2.5,
          1.5,
          0.566666666666666,
          0.716666666666666,
          1,
          2,
          0.533333333333333,
          33,
          24.5,
          3,
          5,
          1,
          10.5,
          2,
          7,
          3.5,
          9,
          2.5,
          3,
          1.5,
          1,
          4.5,
          1.5,
          1,
          2.5,
          2.5,
          71.5,
          7,
          3.5,
          2,
          1,
          7,
          1.5,
          1,
          2,
          2,
          3,
          1.5,
          1,
          1.5,
          1,
          1.5,
          20.5,
          47,
          3,
          2,
          1,
          1,
          14.5,
          2.5,
          2,
          5,
          2,
          3.5,
          3,
          1.5,
          2,
          3,
          0.683333333333333,
          1,
          1,
          0.65,
          4,
          2,
          4,
          5.5,
          6,
          6,
          1.5,
          5.5,
          2,
          2,
          3,
          1.5,
          2.5,
          1,
          2,
          1,
          1.5,
          2,
          1,
          3.5,
          18.5,
          2,
          2.5,
          43.5,
          0.6,
          2.5,
          5.5,
          0.633333333333333,
          2,
          4.5,
          3.5,
          5.5,
          1,
          5,
          4,
          1.5,
          1,
          14,
          1,
          1,
          1,
          1.5,
          3.5,
          14.5,
          1,
          1,
          1,
          5,
          1,
          3,
          3,
          4,
          2,
          3,
          1,
          3.5,
          6,
          2,
          1.5,
          2.5,
          5.5,
          1,
          2.5,
          2.5,
          2,
          7.5,
          0.466666666666666,
          2.5,
          10,
          2,
          24,
          1,
          9,
          1,
          0.616666666666666,
          1.5,
          1,
          1,
          1.5,
          3.5,
          1.5,
          1,
          12.5,
          1.5,
          0.583333333333333,
          2,
          3.5,
          2,
          9,
          0.683333333333333,
          2,
          2,
          6,
          5.5,
          4,
          2,
          1,
          2,
          1,
          1.5,
          5,
          2.5,
          6,
          8.5,
          0.516666666666666,
          1,
          0.533333333333333,
          0.616666666666666,
          4,
          6,
          0.616666666666666,
          3,
          1.5,
          0.566666666666666,
          6.5,
          0.716666666666666,
          5,
          3,
          1,
          1.5,
          1,
          3,
          3,
          3.5,
          0.7,
          3.5,
          1.5,
          3,
          4,
          7,
          5,
          2.5,
          7.5,
          5.5,
          2,
          2,
          2,
          3,
          7,
          1,
          4.5,
          1,
          3,
          3,
          2,
          3,
          7,
          2,
          1,
          1,
          45,
          1.5,
          1.5,
          70,
          4,
          6,
          2,
          0.6,
          6,
          8,
          2,
          1.5,
          1,
          1,
          0,
          1,
          2,
          0.716666666666666,
          1,
          2.5,
          2.5,
          2,
          1.5,
          1,
          1.5,
          1.5,
          3.5,
          0.533333333333333,
          1.5,
          3,
          4.5,
          1.5,
          4,
          10,
          1.5,
          1,
          0.516666666666666,
          2,
          3,
          3,
          29.5,
          2.5,
          6.5,
          1,
          2,
          2.5,
          2,
          1,
          1,
          1,
          1,
          1,
          5,
          3,
          2,
          13,
          2,
          3.5,
          1,
          2.5,
          5,
          13.5,
          2.5,
          0.666666666666666,
          3,
          4,
          0.516666666666666,
          2.5,
          0.683333333333333,
          1.5,
          3,
          1,
          4.5,
          2.5,
          1.5,
          1.5,
          5,
          0.6,
          1,
          1,
          3.5,
          2,
          1,
          6.5,
          3.5,
          5,
          1.5,
          10.5,
          8.5,
          0.733333333333333,
          8.5,
          2,
          3,
          0.65,
          1.5,
          4.5,
          5.5,
          2,
          1,
          4.5,
          1,
          1,
          1.5,
          2,
          4,
          1,
          1,
          5,
          8.5,
          2,
          4,
          3,
          1.5,
          2,
          1.5,
          7,
          5.5,
          3,
          1,
          1,
          0.666666666666666,
          1.5,
          1,
          2,
          8.5,
          10.5,
          1,
          2,
          2.5,
          1,
          12.5,
          0.6,
          7,
          14,
          1,
          1.5,
          2,
          2.5,
          1.5,
          3,
          2.5,
          5.5,
          17.5,
          3.5,
          2.5,
          1,
          2,
          8,
          2,
          1.5,
          1,
          4.5,
          4,
          2.5,
          1,
          3,
          1.5,
          8,
          4,
          3.5,
          1.5,
          0.633333333333333,
          2,
          2.5,
          3,
          1.5,
          4,
          1,
          5,
          12,
          1.5,
          1,
          7.5,
          1,
          62,
          3,
          2.5,
          0.6,
          3.5,
          5,
          68.5,
          3.5,
          2.5,
          6.5,
          3.5,
          3,
          3,
          1,
          0.6,
          7.5,
          1,
          6.5,
          2,
          2.5,
          1,
          11,
          12,
          17.5,
          13,
          0.65,
          2.5,
          2.5,
          5.5,
          2.5,
          1,
          0.683333333333333,
          6,
          3,
          0.7,
          1,
          2.5,
          4,
          0.566666666666666,
          1.5,
          10,
          11.5,
          2.5,
          1,
          3.5,
          0.566666666666666,
          0.533333333333333,
          0.566666666666666,
          1,
          1.5,
          1,
          0.683333333333333,
          2,
          3.5,
          3,
          13.5,
          0.6,
          10.5,
          3.5,
          2.5,
          1.5,
          6.5,
          1,
          1.5,
          6.5,
          1.5,
          12.5,
          9,
          0.65,
          2,
          4.5,
          0.666666666666666,
          7,
          2.5,
          0.733333333333333,
          1,
          2,
          8.5,
          5.5,
          4,
          6.5,
          4,
          12,
          5,
          13,
          7.5,
          3,
          1.5,
          6.5,
          1,
          10,
          1,
          0.733333333333333,
          0.566666666666666,
          6.5,
          1.5,
          4,
          1,
          0.633333333333333,
          1,
          4.5,
          1.5,
          2,
          1,
          1.5,
          2,
          1.5,
          3.5,
          8,
          2,
          3,
          1.5,
          2,
          3,
          2,
          1,
          5,
          1,
          3.5,
          1.5,
          12.5,
          4.5,
          4.5,
          0.666666666666666,
          1.5,
          8.5,
          0.733333333333333,
          2,
          2.5,
          2.5,
          6,
          2.5,
          7.5,
          5,
          1.5,
          12,
          2.5,
          1,
          1.5,
          14.5,
          1.5,
          30,
          2,
          1,
          1,
          2.5,
          2,
          17,
          1.5,
          2,
          0.7,
          1,
          0.583333333333333,
          1.5,
          4,
          2.5,
          4,
          1,
          1,
          2.5,
          5,
          1,
          1,
          0.683333333333333,
          3.5,
          2.5,
          1,
          1.5,
          5,
          16.5,
          2,
          1,
          4,
          2.5,
          1,
          2.5,
          5.5,
          0.7,
          3.5,
          2.5,
          1.5,
          1.5,
          0.566666666666666,
          1.5,
          4,
          5,
          2,
          10.5,
          6,
          0.6,
          0.616666666666666,
          1.5,
          3.5,
          2,
          1,
          0.716666666666666,
          10,
          4,
          1,
          1,
          3,
          20.5,
          2,
          4.5,
          2.5,
          2,
          2,
          1,
          1.5,
          1.5,
          3,
          1,
          2,
          2,
          7.5,
          1,
          8,
          1.5,
          12,
          1.5,
          16,
          3,
          2,
          2,
          1,
          2,
          4,
          2,
          1,
          0.533333333333333,
          0.716666666666666,
          2,
          1.5,
          1.5,
          2,
          9,
          2.5,
          2.5,
          1,
          1,
          3,
          1,
          5.5,
          2.5,
          1,
          4.5,
          4,
          2.5,
          1.5,
          6.5,
          3,
          1,
          2,
          7,
          8,
          1,
          5.5,
          2,
          4,
          1,
          9.5,
          0.516666666666666,
          5,
          1,
          1,
          8,
          1.5,
          0.533333333333333,
          9.5,
          2.5,
          2.5,
          2,
          0.616666666666666,
          8,
          2,
          3,
          24,
          2,
          1.5,
          2.5,
          7.5,
          2,
          1,
          1,
          1,
          1,
          0.633333333333333,
          1,
          8,
          2,
          0.533333333333333,
          4.5,
          2,
          0.7,
          1.5,
          2,
          3,
          2,
          1,
          1,
          1,
          2.5,
          2,
          1,
          3,
          2,
          7.5,
          1.5,
          1.5,
          0.683333333333333,
          2.5,
          3,
          0.5,
          3,
          2,
          2.5,
          1,
          2.5,
          1,
          6,
          1.5,
          3,
          1,
          2,
          2,
          2,
          3.5,
          4.5,
          1.5,
          1.5,
          3,
          2,
          1,
          1,
          5.5,
          2.5,
          2,
          4,
          1.5,
          5,
          5.5,
          7.5,
          1.5,
          1.5,
          1.5,
          1,
          1,
          2.5,
          4.5,
          4,
          2.5,
          0.483333333333333,
          1.5,
          2.5,
          0.65,
          1,
          2,
          0.566666666666666,
          1.5,
          1,
          1.5,
          1.5,
          4.5,
          1,
          1.5,
          8.5,
          3.5,
          30,
          9.5,
          34,
          31,
          15.5,
          1.5,
          8.5,
          1.5,
          1.5,
          3.5,
          1.5,
          1.5,
          1.5,
          0.633333333333333,
          1,
          2.5,
          2,
          4,
          1,
          2,
          0.6,
          1,
          1,
          5,
          5.5,
          10.5,
          23,
          1.5,
          7,
          8,
          0.666666666666666,
          1.5,
          6,
          2,
          6,
          3.5,
          6.5,
          5,
          1,
          4,
          0.583333333333333,
          3.5,
          0.733333333333333,
          1.5,
          1,
          6.5,
          7,
          3.5,
          3,
          2.5,
          8,
          2.5,
          3,
          1.5,
          0.6,
          2,
          3.5,
          2.5,
          1,
          2.5,
          2.5,
          3.5,
          3,
          3.5,
          3,
          0.55,
          1.5,
          1.5,
          2,
          1.5,
          1,
          3,
          2,
          6,
          4,
          0.533333333333333,
          9.5,
          1,
          3.5,
          1.5,
          4,
          38,
          9,
          2,
          1.5,
          1.5,
          2,
          2.5,
          1.5,
          2.5,
          3.5,
          5,
          3.5,
          7,
          4.5,
          0.716666666666666,
          3,
          2.5,
          1,
          3.5,
          3,
          3.5,
          3,
          0.733333333333333,
          1.5,
          6.5,
          2.5,
          2,
          1.5,
          5,
          2,
          1,
          2.5,
          7.5,
          7,
          0.616666666666666,
          2,
          1.5,
          4,
          3,
          1.5,
          3,
          5.5,
          3,
          1,
          1.5,
          2,
          6.5,
          3.5,
          2.5,
          1.5,
          1,
          1.5,
          8,
          1,
          5.5,
          6,
          2,
          0.716666666666666,
          2,
          3,
          1.5,
          0.633333333333333,
          2,
          1.5,
          7.5,
          4.5,
          2.5,
          1.5,
          3.5,
          0.716666666666666,
          1,
          1.5,
          3,
          1,
          1,
          1.5,
          1,
          0.55,
          0.55,
          1,
          2,
          2,
          7,
          0.566666666666666,
          1.5,
          0.5,
          0.5,
          0.533333333333333,
          0.533333333333333,
          0.633333333333333,
          0.55,
          0.583333333333333,
          1,
          1.5,
          1,
          1.5,
          4.5,
          5,
          1,
          1.5,
          2.5,
          1.5,
          2.5,
          0.616666666666666,
          2.5,
          1.5,
          0.733333333333333,
          2,
          2,
          6,
          2,
          2,
          1,
          4,
          3.5,
          3,
          3.5,
          3,
          3,
          3,
          3,
          4,
          12.5,
          4.5,
          5,
          19.5,
          7,
          6,
          4,
          12,
          4,
          5,
          6,
          7.5,
          5,
          20.5,
          3,
          13.5,
          37.5,
          3.5,
          4,
          2.5,
          1.5,
          3.5,
          17.5,
          1,
          2.5,
          2.5,
          6.5,
          3.5,
          8,
          2.5,
          2.5,
          10.5,
          3,
          1.5,
          8,
          25,
          11,
          4.5,
          20,
          1.5,
          7,
          4,
          5,
          7.5,
          3,
          7.5,
          45,
          16,
          1,
          11,
          1,
          3.5,
          12.5,
          2,
          1.5,
          1,
          3,
          3,
          1,
          4,
          2,
          15,
          1.5,
          3.5,
          2.5,
          3.5,
          1,
          3,
          19.5,
          6.5,
          60,
          11.5,
          5.5,
          10,
          7,
          16.5,
          2,
          22.5,
          13.5,
          2,
          4,
          5.5,
          3.5,
          2,
          1,
          1.5,
          3,
          1,
          10,
          23,
          18,
          6.5,
          20.5,
          6,
          14.5,
          13,
          8.5,
          8.5,
          1,
          17.5,
          1.5,
          3,
          6,
          10,
          3.5,
          2.5,
          3,
          7.5,
          5.5,
          3,
          2,
          2.5,
          4.5,
          2,
          1,
          1,
          3.5,
          2.5,
          5,
          4,
          6.5,
          29.5,
          3,
          21.5,
          31.5,
          4,
          12,
          27.5,
          5.5,
          5,
          20.5,
          14.5,
          9,
          14,
          15.5,
          22.5,
          9,
          12,
          12.5,
          3.5,
          16,
          13,
          3,
          2.5,
          4,
          1,
          1.5,
          11.5,
          24.5,
          2,
          7.5,
          2.5,
          25,
          1,
          15.5,
          6,
          3,
          8.5,
          5,
          1,
          11,
          1.5,
          1,
          1.5,
          1,
          6,
          4.5,
          4.5,
          7,
          18.5,
          1.5,
          6.5,
          0.666666666666666,
          1.5,
          3.5,
          1.5,
          3.5,
          1,
          13,
          4.5,
          3,
          2,
          9,
          14.5,
          3,
          51,
          2,
          32.5,
          12,
          9.5,
          13,
          4,
          12.5,
          2,
          1.5,
          1,
          10.5,
          2.5,
          3,
          1,
          2,
          13.5,
          2.5,
          0.716666666666666,
          2.5,
          4,
          3.5,
          2,
          0.7,
          3,
          3,
          1,
          0.616666666666666,
          2,
          1,
          1,
          1.5,
          2.5,
          2,
          13,
          8,
          2,
          2,
          3.5,
          9,
          3.5,
          2,
          4,
          4,
          1.5,
          1,
          1,
          1.5,
          1.5,
          1,
          2.5,
          12.5,
          1.5,
          1,
          3.5,
          6.5,
          1.5,
          0.566666666666666,
          17,
          4,
          3.5,
          3,
          2,
          3,
          1.5,
          9,
          2.5,
          9,
          4,
          11,
          8,
          7,
          0.683333333333333,
          3.5,
          3.5,
          17.5,
          3,
          2,
          6.5,
          7,
          1,
          1.5,
          1,
          7,
          6,
          5.5,
          8,
          1,
          1,
          0.55,
          44.5,
          5,
          3,
          3,
          2,
          4,
          0.583333333333333,
          2,
          3,
          2.5,
          14,
          3.5,
          2,
          57,
          5,
          1.5,
          2.5,
          8,
          9.5,
          3,
          14,
          2.5,
          6.5,
          3,
          3,
          2,
          3.5,
          1,
          13,
          3.5,
          1,
          9.5,
          1.5,
          0.55,
          0.633333333333333,
          3.5,
          5.5,
          10.5,
          0.533333333333333,
          2.5,
          2.5,
          1.5,
          3.5,
          8,
          4.5,
          7,
          13.5,
          4,
          4,
          12,
          3.5,
          0.65,
          8,
          2,
          6,
          5.5,
          4.5,
          2.5,
          15.5,
          5.5,
          1.5,
          18.5,
          7,
          1.5,
          16.5,
          5,
          4,
          3.5,
          6.5,
          7,
          3,
          2.5,
          0.6,
          2,
          2.5,
          10,
          14.5,
          7.5,
          10.5,
          2,
          7,
          2,
          2.5,
          2.5,
          0.666666666666666,
          3,
          0.566666666666666,
          4.5,
          2,
          4,
          5.5,
          5,
          16,
          9,
          3.5,
          76.5,
          11.5,
          19.5,
          9,
          11,
          1.5,
          2,
          13,
          7,
          2,
          10.5,
          3.5,
          1.5,
          7,
          2.5,
          1.5,
          20,
          16.5,
          12.5,
          5.5,
          6,
          4,
          5,
          15.5,
          3.5,
          1.5,
          9,
          5,
          3,
          20,
          8,
          31.5,
          14.5,
          22,
          30.5,
          17,
          31.5,
          3,
          3.5,
          2,
          3.5,
          5.5,
          4.5,
          13.5,
          18,
          17.5,
          8.5,
          9.5,
          9,
          43,
          10,
          30.5,
          32.5,
          0.683333333333333,
          5,
          4.5,
          3.5,
          5.5,
          18.5,
          42,
          7,
          11.5,
          5.5,
          12,
          13,
          7,
          26.5,
          7.5,
          0.733333333333333,
          1,
          7.5,
          1,
          9.5,
          2,
          7.5,
          0.633333333333333,
          5,
          3,
          1.5,
          2,
          0.616666666666666,
          5.5,
          0.583333333333333,
          7.5,
          0.583333333333333,
          1.5,
          5.5,
          6.5,
          10.5,
          2,
          6.5,
          1,
          1,
          3,
          3,
          4,
          2,
          4,
          7.5,
          2,
          2.5,
          3,
          1,
          1,
          2,
          6,
          26,
          3,
          4,
          21,
          0.55,
          0.5,
          2,
          5,
          3.5,
          2,
          3,
          1,
          5,
          18.5,
          1.5,
          1,
          8,
          5,
          1.5,
          5,
          3,
          1.5,
          1,
          1.5,
          3,
          4.5,
          1.5,
          1,
          6.5,
          17.5,
          1,
          2,
          13,
          3.5,
          26,
          4.5,
          2.5,
          1.5,
          1.5,
          7,
          2.5,
          7,
          8.5,
          4,
          12.5,
          7.5,
          1.5,
          2,
          4.5,
          8.5,
          2,
          0.633333333333333,
          6,
          1,
          1.5,
          4.5,
          5.5,
          1.5,
          14,
          0.566666666666666,
          4,
          2.5,
          4,
          0.566666666666666,
          5,
          2,
          6.5,
          4.5,
          48.5,
          1.5,
          2,
          1.5,
          1.5,
          7.5,
          3,
          8,
          25.5,
          0.583333333333333,
          1.5,
          2.5,
          0.516666666666666,
          5.5,
          1,
          1,
          4,
          2.5,
          1.5,
          15,
          6,
          3,
          1.5,
          5.5,
          0.566666666666666,
          22.5,
          0.65,
          2,
          10,
          8,
          1,
          3,
          3.5,
          3.5,
          16,
          3.5,
          4,
          5,
          0.733333333333333,
          0.566666666666666,
          4.5,
          3,
          2,
          6.5,
          5,
          3,
          22.5,
          0.65,
          7,
          3,
          2,
          2.5,
          5,
          4,
          9.5,
          1.5,
          2.5,
          16.5,
          3.5,
          2.5,
          3,
          1.5,
          3.5,
          0.7,
          1.5,
          2,
          3.5,
          6.5,
          11,
          7,
          2,
          3.5,
          6.5,
          6.5,
          6.5,
          66.5,
          1,
          12.5,
          4.5,
          0.633333333333333,
          0.633333333333333,
          1.5,
          1,
          1,
          1,
          5,
          0.533333333333333,
          1,
          6.5,
          2.5,
          1.5,
          2.5,
          0.6,
          2,
          0.516666666666666,
          14,
          4.5,
          10,
          5.5,
          0.616666666666666,
          2.5,
          15.5,
          2,
          3.5,
          8.5,
          1,
          2,
          0.616666666666666,
          2.5,
          1,
          15.5,
          2,
          3.5,
          3
         ],
         "y0": " ",
         "yaxis": "y"
        },
        {
         "alignmentgroup": "True",
         "hovertemplate": "level=%{x}<br>content_duration=%{y}<extra></extra>",
         "legendgroup": "Intermediate Level",
         "marker": {
          "color": "#EF553B"
         },
         "name": "Intermediate Level",
         "notched": false,
         "offsetgroup": "Intermediate Level",
         "orientation": "v",
         "showlegend": true,
         "type": "box",
         "x": [
          "Intermediate Level",
          "Intermediate Level",
          "Intermediate Level",
          "Intermediate Level",
          "Intermediate Level",
          "Intermediate Level",
          "Intermediate Level",
          "Intermediate Level",
          "Intermediate Level",
          "Intermediate Level",
          "Intermediate Level",
          "Intermediate Level",
          "Intermediate Level",
          "Intermediate Level",
          "Intermediate Level",
          "Intermediate Level",
          "Intermediate Level",
          "Intermediate Level",
          "Intermediate Level",
          "Intermediate Level",
          "Intermediate Level",
          "Intermediate Level",
          "Intermediate Level",
          "Intermediate Level",
          "Intermediate Level",
          "Intermediate Level",
          "Intermediate Level",
          "Intermediate Level",
          "Intermediate Level",
          "Intermediate Level",
          "Intermediate Level",
          "Intermediate Level",
          "Intermediate Level",
          "Intermediate Level",
          "Intermediate Level",
          "Intermediate Level",
          "Intermediate Level",
          "Intermediate Level",
          "Intermediate Level",
          "Intermediate Level",
          "Intermediate Level",
          "Intermediate Level",
          "Intermediate Level",
          "Intermediate Level",
          "Intermediate Level",
          "Intermediate Level",
          "Intermediate Level",
          "Intermediate Level",
          "Intermediate Level",
          "Intermediate Level",
          "Intermediate Level",
          "Intermediate Level",
          "Intermediate Level",
          "Intermediate Level",
          "Intermediate Level",
          "Intermediate Level",
          "Intermediate Level",
          "Intermediate Level",
          "Intermediate Level",
          "Intermediate Level",
          "Intermediate Level",
          "Intermediate Level",
          "Intermediate Level",
          "Intermediate Level",
          "Intermediate Level",
          "Intermediate Level",
          "Intermediate Level",
          "Intermediate Level",
          "Intermediate Level",
          "Intermediate Level",
          "Intermediate Level",
          "Intermediate Level",
          "Intermediate Level",
          "Intermediate Level",
          "Intermediate Level",
          "Intermediate Level",
          "Intermediate Level",
          "Intermediate Level",
          "Intermediate Level",
          "Intermediate Level",
          "Intermediate Level",
          "Intermediate Level",
          "Intermediate Level",
          "Intermediate Level",
          "Intermediate Level",
          "Intermediate Level",
          "Intermediate Level",
          "Intermediate Level",
          "Intermediate Level",
          "Intermediate Level",
          "Intermediate Level",
          "Intermediate Level",
          "Intermediate Level",
          "Intermediate Level",
          "Intermediate Level",
          "Intermediate Level",
          "Intermediate Level",
          "Intermediate Level",
          "Intermediate Level",
          "Intermediate Level",
          "Intermediate Level",
          "Intermediate Level",
          "Intermediate Level",
          "Intermediate Level",
          "Intermediate Level",
          "Intermediate Level",
          "Intermediate Level",
          "Intermediate Level",
          "Intermediate Level",
          "Intermediate Level",
          "Intermediate Level",
          "Intermediate Level",
          "Intermediate Level",
          "Intermediate Level",
          "Intermediate Level",
          "Intermediate Level",
          "Intermediate Level",
          "Intermediate Level",
          "Intermediate Level",
          "Intermediate Level",
          "Intermediate Level",
          "Intermediate Level",
          "Intermediate Level",
          "Intermediate Level",
          "Intermediate Level",
          "Intermediate Level",
          "Intermediate Level",
          "Intermediate Level",
          "Intermediate Level",
          "Intermediate Level",
          "Intermediate Level",
          "Intermediate Level",
          "Intermediate Level",
          "Intermediate Level",
          "Intermediate Level",
          "Intermediate Level",
          "Intermediate Level",
          "Intermediate Level",
          "Intermediate Level",
          "Intermediate Level",
          "Intermediate Level",
          "Intermediate Level",
          "Intermediate Level",
          "Intermediate Level",
          "Intermediate Level",
          "Intermediate Level",
          "Intermediate Level",
          "Intermediate Level",
          "Intermediate Level",
          "Intermediate Level",
          "Intermediate Level",
          "Intermediate Level",
          "Intermediate Level",
          "Intermediate Level",
          "Intermediate Level",
          "Intermediate Level",
          "Intermediate Level",
          "Intermediate Level",
          "Intermediate Level",
          "Intermediate Level",
          "Intermediate Level",
          "Intermediate Level",
          "Intermediate Level",
          "Intermediate Level",
          "Intermediate Level",
          "Intermediate Level",
          "Intermediate Level",
          "Intermediate Level",
          "Intermediate Level",
          "Intermediate Level",
          "Intermediate Level",
          "Intermediate Level",
          "Intermediate Level",
          "Intermediate Level",
          "Intermediate Level",
          "Intermediate Level",
          "Intermediate Level",
          "Intermediate Level",
          "Intermediate Level",
          "Intermediate Level",
          "Intermediate Level",
          "Intermediate Level",
          "Intermediate Level",
          "Intermediate Level",
          "Intermediate Level",
          "Intermediate Level",
          "Intermediate Level",
          "Intermediate Level",
          "Intermediate Level",
          "Intermediate Level",
          "Intermediate Level",
          "Intermediate Level",
          "Intermediate Level",
          "Intermediate Level",
          "Intermediate Level",
          "Intermediate Level",
          "Intermediate Level",
          "Intermediate Level",
          "Intermediate Level",
          "Intermediate Level",
          "Intermediate Level",
          "Intermediate Level",
          "Intermediate Level",
          "Intermediate Level",
          "Intermediate Level",
          "Intermediate Level",
          "Intermediate Level",
          "Intermediate Level",
          "Intermediate Level",
          "Intermediate Level",
          "Intermediate Level",
          "Intermediate Level",
          "Intermediate Level",
          "Intermediate Level",
          "Intermediate Level",
          "Intermediate Level",
          "Intermediate Level",
          "Intermediate Level",
          "Intermediate Level",
          "Intermediate Level",
          "Intermediate Level",
          "Intermediate Level",
          "Intermediate Level",
          "Intermediate Level",
          "Intermediate Level",
          "Intermediate Level",
          "Intermediate Level",
          "Intermediate Level",
          "Intermediate Level",
          "Intermediate Level",
          "Intermediate Level",
          "Intermediate Level",
          "Intermediate Level",
          "Intermediate Level",
          "Intermediate Level",
          "Intermediate Level",
          "Intermediate Level",
          "Intermediate Level",
          "Intermediate Level",
          "Intermediate Level",
          "Intermediate Level",
          "Intermediate Level",
          "Intermediate Level",
          "Intermediate Level",
          "Intermediate Level",
          "Intermediate Level",
          "Intermediate Level",
          "Intermediate Level",
          "Intermediate Level",
          "Intermediate Level",
          "Intermediate Level",
          "Intermediate Level",
          "Intermediate Level",
          "Intermediate Level",
          "Intermediate Level",
          "Intermediate Level",
          "Intermediate Level",
          "Intermediate Level",
          "Intermediate Level",
          "Intermediate Level",
          "Intermediate Level",
          "Intermediate Level",
          "Intermediate Level",
          "Intermediate Level",
          "Intermediate Level",
          "Intermediate Level",
          "Intermediate Level",
          "Intermediate Level",
          "Intermediate Level",
          "Intermediate Level",
          "Intermediate Level",
          "Intermediate Level",
          "Intermediate Level",
          "Intermediate Level",
          "Intermediate Level",
          "Intermediate Level",
          "Intermediate Level",
          "Intermediate Level",
          "Intermediate Level",
          "Intermediate Level",
          "Intermediate Level",
          "Intermediate Level",
          "Intermediate Level",
          "Intermediate Level",
          "Intermediate Level",
          "Intermediate Level",
          "Intermediate Level",
          "Intermediate Level",
          "Intermediate Level",
          "Intermediate Level",
          "Intermediate Level",
          "Intermediate Level",
          "Intermediate Level",
          "Intermediate Level",
          "Intermediate Level",
          "Intermediate Level",
          "Intermediate Level",
          "Intermediate Level",
          "Intermediate Level",
          "Intermediate Level",
          "Intermediate Level",
          "Intermediate Level",
          "Intermediate Level",
          "Intermediate Level",
          "Intermediate Level",
          "Intermediate Level",
          "Intermediate Level",
          "Intermediate Level",
          "Intermediate Level",
          "Intermediate Level",
          "Intermediate Level",
          "Intermediate Level",
          "Intermediate Level",
          "Intermediate Level",
          "Intermediate Level",
          "Intermediate Level",
          "Intermediate Level",
          "Intermediate Level",
          "Intermediate Level",
          "Intermediate Level",
          "Intermediate Level",
          "Intermediate Level",
          "Intermediate Level",
          "Intermediate Level",
          "Intermediate Level",
          "Intermediate Level",
          "Intermediate Level",
          "Intermediate Level",
          "Intermediate Level",
          "Intermediate Level",
          "Intermediate Level",
          "Intermediate Level",
          "Intermediate Level",
          "Intermediate Level",
          "Intermediate Level",
          "Intermediate Level",
          "Intermediate Level",
          "Intermediate Level",
          "Intermediate Level",
          "Intermediate Level",
          "Intermediate Level",
          "Intermediate Level",
          "Intermediate Level",
          "Intermediate Level",
          "Intermediate Level",
          "Intermediate Level",
          "Intermediate Level",
          "Intermediate Level",
          "Intermediate Level",
          "Intermediate Level",
          "Intermediate Level",
          "Intermediate Level",
          "Intermediate Level",
          "Intermediate Level",
          "Intermediate Level",
          "Intermediate Level",
          "Intermediate Level",
          "Intermediate Level",
          "Intermediate Level",
          "Intermediate Level",
          "Intermediate Level",
          "Intermediate Level",
          "Intermediate Level",
          "Intermediate Level",
          "Intermediate Level",
          "Intermediate Level",
          "Intermediate Level",
          "Intermediate Level",
          "Intermediate Level",
          "Intermediate Level",
          "Intermediate Level",
          "Intermediate Level",
          "Intermediate Level",
          "Intermediate Level",
          "Intermediate Level",
          "Intermediate Level",
          "Intermediate Level",
          "Intermediate Level",
          "Intermediate Level",
          "Intermediate Level",
          "Intermediate Level",
          "Intermediate Level",
          "Intermediate Level",
          "Intermediate Level",
          "Intermediate Level",
          "Intermediate Level",
          "Intermediate Level",
          "Intermediate Level",
          "Intermediate Level",
          "Intermediate Level",
          "Intermediate Level",
          "Intermediate Level",
          "Intermediate Level",
          "Intermediate Level",
          "Intermediate Level",
          "Intermediate Level",
          "Intermediate Level",
          "Intermediate Level",
          "Intermediate Level",
          "Intermediate Level",
          "Intermediate Level",
          "Intermediate Level",
          "Intermediate Level",
          "Intermediate Level",
          "Intermediate Level",
          "Intermediate Level",
          "Intermediate Level",
          "Intermediate Level",
          "Intermediate Level",
          "Intermediate Level",
          "Intermediate Level",
          "Intermediate Level",
          "Intermediate Level",
          "Intermediate Level",
          "Intermediate Level",
          "Intermediate Level",
          "Intermediate Level",
          "Intermediate Level",
          "Intermediate Level",
          "Intermediate Level",
          "Intermediate Level"
         ],
         "x0": " ",
         "xaxis": "x",
         "y": [
          2.5,
          2,
          1.5,
          2,
          10,
          1,
          2,
          1,
          1.5,
          2.5,
          3,
          1.5,
          3,
          0.55,
          2,
          2.5,
          3,
          1,
          1,
          1,
          1,
          1.5,
          6,
          2,
          1.5,
          1,
          2,
          2.5,
          4,
          4,
          2.5,
          4,
          3,
          3,
          0.5,
          6.5,
          2,
          3.5,
          2,
          1.5,
          2,
          0.716666666666666,
          0.566666666666666,
          2,
          12.5,
          1,
          8,
          1,
          2,
          2,
          2,
          1,
          1,
          6.5,
          1,
          1.5,
          3,
          1,
          3.5,
          1.5,
          5,
          2.5,
          2.5,
          1.5,
          1.5,
          1.5,
          1,
          0.55,
          1,
          0.666666666666666,
          6.5,
          1.5,
          7,
          4,
          0.533333333333333,
          4.5,
          1.5,
          2,
          2,
          2,
          2.5,
          4.5,
          1,
          1,
          1,
          1,
          2.5,
          2.5,
          1,
          0.633333333333333,
          0.533333333333333,
          3,
          1.5,
          2.5,
          2,
          2.5,
          31.5,
          1.5,
          2.5,
          1.5,
          2.5,
          1.5,
          1,
          1,
          2,
          2.5,
          31.5,
          1,
          5.5,
          1.5,
          2,
          4.5,
          1,
          2,
          1.5,
          1,
          1,
          1.5,
          1.5,
          3.5,
          5.5,
          8.5,
          6.5,
          1.5,
          0.716666666666666,
          0.633333333333333,
          0.616666666666666,
          2,
          1.5,
          0.5,
          1,
          2,
          2,
          1.5,
          0.516666666666666,
          12,
          4.5,
          9.5,
          0.516666666666666,
          1.5,
          2.5,
          12.5,
          1,
          1,
          0.616666666666666,
          1.5,
          0.683333333333333,
          1,
          2,
          8.5,
          1,
          4.5,
          1,
          0.616666666666666,
          1,
          4,
          0.583333333333333,
          1,
          0.55,
          2,
          0.616666666666666,
          2.5,
          20,
          1,
          1,
          4.5,
          2,
          7.5,
          0.633333333333333,
          0.716666666666666,
          1,
          3,
          5,
          4.5,
          2,
          5,
          0.5,
          4.5,
          2,
          1,
          1.5,
          2,
          1.5,
          2,
          1.5,
          1,
          1.5,
          2.5,
          1.5,
          0.5,
          2.5,
          5.5,
          2.5,
          2,
          2,
          2.5,
          11.5,
          1.5,
          4.5,
          2.5,
          2,
          11.5,
          1.5,
          6.5,
          3,
          5,
          1.5,
          1.5,
          2.5,
          1,
          1,
          28.5,
          0.616666666666666,
          2.5,
          1,
          1.5,
          1.5,
          0.733333333333333,
          1,
          2,
          1,
          12.5,
          5,
          2.5,
          1.5,
          2,
          3,
          2,
          2,
          5.5,
          2,
          1,
          2,
          1.5,
          1,
          1.5,
          2,
          4.5,
          4,
          4.5,
          6,
          3,
          8.5,
          8,
          4,
          2,
          2,
          2,
          2.5,
          1,
          2,
          5.5,
          1.5,
          2.5,
          1.5,
          4,
          5.5,
          0.666666666666666,
          2.5,
          7,
          7.5,
          1,
          1.5,
          7.5,
          5.5,
          1.5,
          4,
          2,
          1,
          4,
          2,
          1.5,
          1,
          2,
          1.5,
          3.5,
          0.65,
          1.5,
          0.733333333333333,
          1.5,
          1,
          4.5,
          1.5,
          3,
          2.5,
          0.566666666666666,
          15.5,
          5.5,
          3.5,
          9.5,
          19,
          3.5,
          2,
          1.5,
          1,
          7,
          5.5,
          10,
          1,
          8.5,
          10.5,
          4.5,
          8.5,
          12,
          4,
          2,
          2,
          1,
          1,
          18.5,
          4.5,
          0.55,
          6,
          14,
          16.5,
          15.5,
          2,
          1,
          19,
          3.5,
          7,
          2.5,
          2.5,
          8.5,
          5.5,
          10.5,
          1.5,
          11,
          8,
          6.5,
          7.5,
          4,
          3.5,
          2.5,
          3,
          0.533333333333333,
          10.5,
          1,
          3,
          7.5,
          0.616666666666666,
          3,
          3,
          4,
          6,
          5,
          1,
          1.5,
          1,
          1,
          1,
          5.5,
          9,
          1.5,
          5,
          5,
          3,
          4.5,
          4.5,
          6,
          10.5,
          12.5,
          4.5,
          6.5,
          2,
          3.5,
          12,
          6,
          13,
          3,
          14,
          1.5,
          1,
          2,
          1.5,
          1,
          2,
          3,
          5.5,
          2,
          7,
          2.5,
          4.5,
          3.5,
          13.5,
          2,
          3,
          1,
          2,
          6,
          6,
          1,
          1,
          4,
          0.716666666666666,
          1,
          3.5,
          5.5,
          3.5,
          25.5,
          2,
          0.583333333333333,
          3,
          3.5,
          12.5,
          6.5,
          23.5,
          1.5,
          2,
          2,
          2.5,
          2,
          2.5,
          3.5,
          1,
          11.5,
          2,
          19.5,
          1.5,
          3,
          1.5
         ],
         "y0": " ",
         "yaxis": "y"
        },
        {
         "alignmentgroup": "True",
         "hovertemplate": "level=%{x}<br>content_duration=%{y}<extra></extra>",
         "legendgroup": "Beginner Level",
         "marker": {
          "color": "#00cc96"
         },
         "name": "Beginner Level",
         "notched": false,
         "offsetgroup": "Beginner Level",
         "orientation": "v",
         "showlegend": true,
         "type": "box",
         "x": [
          "Beginner Level",
          "Beginner Level",
          "Beginner Level",
          "Beginner Level",
          "Beginner Level",
          "Beginner Level",
          "Beginner Level",
          "Beginner Level",
          "Beginner Level",
          "Beginner Level",
          "Beginner Level",
          "Beginner Level",
          "Beginner Level",
          "Beginner Level",
          "Beginner Level",
          "Beginner Level",
          "Beginner Level",
          "Beginner Level",
          "Beginner Level",
          "Beginner Level",
          "Beginner Level",
          "Beginner Level",
          "Beginner Level",
          "Beginner Level",
          "Beginner Level",
          "Beginner Level",
          "Beginner Level",
          "Beginner Level",
          "Beginner Level",
          "Beginner Level",
          "Beginner Level",
          "Beginner Level",
          "Beginner Level",
          "Beginner Level",
          "Beginner Level",
          "Beginner Level",
          "Beginner Level",
          "Beginner Level",
          "Beginner Level",
          "Beginner Level",
          "Beginner Level",
          "Beginner Level",
          "Beginner Level",
          "Beginner Level",
          "Beginner Level",
          "Beginner Level",
          "Beginner Level",
          "Beginner Level",
          "Beginner Level",
          "Beginner Level",
          "Beginner Level",
          "Beginner Level",
          "Beginner Level",
          "Beginner Level",
          "Beginner Level",
          "Beginner Level",
          "Beginner Level",
          "Beginner Level",
          "Beginner Level",
          "Beginner Level",
          "Beginner Level",
          "Beginner Level",
          "Beginner Level",
          "Beginner Level",
          "Beginner Level",
          "Beginner Level",
          "Beginner Level",
          "Beginner Level",
          "Beginner Level",
          "Beginner Level",
          "Beginner Level",
          "Beginner Level",
          "Beginner Level",
          "Beginner Level",
          "Beginner Level",
          "Beginner Level",
          "Beginner Level",
          "Beginner Level",
          "Beginner Level",
          "Beginner Level",
          "Beginner Level",
          "Beginner Level",
          "Beginner Level",
          "Beginner Level",
          "Beginner Level",
          "Beginner Level",
          "Beginner Level",
          "Beginner Level",
          "Beginner Level",
          "Beginner Level",
          "Beginner Level",
          "Beginner Level",
          "Beginner Level",
          "Beginner Level",
          "Beginner Level",
          "Beginner Level",
          "Beginner Level",
          "Beginner Level",
          "Beginner Level",
          "Beginner Level",
          "Beginner Level",
          "Beginner Level",
          "Beginner Level",
          "Beginner Level",
          "Beginner Level",
          "Beginner Level",
          "Beginner Level",
          "Beginner Level",
          "Beginner Level",
          "Beginner Level",
          "Beginner Level",
          "Beginner Level",
          "Beginner Level",
          "Beginner Level",
          "Beginner Level",
          "Beginner Level",
          "Beginner Level",
          "Beginner Level",
          "Beginner Level",
          "Beginner Level",
          "Beginner Level",
          "Beginner Level",
          "Beginner Level",
          "Beginner Level",
          "Beginner Level",
          "Beginner Level",
          "Beginner Level",
          "Beginner Level",
          "Beginner Level",
          "Beginner Level",
          "Beginner Level",
          "Beginner Level",
          "Beginner Level",
          "Beginner Level",
          "Beginner Level",
          "Beginner Level",
          "Beginner Level",
          "Beginner Level",
          "Beginner Level",
          "Beginner Level",
          "Beginner Level",
          "Beginner Level",
          "Beginner Level",
          "Beginner Level",
          "Beginner Level",
          "Beginner Level",
          "Beginner Level",
          "Beginner Level",
          "Beginner Level",
          "Beginner Level",
          "Beginner Level",
          "Beginner Level",
          "Beginner Level",
          "Beginner Level",
          "Beginner Level",
          "Beginner Level",
          "Beginner Level",
          "Beginner Level",
          "Beginner Level",
          "Beginner Level",
          "Beginner Level",
          "Beginner Level",
          "Beginner Level",
          "Beginner Level",
          "Beginner Level",
          "Beginner Level",
          "Beginner Level",
          "Beginner Level",
          "Beginner Level",
          "Beginner Level",
          "Beginner Level",
          "Beginner Level",
          "Beginner Level",
          "Beginner Level",
          "Beginner Level",
          "Beginner Level",
          "Beginner Level",
          "Beginner Level",
          "Beginner Level",
          "Beginner Level",
          "Beginner Level",
          "Beginner Level",
          "Beginner Level",
          "Beginner Level",
          "Beginner Level",
          "Beginner Level",
          "Beginner Level",
          "Beginner Level",
          "Beginner Level",
          "Beginner Level",
          "Beginner Level",
          "Beginner Level",
          "Beginner Level",
          "Beginner Level",
          "Beginner Level",
          "Beginner Level",
          "Beginner Level",
          "Beginner Level",
          "Beginner Level",
          "Beginner Level",
          "Beginner Level",
          "Beginner Level",
          "Beginner Level",
          "Beginner Level",
          "Beginner Level",
          "Beginner Level",
          "Beginner Level",
          "Beginner Level",
          "Beginner Level",
          "Beginner Level",
          "Beginner Level",
          "Beginner Level",
          "Beginner Level",
          "Beginner Level",
          "Beginner Level",
          "Beginner Level",
          "Beginner Level",
          "Beginner Level",
          "Beginner Level",
          "Beginner Level",
          "Beginner Level",
          "Beginner Level",
          "Beginner Level",
          "Beginner Level",
          "Beginner Level",
          "Beginner Level",
          "Beginner Level",
          "Beginner Level",
          "Beginner Level",
          "Beginner Level",
          "Beginner Level",
          "Beginner Level",
          "Beginner Level",
          "Beginner Level",
          "Beginner Level",
          "Beginner Level",
          "Beginner Level",
          "Beginner Level",
          "Beginner Level",
          "Beginner Level",
          "Beginner Level",
          "Beginner Level",
          "Beginner Level",
          "Beginner Level",
          "Beginner Level",
          "Beginner Level",
          "Beginner Level",
          "Beginner Level",
          "Beginner Level",
          "Beginner Level",
          "Beginner Level",
          "Beginner Level",
          "Beginner Level",
          "Beginner Level",
          "Beginner Level",
          "Beginner Level",
          "Beginner Level",
          "Beginner Level",
          "Beginner Level",
          "Beginner Level",
          "Beginner Level",
          "Beginner Level",
          "Beginner Level",
          "Beginner Level",
          "Beginner Level",
          "Beginner Level",
          "Beginner Level",
          "Beginner Level",
          "Beginner Level",
          "Beginner Level",
          "Beginner Level",
          "Beginner Level",
          "Beginner Level",
          "Beginner Level",
          "Beginner Level",
          "Beginner Level",
          "Beginner Level",
          "Beginner Level",
          "Beginner Level",
          "Beginner Level",
          "Beginner Level",
          "Beginner Level",
          "Beginner Level",
          "Beginner Level",
          "Beginner Level",
          "Beginner Level",
          "Beginner Level",
          "Beginner Level",
          "Beginner Level",
          "Beginner Level",
          "Beginner Level",
          "Beginner Level",
          "Beginner Level",
          "Beginner Level",
          "Beginner Level",
          "Beginner Level",
          "Beginner Level",
          "Beginner Level",
          "Beginner Level",
          "Beginner Level",
          "Beginner Level",
          "Beginner Level",
          "Beginner Level",
          "Beginner Level",
          "Beginner Level",
          "Beginner Level",
          "Beginner Level",
          "Beginner Level",
          "Beginner Level",
          "Beginner Level",
          "Beginner Level",
          "Beginner Level",
          "Beginner Level",
          "Beginner Level",
          "Beginner Level",
          "Beginner Level",
          "Beginner Level",
          "Beginner Level",
          "Beginner Level",
          "Beginner Level",
          "Beginner Level",
          "Beginner Level",
          "Beginner Level",
          "Beginner Level",
          "Beginner Level",
          "Beginner Level",
          "Beginner Level",
          "Beginner Level",
          "Beginner Level",
          "Beginner Level",
          "Beginner Level",
          "Beginner Level",
          "Beginner Level",
          "Beginner Level",
          "Beginner Level",
          "Beginner Level",
          "Beginner Level",
          "Beginner Level",
          "Beginner Level",
          "Beginner Level",
          "Beginner Level",
          "Beginner Level",
          "Beginner Level",
          "Beginner Level",
          "Beginner Level",
          "Beginner Level",
          "Beginner Level",
          "Beginner Level",
          "Beginner Level",
          "Beginner Level",
          "Beginner Level",
          "Beginner Level",
          "Beginner Level",
          "Beginner Level",
          "Beginner Level",
          "Beginner Level",
          "Beginner Level",
          "Beginner Level",
          "Beginner Level",
          "Beginner Level",
          "Beginner Level",
          "Beginner Level",
          "Beginner Level",
          "Beginner Level",
          "Beginner Level",
          "Beginner Level",
          "Beginner Level",
          "Beginner Level",
          "Beginner Level",
          "Beginner Level",
          "Beginner Level",
          "Beginner Level",
          "Beginner Level",
          "Beginner Level",
          "Beginner Level",
          "Beginner Level",
          "Beginner Level",
          "Beginner Level",
          "Beginner Level",
          "Beginner Level",
          "Beginner Level",
          "Beginner Level",
          "Beginner Level",
          "Beginner Level",
          "Beginner Level",
          "Beginner Level",
          "Beginner Level",
          "Beginner Level",
          "Beginner Level",
          "Beginner Level",
          "Beginner Level",
          "Beginner Level",
          "Beginner Level",
          "Beginner Level",
          "Beginner Level",
          "Beginner Level",
          "Beginner Level",
          "Beginner Level",
          "Beginner Level",
          "Beginner Level",
          "Beginner Level",
          "Beginner Level",
          "Beginner Level",
          "Beginner Level",
          "Beginner Level",
          "Beginner Level",
          "Beginner Level",
          "Beginner Level",
          "Beginner Level",
          "Beginner Level",
          "Beginner Level",
          "Beginner Level",
          "Beginner Level",
          "Beginner Level",
          "Beginner Level",
          "Beginner Level",
          "Beginner Level",
          "Beginner Level",
          "Beginner Level",
          "Beginner Level",
          "Beginner Level",
          "Beginner Level",
          "Beginner Level",
          "Beginner Level",
          "Beginner Level",
          "Beginner Level",
          "Beginner Level",
          "Beginner Level",
          "Beginner Level",
          "Beginner Level",
          "Beginner Level",
          "Beginner Level",
          "Beginner Level",
          "Beginner Level",
          "Beginner Level",
          "Beginner Level",
          "Beginner Level",
          "Beginner Level",
          "Beginner Level",
          "Beginner Level",
          "Beginner Level",
          "Beginner Level",
          "Beginner Level",
          "Beginner Level",
          "Beginner Level",
          "Beginner Level",
          "Beginner Level",
          "Beginner Level",
          "Beginner Level",
          "Beginner Level",
          "Beginner Level",
          "Beginner Level",
          "Beginner Level",
          "Beginner Level",
          "Beginner Level",
          "Beginner Level",
          "Beginner Level",
          "Beginner Level",
          "Beginner Level",
          "Beginner Level",
          "Beginner Level",
          "Beginner Level",
          "Beginner Level",
          "Beginner Level",
          "Beginner Level",
          "Beginner Level",
          "Beginner Level",
          "Beginner Level",
          "Beginner Level",
          "Beginner Level",
          "Beginner Level",
          "Beginner Level",
          "Beginner Level",
          "Beginner Level",
          "Beginner Level",
          "Beginner Level",
          "Beginner Level",
          "Beginner Level",
          "Beginner Level",
          "Beginner Level",
          "Beginner Level",
          "Beginner Level",
          "Beginner Level",
          "Beginner Level",
          "Beginner Level",
          "Beginner Level",
          "Beginner Level",
          "Beginner Level",
          "Beginner Level",
          "Beginner Level",
          "Beginner Level",
          "Beginner Level",
          "Beginner Level",
          "Beginner Level",
          "Beginner Level",
          "Beginner Level",
          "Beginner Level",
          "Beginner Level",
          "Beginner Level",
          "Beginner Level",
          "Beginner Level",
          "Beginner Level",
          "Beginner Level",
          "Beginner Level",
          "Beginner Level",
          "Beginner Level",
          "Beginner Level",
          "Beginner Level",
          "Beginner Level",
          "Beginner Level",
          "Beginner Level",
          "Beginner Level",
          "Beginner Level",
          "Beginner Level",
          "Beginner Level",
          "Beginner Level",
          "Beginner Level",
          "Beginner Level",
          "Beginner Level",
          "Beginner Level",
          "Beginner Level",
          "Beginner Level",
          "Beginner Level",
          "Beginner Level",
          "Beginner Level",
          "Beginner Level",
          "Beginner Level",
          "Beginner Level",
          "Beginner Level",
          "Beginner Level",
          "Beginner Level",
          "Beginner Level",
          "Beginner Level",
          "Beginner Level",
          "Beginner Level",
          "Beginner Level",
          "Beginner Level",
          "Beginner Level",
          "Beginner Level",
          "Beginner Level",
          "Beginner Level",
          "Beginner Level",
          "Beginner Level",
          "Beginner Level",
          "Beginner Level",
          "Beginner Level",
          "Beginner Level",
          "Beginner Level",
          "Beginner Level",
          "Beginner Level",
          "Beginner Level",
          "Beginner Level",
          "Beginner Level",
          "Beginner Level",
          "Beginner Level",
          "Beginner Level",
          "Beginner Level",
          "Beginner Level",
          "Beginner Level",
          "Beginner Level",
          "Beginner Level",
          "Beginner Level",
          "Beginner Level",
          "Beginner Level",
          "Beginner Level",
          "Beginner Level",
          "Beginner Level",
          "Beginner Level",
          "Beginner Level",
          "Beginner Level",
          "Beginner Level",
          "Beginner Level",
          "Beginner Level",
          "Beginner Level",
          "Beginner Level",
          "Beginner Level",
          "Beginner Level",
          "Beginner Level",
          "Beginner Level",
          "Beginner Level",
          "Beginner Level",
          "Beginner Level",
          "Beginner Level",
          "Beginner Level",
          "Beginner Level",
          "Beginner Level",
          "Beginner Level",
          "Beginner Level",
          "Beginner Level",
          "Beginner Level",
          "Beginner Level",
          "Beginner Level",
          "Beginner Level",
          "Beginner Level",
          "Beginner Level",
          "Beginner Level",
          "Beginner Level",
          "Beginner Level",
          "Beginner Level",
          "Beginner Level",
          "Beginner Level",
          "Beginner Level",
          "Beginner Level",
          "Beginner Level",
          "Beginner Level",
          "Beginner Level",
          "Beginner Level",
          "Beginner Level",
          "Beginner Level",
          "Beginner Level",
          "Beginner Level",
          "Beginner Level",
          "Beginner Level",
          "Beginner Level",
          "Beginner Level",
          "Beginner Level",
          "Beginner Level",
          "Beginner Level",
          "Beginner Level",
          "Beginner Level",
          "Beginner Level",
          "Beginner Level",
          "Beginner Level",
          "Beginner Level",
          "Beginner Level",
          "Beginner Level",
          "Beginner Level",
          "Beginner Level",
          "Beginner Level",
          "Beginner Level",
          "Beginner Level",
          "Beginner Level",
          "Beginner Level",
          "Beginner Level",
          "Beginner Level",
          "Beginner Level",
          "Beginner Level",
          "Beginner Level",
          "Beginner Level",
          "Beginner Level",
          "Beginner Level",
          "Beginner Level",
          "Beginner Level",
          "Beginner Level",
          "Beginner Level",
          "Beginner Level",
          "Beginner Level",
          "Beginner Level",
          "Beginner Level",
          "Beginner Level",
          "Beginner Level",
          "Beginner Level",
          "Beginner Level",
          "Beginner Level",
          "Beginner Level",
          "Beginner Level",
          "Beginner Level",
          "Beginner Level",
          "Beginner Level",
          "Beginner Level",
          "Beginner Level",
          "Beginner Level",
          "Beginner Level",
          "Beginner Level",
          "Beginner Level",
          "Beginner Level",
          "Beginner Level",
          "Beginner Level",
          "Beginner Level",
          "Beginner Level",
          "Beginner Level",
          "Beginner Level",
          "Beginner Level",
          "Beginner Level",
          "Beginner Level",
          "Beginner Level",
          "Beginner Level",
          "Beginner Level",
          "Beginner Level",
          "Beginner Level",
          "Beginner Level",
          "Beginner Level",
          "Beginner Level",
          "Beginner Level",
          "Beginner Level",
          "Beginner Level",
          "Beginner Level",
          "Beginner Level",
          "Beginner Level",
          "Beginner Level",
          "Beginner Level",
          "Beginner Level",
          "Beginner Level",
          "Beginner Level",
          "Beginner Level",
          "Beginner Level",
          "Beginner Level",
          "Beginner Level",
          "Beginner Level",
          "Beginner Level",
          "Beginner Level",
          "Beginner Level",
          "Beginner Level",
          "Beginner Level",
          "Beginner Level",
          "Beginner Level",
          "Beginner Level",
          "Beginner Level",
          "Beginner Level",
          "Beginner Level",
          "Beginner Level",
          "Beginner Level",
          "Beginner Level",
          "Beginner Level",
          "Beginner Level",
          "Beginner Level",
          "Beginner Level",
          "Beginner Level",
          "Beginner Level",
          "Beginner Level",
          "Beginner Level",
          "Beginner Level",
          "Beginner Level",
          "Beginner Level",
          "Beginner Level",
          "Beginner Level",
          "Beginner Level",
          "Beginner Level",
          "Beginner Level",
          "Beginner Level",
          "Beginner Level",
          "Beginner Level",
          "Beginner Level",
          "Beginner Level",
          "Beginner Level",
          "Beginner Level",
          "Beginner Level",
          "Beginner Level",
          "Beginner Level",
          "Beginner Level",
          "Beginner Level",
          "Beginner Level",
          "Beginner Level",
          "Beginner Level",
          "Beginner Level",
          "Beginner Level",
          "Beginner Level",
          "Beginner Level",
          "Beginner Level",
          "Beginner Level",
          "Beginner Level",
          "Beginner Level",
          "Beginner Level",
          "Beginner Level",
          "Beginner Level",
          "Beginner Level",
          "Beginner Level",
          "Beginner Level",
          "Beginner Level",
          "Beginner Level",
          "Beginner Level",
          "Beginner Level",
          "Beginner Level",
          "Beginner Level",
          "Beginner Level",
          "Beginner Level",
          "Beginner Level",
          "Beginner Level",
          "Beginner Level",
          "Beginner Level",
          "Beginner Level",
          "Beginner Level",
          "Beginner Level",
          "Beginner Level",
          "Beginner Level",
          "Beginner Level",
          "Beginner Level",
          "Beginner Level",
          "Beginner Level",
          "Beginner Level",
          "Beginner Level",
          "Beginner Level",
          "Beginner Level",
          "Beginner Level",
          "Beginner Level",
          "Beginner Level",
          "Beginner Level",
          "Beginner Level",
          "Beginner Level",
          "Beginner Level",
          "Beginner Level",
          "Beginner Level",
          "Beginner Level",
          "Beginner Level",
          "Beginner Level",
          "Beginner Level",
          "Beginner Level",
          "Beginner Level",
          "Beginner Level",
          "Beginner Level",
          "Beginner Level",
          "Beginner Level",
          "Beginner Level",
          "Beginner Level",
          "Beginner Level",
          "Beginner Level",
          "Beginner Level",
          "Beginner Level",
          "Beginner Level",
          "Beginner Level",
          "Beginner Level",
          "Beginner Level",
          "Beginner Level",
          "Beginner Level",
          "Beginner Level",
          "Beginner Level",
          "Beginner Level",
          "Beginner Level",
          "Beginner Level",
          "Beginner Level",
          "Beginner Level",
          "Beginner Level",
          "Beginner Level",
          "Beginner Level",
          "Beginner Level",
          "Beginner Level",
          "Beginner Level",
          "Beginner Level",
          "Beginner Level",
          "Beginner Level",
          "Beginner Level",
          "Beginner Level",
          "Beginner Level",
          "Beginner Level",
          "Beginner Level",
          "Beginner Level",
          "Beginner Level",
          "Beginner Level",
          "Beginner Level",
          "Beginner Level",
          "Beginner Level",
          "Beginner Level",
          "Beginner Level",
          "Beginner Level",
          "Beginner Level",
          "Beginner Level",
          "Beginner Level",
          "Beginner Level",
          "Beginner Level",
          "Beginner Level",
          "Beginner Level",
          "Beginner Level",
          "Beginner Level",
          "Beginner Level",
          "Beginner Level",
          "Beginner Level",
          "Beginner Level",
          "Beginner Level",
          "Beginner Level",
          "Beginner Level",
          "Beginner Level",
          "Beginner Level",
          "Beginner Level",
          "Beginner Level",
          "Beginner Level",
          "Beginner Level",
          "Beginner Level",
          "Beginner Level",
          "Beginner Level",
          "Beginner Level",
          "Beginner Level",
          "Beginner Level",
          "Beginner Level",
          "Beginner Level",
          "Beginner Level",
          "Beginner Level",
          "Beginner Level",
          "Beginner Level",
          "Beginner Level",
          "Beginner Level",
          "Beginner Level",
          "Beginner Level",
          "Beginner Level",
          "Beginner Level",
          "Beginner Level",
          "Beginner Level",
          "Beginner Level",
          "Beginner Level",
          "Beginner Level",
          "Beginner Level",
          "Beginner Level",
          "Beginner Level",
          "Beginner Level",
          "Beginner Level",
          "Beginner Level",
          "Beginner Level",
          "Beginner Level",
          "Beginner Level",
          "Beginner Level",
          "Beginner Level",
          "Beginner Level",
          "Beginner Level",
          "Beginner Level",
          "Beginner Level",
          "Beginner Level",
          "Beginner Level",
          "Beginner Level",
          "Beginner Level",
          "Beginner Level",
          "Beginner Level",
          "Beginner Level",
          "Beginner Level",
          "Beginner Level",
          "Beginner Level",
          "Beginner Level",
          "Beginner Level",
          "Beginner Level",
          "Beginner Level",
          "Beginner Level",
          "Beginner Level",
          "Beginner Level",
          "Beginner Level",
          "Beginner Level",
          "Beginner Level",
          "Beginner Level",
          "Beginner Level",
          "Beginner Level",
          "Beginner Level",
          "Beginner Level",
          "Beginner Level",
          "Beginner Level",
          "Beginner Level",
          "Beginner Level",
          "Beginner Level",
          "Beginner Level",
          "Beginner Level",
          "Beginner Level",
          "Beginner Level",
          "Beginner Level",
          "Beginner Level",
          "Beginner Level",
          "Beginner Level",
          "Beginner Level",
          "Beginner Level",
          "Beginner Level",
          "Beginner Level",
          "Beginner Level",
          "Beginner Level",
          "Beginner Level",
          "Beginner Level",
          "Beginner Level",
          "Beginner Level",
          "Beginner Level",
          "Beginner Level",
          "Beginner Level",
          "Beginner Level",
          "Beginner Level",
          "Beginner Level",
          "Beginner Level",
          "Beginner Level",
          "Beginner Level",
          "Beginner Level",
          "Beginner Level",
          "Beginner Level",
          "Beginner Level",
          "Beginner Level",
          "Beginner Level",
          "Beginner Level",
          "Beginner Level",
          "Beginner Level",
          "Beginner Level",
          "Beginner Level",
          "Beginner Level",
          "Beginner Level",
          "Beginner Level",
          "Beginner Level",
          "Beginner Level",
          "Beginner Level",
          "Beginner Level",
          "Beginner Level",
          "Beginner Level",
          "Beginner Level",
          "Beginner Level",
          "Beginner Level",
          "Beginner Level",
          "Beginner Level",
          "Beginner Level",
          "Beginner Level",
          "Beginner Level",
          "Beginner Level",
          "Beginner Level",
          "Beginner Level",
          "Beginner Level",
          "Beginner Level",
          "Beginner Level",
          "Beginner Level",
          "Beginner Level",
          "Beginner Level",
          "Beginner Level",
          "Beginner Level",
          "Beginner Level",
          "Beginner Level",
          "Beginner Level",
          "Beginner Level",
          "Beginner Level",
          "Beginner Level",
          "Beginner Level",
          "Beginner Level",
          "Beginner Level",
          "Beginner Level",
          "Beginner Level",
          "Beginner Level",
          "Beginner Level",
          "Beginner Level",
          "Beginner Level",
          "Beginner Level",
          "Beginner Level",
          "Beginner Level",
          "Beginner Level",
          "Beginner Level",
          "Beginner Level",
          "Beginner Level",
          "Beginner Level",
          "Beginner Level",
          "Beginner Level",
          "Beginner Level",
          "Beginner Level",
          "Beginner Level",
          "Beginner Level",
          "Beginner Level",
          "Beginner Level",
          "Beginner Level",
          "Beginner Level",
          "Beginner Level",
          "Beginner Level",
          "Beginner Level",
          "Beginner Level",
          "Beginner Level",
          "Beginner Level",
          "Beginner Level",
          "Beginner Level",
          "Beginner Level",
          "Beginner Level",
          "Beginner Level",
          "Beginner Level",
          "Beginner Level",
          "Beginner Level",
          "Beginner Level",
          "Beginner Level",
          "Beginner Level",
          "Beginner Level",
          "Beginner Level",
          "Beginner Level",
          "Beginner Level",
          "Beginner Level",
          "Beginner Level",
          "Beginner Level",
          "Beginner Level",
          "Beginner Level",
          "Beginner Level",
          "Beginner Level",
          "Beginner Level",
          "Beginner Level",
          "Beginner Level",
          "Beginner Level",
          "Beginner Level",
          "Beginner Level",
          "Beginner Level",
          "Beginner Level",
          "Beginner Level",
          "Beginner Level",
          "Beginner Level",
          "Beginner Level",
          "Beginner Level",
          "Beginner Level",
          "Beginner Level",
          "Beginner Level",
          "Beginner Level",
          "Beginner Level",
          "Beginner Level",
          "Beginner Level",
          "Beginner Level",
          "Beginner Level",
          "Beginner Level",
          "Beginner Level",
          "Beginner Level",
          "Beginner Level",
          "Beginner Level",
          "Beginner Level",
          "Beginner Level",
          "Beginner Level",
          "Beginner Level",
          "Beginner Level",
          "Beginner Level",
          "Beginner Level",
          "Beginner Level",
          "Beginner Level",
          "Beginner Level",
          "Beginner Level",
          "Beginner Level",
          "Beginner Level",
          "Beginner Level",
          "Beginner Level",
          "Beginner Level",
          "Beginner Level",
          "Beginner Level",
          "Beginner Level",
          "Beginner Level",
          "Beginner Level",
          "Beginner Level",
          "Beginner Level",
          "Beginner Level",
          "Beginner Level",
          "Beginner Level",
          "Beginner Level",
          "Beginner Level",
          "Beginner Level",
          "Beginner Level",
          "Beginner Level",
          "Beginner Level",
          "Beginner Level",
          "Beginner Level",
          "Beginner Level",
          "Beginner Level",
          "Beginner Level",
          "Beginner Level",
          "Beginner Level",
          "Beginner Level",
          "Beginner Level",
          "Beginner Level",
          "Beginner Level",
          "Beginner Level",
          "Beginner Level",
          "Beginner Level",
          "Beginner Level",
          "Beginner Level",
          "Beginner Level",
          "Beginner Level",
          "Beginner Level",
          "Beginner Level",
          "Beginner Level",
          "Beginner Level",
          "Beginner Level",
          "Beginner Level",
          "Beginner Level",
          "Beginner Level",
          "Beginner Level",
          "Beginner Level",
          "Beginner Level",
          "Beginner Level",
          "Beginner Level",
          "Beginner Level",
          "Beginner Level",
          "Beginner Level",
          "Beginner Level",
          "Beginner Level",
          "Beginner Level",
          "Beginner Level",
          "Beginner Level",
          "Beginner Level",
          "Beginner Level",
          "Beginner Level",
          "Beginner Level",
          "Beginner Level",
          "Beginner Level",
          "Beginner Level",
          "Beginner Level",
          "Beginner Level",
          "Beginner Level",
          "Beginner Level",
          "Beginner Level",
          "Beginner Level",
          "Beginner Level",
          "Beginner Level",
          "Beginner Level",
          "Beginner Level",
          "Beginner Level",
          "Beginner Level",
          "Beginner Level",
          "Beginner Level",
          "Beginner Level",
          "Beginner Level",
          "Beginner Level",
          "Beginner Level",
          "Beginner Level",
          "Beginner Level",
          "Beginner Level",
          "Beginner Level",
          "Beginner Level",
          "Beginner Level",
          "Beginner Level",
          "Beginner Level",
          "Beginner Level",
          "Beginner Level",
          "Beginner Level",
          "Beginner Level",
          "Beginner Level",
          "Beginner Level",
          "Beginner Level",
          "Beginner Level",
          "Beginner Level",
          "Beginner Level",
          "Beginner Level",
          "Beginner Level",
          "Beginner Level",
          "Beginner Level",
          "Beginner Level",
          "Beginner Level",
          "Beginner Level",
          "Beginner Level",
          "Beginner Level",
          "Beginner Level",
          "Beginner Level",
          "Beginner Level",
          "Beginner Level",
          "Beginner Level",
          "Beginner Level",
          "Beginner Level",
          "Beginner Level",
          "Beginner Level",
          "Beginner Level",
          "Beginner Level",
          "Beginner Level",
          "Beginner Level",
          "Beginner Level",
          "Beginner Level",
          "Beginner Level",
          "Beginner Level",
          "Beginner Level",
          "Beginner Level",
          "Beginner Level",
          "Beginner Level",
          "Beginner Level",
          "Beginner Level",
          "Beginner Level",
          "Beginner Level",
          "Beginner Level",
          "Beginner Level",
          "Beginner Level",
          "Beginner Level",
          "Beginner Level",
          "Beginner Level",
          "Beginner Level",
          "Beginner Level",
          "Beginner Level",
          "Beginner Level",
          "Beginner Level",
          "Beginner Level",
          "Beginner Level",
          "Beginner Level",
          "Beginner Level",
          "Beginner Level",
          "Beginner Level",
          "Beginner Level",
          "Beginner Level",
          "Beginner Level",
          "Beginner Level",
          "Beginner Level",
          "Beginner Level",
          "Beginner Level",
          "Beginner Level",
          "Beginner Level",
          "Beginner Level",
          "Beginner Level",
          "Beginner Level",
          "Beginner Level",
          "Beginner Level",
          "Beginner Level",
          "Beginner Level",
          "Beginner Level"
         ],
         "x0": " ",
         "xaxis": "x",
         "y": [
          1,
          1.5,
          0.583333333333333,
          1,
          3,
          2.5,
          5.5,
          11.5,
          4,
          5.5,
          9,
          11,
          2.5,
          3,
          5,
          11.5,
          1.5,
          1,
          0.7,
          5,
          0.55,
          1.5,
          2,
          1.5,
          1.5,
          1.5,
          1,
          1.5,
          2,
          2.5,
          1.5,
          1,
          1,
          6,
          1.5,
          1.5,
          5,
          2.5,
          1,
          1.5,
          3,
          2,
          1,
          4,
          3,
          2,
          10,
          2,
          6,
          5,
          4.5,
          1.5,
          2,
          2,
          1.5,
          12,
          1.5,
          2,
          5,
          3.5,
          1,
          0.533333333333333,
          2.5,
          2,
          3,
          1.5,
          3,
          1,
          4,
          3,
          0.716666666666666,
          1.5,
          5.5,
          1.5,
          1.5,
          1.5,
          4,
          3,
          2,
          0.5,
          2.5,
          4,
          3,
          2.5,
          1,
          1.5,
          3,
          3.5,
          0.533333333333333,
          3,
          2.5,
          0.716666666666666,
          1,
          1,
          1.5,
          1,
          3,
          5,
          0.583333333333333,
          1,
          1,
          0.733333333333333,
          2.5,
          1.5,
          0.6,
          1.5,
          4,
          1,
          1,
          1.5,
          1.5,
          1,
          2,
          3,
          1,
          2,
          1,
          6.5,
          5.5,
          1.5,
          2.5,
          2,
          3.5,
          2,
          1.5,
          4.5,
          2,
          1.5,
          3.5,
          19.5,
          1,
          1.5,
          6.5,
          2.5,
          1,
          1,
          7.5,
          1,
          0.533333333333333,
          1,
          2,
          1.5,
          6.5,
          1,
          3,
          3.5,
          0.616666666666666,
          2.5,
          3,
          0.516666666666666,
          1.5,
          1.5,
          3.5,
          1.5,
          1.5,
          0.616666666666666,
          1,
          3.5,
          0.566666666666666,
          2.5,
          1,
          14.5,
          1.5,
          1.5,
          2,
          2.5,
          1,
          7,
          10,
          1.5,
          1.5,
          2,
          1.5,
          2,
          5,
          4,
          5,
          1.5,
          2,
          0.633333333333333,
          4.5,
          4,
          1.5,
          5,
          1,
          14.5,
          1,
          2.5,
          1,
          1,
          0.733333333333333,
          1,
          1.5,
          1.5,
          2.5,
          3.5,
          3.5,
          1,
          0.733333333333333,
          2.5,
          1,
          2,
          2.5,
          1.5,
          1,
          1.5,
          1.5,
          3,
          1,
          0.533333333333333,
          1.5,
          4,
          0.616666666666666,
          3.5,
          1,
          6,
          2,
          2.5,
          1,
          7.5,
          1,
          5,
          3,
          2.5,
          5.5,
          1,
          12,
          1,
          0.533333333333333,
          1,
          1.5,
          4.5,
          1,
          0.616666666666666,
          1,
          1.5,
          3,
          3.5,
          4.5,
          1,
          6,
          2,
          2,
          3,
          7.5,
          3,
          1,
          1,
          2,
          1.5,
          1,
          0.633333333333333,
          1,
          2,
          1,
          2,
          1,
          3,
          6,
          1.5,
          3,
          4,
          1,
          2.5,
          0.683333333333333,
          0.45,
          4.5,
          1.5,
          6.5,
          5.5,
          0.566666666666666,
          3,
          4,
          2.5,
          7,
          5.5,
          0.533333333333333,
          2,
          2.5,
          2,
          1,
          1,
          1,
          2,
          2.5,
          1.5,
          6,
          2,
          3.5,
          2,
          0.616666666666666,
          5.5,
          1.5,
          3,
          1.5,
          1,
          5,
          2,
          7.5,
          11,
          1,
          3.5,
          4.5,
          0.666666666666666,
          1,
          1.5,
          8.5,
          2,
          4.5,
          5,
          3.5,
          2.5,
          3,
          1,
          3.5,
          2,
          1.5,
          1.5,
          4.5,
          5,
          17.5,
          8.5,
          4,
          2,
          3,
          0.566666666666666,
          3,
          1,
          2.5,
          2.5,
          1,
          5.5,
          2.5,
          0.65,
          3,
          1.5,
          1.5,
          13,
          6,
          0.566666666666666,
          21,
          2,
          1,
          8,
          11,
          11.5,
          9,
          3.5,
          1,
          1,
          1.5,
          3.5,
          5,
          1,
          0.616666666666666,
          1,
          6,
          2,
          1,
          1,
          0.566666666666666,
          1,
          3,
          1,
          5,
          2.5,
          2,
          1,
          1.5,
          1,
          2.5,
          1,
          11,
          7.5,
          3,
          3.5,
          12.5,
          2.5,
          1.5,
          2.5,
          1.5,
          1,
          0.55,
          2,
          1.5,
          5,
          0.7,
          1,
          1,
          1,
          1.5,
          2,
          0.633333333333333,
          0.683333333333333,
          0.666666666666666,
          4.5,
          0.666666666666666,
          0.683333333333333,
          5.5,
          1,
          2.5,
          1.5,
          1.5,
          1.5,
          1.5,
          14,
          1,
          3.5,
          2.5,
          2,
          1.5,
          2,
          3,
          1,
          2.5,
          6.5,
          2.5,
          3,
          3,
          0.7,
          0.5,
          1.5,
          1,
          3,
          2.5,
          3.5,
          7.5,
          5.5,
          2,
          1,
          0.583333333333333,
          3,
          3.5,
          4.5,
          1.5,
          1,
          1,
          1.5,
          1,
          3.5,
          0.566666666666666,
          2.5,
          2,
          8,
          0.666666666666666,
          1,
          2,
          8,
          1.5,
          10.5,
          5.5,
          2.5,
          0.633333333333333,
          1,
          1.5,
          1.5,
          1,
          1,
          3.5,
          3.5,
          0.566666666666666,
          1,
          2.5,
          1,
          0.616666666666666,
          2.5,
          9.5,
          0.616666666666666,
          5.5,
          2,
          7,
          4,
          4.5,
          6.5,
          1,
          0.633333333333333,
          2,
          1,
          1.5,
          7.5,
          1,
          0.616666666666666,
          1.5,
          2,
          6.5,
          5,
          1.5,
          3,
          0.533333333333333,
          4,
          0.6,
          1,
          1,
          0.733333333333333,
          5.5,
          1.5,
          1.5,
          1.5,
          3.5,
          1.5,
          4,
          1.5,
          2.5,
          1,
          1,
          4.5,
          0.633333333333333,
          1,
          3.5,
          2.5,
          2,
          7,
          0.6,
          0.683333333333333,
          2.5,
          1,
          0.65,
          5,
          2,
          3,
          5,
          3,
          5.5,
          0.583333333333333,
          3.5,
          0.666666666666666,
          2.5,
          15,
          0.5,
          1.5,
          1,
          4.5,
          6.5,
          2,
          78.5,
          1,
          1,
          3.5,
          6,
          3,
          4.5,
          1,
          1,
          1,
          2.5,
          2,
          1,
          4.5,
          1,
          1.5,
          1,
          0.616666666666666,
          3,
          2,
          3,
          11,
          1.5,
          1,
          1.5,
          4,
          5,
          1,
          4,
          8.5,
          0.516666666666666,
          1,
          6,
          1,
          1,
          6,
          6,
          2.5,
          1,
          2,
          2.5,
          1,
          1.5,
          0.65,
          1,
          3,
          1.5,
          7.5,
          0.7,
          0.6,
          1.5,
          1.5,
          1,
          0.633333333333333,
          1.5,
          2,
          1,
          3,
          0.516666666666666,
          3,
          2.5,
          2,
          1,
          7,
          3.5,
          1.5,
          0.633333333333333,
          0.7,
          4,
          7,
          2,
          7.5,
          6,
          10.5,
          0.516666666666666,
          2,
          3.5,
          5,
          2,
          3,
          2,
          2.5,
          1,
          0.683333333333333,
          2,
          1,
          8,
          3,
          2.5,
          0.733333333333333,
          1,
          1,
          4.5,
          3.5,
          1.5,
          1,
          4.5,
          2,
          1,
          4,
          2,
          1,
          3,
          5,
          4,
          1.5,
          0.5,
          1,
          0.666666666666666,
          0.666666666666666,
          1.5,
          6,
          1.5,
          2,
          1.5,
          1,
          1.5,
          1,
          2,
          3.5,
          1.5,
          10,
          1,
          1,
          18.5,
          1.5,
          5,
          1.5,
          1,
          0.616666666666666,
          2,
          4,
          1,
          1,
          3,
          1,
          11.5,
          9,
          1,
          1,
          6,
          1,
          2,
          4,
          1.5,
          5,
          1.5,
          1,
          2.5,
          2,
          1,
          1,
          14,
          1.5,
          1.5,
          2.5,
          3,
          1.5,
          3,
          1.5,
          2.5,
          1,
          1,
          1,
          4.5,
          0.666666666666666,
          5,
          3,
          3,
          3,
          1,
          1,
          4,
          3,
          0.5,
          1,
          0.583333333333333,
          1,
          1.5,
          3,
          1.5,
          1,
          3,
          4,
          3,
          1,
          4,
          0.733333333333333,
          1,
          3.5,
          1.5,
          1.5,
          3,
          2.5,
          1.5,
          1.5,
          2,
          1,
          1.5,
          2,
          1,
          5,
          0.533333333333333,
          1,
          3,
          1.5,
          2,
          1,
          1.5,
          0.616666666666666,
          2,
          1,
          2,
          6,
          0.55,
          1.5,
          7,
          10.5,
          1.5,
          3.5,
          1.5,
          4,
          1.5,
          2.5,
          3,
          6,
          7,
          3,
          0.616666666666666,
          1,
          1,
          1.5,
          1,
          1,
          2,
          1.5,
          0.666666666666666,
          4.5,
          1.5,
          3,
          1,
          1,
          3,
          3.5,
          1.5,
          2.5,
          4.5,
          1,
          2,
          1,
          1.5,
          3,
          1.5,
          4,
          5,
          1,
          3.5,
          4.5,
          5.5,
          4,
          3,
          5.5,
          1,
          1.5,
          2,
          1.5,
          3.5,
          3,
          1.5,
          4,
          1,
          1.5,
          2,
          0.583333333333333,
          2,
          3.5,
          1.5,
          1,
          1,
          1,
          3.5,
          2.5,
          3,
          2.5,
          1,
          1,
          0.633333333333333,
          2,
          1,
          1,
          1.5,
          2.5,
          0.533333333333333,
          2.5,
          1,
          1.5,
          1,
          0.533333333333333,
          2.5,
          3,
          1,
          0.6,
          3,
          1,
          5.5,
          1.5,
          2.5,
          1,
          2,
          2.5,
          0.516666666666666,
          0.516666666666666,
          10.5,
          1,
          1,
          4,
          4.5,
          0.616666666666666,
          1,
          1.5,
          1.5,
          2,
          4,
          0.65,
          2.5,
          1.5,
          4,
          0.533333333333333,
          3,
          1.5,
          0.7,
          2,
          1,
          1.5,
          4.5,
          1,
          1,
          2,
          1,
          4.5,
          6,
          3,
          0.7,
          1,
          1,
          5.5,
          4,
          5.5,
          1.5,
          3,
          1.5,
          3,
          32.5,
          1,
          9,
          18.5,
          15,
          1,
          14.5,
          3,
          1,
          4,
          1.5,
          1,
          1,
          1.5,
          2,
          12,
          9,
          19.5,
          25.5,
          20.5,
          11,
          33,
          2,
          1.5,
          3,
          2.5,
          3.5,
          11.5,
          1.5,
          2,
          4,
          2.5,
          4.5,
          4.5,
          1.5,
          7,
          2,
          6.5,
          5,
          1.5,
          1.5,
          2,
          2,
          1.5,
          1,
          2,
          1.5,
          6.5,
          4.5,
          2.5,
          1.5,
          3,
          5,
          1,
          1,
          2,
          1,
          9,
          44.5,
          5.5,
          2.5,
          4.5,
          4,
          0.6,
          1,
          1,
          6,
          1,
          18,
          4,
          1.5,
          2.5,
          2,
          1,
          5,
          4.5,
          2.5,
          5,
          5,
          0.666666666666666,
          4,
          2.5,
          4,
          4,
          1.5,
          1,
          3,
          1.5,
          4,
          4.5,
          11,
          9,
          3.5,
          1.5,
          3,
          1,
          1.5,
          2,
          9.5,
          4.5,
          2.5,
          1,
          1.5,
          3.5,
          4.5,
          3,
          2,
          3,
          1.5,
          1.5,
          1,
          1,
          3.5,
          13.5,
          4,
          2,
          1,
          1.5,
          2,
          1,
          1.5,
          2,
          4,
          6,
          0.533333333333333,
          2,
          1.5,
          1,
          2,
          2,
          1,
          1,
          3.5,
          2.5,
          6,
          3.5,
          4,
          1,
          6,
          2,
          4,
          0.566666666666666,
          19,
          2,
          3,
          1.5,
          1.5,
          2,
          1.5,
          1.5,
          0.533333333333333,
          1,
          5.5,
          2,
          0.7,
          0.7,
          1,
          1,
          1.5,
          16.5,
          0.733333333333333,
          1.5,
          2,
          2,
          1.5,
          9,
          7.5,
          1,
          1.5,
          4,
          3,
          8,
          1.5,
          2,
          2,
          2.5,
          1,
          3.5,
          4.5,
          13,
          3.5,
          0.533333333333333,
          4.5,
          9,
          11,
          0.633333333333333,
          2,
          1.5,
          1.5,
          2,
          3,
          1.5,
          2.5,
          1.5,
          5,
          2,
          0.65,
          4.5,
          2,
          7.5,
          0.666666666666666,
          1,
          1.5,
          2,
          0.666666666666666,
          6,
          1,
          3.5,
          1.5,
          7.5,
          11.5,
          3.5,
          1,
          2,
          2,
          11,
          1.5,
          14.5,
          2.5,
          1,
          1,
          2,
          0.616666666666666,
          4,
          8.5,
          3,
          10,
          4,
          2,
          0.633333333333333,
          8,
          5,
          2.5,
          6.5,
          1,
          8,
          8,
          1,
          3.5,
          1.5,
          1,
          6.5,
          1,
          0.616666666666666,
          3.5,
          3.5,
          0.566666666666666,
          1,
          4.5,
          5.5,
          3,
          2,
          1,
          2,
          1,
          2.5,
          1.5,
          16,
          4.5,
          3.5,
          1,
          1.5,
          5.5,
          0.7,
          6,
          1,
          4,
          3.5,
          2,
          2.5,
          1,
          6,
          1,
          2,
          0.633333333333333,
          1.5,
          4,
          22,
          1,
          2,
          8.5,
          1,
          2,
          1.5,
          3.5,
          1,
          3,
          7.5,
          1,
          1.5,
          3.5,
          3,
          2,
          3.5,
          2.5,
          0.616666666666666,
          1,
          1,
          2,
          2,
          6.5,
          3,
          5.5,
          3,
          5.5,
          1,
          0.566666666666666,
          1.5,
          2.5,
          1,
          2.5,
          1.5,
          1,
          0.5,
          2,
          1.5,
          3,
          2,
          1.5,
          2,
          1.5,
          1,
          1.5,
          5,
          2.5,
          1,
          5,
          0.516666666666666,
          7,
          1,
          5,
          20.5,
          3,
          2.5,
          2.5,
          0.616666666666666,
          1,
          7,
          0.683333333333333,
          1.5,
          1,
          2.5,
          1.5,
          2,
          1.5,
          2.5,
          0.6,
          1.5,
          2,
          1.5,
          2,
          3,
          2,
          1,
          8,
          1,
          2,
          1.5,
          7.5,
          4,
          2.5,
          1.5,
          2,
          0.516666666666666,
          5,
          3,
          8.5,
          5,
          10,
          2,
          6.5,
          1,
          1,
          0.55,
          5,
          6.5,
          9.5,
          1,
          1.5,
          3.5,
          0.5,
          0.583333333333333,
          3.5,
          2
         ],
         "y0": " ",
         "yaxis": "y"
        },
        {
         "alignmentgroup": "True",
         "hovertemplate": "level=%{x}<br>content_duration=%{y}<extra></extra>",
         "legendgroup": "Expert Level",
         "marker": {
          "color": "#ab63fa"
         },
         "name": "Expert Level",
         "notched": false,
         "offsetgroup": "Expert Level",
         "orientation": "v",
         "showlegend": true,
         "type": "box",
         "x": [
          "Expert Level",
          "Expert Level",
          "Expert Level",
          "Expert Level",
          "Expert Level",
          "Expert Level",
          "Expert Level",
          "Expert Level",
          "Expert Level",
          "Expert Level",
          "Expert Level",
          "Expert Level",
          "Expert Level",
          "Expert Level",
          "Expert Level",
          "Expert Level",
          "Expert Level",
          "Expert Level",
          "Expert Level",
          "Expert Level",
          "Expert Level",
          "Expert Level",
          "Expert Level",
          "Expert Level",
          "Expert Level",
          "Expert Level",
          "Expert Level",
          "Expert Level",
          "Expert Level",
          "Expert Level",
          "Expert Level",
          "Expert Level",
          "Expert Level",
          "Expert Level",
          "Expert Level",
          "Expert Level",
          "Expert Level",
          "Expert Level",
          "Expert Level",
          "Expert Level",
          "Expert Level",
          "Expert Level",
          "Expert Level",
          "Expert Level",
          "Expert Level",
          "Expert Level",
          "Expert Level",
          "Expert Level",
          "Expert Level",
          "Expert Level",
          "Expert Level",
          "Expert Level",
          "Expert Level",
          "Expert Level",
          "Expert Level",
          "Expert Level",
          "Expert Level",
          "Expert Level"
         ],
         "x0": " ",
         "xaxis": "x",
         "y": [
          2.5,
          2,
          1.5,
          4.5,
          1,
          1,
          0.716666666666666,
          1.5,
          2,
          2,
          6,
          0.7,
          4,
          3.5,
          1,
          0.583333333333333,
          1,
          4,
          1,
          1,
          0.516666666666666,
          2,
          1,
          2.5,
          1.5,
          1,
          3.5,
          1,
          1,
          1.5,
          1.5,
          3.5,
          12.5,
          1,
          2.5,
          3.5,
          1.5,
          1.5,
          4,
          1.5,
          2,
          4,
          3.5,
          3.5,
          6,
          9,
          3,
          1.5,
          12.5,
          5,
          4,
          3,
          6.5,
          3,
          4,
          5.5,
          1,
          1.5
         ],
         "y0": " ",
         "yaxis": "y"
        }
       ],
       "layout": {
        "boxmode": "overlay",
        "legend": {
         "title": {
          "text": "level"
         },
         "tracegroupgap": 0
        },
        "template": {
         "data": {
          "bar": [
           {
            "error_x": {
             "color": "#2a3f5f"
            },
            "error_y": {
             "color": "#2a3f5f"
            },
            "marker": {
             "line": {
              "color": "#E5ECF6",
              "width": 0.5
             },
             "pattern": {
              "fillmode": "overlay",
              "size": 10,
              "solidity": 0.2
             }
            },
            "type": "bar"
           }
          ],
          "barpolar": [
           {
            "marker": {
             "line": {
              "color": "#E5ECF6",
              "width": 0.5
             },
             "pattern": {
              "fillmode": "overlay",
              "size": 10,
              "solidity": 0.2
             }
            },
            "type": "barpolar"
           }
          ],
          "carpet": [
           {
            "aaxis": {
             "endlinecolor": "#2a3f5f",
             "gridcolor": "white",
             "linecolor": "white",
             "minorgridcolor": "white",
             "startlinecolor": "#2a3f5f"
            },
            "baxis": {
             "endlinecolor": "#2a3f5f",
             "gridcolor": "white",
             "linecolor": "white",
             "minorgridcolor": "white",
             "startlinecolor": "#2a3f5f"
            },
            "type": "carpet"
           }
          ],
          "choropleth": [
           {
            "colorbar": {
             "outlinewidth": 0,
             "ticks": ""
            },
            "type": "choropleth"
           }
          ],
          "contour": [
           {
            "colorbar": {
             "outlinewidth": 0,
             "ticks": ""
            },
            "colorscale": [
             [
              0,
              "#0d0887"
             ],
             [
              0.1111111111111111,
              "#46039f"
             ],
             [
              0.2222222222222222,
              "#7201a8"
             ],
             [
              0.3333333333333333,
              "#9c179e"
             ],
             [
              0.4444444444444444,
              "#bd3786"
             ],
             [
              0.5555555555555556,
              "#d8576b"
             ],
             [
              0.6666666666666666,
              "#ed7953"
             ],
             [
              0.7777777777777778,
              "#fb9f3a"
             ],
             [
              0.8888888888888888,
              "#fdca26"
             ],
             [
              1,
              "#f0f921"
             ]
            ],
            "type": "contour"
           }
          ],
          "contourcarpet": [
           {
            "colorbar": {
             "outlinewidth": 0,
             "ticks": ""
            },
            "type": "contourcarpet"
           }
          ],
          "heatmap": [
           {
            "colorbar": {
             "outlinewidth": 0,
             "ticks": ""
            },
            "colorscale": [
             [
              0,
              "#0d0887"
             ],
             [
              0.1111111111111111,
              "#46039f"
             ],
             [
              0.2222222222222222,
              "#7201a8"
             ],
             [
              0.3333333333333333,
              "#9c179e"
             ],
             [
              0.4444444444444444,
              "#bd3786"
             ],
             [
              0.5555555555555556,
              "#d8576b"
             ],
             [
              0.6666666666666666,
              "#ed7953"
             ],
             [
              0.7777777777777778,
              "#fb9f3a"
             ],
             [
              0.8888888888888888,
              "#fdca26"
             ],
             [
              1,
              "#f0f921"
             ]
            ],
            "type": "heatmap"
           }
          ],
          "heatmapgl": [
           {
            "colorbar": {
             "outlinewidth": 0,
             "ticks": ""
            },
            "colorscale": [
             [
              0,
              "#0d0887"
             ],
             [
              0.1111111111111111,
              "#46039f"
             ],
             [
              0.2222222222222222,
              "#7201a8"
             ],
             [
              0.3333333333333333,
              "#9c179e"
             ],
             [
              0.4444444444444444,
              "#bd3786"
             ],
             [
              0.5555555555555556,
              "#d8576b"
             ],
             [
              0.6666666666666666,
              "#ed7953"
             ],
             [
              0.7777777777777778,
              "#fb9f3a"
             ],
             [
              0.8888888888888888,
              "#fdca26"
             ],
             [
              1,
              "#f0f921"
             ]
            ],
            "type": "heatmapgl"
           }
          ],
          "histogram": [
           {
            "marker": {
             "pattern": {
              "fillmode": "overlay",
              "size": 10,
              "solidity": 0.2
             }
            },
            "type": "histogram"
           }
          ],
          "histogram2d": [
           {
            "colorbar": {
             "outlinewidth": 0,
             "ticks": ""
            },
            "colorscale": [
             [
              0,
              "#0d0887"
             ],
             [
              0.1111111111111111,
              "#46039f"
             ],
             [
              0.2222222222222222,
              "#7201a8"
             ],
             [
              0.3333333333333333,
              "#9c179e"
             ],
             [
              0.4444444444444444,
              "#bd3786"
             ],
             [
              0.5555555555555556,
              "#d8576b"
             ],
             [
              0.6666666666666666,
              "#ed7953"
             ],
             [
              0.7777777777777778,
              "#fb9f3a"
             ],
             [
              0.8888888888888888,
              "#fdca26"
             ],
             [
              1,
              "#f0f921"
             ]
            ],
            "type": "histogram2d"
           }
          ],
          "histogram2dcontour": [
           {
            "colorbar": {
             "outlinewidth": 0,
             "ticks": ""
            },
            "colorscale": [
             [
              0,
              "#0d0887"
             ],
             [
              0.1111111111111111,
              "#46039f"
             ],
             [
              0.2222222222222222,
              "#7201a8"
             ],
             [
              0.3333333333333333,
              "#9c179e"
             ],
             [
              0.4444444444444444,
              "#bd3786"
             ],
             [
              0.5555555555555556,
              "#d8576b"
             ],
             [
              0.6666666666666666,
              "#ed7953"
             ],
             [
              0.7777777777777778,
              "#fb9f3a"
             ],
             [
              0.8888888888888888,
              "#fdca26"
             ],
             [
              1,
              "#f0f921"
             ]
            ],
            "type": "histogram2dcontour"
           }
          ],
          "mesh3d": [
           {
            "colorbar": {
             "outlinewidth": 0,
             "ticks": ""
            },
            "type": "mesh3d"
           }
          ],
          "parcoords": [
           {
            "line": {
             "colorbar": {
              "outlinewidth": 0,
              "ticks": ""
             }
            },
            "type": "parcoords"
           }
          ],
          "pie": [
           {
            "automargin": true,
            "type": "pie"
           }
          ],
          "scatter": [
           {
            "marker": {
             "colorbar": {
              "outlinewidth": 0,
              "ticks": ""
             }
            },
            "type": "scatter"
           }
          ],
          "scatter3d": [
           {
            "line": {
             "colorbar": {
              "outlinewidth": 0,
              "ticks": ""
             }
            },
            "marker": {
             "colorbar": {
              "outlinewidth": 0,
              "ticks": ""
             }
            },
            "type": "scatter3d"
           }
          ],
          "scattercarpet": [
           {
            "marker": {
             "colorbar": {
              "outlinewidth": 0,
              "ticks": ""
             }
            },
            "type": "scattercarpet"
           }
          ],
          "scattergeo": [
           {
            "marker": {
             "colorbar": {
              "outlinewidth": 0,
              "ticks": ""
             }
            },
            "type": "scattergeo"
           }
          ],
          "scattergl": [
           {
            "marker": {
             "colorbar": {
              "outlinewidth": 0,
              "ticks": ""
             }
            },
            "type": "scattergl"
           }
          ],
          "scattermapbox": [
           {
            "marker": {
             "colorbar": {
              "outlinewidth": 0,
              "ticks": ""
             }
            },
            "type": "scattermapbox"
           }
          ],
          "scatterpolar": [
           {
            "marker": {
             "colorbar": {
              "outlinewidth": 0,
              "ticks": ""
             }
            },
            "type": "scatterpolar"
           }
          ],
          "scatterpolargl": [
           {
            "marker": {
             "colorbar": {
              "outlinewidth": 0,
              "ticks": ""
             }
            },
            "type": "scatterpolargl"
           }
          ],
          "scatterternary": [
           {
            "marker": {
             "colorbar": {
              "outlinewidth": 0,
              "ticks": ""
             }
            },
            "type": "scatterternary"
           }
          ],
          "surface": [
           {
            "colorbar": {
             "outlinewidth": 0,
             "ticks": ""
            },
            "colorscale": [
             [
              0,
              "#0d0887"
             ],
             [
              0.1111111111111111,
              "#46039f"
             ],
             [
              0.2222222222222222,
              "#7201a8"
             ],
             [
              0.3333333333333333,
              "#9c179e"
             ],
             [
              0.4444444444444444,
              "#bd3786"
             ],
             [
              0.5555555555555556,
              "#d8576b"
             ],
             [
              0.6666666666666666,
              "#ed7953"
             ],
             [
              0.7777777777777778,
              "#fb9f3a"
             ],
             [
              0.8888888888888888,
              "#fdca26"
             ],
             [
              1,
              "#f0f921"
             ]
            ],
            "type": "surface"
           }
          ],
          "table": [
           {
            "cells": {
             "fill": {
              "color": "#EBF0F8"
             },
             "line": {
              "color": "white"
             }
            },
            "header": {
             "fill": {
              "color": "#C8D4E3"
             },
             "line": {
              "color": "white"
             }
            },
            "type": "table"
           }
          ]
         },
         "layout": {
          "annotationdefaults": {
           "arrowcolor": "#2a3f5f",
           "arrowhead": 0,
           "arrowwidth": 1
          },
          "autotypenumbers": "strict",
          "coloraxis": {
           "colorbar": {
            "outlinewidth": 0,
            "ticks": ""
           }
          },
          "colorscale": {
           "diverging": [
            [
             0,
             "#8e0152"
            ],
            [
             0.1,
             "#c51b7d"
            ],
            [
             0.2,
             "#de77ae"
            ],
            [
             0.3,
             "#f1b6da"
            ],
            [
             0.4,
             "#fde0ef"
            ],
            [
             0.5,
             "#f7f7f7"
            ],
            [
             0.6,
             "#e6f5d0"
            ],
            [
             0.7,
             "#b8e186"
            ],
            [
             0.8,
             "#7fbc41"
            ],
            [
             0.9,
             "#4d9221"
            ],
            [
             1,
             "#276419"
            ]
           ],
           "sequential": [
            [
             0,
             "#0d0887"
            ],
            [
             0.1111111111111111,
             "#46039f"
            ],
            [
             0.2222222222222222,
             "#7201a8"
            ],
            [
             0.3333333333333333,
             "#9c179e"
            ],
            [
             0.4444444444444444,
             "#bd3786"
            ],
            [
             0.5555555555555556,
             "#d8576b"
            ],
            [
             0.6666666666666666,
             "#ed7953"
            ],
            [
             0.7777777777777778,
             "#fb9f3a"
            ],
            [
             0.8888888888888888,
             "#fdca26"
            ],
            [
             1,
             "#f0f921"
            ]
           ],
           "sequentialminus": [
            [
             0,
             "#0d0887"
            ],
            [
             0.1111111111111111,
             "#46039f"
            ],
            [
             0.2222222222222222,
             "#7201a8"
            ],
            [
             0.3333333333333333,
             "#9c179e"
            ],
            [
             0.4444444444444444,
             "#bd3786"
            ],
            [
             0.5555555555555556,
             "#d8576b"
            ],
            [
             0.6666666666666666,
             "#ed7953"
            ],
            [
             0.7777777777777778,
             "#fb9f3a"
            ],
            [
             0.8888888888888888,
             "#fdca26"
            ],
            [
             1,
             "#f0f921"
            ]
           ]
          },
          "colorway": [
           "#636efa",
           "#EF553B",
           "#00cc96",
           "#ab63fa",
           "#FFA15A",
           "#19d3f3",
           "#FF6692",
           "#B6E880",
           "#FF97FF",
           "#FECB52"
          ],
          "font": {
           "color": "#2a3f5f"
          },
          "geo": {
           "bgcolor": "white",
           "lakecolor": "white",
           "landcolor": "#E5ECF6",
           "showlakes": true,
           "showland": true,
           "subunitcolor": "white"
          },
          "hoverlabel": {
           "align": "left"
          },
          "hovermode": "closest",
          "mapbox": {
           "style": "light"
          },
          "paper_bgcolor": "white",
          "plot_bgcolor": "#E5ECF6",
          "polar": {
           "angularaxis": {
            "gridcolor": "white",
            "linecolor": "white",
            "ticks": ""
           },
           "bgcolor": "#E5ECF6",
           "radialaxis": {
            "gridcolor": "white",
            "linecolor": "white",
            "ticks": ""
           }
          },
          "scene": {
           "xaxis": {
            "backgroundcolor": "#E5ECF6",
            "gridcolor": "white",
            "gridwidth": 2,
            "linecolor": "white",
            "showbackground": true,
            "ticks": "",
            "zerolinecolor": "white"
           },
           "yaxis": {
            "backgroundcolor": "#E5ECF6",
            "gridcolor": "white",
            "gridwidth": 2,
            "linecolor": "white",
            "showbackground": true,
            "ticks": "",
            "zerolinecolor": "white"
           },
           "zaxis": {
            "backgroundcolor": "#E5ECF6",
            "gridcolor": "white",
            "gridwidth": 2,
            "linecolor": "white",
            "showbackground": true,
            "ticks": "",
            "zerolinecolor": "white"
           }
          },
          "shapedefaults": {
           "line": {
            "color": "#2a3f5f"
           }
          },
          "ternary": {
           "aaxis": {
            "gridcolor": "white",
            "linecolor": "white",
            "ticks": ""
           },
           "baxis": {
            "gridcolor": "white",
            "linecolor": "white",
            "ticks": ""
           },
           "bgcolor": "#E5ECF6",
           "caxis": {
            "gridcolor": "white",
            "linecolor": "white",
            "ticks": ""
           }
          },
          "title": {
           "x": 0.05
          },
          "xaxis": {
           "automargin": true,
           "gridcolor": "white",
           "linecolor": "white",
           "ticks": "",
           "title": {
            "standoff": 15
           },
           "zerolinecolor": "white",
           "zerolinewidth": 2
          },
          "yaxis": {
           "automargin": true,
           "gridcolor": "white",
           "linecolor": "white",
           "ticks": "",
           "title": {
            "standoff": 15
           },
           "zerolinecolor": "white",
           "zerolinewidth": 2
          }
         }
        },
        "title": {
         "text": "Box Plot of Level v Content Duration"
        },
        "xaxis": {
         "anchor": "y",
         "categoryarray": [
          "All Levels",
          "Intermediate Level",
          "Beginner Level",
          "Expert Level"
         ],
         "categoryorder": "array",
         "domain": [
          0,
          1
         ],
         "title": {
          "text": "level"
         }
        },
        "yaxis": {
         "anchor": "x",
         "domain": [
          0,
          1
         ],
         "title": {
          "text": "content_duration"
         }
        }
       }
      },
      "text/html": [
       "<div>                            <div id=\"23b5a9e2-1436-4c5b-ad04-6ad645f50664\" class=\"plotly-graph-div\" style=\"height:525px; width:100%;\"></div>            <script type=\"text/javascript\">                require([\"plotly\"], function(Plotly) {                    window.PLOTLYENV=window.PLOTLYENV || {};                                    if (document.getElementById(\"23b5a9e2-1436-4c5b-ad04-6ad645f50664\")) {                    Plotly.newPlot(                        \"23b5a9e2-1436-4c5b-ad04-6ad645f50664\",                        [{\"alignmentgroup\":\"True\",\"hovertemplate\":\"level=%{x}<br>content_duration=%{y}<extra></extra>\",\"legendgroup\":\"All Levels\",\"marker\":{\"color\":\"#636efa\"},\"name\":\"All Levels\",\"notched\":false,\"offsetgroup\":\"All Levels\",\"orientation\":\"v\",\"showlegend\":true,\"x\":[\"All Levels\",\"All Levels\",\"All Levels\",\"All Levels\",\"All Levels\",\"All Levels\",\"All Levels\",\"All Levels\",\"All Levels\",\"All Levels\",\"All Levels\",\"All Levels\",\"All Levels\",\"All Levels\",\"All Levels\",\"All Levels\",\"All Levels\",\"All Levels\",\"All Levels\",\"All Levels\",\"All Levels\",\"All Levels\",\"All Levels\",\"All Levels\",\"All Levels\",\"All Levels\",\"All Levels\",\"All Levels\",\"All Levels\",\"All Levels\",\"All Levels\",\"All Levels\",\"All Levels\",\"All Levels\",\"All Levels\",\"All Levels\",\"All Levels\",\"All Levels\",\"All Levels\",\"All Levels\",\"All Levels\",\"All Levels\",\"All Levels\",\"All Levels\",\"All Levels\",\"All Levels\",\"All Levels\",\"All Levels\",\"All Levels\",\"All Levels\",\"All Levels\",\"All Levels\",\"All Levels\",\"All Levels\",\"All Levels\",\"All Levels\",\"All Levels\",\"All Levels\",\"All Levels\",\"All Levels\",\"All Levels\",\"All Levels\",\"All Levels\",\"All Levels\",\"All Levels\",\"All Levels\",\"All Levels\",\"All Levels\",\"All Levels\",\"All Levels\",\"All Levels\",\"All Levels\",\"All Levels\",\"All Levels\",\"All Levels\",\"All Levels\",\"All Levels\",\"All Levels\",\"All Levels\",\"All Levels\",\"All Levels\",\"All Levels\",\"All Levels\",\"All Levels\",\"All Levels\",\"All Levels\",\"All Levels\",\"All Levels\",\"All Levels\",\"All Levels\",\"All Levels\",\"All Levels\",\"All Levels\",\"All Levels\",\"All Levels\",\"All Levels\",\"All Levels\",\"All Levels\",\"All Levels\",\"All Levels\",\"All Levels\",\"All Levels\",\"All Levels\",\"All Levels\",\"All Levels\",\"All Levels\",\"All Levels\",\"All Levels\",\"All Levels\",\"All Levels\",\"All Levels\",\"All Levels\",\"All Levels\",\"All Levels\",\"All Levels\",\"All Levels\",\"All Levels\",\"All Levels\",\"All Levels\",\"All Levels\",\"All Levels\",\"All Levels\",\"All Levels\",\"All Levels\",\"All Levels\",\"All Levels\",\"All Levels\",\"All Levels\",\"All Levels\",\"All Levels\",\"All Levels\",\"All Levels\",\"All Levels\",\"All Levels\",\"All Levels\",\"All Levels\",\"All Levels\",\"All Levels\",\"All Levels\",\"All Levels\",\"All Levels\",\"All Levels\",\"All Levels\",\"All Levels\",\"All Levels\",\"All Levels\",\"All Levels\",\"All Levels\",\"All Levels\",\"All Levels\",\"All Levels\",\"All Levels\",\"All Levels\",\"All Levels\",\"All Levels\",\"All Levels\",\"All Levels\",\"All Levels\",\"All Levels\",\"All Levels\",\"All Levels\",\"All Levels\",\"All Levels\",\"All Levels\",\"All Levels\",\"All Levels\",\"All Levels\",\"All Levels\",\"All Levels\",\"All Levels\",\"All Levels\",\"All Levels\",\"All Levels\",\"All Levels\",\"All Levels\",\"All Levels\",\"All Levels\",\"All Levels\",\"All Levels\",\"All Levels\",\"All Levels\",\"All Levels\",\"All Levels\",\"All Levels\",\"All Levels\",\"All Levels\",\"All Levels\",\"All Levels\",\"All Levels\",\"All Levels\",\"All Levels\",\"All Levels\",\"All Levels\",\"All Levels\",\"All Levels\",\"All Levels\",\"All Levels\",\"All Levels\",\"All Levels\",\"All Levels\",\"All Levels\",\"All Levels\",\"All Levels\",\"All Levels\",\"All Levels\",\"All Levels\",\"All Levels\",\"All Levels\",\"All Levels\",\"All Levels\",\"All Levels\",\"All Levels\",\"All Levels\",\"All Levels\",\"All Levels\",\"All Levels\",\"All Levels\",\"All Levels\",\"All Levels\",\"All Levels\",\"All Levels\",\"All Levels\",\"All Levels\",\"All Levels\",\"All Levels\",\"All Levels\",\"All Levels\",\"All Levels\",\"All Levels\",\"All Levels\",\"All Levels\",\"All Levels\",\"All Levels\",\"All Levels\",\"All Levels\",\"All Levels\",\"All Levels\",\"All Levels\",\"All Levels\",\"All Levels\",\"All Levels\",\"All Levels\",\"All Levels\",\"All Levels\",\"All Levels\",\"All Levels\",\"All Levels\",\"All Levels\",\"All Levels\",\"All Levels\",\"All Levels\",\"All Levels\",\"All Levels\",\"All Levels\",\"All Levels\",\"All Levels\",\"All Levels\",\"All Levels\",\"All Levels\",\"All Levels\",\"All Levels\",\"All Levels\",\"All Levels\",\"All Levels\",\"All Levels\",\"All Levels\",\"All Levels\",\"All Levels\",\"All Levels\",\"All Levels\",\"All Levels\",\"All Levels\",\"All Levels\",\"All Levels\",\"All Levels\",\"All Levels\",\"All Levels\",\"All Levels\",\"All Levels\",\"All Levels\",\"All Levels\",\"All Levels\",\"All Levels\",\"All Levels\",\"All Levels\",\"All Levels\",\"All Levels\",\"All Levels\",\"All Levels\",\"All Levels\",\"All Levels\",\"All Levels\",\"All Levels\",\"All Levels\",\"All Levels\",\"All Levels\",\"All Levels\",\"All Levels\",\"All Levels\",\"All Levels\",\"All Levels\",\"All Levels\",\"All Levels\",\"All Levels\",\"All Levels\",\"All Levels\",\"All Levels\",\"All Levels\",\"All Levels\",\"All Levels\",\"All Levels\",\"All Levels\",\"All Levels\",\"All Levels\",\"All Levels\",\"All Levels\",\"All Levels\",\"All Levels\",\"All Levels\",\"All Levels\",\"All Levels\",\"All Levels\",\"All Levels\",\"All Levels\",\"All Levels\",\"All Levels\",\"All Levels\",\"All Levels\",\"All Levels\",\"All Levels\",\"All Levels\",\"All Levels\",\"All Levels\",\"All Levels\",\"All Levels\",\"All Levels\",\"All Levels\",\"All Levels\",\"All Levels\",\"All Levels\",\"All Levels\",\"All Levels\",\"All Levels\",\"All Levels\",\"All Levels\",\"All Levels\",\"All Levels\",\"All Levels\",\"All Levels\",\"All Levels\",\"All Levels\",\"All Levels\",\"All Levels\",\"All Levels\",\"All Levels\",\"All Levels\",\"All Levels\",\"All Levels\",\"All Levels\",\"All Levels\",\"All Levels\",\"All Levels\",\"All Levels\",\"All Levels\",\"All Levels\",\"All Levels\",\"All Levels\",\"All Levels\",\"All Levels\",\"All Levels\",\"All Levels\",\"All Levels\",\"All Levels\",\"All Levels\",\"All Levels\",\"All Levels\",\"All Levels\",\"All Levels\",\"All Levels\",\"All Levels\",\"All Levels\",\"All Levels\",\"All Levels\",\"All Levels\",\"All Levels\",\"All Levels\",\"All Levels\",\"All Levels\",\"All Levels\",\"All Levels\",\"All Levels\",\"All Levels\",\"All Levels\",\"All Levels\",\"All Levels\",\"All Levels\",\"All Levels\",\"All Levels\",\"All Levels\",\"All Levels\",\"All Levels\",\"All Levels\",\"All Levels\",\"All Levels\",\"All Levels\",\"All Levels\",\"All Levels\",\"All Levels\",\"All Levels\",\"All Levels\",\"All Levels\",\"All Levels\",\"All Levels\",\"All Levels\",\"All Levels\",\"All Levels\",\"All Levels\",\"All Levels\",\"All Levels\",\"All Levels\",\"All Levels\",\"All Levels\",\"All Levels\",\"All Levels\",\"All Levels\",\"All Levels\",\"All Levels\",\"All Levels\",\"All Levels\",\"All Levels\",\"All Levels\",\"All Levels\",\"All Levels\",\"All Levels\",\"All Levels\",\"All Levels\",\"All Levels\",\"All Levels\",\"All Levels\",\"All Levels\",\"All Levels\",\"All Levels\",\"All Levels\",\"All Levels\",\"All Levels\",\"All Levels\",\"All Levels\",\"All Levels\",\"All Levels\",\"All Levels\",\"All Levels\",\"All Levels\",\"All Levels\",\"All Levels\",\"All Levels\",\"All Levels\",\"All Levels\",\"All Levels\",\"All Levels\",\"All Levels\",\"All Levels\",\"All Levels\",\"All Levels\",\"All Levels\",\"All Levels\",\"All Levels\",\"All Levels\",\"All Levels\",\"All Levels\",\"All Levels\",\"All Levels\",\"All Levels\",\"All Levels\",\"All Levels\",\"All Levels\",\"All Levels\",\"All Levels\",\"All Levels\",\"All Levels\",\"All Levels\",\"All Levels\",\"All Levels\",\"All Levels\",\"All Levels\",\"All Levels\",\"All Levels\",\"All Levels\",\"All Levels\",\"All Levels\",\"All Levels\",\"All Levels\",\"All Levels\",\"All Levels\",\"All Levels\",\"All Levels\",\"All Levels\",\"All Levels\",\"All Levels\",\"All Levels\",\"All Levels\",\"All Levels\",\"All Levels\",\"All Levels\",\"All Levels\",\"All Levels\",\"All Levels\",\"All Levels\",\"All Levels\",\"All Levels\",\"All Levels\",\"All Levels\",\"All Levels\",\"All Levels\",\"All Levels\",\"All Levels\",\"All Levels\",\"All Levels\",\"All Levels\",\"All Levels\",\"All Levels\",\"All Levels\",\"All Levels\",\"All Levels\",\"All Levels\",\"All Levels\",\"All Levels\",\"All Levels\",\"All Levels\",\"All Levels\",\"All Levels\",\"All Levels\",\"All Levels\",\"All Levels\",\"All Levels\",\"All Levels\",\"All Levels\",\"All Levels\",\"All Levels\",\"All Levels\",\"All Levels\",\"All Levels\",\"All Levels\",\"All Levels\",\"All Levels\",\"All Levels\",\"All Levels\",\"All Levels\",\"All Levels\",\"All Levels\",\"All Levels\",\"All Levels\",\"All Levels\",\"All Levels\",\"All Levels\",\"All Levels\",\"All Levels\",\"All Levels\",\"All Levels\",\"All Levels\",\"All Levels\",\"All Levels\",\"All Levels\",\"All Levels\",\"All Levels\",\"All Levels\",\"All Levels\",\"All Levels\",\"All Levels\",\"All Levels\",\"All Levels\",\"All Levels\",\"All Levels\",\"All Levels\",\"All Levels\",\"All Levels\",\"All Levels\",\"All Levels\",\"All Levels\",\"All Levels\",\"All Levels\",\"All Levels\",\"All Levels\",\"All Levels\",\"All Levels\",\"All Levels\",\"All Levels\",\"All Levels\",\"All Levels\",\"All Levels\",\"All Levels\",\"All Levels\",\"All Levels\",\"All Levels\",\"All Levels\",\"All Levels\",\"All Levels\",\"All Levels\",\"All Levels\",\"All Levels\",\"All Levels\",\"All Levels\",\"All Levels\",\"All Levels\",\"All Levels\",\"All Levels\",\"All Levels\",\"All Levels\",\"All Levels\",\"All Levels\",\"All Levels\",\"All Levels\",\"All Levels\",\"All Levels\",\"All Levels\",\"All Levels\",\"All Levels\",\"All Levels\",\"All Levels\",\"All Levels\",\"All Levels\",\"All Levels\",\"All Levels\",\"All Levels\",\"All Levels\",\"All Levels\",\"All Levels\",\"All Levels\",\"All Levels\",\"All Levels\",\"All Levels\",\"All Levels\",\"All Levels\",\"All Levels\",\"All Levels\",\"All Levels\",\"All Levels\",\"All Levels\",\"All Levels\",\"All Levels\",\"All Levels\",\"All Levels\",\"All Levels\",\"All Levels\",\"All Levels\",\"All Levels\",\"All Levels\",\"All Levels\",\"All Levels\",\"All Levels\",\"All Levels\",\"All Levels\",\"All Levels\",\"All Levels\",\"All Levels\",\"All Levels\",\"All Levels\",\"All Levels\",\"All Levels\",\"All Levels\",\"All Levels\",\"All Levels\",\"All Levels\",\"All Levels\",\"All Levels\",\"All Levels\",\"All Levels\",\"All Levels\",\"All Levels\",\"All Levels\",\"All Levels\",\"All Levels\",\"All Levels\",\"All Levels\",\"All Levels\",\"All Levels\",\"All Levels\",\"All Levels\",\"All Levels\",\"All Levels\",\"All Levels\",\"All Levels\",\"All Levels\",\"All Levels\",\"All Levels\",\"All Levels\",\"All Levels\",\"All Levels\",\"All Levels\",\"All Levels\",\"All Levels\",\"All Levels\",\"All Levels\",\"All Levels\",\"All Levels\",\"All Levels\",\"All Levels\",\"All Levels\",\"All Levels\",\"All Levels\",\"All Levels\",\"All Levels\",\"All Levels\",\"All Levels\",\"All Levels\",\"All Levels\",\"All Levels\",\"All Levels\",\"All Levels\",\"All Levels\",\"All Levels\",\"All Levels\",\"All Levels\",\"All Levels\",\"All Levels\",\"All Levels\",\"All Levels\",\"All Levels\",\"All Levels\",\"All Levels\",\"All Levels\",\"All Levels\",\"All Levels\",\"All Levels\",\"All Levels\",\"All Levels\",\"All Levels\",\"All Levels\",\"All Levels\",\"All Levels\",\"All Levels\",\"All Levels\",\"All Levels\",\"All Levels\",\"All Levels\",\"All Levels\",\"All Levels\",\"All Levels\",\"All Levels\",\"All Levels\",\"All Levels\",\"All Levels\",\"All Levels\",\"All Levels\",\"All Levels\",\"All Levels\",\"All Levels\",\"All Levels\",\"All Levels\",\"All Levels\",\"All Levels\",\"All Levels\",\"All Levels\",\"All Levels\",\"All Levels\",\"All Levels\",\"All Levels\",\"All Levels\",\"All Levels\",\"All Levels\",\"All Levels\",\"All Levels\",\"All Levels\",\"All Levels\",\"All Levels\",\"All Levels\",\"All Levels\",\"All Levels\",\"All Levels\",\"All Levels\",\"All Levels\",\"All Levels\",\"All Levels\",\"All Levels\",\"All Levels\",\"All Levels\",\"All Levels\",\"All Levels\",\"All Levels\",\"All Levels\",\"All Levels\",\"All Levels\",\"All Levels\",\"All Levels\",\"All Levels\",\"All Levels\",\"All Levels\",\"All Levels\",\"All Levels\",\"All Levels\",\"All Levels\",\"All Levels\",\"All Levels\",\"All Levels\",\"All Levels\",\"All Levels\",\"All Levels\",\"All Levels\",\"All Levels\",\"All Levels\",\"All Levels\",\"All Levels\",\"All Levels\",\"All Levels\",\"All Levels\",\"All Levels\",\"All Levels\",\"All Levels\",\"All Levels\",\"All Levels\",\"All Levels\",\"All Levels\",\"All Levels\",\"All Levels\",\"All Levels\",\"All Levels\",\"All Levels\",\"All Levels\",\"All Levels\",\"All Levels\",\"All Levels\",\"All Levels\",\"All Levels\",\"All Levels\",\"All Levels\",\"All Levels\",\"All Levels\",\"All Levels\",\"All Levels\",\"All Levels\",\"All Levels\",\"All Levels\",\"All Levels\",\"All Levels\",\"All Levels\",\"All Levels\",\"All Levels\",\"All Levels\",\"All Levels\",\"All Levels\",\"All Levels\",\"All Levels\",\"All Levels\",\"All Levels\",\"All Levels\",\"All Levels\",\"All Levels\",\"All Levels\",\"All Levels\",\"All Levels\",\"All Levels\",\"All Levels\",\"All Levels\",\"All Levels\",\"All Levels\",\"All Levels\",\"All Levels\",\"All Levels\",\"All Levels\",\"All Levels\",\"All Levels\",\"All Levels\",\"All Levels\",\"All Levels\",\"All Levels\",\"All Levels\",\"All Levels\",\"All Levels\",\"All Levels\",\"All Levels\",\"All Levels\",\"All Levels\",\"All Levels\",\"All Levels\",\"All Levels\",\"All Levels\",\"All Levels\",\"All Levels\",\"All Levels\",\"All Levels\",\"All Levels\",\"All Levels\",\"All Levels\",\"All Levels\",\"All Levels\",\"All Levels\",\"All Levels\",\"All Levels\",\"All Levels\",\"All Levels\",\"All Levels\",\"All Levels\",\"All Levels\",\"All Levels\",\"All Levels\",\"All Levels\",\"All Levels\",\"All Levels\",\"All Levels\",\"All Levels\",\"All Levels\",\"All Levels\",\"All Levels\",\"All Levels\",\"All Levels\",\"All Levels\",\"All Levels\",\"All Levels\",\"All Levels\",\"All Levels\",\"All Levels\",\"All Levels\",\"All Levels\",\"All Levels\",\"All Levels\",\"All Levels\",\"All Levels\",\"All Levels\",\"All Levels\",\"All Levels\",\"All Levels\",\"All Levels\",\"All Levels\",\"All Levels\",\"All Levels\",\"All Levels\",\"All Levels\",\"All Levels\",\"All Levels\",\"All Levels\",\"All Levels\",\"All Levels\",\"All Levels\",\"All Levels\",\"All Levels\",\"All Levels\",\"All Levels\",\"All Levels\",\"All Levels\",\"All Levels\",\"All Levels\",\"All Levels\",\"All Levels\",\"All Levels\",\"All Levels\",\"All Levels\",\"All Levels\",\"All Levels\",\"All Levels\",\"All Levels\",\"All Levels\",\"All Levels\",\"All Levels\",\"All Levels\",\"All Levels\",\"All Levels\",\"All Levels\",\"All Levels\",\"All Levels\",\"All Levels\",\"All Levels\",\"All Levels\",\"All Levels\",\"All Levels\",\"All Levels\",\"All Levels\",\"All Levels\",\"All Levels\",\"All Levels\",\"All Levels\",\"All Levels\",\"All Levels\",\"All Levels\",\"All Levels\",\"All Levels\",\"All Levels\",\"All Levels\",\"All Levels\",\"All Levels\",\"All Levels\",\"All Levels\",\"All Levels\",\"All Levels\",\"All Levels\",\"All Levels\",\"All Levels\",\"All Levels\",\"All Levels\",\"All Levels\",\"All Levels\",\"All Levels\",\"All Levels\",\"All Levels\",\"All Levels\",\"All Levels\",\"All Levels\",\"All Levels\",\"All Levels\",\"All Levels\",\"All Levels\",\"All Levels\",\"All Levels\",\"All Levels\",\"All Levels\",\"All Levels\",\"All Levels\",\"All Levels\",\"All Levels\",\"All Levels\",\"All Levels\",\"All Levels\",\"All Levels\",\"All Levels\",\"All Levels\",\"All Levels\",\"All Levels\",\"All Levels\",\"All Levels\",\"All Levels\",\"All Levels\",\"All Levels\",\"All Levels\",\"All Levels\",\"All Levels\",\"All Levels\",\"All Levels\",\"All Levels\",\"All Levels\",\"All Levels\",\"All Levels\",\"All Levels\",\"All Levels\",\"All Levels\",\"All Levels\",\"All Levels\",\"All Levels\",\"All Levels\",\"All Levels\",\"All Levels\",\"All Levels\",\"All Levels\",\"All Levels\",\"All Levels\",\"All Levels\",\"All Levels\",\"All Levels\",\"All Levels\",\"All Levels\",\"All Levels\",\"All Levels\",\"All Levels\",\"All Levels\",\"All Levels\",\"All Levels\",\"All Levels\",\"All Levels\",\"All Levels\",\"All Levels\",\"All Levels\",\"All Levels\",\"All Levels\",\"All Levels\",\"All Levels\",\"All Levels\",\"All Levels\",\"All Levels\",\"All Levels\",\"All Levels\",\"All Levels\",\"All Levels\",\"All Levels\",\"All Levels\",\"All Levels\",\"All Levels\",\"All Levels\",\"All Levels\",\"All Levels\",\"All Levels\",\"All Levels\",\"All Levels\",\"All Levels\",\"All Levels\",\"All Levels\",\"All Levels\",\"All Levels\",\"All Levels\",\"All Levels\",\"All Levels\",\"All Levels\",\"All Levels\",\"All Levels\",\"All Levels\",\"All Levels\",\"All Levels\",\"All Levels\",\"All Levels\",\"All Levels\",\"All Levels\",\"All Levels\",\"All Levels\",\"All Levels\",\"All Levels\",\"All Levels\",\"All Levels\",\"All Levels\",\"All Levels\",\"All Levels\",\"All Levels\",\"All Levels\",\"All Levels\",\"All Levels\",\"All Levels\",\"All Levels\",\"All Levels\",\"All Levels\",\"All Levels\",\"All Levels\",\"All Levels\",\"All Levels\",\"All Levels\",\"All Levels\",\"All Levels\",\"All Levels\",\"All Levels\",\"All Levels\",\"All Levels\",\"All Levels\",\"All Levels\",\"All Levels\",\"All Levels\",\"All Levels\",\"All Levels\",\"All Levels\",\"All Levels\",\"All Levels\",\"All Levels\",\"All Levels\",\"All Levels\",\"All Levels\",\"All Levels\",\"All Levels\",\"All Levels\",\"All Levels\",\"All Levels\",\"All Levels\",\"All Levels\",\"All Levels\",\"All Levels\",\"All Levels\",\"All Levels\",\"All Levels\",\"All Levels\",\"All Levels\",\"All Levels\",\"All Levels\",\"All Levels\",\"All Levels\",\"All Levels\",\"All Levels\",\"All Levels\",\"All Levels\",\"All Levels\",\"All Levels\",\"All Levels\",\"All Levels\",\"All Levels\",\"All Levels\",\"All Levels\",\"All Levels\",\"All Levels\",\"All Levels\",\"All Levels\",\"All Levels\",\"All Levels\",\"All Levels\",\"All Levels\",\"All Levels\",\"All Levels\",\"All Levels\",\"All Levels\",\"All Levels\",\"All Levels\",\"All Levels\",\"All Levels\",\"All Levels\",\"All Levels\",\"All Levels\",\"All Levels\",\"All Levels\",\"All Levels\",\"All Levels\",\"All Levels\",\"All Levels\",\"All Levels\",\"All Levels\",\"All Levels\",\"All Levels\",\"All Levels\",\"All Levels\",\"All Levels\",\"All Levels\",\"All Levels\",\"All Levels\",\"All Levels\",\"All Levels\",\"All Levels\",\"All Levels\",\"All Levels\",\"All Levels\",\"All Levels\",\"All Levels\",\"All Levels\",\"All Levels\",\"All Levels\",\"All Levels\",\"All Levels\",\"All Levels\",\"All Levels\",\"All Levels\",\"All Levels\",\"All Levels\",\"All Levels\",\"All Levels\",\"All Levels\",\"All Levels\",\"All Levels\",\"All Levels\",\"All Levels\",\"All Levels\",\"All Levels\",\"All Levels\",\"All Levels\",\"All Levels\",\"All Levels\",\"All Levels\",\"All Levels\",\"All Levels\",\"All Levels\",\"All Levels\",\"All Levels\",\"All Levels\",\"All Levels\",\"All Levels\",\"All Levels\",\"All Levels\",\"All Levels\",\"All Levels\",\"All Levels\",\"All Levels\",\"All Levels\",\"All Levels\",\"All Levels\",\"All Levels\",\"All Levels\",\"All Levels\",\"All Levels\",\"All Levels\",\"All Levels\",\"All Levels\",\"All Levels\",\"All Levels\",\"All Levels\",\"All Levels\",\"All Levels\",\"All Levels\",\"All Levels\",\"All Levels\",\"All Levels\",\"All Levels\",\"All Levels\",\"All Levels\",\"All Levels\",\"All Levels\",\"All Levels\",\"All Levels\",\"All Levels\",\"All Levels\",\"All Levels\",\"All Levels\",\"All Levels\",\"All Levels\",\"All Levels\",\"All Levels\",\"All Levels\",\"All Levels\",\"All Levels\",\"All Levels\",\"All Levels\",\"All Levels\",\"All Levels\",\"All Levels\",\"All Levels\",\"All Levels\",\"All Levels\",\"All Levels\",\"All Levels\",\"All Levels\",\"All Levels\",\"All Levels\",\"All Levels\",\"All Levels\",\"All Levels\",\"All Levels\",\"All Levels\",\"All Levels\",\"All Levels\",\"All Levels\",\"All Levels\",\"All Levels\",\"All Levels\",\"All Levels\",\"All Levels\",\"All Levels\",\"All Levels\",\"All Levels\",\"All Levels\",\"All Levels\",\"All Levels\",\"All Levels\",\"All Levels\",\"All Levels\",\"All Levels\",\"All Levels\",\"All Levels\",\"All Levels\",\"All Levels\",\"All Levels\",\"All Levels\",\"All Levels\",\"All Levels\",\"All Levels\",\"All Levels\",\"All Levels\",\"All Levels\",\"All Levels\",\"All Levels\",\"All Levels\",\"All Levels\",\"All Levels\",\"All Levels\",\"All Levels\",\"All Levels\",\"All Levels\",\"All Levels\",\"All Levels\",\"All Levels\",\"All Levels\",\"All Levels\",\"All Levels\",\"All Levels\",\"All Levels\",\"All Levels\",\"All Levels\",\"All Levels\",\"All Levels\",\"All Levels\",\"All Levels\",\"All Levels\",\"All Levels\",\"All Levels\",\"All Levels\",\"All Levels\",\"All Levels\",\"All Levels\",\"All Levels\",\"All Levels\",\"All Levels\",\"All Levels\",\"All Levels\",\"All Levels\",\"All Levels\",\"All Levels\",\"All Levels\",\"All Levels\",\"All Levels\",\"All Levels\",\"All Levels\",\"All Levels\",\"All Levels\",\"All Levels\",\"All Levels\",\"All Levels\",\"All Levels\",\"All Levels\",\"All Levels\",\"All Levels\",\"All Levels\",\"All Levels\",\"All Levels\",\"All Levels\",\"All Levels\",\"All Levels\",\"All Levels\",\"All Levels\",\"All Levels\",\"All Levels\",\"All Levels\",\"All Levels\",\"All Levels\",\"All Levels\",\"All Levels\",\"All Levels\",\"All Levels\",\"All Levels\",\"All Levels\",\"All Levels\",\"All Levels\",\"All Levels\",\"All Levels\",\"All Levels\",\"All Levels\",\"All Levels\",\"All Levels\",\"All Levels\",\"All Levels\",\"All Levels\",\"All Levels\",\"All Levels\",\"All Levels\",\"All Levels\",\"All Levels\",\"All Levels\",\"All Levels\",\"All Levels\",\"All Levels\",\"All Levels\",\"All Levels\",\"All Levels\",\"All Levels\",\"All Levels\",\"All Levels\",\"All Levels\",\"All Levels\",\"All Levels\",\"All Levels\",\"All Levels\",\"All Levels\",\"All Levels\",\"All Levels\",\"All Levels\",\"All Levels\",\"All Levels\",\"All Levels\",\"All Levels\",\"All Levels\",\"All Levels\",\"All Levels\",\"All Levels\",\"All Levels\",\"All Levels\",\"All Levels\",\"All Levels\",\"All Levels\",\"All Levels\",\"All Levels\",\"All Levels\",\"All Levels\",\"All Levels\",\"All Levels\",\"All Levels\",\"All Levels\",\"All Levels\",\"All Levels\",\"All Levels\",\"All Levels\",\"All Levels\",\"All Levels\",\"All Levels\",\"All Levels\",\"All Levels\",\"All Levels\",\"All Levels\",\"All Levels\",\"All Levels\",\"All Levels\",\"All Levels\",\"All Levels\",\"All Levels\",\"All Levels\",\"All Levels\",\"All Levels\",\"All Levels\",\"All Levels\",\"All Levels\",\"All Levels\",\"All Levels\",\"All Levels\",\"All Levels\",\"All Levels\",\"All Levels\",\"All Levels\",\"All Levels\",\"All Levels\",\"All Levels\",\"All Levels\",\"All Levels\",\"All Levels\",\"All Levels\",\"All Levels\",\"All Levels\",\"All Levels\",\"All Levels\",\"All Levels\",\"All Levels\",\"All Levels\",\"All Levels\",\"All Levels\",\"All Levels\",\"All Levels\",\"All Levels\",\"All Levels\",\"All Levels\",\"All Levels\",\"All Levels\",\"All Levels\",\"All Levels\",\"All Levels\",\"All Levels\",\"All Levels\",\"All Levels\",\"All Levels\",\"All Levels\",\"All Levels\",\"All Levels\",\"All Levels\",\"All Levels\",\"All Levels\",\"All Levels\",\"All Levels\",\"All Levels\",\"All Levels\",\"All Levels\",\"All Levels\",\"All Levels\",\"All Levels\",\"All Levels\",\"All Levels\",\"All Levels\",\"All Levels\",\"All Levels\",\"All Levels\",\"All Levels\",\"All Levels\",\"All Levels\",\"All Levels\",\"All Levels\",\"All Levels\",\"All Levels\",\"All Levels\",\"All Levels\",\"All Levels\",\"All Levels\",\"All Levels\",\"All Levels\",\"All Levels\",\"All Levels\",\"All Levels\",\"All Levels\",\"All Levels\",\"All Levels\",\"All Levels\",\"All Levels\",\"All Levels\",\"All Levels\",\"All Levels\",\"All Levels\",\"All Levels\",\"All Levels\",\"All Levels\",\"All Levels\",\"All Levels\",\"All Levels\",\"All Levels\",\"All Levels\",\"All Levels\",\"All Levels\",\"All Levels\",\"All Levels\",\"All Levels\",\"All Levels\",\"All Levels\",\"All Levels\",\"All Levels\",\"All Levels\",\"All Levels\",\"All Levels\",\"All Levels\",\"All Levels\",\"All Levels\",\"All Levels\",\"All Levels\",\"All Levels\",\"All Levels\",\"All Levels\",\"All Levels\",\"All Levels\",\"All Levels\",\"All Levels\",\"All Levels\",\"All Levels\",\"All Levels\",\"All Levels\",\"All Levels\",\"All Levels\",\"All Levels\",\"All Levels\",\"All Levels\",\"All Levels\",\"All Levels\",\"All Levels\",\"All Levels\",\"All Levels\",\"All Levels\",\"All Levels\",\"All Levels\",\"All Levels\",\"All Levels\",\"All Levels\",\"All Levels\",\"All Levels\",\"All Levels\",\"All Levels\",\"All Levels\",\"All Levels\",\"All Levels\",\"All Levels\",\"All Levels\",\"All Levels\",\"All Levels\",\"All Levels\",\"All Levels\",\"All Levels\",\"All Levels\",\"All Levels\",\"All Levels\",\"All Levels\",\"All Levels\",\"All Levels\",\"All Levels\",\"All Levels\",\"All Levels\",\"All Levels\",\"All Levels\",\"All Levels\",\"All Levels\",\"All Levels\",\"All Levels\",\"All Levels\",\"All Levels\",\"All Levels\",\"All Levels\",\"All Levels\",\"All Levels\",\"All Levels\",\"All Levels\",\"All Levels\",\"All Levels\",\"All Levels\",\"All Levels\",\"All Levels\",\"All Levels\",\"All Levels\",\"All Levels\",\"All Levels\",\"All Levels\",\"All Levels\",\"All Levels\",\"All Levels\",\"All Levels\",\"All Levels\",\"All Levels\",\"All Levels\",\"All Levels\",\"All Levels\",\"All Levels\",\"All Levels\",\"All Levels\",\"All Levels\",\"All Levels\",\"All Levels\",\"All Levels\",\"All Levels\",\"All Levels\",\"All Levels\",\"All Levels\",\"All Levels\",\"All Levels\",\"All Levels\",\"All Levels\",\"All Levels\",\"All Levels\",\"All Levels\",\"All Levels\",\"All Levels\",\"All Levels\",\"All Levels\",\"All Levels\",\"All Levels\",\"All Levels\",\"All Levels\",\"All Levels\",\"All Levels\",\"All Levels\",\"All Levels\",\"All Levels\",\"All Levels\",\"All Levels\",\"All Levels\",\"All Levels\",\"All Levels\",\"All Levels\",\"All Levels\",\"All Levels\",\"All Levels\",\"All Levels\",\"All Levels\",\"All Levels\",\"All Levels\",\"All Levels\",\"All Levels\",\"All Levels\",\"All Levels\",\"All Levels\",\"All Levels\",\"All Levels\",\"All Levels\",\"All Levels\",\"All Levels\",\"All Levels\",\"All Levels\",\"All Levels\",\"All Levels\",\"All Levels\",\"All Levels\",\"All Levels\",\"All Levels\",\"All Levels\",\"All Levels\",\"All Levels\",\"All Levels\",\"All Levels\",\"All Levels\",\"All Levels\",\"All Levels\",\"All Levels\",\"All Levels\",\"All Levels\",\"All Levels\",\"All Levels\",\"All Levels\",\"All Levels\",\"All Levels\",\"All Levels\",\"All Levels\",\"All Levels\",\"All Levels\",\"All Levels\",\"All Levels\",\"All Levels\",\"All Levels\",\"All Levels\",\"All Levels\",\"All Levels\",\"All Levels\",\"All Levels\",\"All Levels\",\"All Levels\",\"All Levels\",\"All Levels\",\"All Levels\",\"All Levels\",\"All Levels\",\"All Levels\",\"All Levels\",\"All Levels\",\"All Levels\",\"All Levels\",\"All Levels\",\"All Levels\",\"All Levels\",\"All Levels\",\"All Levels\",\"All Levels\",\"All Levels\",\"All Levels\",\"All Levels\",\"All Levels\",\"All Levels\",\"All Levels\",\"All Levels\",\"All Levels\",\"All Levels\",\"All Levels\",\"All Levels\",\"All Levels\",\"All Levels\",\"All Levels\",\"All Levels\",\"All Levels\",\"All Levels\",\"All Levels\",\"All Levels\",\"All Levels\",\"All Levels\",\"All Levels\",\"All Levels\",\"All Levels\",\"All Levels\",\"All Levels\",\"All Levels\",\"All Levels\",\"All Levels\",\"All Levels\",\"All Levels\",\"All Levels\",\"All Levels\",\"All Levels\",\"All Levels\",\"All Levels\",\"All Levels\",\"All Levels\",\"All Levels\",\"All Levels\",\"All Levels\",\"All Levels\",\"All Levels\",\"All Levels\",\"All Levels\",\"All Levels\",\"All Levels\",\"All Levels\",\"All Levels\",\"All Levels\",\"All Levels\",\"All Levels\",\"All Levels\",\"All Levels\",\"All Levels\",\"All Levels\",\"All Levels\",\"All Levels\",\"All Levels\",\"All Levels\",\"All Levels\",\"All Levels\",\"All Levels\",\"All Levels\",\"All Levels\",\"All Levels\",\"All Levels\",\"All Levels\",\"All Levels\",\"All Levels\",\"All Levels\",\"All Levels\",\"All Levels\",\"All Levels\",\"All Levels\",\"All Levels\",\"All Levels\",\"All Levels\",\"All Levels\",\"All Levels\",\"All Levels\",\"All Levels\",\"All Levels\",\"All Levels\",\"All Levels\",\"All Levels\",\"All Levels\",\"All Levels\",\"All Levels\",\"All Levels\",\"All Levels\",\"All Levels\",\"All Levels\",\"All Levels\",\"All Levels\",\"All Levels\",\"All Levels\",\"All Levels\",\"All Levels\",\"All Levels\",\"All Levels\",\"All Levels\",\"All Levels\",\"All Levels\",\"All Levels\",\"All Levels\",\"All Levels\",\"All Levels\",\"All Levels\",\"All Levels\",\"All Levels\",\"All Levels\",\"All Levels\",\"All Levels\",\"All Levels\",\"All Levels\",\"All Levels\",\"All Levels\",\"All Levels\",\"All Levels\",\"All Levels\",\"All Levels\",\"All Levels\",\"All Levels\",\"All Levels\",\"All Levels\",\"All Levels\",\"All Levels\",\"All Levels\",\"All Levels\",\"All Levels\",\"All Levels\",\"All Levels\",\"All Levels\",\"All Levels\",\"All Levels\",\"All Levels\",\"All Levels\",\"All Levels\",\"All Levels\",\"All Levels\",\"All Levels\",\"All Levels\",\"All Levels\",\"All Levels\",\"All Levels\",\"All Levels\"],\"x0\":\" \",\"xaxis\":\"x\",\"y\":[1.5,39.0,3.0,3.0,2.5,1.0,5.0,1.0,1.5,2.0,7.0,4.0,1.5,2.0,4.0,2.0,2.0,5.0,4.5,4.5,1.5,6.5,2.0,1.5,4.5,7.5,5.5,10.0,6.5,16.0,3.0,5.0,5.5,5.0,2.0,3.0,1.0,1.5,1.0,3.5,4.5,8.5,6.5,5.5,1.5,3.5,3.0,5.0,1.0,1.0,2.0,4.0,1.0,4.0,2.0,1.0,1.5,1.0,4.5,1.5,9.5,1.0,5.5,1.5,1.5,1.0,1.0,2.0,4.5,5.0,1.0,62.0,1.5,0.133333333333333,0.683333333333333,3.0,31.5,3.5,2.5,2.5,1.0,1.0,1.5,9.5,20.0,2.5,1.0,4.0,1.5,1.5,1.0,3.0,3.5,4.5,46.5,5.0,2.5,1.0,1.5,2.0,1.5,4.5,1.5,2.0,3.0,1.5,5.5,1.5,5.5,3.0,0.7,1.5,1.5,2.0,1.5,4.5,3.5,1.5,0.55,9.0,2.0,1.0,1.5,5.5,2.0,7.0,1.0,1.5,10.0,1.0,2.0,1.5,17.5,1.0,4.5,1.0,2.0,3.5,1.0,1.5,2.0,0.683333333333333,3.0,1.5,4.0,2.0,2.0,2.5,2.0,2.5,1.0,1.0,1.0,4.5,1.0,4.5,3.0,24.0,19.5,1.5,3.5,2.5,20.5,2.0,2.5,2.0,10.0,20.5,2.0,10.5,1.0,1.5,3.0,0.516666666666666,1.5,5.0,4.5,1.0,2.5,0.6,2.0,1.5,1.0,1.0,0.7,5.5,7.0,1.0,5.5,1.5,2.5,0.683333333333333,2.0,2.0,2.0,0.683333333333333,5.5,8.0,2.0,29.0,3.0,8.0,26.0,1.5,2.5,1.5,6.0,1.0,2.5,1.0,1.0,10.0,1.0,1.0,11.0,24.5,1.5,2.0,1.0,2.5,2.0,6.0,6.0,1.0,2.0,2.5,2.5,1.5,8.0,1.0,1.5,10.0,1.0,5.5,3.5,1.5,13.0,1.0,2.5,1.5,1.0,3.5,1.0,1.5,7.5,6.0,2.0,1.5,7.5,3.5,1.0,3.5,1.5,1.0,1.5,1.0,1.5,2.5,1.5,2.0,4.5,1.0,1.5,5.5,2.0,1.0,3.5,12.5,2.0,1.0,0.316666666666666,5.5,11.5,0.616666666666666,1.0,5.5,4.0,0.666666666666666,2.5,4.5,3.0,4.5,2.0,1.5,0.666666666666666,2.0,2.0,3.5,2.0,6.0,1.5,4.0,1.5,8.0,0.6,2.0,8.0,1.5,2.5,18.0,3.5,1.5,0.566666666666666,0.616666666666666,1.0,1.0,24.5,1.5,1.0,5.5,7.5,1.5,1.0,0.566666666666666,2.0,2.5,1.5,0.566666666666666,0.716666666666666,1.0,2.0,0.533333333333333,33.0,24.5,3.0,5.0,1.0,10.5,2.0,7.0,3.5,9.0,2.5,3.0,1.5,1.0,4.5,1.5,1.0,2.5,2.5,71.5,7.0,3.5,2.0,1.0,7.0,1.5,1.0,2.0,2.0,3.0,1.5,1.0,1.5,1.0,1.5,20.5,47.0,3.0,2.0,1.0,1.0,14.5,2.5,2.0,5.0,2.0,3.5,3.0,1.5,2.0,3.0,0.683333333333333,1.0,1.0,0.65,4.0,2.0,4.0,5.5,6.0,6.0,1.5,5.5,2.0,2.0,3.0,1.5,2.5,1.0,2.0,1.0,1.5,2.0,1.0,3.5,18.5,2.0,2.5,43.5,0.6,2.5,5.5,0.633333333333333,2.0,4.5,3.5,5.5,1.0,5.0,4.0,1.5,1.0,14.0,1.0,1.0,1.0,1.5,3.5,14.5,1.0,1.0,1.0,5.0,1.0,3.0,3.0,4.0,2.0,3.0,1.0,3.5,6.0,2.0,1.5,2.5,5.5,1.0,2.5,2.5,2.0,7.5,0.466666666666666,2.5,10.0,2.0,24.0,1.0,9.0,1.0,0.616666666666666,1.5,1.0,1.0,1.5,3.5,1.5,1.0,12.5,1.5,0.583333333333333,2.0,3.5,2.0,9.0,0.683333333333333,2.0,2.0,6.0,5.5,4.0,2.0,1.0,2.0,1.0,1.5,5.0,2.5,6.0,8.5,0.516666666666666,1.0,0.533333333333333,0.616666666666666,4.0,6.0,0.616666666666666,3.0,1.5,0.566666666666666,6.5,0.716666666666666,5.0,3.0,1.0,1.5,1.0,3.0,3.0,3.5,0.7,3.5,1.5,3.0,4.0,7.0,5.0,2.5,7.5,5.5,2.0,2.0,2.0,3.0,7.0,1.0,4.5,1.0,3.0,3.0,2.0,3.0,7.0,2.0,1.0,1.0,45.0,1.5,1.5,70.0,4.0,6.0,2.0,0.6,6.0,8.0,2.0,1.5,1.0,1.0,0.0,1.0,2.0,0.716666666666666,1.0,2.5,2.5,2.0,1.5,1.0,1.5,1.5,3.5,0.533333333333333,1.5,3.0,4.5,1.5,4.0,10.0,1.5,1.0,0.516666666666666,2.0,3.0,3.0,29.5,2.5,6.5,1.0,2.0,2.5,2.0,1.0,1.0,1.0,1.0,1.0,5.0,3.0,2.0,13.0,2.0,3.5,1.0,2.5,5.0,13.5,2.5,0.666666666666666,3.0,4.0,0.516666666666666,2.5,0.683333333333333,1.5,3.0,1.0,4.5,2.5,1.5,1.5,5.0,0.6,1.0,1.0,3.5,2.0,1.0,6.5,3.5,5.0,1.5,10.5,8.5,0.733333333333333,8.5,2.0,3.0,0.65,1.5,4.5,5.5,2.0,1.0,4.5,1.0,1.0,1.5,2.0,4.0,1.0,1.0,5.0,8.5,2.0,4.0,3.0,1.5,2.0,1.5,7.0,5.5,3.0,1.0,1.0,0.666666666666666,1.5,1.0,2.0,8.5,10.5,1.0,2.0,2.5,1.0,12.5,0.6,7.0,14.0,1.0,1.5,2.0,2.5,1.5,3.0,2.5,5.5,17.5,3.5,2.5,1.0,2.0,8.0,2.0,1.5,1.0,4.5,4.0,2.5,1.0,3.0,1.5,8.0,4.0,3.5,1.5,0.633333333333333,2.0,2.5,3.0,1.5,4.0,1.0,5.0,12.0,1.5,1.0,7.5,1.0,62.0,3.0,2.5,0.6,3.5,5.0,68.5,3.5,2.5,6.5,3.5,3.0,3.0,1.0,0.6,7.5,1.0,6.5,2.0,2.5,1.0,11.0,12.0,17.5,13.0,0.65,2.5,2.5,5.5,2.5,1.0,0.683333333333333,6.0,3.0,0.7,1.0,2.5,4.0,0.566666666666666,1.5,10.0,11.5,2.5,1.0,3.5,0.566666666666666,0.533333333333333,0.566666666666666,1.0,1.5,1.0,0.683333333333333,2.0,3.5,3.0,13.5,0.6,10.5,3.5,2.5,1.5,6.5,1.0,1.5,6.5,1.5,12.5,9.0,0.65,2.0,4.5,0.666666666666666,7.0,2.5,0.733333333333333,1.0,2.0,8.5,5.5,4.0,6.5,4.0,12.0,5.0,13.0,7.5,3.0,1.5,6.5,1.0,10.0,1.0,0.733333333333333,0.566666666666666,6.5,1.5,4.0,1.0,0.633333333333333,1.0,4.5,1.5,2.0,1.0,1.5,2.0,1.5,3.5,8.0,2.0,3.0,1.5,2.0,3.0,2.0,1.0,5.0,1.0,3.5,1.5,12.5,4.5,4.5,0.666666666666666,1.5,8.5,0.733333333333333,2.0,2.5,2.5,6.0,2.5,7.5,5.0,1.5,12.0,2.5,1.0,1.5,14.5,1.5,30.0,2.0,1.0,1.0,2.5,2.0,17.0,1.5,2.0,0.7,1.0,0.583333333333333,1.5,4.0,2.5,4.0,1.0,1.0,2.5,5.0,1.0,1.0,0.683333333333333,3.5,2.5,1.0,1.5,5.0,16.5,2.0,1.0,4.0,2.5,1.0,2.5,5.5,0.7,3.5,2.5,1.5,1.5,0.566666666666666,1.5,4.0,5.0,2.0,10.5,6.0,0.6,0.616666666666666,1.5,3.5,2.0,1.0,0.716666666666666,10.0,4.0,1.0,1.0,3.0,20.5,2.0,4.5,2.5,2.0,2.0,1.0,1.5,1.5,3.0,1.0,2.0,2.0,7.5,1.0,8.0,1.5,12.0,1.5,16.0,3.0,2.0,2.0,1.0,2.0,4.0,2.0,1.0,0.533333333333333,0.716666666666666,2.0,1.5,1.5,2.0,9.0,2.5,2.5,1.0,1.0,3.0,1.0,5.5,2.5,1.0,4.5,4.0,2.5,1.5,6.5,3.0,1.0,2.0,7.0,8.0,1.0,5.5,2.0,4.0,1.0,9.5,0.516666666666666,5.0,1.0,1.0,8.0,1.5,0.533333333333333,9.5,2.5,2.5,2.0,0.616666666666666,8.0,2.0,3.0,24.0,2.0,1.5,2.5,7.5,2.0,1.0,1.0,1.0,1.0,0.633333333333333,1.0,8.0,2.0,0.533333333333333,4.5,2.0,0.7,1.5,2.0,3.0,2.0,1.0,1.0,1.0,2.5,2.0,1.0,3.0,2.0,7.5,1.5,1.5,0.683333333333333,2.5,3.0,0.5,3.0,2.0,2.5,1.0,2.5,1.0,6.0,1.5,3.0,1.0,2.0,2.0,2.0,3.5,4.5,1.5,1.5,3.0,2.0,1.0,1.0,5.5,2.5,2.0,4.0,1.5,5.0,5.5,7.5,1.5,1.5,1.5,1.0,1.0,2.5,4.5,4.0,2.5,0.483333333333333,1.5,2.5,0.65,1.0,2.0,0.566666666666666,1.5,1.0,1.5,1.5,4.5,1.0,1.5,8.5,3.5,30.0,9.5,34.0,31.0,15.5,1.5,8.5,1.5,1.5,3.5,1.5,1.5,1.5,0.633333333333333,1.0,2.5,2.0,4.0,1.0,2.0,0.6,1.0,1.0,5.0,5.5,10.5,23.0,1.5,7.0,8.0,0.666666666666666,1.5,6.0,2.0,6.0,3.5,6.5,5.0,1.0,4.0,0.583333333333333,3.5,0.733333333333333,1.5,1.0,6.5,7.0,3.5,3.0,2.5,8.0,2.5,3.0,1.5,0.6,2.0,3.5,2.5,1.0,2.5,2.5,3.5,3.0,3.5,3.0,0.55,1.5,1.5,2.0,1.5,1.0,3.0,2.0,6.0,4.0,0.533333333333333,9.5,1.0,3.5,1.5,4.0,38.0,9.0,2.0,1.5,1.5,2.0,2.5,1.5,2.5,3.5,5.0,3.5,7.0,4.5,0.716666666666666,3.0,2.5,1.0,3.5,3.0,3.5,3.0,0.733333333333333,1.5,6.5,2.5,2.0,1.5,5.0,2.0,1.0,2.5,7.5,7.0,0.616666666666666,2.0,1.5,4.0,3.0,1.5,3.0,5.5,3.0,1.0,1.5,2.0,6.5,3.5,2.5,1.5,1.0,1.5,8.0,1.0,5.5,6.0,2.0,0.716666666666666,2.0,3.0,1.5,0.633333333333333,2.0,1.5,7.5,4.5,2.5,1.5,3.5,0.716666666666666,1.0,1.5,3.0,1.0,1.0,1.5,1.0,0.55,0.55,1.0,2.0,2.0,7.0,0.566666666666666,1.5,0.5,0.5,0.533333333333333,0.533333333333333,0.633333333333333,0.55,0.583333333333333,1.0,1.5,1.0,1.5,4.5,5.0,1.0,1.5,2.5,1.5,2.5,0.616666666666666,2.5,1.5,0.733333333333333,2.0,2.0,6.0,2.0,2.0,1.0,4.0,3.5,3.0,3.5,3.0,3.0,3.0,3.0,4.0,12.5,4.5,5.0,19.5,7.0,6.0,4.0,12.0,4.0,5.0,6.0,7.5,5.0,20.5,3.0,13.5,37.5,3.5,4.0,2.5,1.5,3.5,17.5,1.0,2.5,2.5,6.5,3.5,8.0,2.5,2.5,10.5,3.0,1.5,8.0,25.0,11.0,4.5,20.0,1.5,7.0,4.0,5.0,7.5,3.0,7.5,45.0,16.0,1.0,11.0,1.0,3.5,12.5,2.0,1.5,1.0,3.0,3.0,1.0,4.0,2.0,15.0,1.5,3.5,2.5,3.5,1.0,3.0,19.5,6.5,60.0,11.5,5.5,10.0,7.0,16.5,2.0,22.5,13.5,2.0,4.0,5.5,3.5,2.0,1.0,1.5,3.0,1.0,10.0,23.0,18.0,6.5,20.5,6.0,14.5,13.0,8.5,8.5,1.0,17.5,1.5,3.0,6.0,10.0,3.5,2.5,3.0,7.5,5.5,3.0,2.0,2.5,4.5,2.0,1.0,1.0,3.5,2.5,5.0,4.0,6.5,29.5,3.0,21.5,31.5,4.0,12.0,27.5,5.5,5.0,20.5,14.5,9.0,14.0,15.5,22.5,9.0,12.0,12.5,3.5,16.0,13.0,3.0,2.5,4.0,1.0,1.5,11.5,24.5,2.0,7.5,2.5,25.0,1.0,15.5,6.0,3.0,8.5,5.0,1.0,11.0,1.5,1.0,1.5,1.0,6.0,4.5,4.5,7.0,18.5,1.5,6.5,0.666666666666666,1.5,3.5,1.5,3.5,1.0,13.0,4.5,3.0,2.0,9.0,14.5,3.0,51.0,2.0,32.5,12.0,9.5,13.0,4.0,12.5,2.0,1.5,1.0,10.5,2.5,3.0,1.0,2.0,13.5,2.5,0.716666666666666,2.5,4.0,3.5,2.0,0.7,3.0,3.0,1.0,0.616666666666666,2.0,1.0,1.0,1.5,2.5,2.0,13.0,8.0,2.0,2.0,3.5,9.0,3.5,2.0,4.0,4.0,1.5,1.0,1.0,1.5,1.5,1.0,2.5,12.5,1.5,1.0,3.5,6.5,1.5,0.566666666666666,17.0,4.0,3.5,3.0,2.0,3.0,1.5,9.0,2.5,9.0,4.0,11.0,8.0,7.0,0.683333333333333,3.5,3.5,17.5,3.0,2.0,6.5,7.0,1.0,1.5,1.0,7.0,6.0,5.5,8.0,1.0,1.0,0.55,44.5,5.0,3.0,3.0,2.0,4.0,0.583333333333333,2.0,3.0,2.5,14.0,3.5,2.0,57.0,5.0,1.5,2.5,8.0,9.5,3.0,14.0,2.5,6.5,3.0,3.0,2.0,3.5,1.0,13.0,3.5,1.0,9.5,1.5,0.55,0.633333333333333,3.5,5.5,10.5,0.533333333333333,2.5,2.5,1.5,3.5,8.0,4.5,7.0,13.5,4.0,4.0,12.0,3.5,0.65,8.0,2.0,6.0,5.5,4.5,2.5,15.5,5.5,1.5,18.5,7.0,1.5,16.5,5.0,4.0,3.5,6.5,7.0,3.0,2.5,0.6,2.0,2.5,10.0,14.5,7.5,10.5,2.0,7.0,2.0,2.5,2.5,0.666666666666666,3.0,0.566666666666666,4.5,2.0,4.0,5.5,5.0,16.0,9.0,3.5,76.5,11.5,19.5,9.0,11.0,1.5,2.0,13.0,7.0,2.0,10.5,3.5,1.5,7.0,2.5,1.5,20.0,16.5,12.5,5.5,6.0,4.0,5.0,15.5,3.5,1.5,9.0,5.0,3.0,20.0,8.0,31.5,14.5,22.0,30.5,17.0,31.5,3.0,3.5,2.0,3.5,5.5,4.5,13.5,18.0,17.5,8.5,9.5,9.0,43.0,10.0,30.5,32.5,0.683333333333333,5.0,4.5,3.5,5.5,18.5,42.0,7.0,11.5,5.5,12.0,13.0,7.0,26.5,7.5,0.733333333333333,1.0,7.5,1.0,9.5,2.0,7.5,0.633333333333333,5.0,3.0,1.5,2.0,0.616666666666666,5.5,0.583333333333333,7.5,0.583333333333333,1.5,5.5,6.5,10.5,2.0,6.5,1.0,1.0,3.0,3.0,4.0,2.0,4.0,7.5,2.0,2.5,3.0,1.0,1.0,2.0,6.0,26.0,3.0,4.0,21.0,0.55,0.5,2.0,5.0,3.5,2.0,3.0,1.0,5.0,18.5,1.5,1.0,8.0,5.0,1.5,5.0,3.0,1.5,1.0,1.5,3.0,4.5,1.5,1.0,6.5,17.5,1.0,2.0,13.0,3.5,26.0,4.5,2.5,1.5,1.5,7.0,2.5,7.0,8.5,4.0,12.5,7.5,1.5,2.0,4.5,8.5,2.0,0.633333333333333,6.0,1.0,1.5,4.5,5.5,1.5,14.0,0.566666666666666,4.0,2.5,4.0,0.566666666666666,5.0,2.0,6.5,4.5,48.5,1.5,2.0,1.5,1.5,7.5,3.0,8.0,25.5,0.583333333333333,1.5,2.5,0.516666666666666,5.5,1.0,1.0,4.0,2.5,1.5,15.0,6.0,3.0,1.5,5.5,0.566666666666666,22.5,0.65,2.0,10.0,8.0,1.0,3.0,3.5,3.5,16.0,3.5,4.0,5.0,0.733333333333333,0.566666666666666,4.5,3.0,2.0,6.5,5.0,3.0,22.5,0.65,7.0,3.0,2.0,2.5,5.0,4.0,9.5,1.5,2.5,16.5,3.5,2.5,3.0,1.5,3.5,0.7,1.5,2.0,3.5,6.5,11.0,7.0,2.0,3.5,6.5,6.5,6.5,66.5,1.0,12.5,4.5,0.633333333333333,0.633333333333333,1.5,1.0,1.0,1.0,5.0,0.533333333333333,1.0,6.5,2.5,1.5,2.5,0.6,2.0,0.516666666666666,14.0,4.5,10.0,5.5,0.616666666666666,2.5,15.5,2.0,3.5,8.5,1.0,2.0,0.616666666666666,2.5,1.0,15.5,2.0,3.5,3.0],\"y0\":\" \",\"yaxis\":\"y\",\"type\":\"box\"},{\"alignmentgroup\":\"True\",\"hovertemplate\":\"level=%{x}<br>content_duration=%{y}<extra></extra>\",\"legendgroup\":\"Intermediate Level\",\"marker\":{\"color\":\"#EF553B\"},\"name\":\"Intermediate Level\",\"notched\":false,\"offsetgroup\":\"Intermediate Level\",\"orientation\":\"v\",\"showlegend\":true,\"x\":[\"Intermediate Level\",\"Intermediate Level\",\"Intermediate Level\",\"Intermediate Level\",\"Intermediate Level\",\"Intermediate Level\",\"Intermediate Level\",\"Intermediate Level\",\"Intermediate Level\",\"Intermediate Level\",\"Intermediate Level\",\"Intermediate Level\",\"Intermediate Level\",\"Intermediate Level\",\"Intermediate Level\",\"Intermediate Level\",\"Intermediate Level\",\"Intermediate Level\",\"Intermediate Level\",\"Intermediate Level\",\"Intermediate Level\",\"Intermediate Level\",\"Intermediate Level\",\"Intermediate Level\",\"Intermediate Level\",\"Intermediate Level\",\"Intermediate Level\",\"Intermediate Level\",\"Intermediate Level\",\"Intermediate Level\",\"Intermediate Level\",\"Intermediate Level\",\"Intermediate Level\",\"Intermediate Level\",\"Intermediate Level\",\"Intermediate Level\",\"Intermediate Level\",\"Intermediate Level\",\"Intermediate Level\",\"Intermediate Level\",\"Intermediate Level\",\"Intermediate Level\",\"Intermediate Level\",\"Intermediate Level\",\"Intermediate Level\",\"Intermediate Level\",\"Intermediate Level\",\"Intermediate Level\",\"Intermediate Level\",\"Intermediate Level\",\"Intermediate Level\",\"Intermediate Level\",\"Intermediate Level\",\"Intermediate Level\",\"Intermediate Level\",\"Intermediate Level\",\"Intermediate Level\",\"Intermediate Level\",\"Intermediate Level\",\"Intermediate Level\",\"Intermediate Level\",\"Intermediate Level\",\"Intermediate Level\",\"Intermediate Level\",\"Intermediate Level\",\"Intermediate Level\",\"Intermediate Level\",\"Intermediate Level\",\"Intermediate Level\",\"Intermediate Level\",\"Intermediate Level\",\"Intermediate Level\",\"Intermediate Level\",\"Intermediate Level\",\"Intermediate Level\",\"Intermediate Level\",\"Intermediate Level\",\"Intermediate Level\",\"Intermediate Level\",\"Intermediate Level\",\"Intermediate Level\",\"Intermediate Level\",\"Intermediate Level\",\"Intermediate Level\",\"Intermediate Level\",\"Intermediate Level\",\"Intermediate Level\",\"Intermediate Level\",\"Intermediate Level\",\"Intermediate Level\",\"Intermediate Level\",\"Intermediate Level\",\"Intermediate Level\",\"Intermediate Level\",\"Intermediate Level\",\"Intermediate Level\",\"Intermediate Level\",\"Intermediate Level\",\"Intermediate Level\",\"Intermediate Level\",\"Intermediate Level\",\"Intermediate Level\",\"Intermediate Level\",\"Intermediate Level\",\"Intermediate Level\",\"Intermediate Level\",\"Intermediate Level\",\"Intermediate Level\",\"Intermediate Level\",\"Intermediate Level\",\"Intermediate Level\",\"Intermediate Level\",\"Intermediate Level\",\"Intermediate Level\",\"Intermediate Level\",\"Intermediate Level\",\"Intermediate Level\",\"Intermediate Level\",\"Intermediate Level\",\"Intermediate Level\",\"Intermediate Level\",\"Intermediate Level\",\"Intermediate Level\",\"Intermediate Level\",\"Intermediate Level\",\"Intermediate Level\",\"Intermediate Level\",\"Intermediate Level\",\"Intermediate Level\",\"Intermediate Level\",\"Intermediate Level\",\"Intermediate Level\",\"Intermediate Level\",\"Intermediate Level\",\"Intermediate Level\",\"Intermediate Level\",\"Intermediate Level\",\"Intermediate Level\",\"Intermediate Level\",\"Intermediate Level\",\"Intermediate Level\",\"Intermediate Level\",\"Intermediate Level\",\"Intermediate Level\",\"Intermediate Level\",\"Intermediate Level\",\"Intermediate Level\",\"Intermediate Level\",\"Intermediate Level\",\"Intermediate Level\",\"Intermediate Level\",\"Intermediate Level\",\"Intermediate Level\",\"Intermediate Level\",\"Intermediate Level\",\"Intermediate Level\",\"Intermediate Level\",\"Intermediate Level\",\"Intermediate Level\",\"Intermediate Level\",\"Intermediate Level\",\"Intermediate Level\",\"Intermediate Level\",\"Intermediate Level\",\"Intermediate Level\",\"Intermediate Level\",\"Intermediate Level\",\"Intermediate Level\",\"Intermediate Level\",\"Intermediate Level\",\"Intermediate Level\",\"Intermediate Level\",\"Intermediate Level\",\"Intermediate Level\",\"Intermediate Level\",\"Intermediate Level\",\"Intermediate Level\",\"Intermediate Level\",\"Intermediate Level\",\"Intermediate Level\",\"Intermediate Level\",\"Intermediate Level\",\"Intermediate Level\",\"Intermediate Level\",\"Intermediate Level\",\"Intermediate Level\",\"Intermediate Level\",\"Intermediate Level\",\"Intermediate Level\",\"Intermediate Level\",\"Intermediate Level\",\"Intermediate Level\",\"Intermediate Level\",\"Intermediate Level\",\"Intermediate Level\",\"Intermediate Level\",\"Intermediate Level\",\"Intermediate Level\",\"Intermediate Level\",\"Intermediate Level\",\"Intermediate Level\",\"Intermediate Level\",\"Intermediate Level\",\"Intermediate Level\",\"Intermediate Level\",\"Intermediate Level\",\"Intermediate Level\",\"Intermediate Level\",\"Intermediate Level\",\"Intermediate Level\",\"Intermediate Level\",\"Intermediate Level\",\"Intermediate Level\",\"Intermediate Level\",\"Intermediate Level\",\"Intermediate Level\",\"Intermediate Level\",\"Intermediate Level\",\"Intermediate Level\",\"Intermediate Level\",\"Intermediate Level\",\"Intermediate Level\",\"Intermediate Level\",\"Intermediate Level\",\"Intermediate Level\",\"Intermediate Level\",\"Intermediate Level\",\"Intermediate Level\",\"Intermediate Level\",\"Intermediate Level\",\"Intermediate Level\",\"Intermediate Level\",\"Intermediate Level\",\"Intermediate Level\",\"Intermediate Level\",\"Intermediate Level\",\"Intermediate Level\",\"Intermediate Level\",\"Intermediate Level\",\"Intermediate Level\",\"Intermediate Level\",\"Intermediate Level\",\"Intermediate Level\",\"Intermediate Level\",\"Intermediate Level\",\"Intermediate Level\",\"Intermediate Level\",\"Intermediate Level\",\"Intermediate Level\",\"Intermediate Level\",\"Intermediate Level\",\"Intermediate Level\",\"Intermediate Level\",\"Intermediate Level\",\"Intermediate Level\",\"Intermediate Level\",\"Intermediate Level\",\"Intermediate Level\",\"Intermediate Level\",\"Intermediate Level\",\"Intermediate Level\",\"Intermediate Level\",\"Intermediate Level\",\"Intermediate Level\",\"Intermediate Level\",\"Intermediate Level\",\"Intermediate Level\",\"Intermediate Level\",\"Intermediate Level\",\"Intermediate Level\",\"Intermediate Level\",\"Intermediate Level\",\"Intermediate Level\",\"Intermediate Level\",\"Intermediate Level\",\"Intermediate Level\",\"Intermediate Level\",\"Intermediate Level\",\"Intermediate Level\",\"Intermediate Level\",\"Intermediate Level\",\"Intermediate Level\",\"Intermediate Level\",\"Intermediate Level\",\"Intermediate Level\",\"Intermediate Level\",\"Intermediate Level\",\"Intermediate Level\",\"Intermediate Level\",\"Intermediate Level\",\"Intermediate Level\",\"Intermediate Level\",\"Intermediate Level\",\"Intermediate Level\",\"Intermediate Level\",\"Intermediate Level\",\"Intermediate Level\",\"Intermediate Level\",\"Intermediate Level\",\"Intermediate Level\",\"Intermediate Level\",\"Intermediate Level\",\"Intermediate Level\",\"Intermediate Level\",\"Intermediate Level\",\"Intermediate Level\",\"Intermediate Level\",\"Intermediate Level\",\"Intermediate Level\",\"Intermediate Level\",\"Intermediate Level\",\"Intermediate Level\",\"Intermediate Level\",\"Intermediate Level\",\"Intermediate Level\",\"Intermediate Level\",\"Intermediate Level\",\"Intermediate Level\",\"Intermediate Level\",\"Intermediate Level\",\"Intermediate Level\",\"Intermediate Level\",\"Intermediate Level\",\"Intermediate Level\",\"Intermediate Level\",\"Intermediate Level\",\"Intermediate Level\",\"Intermediate Level\",\"Intermediate Level\",\"Intermediate Level\",\"Intermediate Level\",\"Intermediate Level\",\"Intermediate Level\",\"Intermediate Level\",\"Intermediate Level\",\"Intermediate Level\",\"Intermediate Level\",\"Intermediate Level\",\"Intermediate Level\",\"Intermediate Level\",\"Intermediate Level\",\"Intermediate Level\",\"Intermediate Level\",\"Intermediate Level\",\"Intermediate Level\",\"Intermediate Level\",\"Intermediate Level\",\"Intermediate Level\",\"Intermediate Level\",\"Intermediate Level\",\"Intermediate Level\",\"Intermediate Level\",\"Intermediate Level\",\"Intermediate Level\",\"Intermediate Level\",\"Intermediate Level\",\"Intermediate Level\",\"Intermediate Level\",\"Intermediate Level\",\"Intermediate Level\",\"Intermediate Level\",\"Intermediate Level\",\"Intermediate Level\",\"Intermediate Level\",\"Intermediate Level\",\"Intermediate Level\",\"Intermediate Level\",\"Intermediate Level\",\"Intermediate Level\",\"Intermediate Level\",\"Intermediate Level\",\"Intermediate Level\",\"Intermediate Level\",\"Intermediate Level\",\"Intermediate Level\",\"Intermediate Level\",\"Intermediate Level\",\"Intermediate Level\",\"Intermediate Level\",\"Intermediate Level\",\"Intermediate Level\",\"Intermediate Level\",\"Intermediate Level\",\"Intermediate Level\",\"Intermediate Level\",\"Intermediate Level\",\"Intermediate Level\",\"Intermediate Level\",\"Intermediate Level\",\"Intermediate Level\",\"Intermediate Level\",\"Intermediate Level\",\"Intermediate Level\",\"Intermediate Level\",\"Intermediate Level\",\"Intermediate Level\",\"Intermediate Level\",\"Intermediate Level\",\"Intermediate Level\",\"Intermediate Level\",\"Intermediate Level\",\"Intermediate Level\",\"Intermediate Level\",\"Intermediate Level\",\"Intermediate Level\",\"Intermediate Level\",\"Intermediate Level\",\"Intermediate Level\",\"Intermediate Level\",\"Intermediate Level\",\"Intermediate Level\",\"Intermediate Level\",\"Intermediate Level\",\"Intermediate Level\",\"Intermediate Level\",\"Intermediate Level\",\"Intermediate Level\",\"Intermediate Level\",\"Intermediate Level\",\"Intermediate Level\",\"Intermediate Level\"],\"x0\":\" \",\"xaxis\":\"x\",\"y\":[2.5,2.0,1.5,2.0,10.0,1.0,2.0,1.0,1.5,2.5,3.0,1.5,3.0,0.55,2.0,2.5,3.0,1.0,1.0,1.0,1.0,1.5,6.0,2.0,1.5,1.0,2.0,2.5,4.0,4.0,2.5,4.0,3.0,3.0,0.5,6.5,2.0,3.5,2.0,1.5,2.0,0.716666666666666,0.566666666666666,2.0,12.5,1.0,8.0,1.0,2.0,2.0,2.0,1.0,1.0,6.5,1.0,1.5,3.0,1.0,3.5,1.5,5.0,2.5,2.5,1.5,1.5,1.5,1.0,0.55,1.0,0.666666666666666,6.5,1.5,7.0,4.0,0.533333333333333,4.5,1.5,2.0,2.0,2.0,2.5,4.5,1.0,1.0,1.0,1.0,2.5,2.5,1.0,0.633333333333333,0.533333333333333,3.0,1.5,2.5,2.0,2.5,31.5,1.5,2.5,1.5,2.5,1.5,1.0,1.0,2.0,2.5,31.5,1.0,5.5,1.5,2.0,4.5,1.0,2.0,1.5,1.0,1.0,1.5,1.5,3.5,5.5,8.5,6.5,1.5,0.716666666666666,0.633333333333333,0.616666666666666,2.0,1.5,0.5,1.0,2.0,2.0,1.5,0.516666666666666,12.0,4.5,9.5,0.516666666666666,1.5,2.5,12.5,1.0,1.0,0.616666666666666,1.5,0.683333333333333,1.0,2.0,8.5,1.0,4.5,1.0,0.616666666666666,1.0,4.0,0.583333333333333,1.0,0.55,2.0,0.616666666666666,2.5,20.0,1.0,1.0,4.5,2.0,7.5,0.633333333333333,0.716666666666666,1.0,3.0,5.0,4.5,2.0,5.0,0.5,4.5,2.0,1.0,1.5,2.0,1.5,2.0,1.5,1.0,1.5,2.5,1.5,0.5,2.5,5.5,2.5,2.0,2.0,2.5,11.5,1.5,4.5,2.5,2.0,11.5,1.5,6.5,3.0,5.0,1.5,1.5,2.5,1.0,1.0,28.5,0.616666666666666,2.5,1.0,1.5,1.5,0.733333333333333,1.0,2.0,1.0,12.5,5.0,2.5,1.5,2.0,3.0,2.0,2.0,5.5,2.0,1.0,2.0,1.5,1.0,1.5,2.0,4.5,4.0,4.5,6.0,3.0,8.5,8.0,4.0,2.0,2.0,2.0,2.5,1.0,2.0,5.5,1.5,2.5,1.5,4.0,5.5,0.666666666666666,2.5,7.0,7.5,1.0,1.5,7.5,5.5,1.5,4.0,2.0,1.0,4.0,2.0,1.5,1.0,2.0,1.5,3.5,0.65,1.5,0.733333333333333,1.5,1.0,4.5,1.5,3.0,2.5,0.566666666666666,15.5,5.5,3.5,9.5,19.0,3.5,2.0,1.5,1.0,7.0,5.5,10.0,1.0,8.5,10.5,4.5,8.5,12.0,4.0,2.0,2.0,1.0,1.0,18.5,4.5,0.55,6.0,14.0,16.5,15.5,2.0,1.0,19.0,3.5,7.0,2.5,2.5,8.5,5.5,10.5,1.5,11.0,8.0,6.5,7.5,4.0,3.5,2.5,3.0,0.533333333333333,10.5,1.0,3.0,7.5,0.616666666666666,3.0,3.0,4.0,6.0,5.0,1.0,1.5,1.0,1.0,1.0,5.5,9.0,1.5,5.0,5.0,3.0,4.5,4.5,6.0,10.5,12.5,4.5,6.5,2.0,3.5,12.0,6.0,13.0,3.0,14.0,1.5,1.0,2.0,1.5,1.0,2.0,3.0,5.5,2.0,7.0,2.5,4.5,3.5,13.5,2.0,3.0,1.0,2.0,6.0,6.0,1.0,1.0,4.0,0.716666666666666,1.0,3.5,5.5,3.5,25.5,2.0,0.583333333333333,3.0,3.5,12.5,6.5,23.5,1.5,2.0,2.0,2.5,2.0,2.5,3.5,1.0,11.5,2.0,19.5,1.5,3.0,1.5],\"y0\":\" \",\"yaxis\":\"y\",\"type\":\"box\"},{\"alignmentgroup\":\"True\",\"hovertemplate\":\"level=%{x}<br>content_duration=%{y}<extra></extra>\",\"legendgroup\":\"Beginner Level\",\"marker\":{\"color\":\"#00cc96\"},\"name\":\"Beginner Level\",\"notched\":false,\"offsetgroup\":\"Beginner Level\",\"orientation\":\"v\",\"showlegend\":true,\"x\":[\"Beginner Level\",\"Beginner Level\",\"Beginner Level\",\"Beginner Level\",\"Beginner Level\",\"Beginner Level\",\"Beginner Level\",\"Beginner Level\",\"Beginner Level\",\"Beginner Level\",\"Beginner Level\",\"Beginner Level\",\"Beginner Level\",\"Beginner Level\",\"Beginner Level\",\"Beginner Level\",\"Beginner Level\",\"Beginner Level\",\"Beginner Level\",\"Beginner Level\",\"Beginner Level\",\"Beginner Level\",\"Beginner Level\",\"Beginner Level\",\"Beginner Level\",\"Beginner Level\",\"Beginner Level\",\"Beginner Level\",\"Beginner Level\",\"Beginner Level\",\"Beginner Level\",\"Beginner Level\",\"Beginner Level\",\"Beginner Level\",\"Beginner Level\",\"Beginner Level\",\"Beginner Level\",\"Beginner Level\",\"Beginner Level\",\"Beginner Level\",\"Beginner Level\",\"Beginner Level\",\"Beginner Level\",\"Beginner Level\",\"Beginner Level\",\"Beginner Level\",\"Beginner Level\",\"Beginner Level\",\"Beginner Level\",\"Beginner Level\",\"Beginner Level\",\"Beginner Level\",\"Beginner Level\",\"Beginner Level\",\"Beginner Level\",\"Beginner Level\",\"Beginner Level\",\"Beginner Level\",\"Beginner Level\",\"Beginner Level\",\"Beginner Level\",\"Beginner Level\",\"Beginner Level\",\"Beginner Level\",\"Beginner Level\",\"Beginner Level\",\"Beginner Level\",\"Beginner Level\",\"Beginner Level\",\"Beginner Level\",\"Beginner Level\",\"Beginner Level\",\"Beginner Level\",\"Beginner Level\",\"Beginner Level\",\"Beginner Level\",\"Beginner Level\",\"Beginner Level\",\"Beginner Level\",\"Beginner Level\",\"Beginner Level\",\"Beginner Level\",\"Beginner Level\",\"Beginner Level\",\"Beginner Level\",\"Beginner Level\",\"Beginner Level\",\"Beginner Level\",\"Beginner Level\",\"Beginner Level\",\"Beginner Level\",\"Beginner Level\",\"Beginner Level\",\"Beginner Level\",\"Beginner Level\",\"Beginner Level\",\"Beginner Level\",\"Beginner Level\",\"Beginner Level\",\"Beginner Level\",\"Beginner Level\",\"Beginner Level\",\"Beginner Level\",\"Beginner Level\",\"Beginner Level\",\"Beginner Level\",\"Beginner Level\",\"Beginner Level\",\"Beginner Level\",\"Beginner Level\",\"Beginner Level\",\"Beginner Level\",\"Beginner Level\",\"Beginner Level\",\"Beginner Level\",\"Beginner Level\",\"Beginner Level\",\"Beginner Level\",\"Beginner Level\",\"Beginner Level\",\"Beginner Level\",\"Beginner Level\",\"Beginner Level\",\"Beginner Level\",\"Beginner Level\",\"Beginner Level\",\"Beginner Level\",\"Beginner Level\",\"Beginner Level\",\"Beginner Level\",\"Beginner Level\",\"Beginner Level\",\"Beginner Level\",\"Beginner Level\",\"Beginner Level\",\"Beginner Level\",\"Beginner Level\",\"Beginner Level\",\"Beginner Level\",\"Beginner Level\",\"Beginner Level\",\"Beginner Level\",\"Beginner Level\",\"Beginner Level\",\"Beginner Level\",\"Beginner Level\",\"Beginner Level\",\"Beginner Level\",\"Beginner Level\",\"Beginner Level\",\"Beginner Level\",\"Beginner Level\",\"Beginner Level\",\"Beginner Level\",\"Beginner Level\",\"Beginner Level\",\"Beginner Level\",\"Beginner Level\",\"Beginner Level\",\"Beginner Level\",\"Beginner Level\",\"Beginner Level\",\"Beginner Level\",\"Beginner Level\",\"Beginner Level\",\"Beginner Level\",\"Beginner Level\",\"Beginner Level\",\"Beginner Level\",\"Beginner Level\",\"Beginner Level\",\"Beginner Level\",\"Beginner Level\",\"Beginner Level\",\"Beginner Level\",\"Beginner Level\",\"Beginner Level\",\"Beginner Level\",\"Beginner Level\",\"Beginner Level\",\"Beginner Level\",\"Beginner Level\",\"Beginner Level\",\"Beginner Level\",\"Beginner Level\",\"Beginner Level\",\"Beginner Level\",\"Beginner Level\",\"Beginner Level\",\"Beginner Level\",\"Beginner Level\",\"Beginner Level\",\"Beginner Level\",\"Beginner Level\",\"Beginner Level\",\"Beginner Level\",\"Beginner Level\",\"Beginner Level\",\"Beginner Level\",\"Beginner Level\",\"Beginner Level\",\"Beginner Level\",\"Beginner Level\",\"Beginner Level\",\"Beginner Level\",\"Beginner Level\",\"Beginner Level\",\"Beginner Level\",\"Beginner Level\",\"Beginner Level\",\"Beginner Level\",\"Beginner Level\",\"Beginner Level\",\"Beginner Level\",\"Beginner Level\",\"Beginner Level\",\"Beginner Level\",\"Beginner Level\",\"Beginner Level\",\"Beginner Level\",\"Beginner Level\",\"Beginner Level\",\"Beginner Level\",\"Beginner Level\",\"Beginner Level\",\"Beginner Level\",\"Beginner Level\",\"Beginner Level\",\"Beginner Level\",\"Beginner Level\",\"Beginner Level\",\"Beginner Level\",\"Beginner Level\",\"Beginner Level\",\"Beginner Level\",\"Beginner Level\",\"Beginner Level\",\"Beginner Level\",\"Beginner Level\",\"Beginner Level\",\"Beginner Level\",\"Beginner Level\",\"Beginner Level\",\"Beginner Level\",\"Beginner Level\",\"Beginner Level\",\"Beginner Level\",\"Beginner Level\",\"Beginner Level\",\"Beginner Level\",\"Beginner Level\",\"Beginner Level\",\"Beginner Level\",\"Beginner Level\",\"Beginner Level\",\"Beginner Level\",\"Beginner Level\",\"Beginner Level\",\"Beginner Level\",\"Beginner Level\",\"Beginner Level\",\"Beginner Level\",\"Beginner Level\",\"Beginner Level\",\"Beginner Level\",\"Beginner Level\",\"Beginner Level\",\"Beginner Level\",\"Beginner Level\",\"Beginner Level\",\"Beginner Level\",\"Beginner Level\",\"Beginner Level\",\"Beginner Level\",\"Beginner Level\",\"Beginner Level\",\"Beginner Level\",\"Beginner Level\",\"Beginner Level\",\"Beginner Level\",\"Beginner Level\",\"Beginner Level\",\"Beginner Level\",\"Beginner Level\",\"Beginner Level\",\"Beginner Level\",\"Beginner Level\",\"Beginner Level\",\"Beginner Level\",\"Beginner Level\",\"Beginner Level\",\"Beginner Level\",\"Beginner Level\",\"Beginner Level\",\"Beginner Level\",\"Beginner Level\",\"Beginner Level\",\"Beginner Level\",\"Beginner Level\",\"Beginner Level\",\"Beginner Level\",\"Beginner Level\",\"Beginner Level\",\"Beginner Level\",\"Beginner Level\",\"Beginner Level\",\"Beginner Level\",\"Beginner Level\",\"Beginner Level\",\"Beginner Level\",\"Beginner Level\",\"Beginner Level\",\"Beginner Level\",\"Beginner Level\",\"Beginner Level\",\"Beginner Level\",\"Beginner Level\",\"Beginner Level\",\"Beginner Level\",\"Beginner Level\",\"Beginner Level\",\"Beginner Level\",\"Beginner Level\",\"Beginner Level\",\"Beginner Level\",\"Beginner Level\",\"Beginner Level\",\"Beginner Level\",\"Beginner Level\",\"Beginner Level\",\"Beginner Level\",\"Beginner Level\",\"Beginner Level\",\"Beginner Level\",\"Beginner Level\",\"Beginner Level\",\"Beginner Level\",\"Beginner Level\",\"Beginner Level\",\"Beginner Level\",\"Beginner Level\",\"Beginner Level\",\"Beginner Level\",\"Beginner Level\",\"Beginner Level\",\"Beginner Level\",\"Beginner Level\",\"Beginner Level\",\"Beginner Level\",\"Beginner Level\",\"Beginner Level\",\"Beginner Level\",\"Beginner Level\",\"Beginner Level\",\"Beginner Level\",\"Beginner Level\",\"Beginner Level\",\"Beginner Level\",\"Beginner Level\",\"Beginner Level\",\"Beginner Level\",\"Beginner Level\",\"Beginner Level\",\"Beginner Level\",\"Beginner Level\",\"Beginner Level\",\"Beginner Level\",\"Beginner Level\",\"Beginner Level\",\"Beginner Level\",\"Beginner Level\",\"Beginner Level\",\"Beginner Level\",\"Beginner Level\",\"Beginner Level\",\"Beginner Level\",\"Beginner Level\",\"Beginner Level\",\"Beginner Level\",\"Beginner Level\",\"Beginner Level\",\"Beginner Level\",\"Beginner Level\",\"Beginner Level\",\"Beginner Level\",\"Beginner Level\",\"Beginner Level\",\"Beginner Level\",\"Beginner Level\",\"Beginner Level\",\"Beginner Level\",\"Beginner Level\",\"Beginner Level\",\"Beginner Level\",\"Beginner Level\",\"Beginner Level\",\"Beginner Level\",\"Beginner Level\",\"Beginner Level\",\"Beginner Level\",\"Beginner Level\",\"Beginner Level\",\"Beginner Level\",\"Beginner Level\",\"Beginner Level\",\"Beginner Level\",\"Beginner Level\",\"Beginner Level\",\"Beginner Level\",\"Beginner Level\",\"Beginner Level\",\"Beginner Level\",\"Beginner Level\",\"Beginner Level\",\"Beginner Level\",\"Beginner Level\",\"Beginner Level\",\"Beginner Level\",\"Beginner Level\",\"Beginner Level\",\"Beginner Level\",\"Beginner Level\",\"Beginner Level\",\"Beginner Level\",\"Beginner Level\",\"Beginner Level\",\"Beginner Level\",\"Beginner Level\",\"Beginner Level\",\"Beginner Level\",\"Beginner Level\",\"Beginner Level\",\"Beginner Level\",\"Beginner Level\",\"Beginner Level\",\"Beginner Level\",\"Beginner Level\",\"Beginner Level\",\"Beginner Level\",\"Beginner Level\",\"Beginner Level\",\"Beginner Level\",\"Beginner Level\",\"Beginner Level\",\"Beginner Level\",\"Beginner Level\",\"Beginner Level\",\"Beginner Level\",\"Beginner Level\",\"Beginner Level\",\"Beginner Level\",\"Beginner Level\",\"Beginner Level\",\"Beginner Level\",\"Beginner Level\",\"Beginner Level\",\"Beginner Level\",\"Beginner Level\",\"Beginner Level\",\"Beginner Level\",\"Beginner Level\",\"Beginner Level\",\"Beginner Level\",\"Beginner Level\",\"Beginner Level\",\"Beginner Level\",\"Beginner Level\",\"Beginner Level\",\"Beginner Level\",\"Beginner Level\",\"Beginner Level\",\"Beginner Level\",\"Beginner Level\",\"Beginner Level\",\"Beginner Level\",\"Beginner Level\",\"Beginner Level\",\"Beginner Level\",\"Beginner Level\",\"Beginner Level\",\"Beginner Level\",\"Beginner Level\",\"Beginner Level\",\"Beginner Level\",\"Beginner Level\",\"Beginner Level\",\"Beginner Level\",\"Beginner Level\",\"Beginner Level\",\"Beginner Level\",\"Beginner Level\",\"Beginner Level\",\"Beginner Level\",\"Beginner Level\",\"Beginner Level\",\"Beginner Level\",\"Beginner Level\",\"Beginner Level\",\"Beginner Level\",\"Beginner Level\",\"Beginner Level\",\"Beginner Level\",\"Beginner Level\",\"Beginner Level\",\"Beginner Level\",\"Beginner Level\",\"Beginner Level\",\"Beginner Level\",\"Beginner Level\",\"Beginner Level\",\"Beginner Level\",\"Beginner Level\",\"Beginner Level\",\"Beginner Level\",\"Beginner Level\",\"Beginner Level\",\"Beginner Level\",\"Beginner Level\",\"Beginner Level\",\"Beginner Level\",\"Beginner Level\",\"Beginner Level\",\"Beginner Level\",\"Beginner Level\",\"Beginner Level\",\"Beginner Level\",\"Beginner Level\",\"Beginner Level\",\"Beginner Level\",\"Beginner Level\",\"Beginner Level\",\"Beginner Level\",\"Beginner Level\",\"Beginner Level\",\"Beginner Level\",\"Beginner Level\",\"Beginner Level\",\"Beginner Level\",\"Beginner Level\",\"Beginner Level\",\"Beginner Level\",\"Beginner Level\",\"Beginner Level\",\"Beginner Level\",\"Beginner Level\",\"Beginner Level\",\"Beginner Level\",\"Beginner Level\",\"Beginner Level\",\"Beginner Level\",\"Beginner Level\",\"Beginner Level\",\"Beginner Level\",\"Beginner Level\",\"Beginner Level\",\"Beginner Level\",\"Beginner Level\",\"Beginner Level\",\"Beginner Level\",\"Beginner Level\",\"Beginner Level\",\"Beginner Level\",\"Beginner Level\",\"Beginner Level\",\"Beginner Level\",\"Beginner Level\",\"Beginner Level\",\"Beginner Level\",\"Beginner Level\",\"Beginner Level\",\"Beginner Level\",\"Beginner Level\",\"Beginner Level\",\"Beginner Level\",\"Beginner Level\",\"Beginner Level\",\"Beginner Level\",\"Beginner Level\",\"Beginner Level\",\"Beginner Level\",\"Beginner Level\",\"Beginner Level\",\"Beginner Level\",\"Beginner Level\",\"Beginner Level\",\"Beginner Level\",\"Beginner Level\",\"Beginner Level\",\"Beginner Level\",\"Beginner Level\",\"Beginner Level\",\"Beginner Level\",\"Beginner Level\",\"Beginner Level\",\"Beginner Level\",\"Beginner Level\",\"Beginner Level\",\"Beginner Level\",\"Beginner Level\",\"Beginner Level\",\"Beginner Level\",\"Beginner Level\",\"Beginner Level\",\"Beginner Level\",\"Beginner Level\",\"Beginner Level\",\"Beginner Level\",\"Beginner Level\",\"Beginner Level\",\"Beginner Level\",\"Beginner Level\",\"Beginner Level\",\"Beginner Level\",\"Beginner Level\",\"Beginner Level\",\"Beginner Level\",\"Beginner Level\",\"Beginner Level\",\"Beginner Level\",\"Beginner Level\",\"Beginner Level\",\"Beginner Level\",\"Beginner Level\",\"Beginner Level\",\"Beginner Level\",\"Beginner Level\",\"Beginner Level\",\"Beginner Level\",\"Beginner Level\",\"Beginner Level\",\"Beginner Level\",\"Beginner Level\",\"Beginner Level\",\"Beginner Level\",\"Beginner Level\",\"Beginner Level\",\"Beginner Level\",\"Beginner Level\",\"Beginner Level\",\"Beginner Level\",\"Beginner Level\",\"Beginner Level\",\"Beginner Level\",\"Beginner Level\",\"Beginner Level\",\"Beginner Level\",\"Beginner Level\",\"Beginner Level\",\"Beginner Level\",\"Beginner Level\",\"Beginner Level\",\"Beginner Level\",\"Beginner Level\",\"Beginner Level\",\"Beginner Level\",\"Beginner Level\",\"Beginner Level\",\"Beginner Level\",\"Beginner Level\",\"Beginner Level\",\"Beginner Level\",\"Beginner Level\",\"Beginner Level\",\"Beginner Level\",\"Beginner Level\",\"Beginner Level\",\"Beginner Level\",\"Beginner Level\",\"Beginner Level\",\"Beginner Level\",\"Beginner Level\",\"Beginner Level\",\"Beginner Level\",\"Beginner Level\",\"Beginner Level\",\"Beginner Level\",\"Beginner Level\",\"Beginner Level\",\"Beginner Level\",\"Beginner Level\",\"Beginner Level\",\"Beginner Level\",\"Beginner Level\",\"Beginner Level\",\"Beginner Level\",\"Beginner Level\",\"Beginner Level\",\"Beginner Level\",\"Beginner Level\",\"Beginner Level\",\"Beginner Level\",\"Beginner Level\",\"Beginner Level\",\"Beginner Level\",\"Beginner Level\",\"Beginner Level\",\"Beginner Level\",\"Beginner Level\",\"Beginner Level\",\"Beginner Level\",\"Beginner Level\",\"Beginner Level\",\"Beginner Level\",\"Beginner Level\",\"Beginner Level\",\"Beginner Level\",\"Beginner Level\",\"Beginner Level\",\"Beginner Level\",\"Beginner Level\",\"Beginner Level\",\"Beginner Level\",\"Beginner Level\",\"Beginner Level\",\"Beginner Level\",\"Beginner Level\",\"Beginner Level\",\"Beginner Level\",\"Beginner Level\",\"Beginner Level\",\"Beginner Level\",\"Beginner Level\",\"Beginner Level\",\"Beginner Level\",\"Beginner Level\",\"Beginner Level\",\"Beginner Level\",\"Beginner Level\",\"Beginner Level\",\"Beginner Level\",\"Beginner Level\",\"Beginner Level\",\"Beginner Level\",\"Beginner Level\",\"Beginner Level\",\"Beginner Level\",\"Beginner Level\",\"Beginner Level\",\"Beginner Level\",\"Beginner Level\",\"Beginner Level\",\"Beginner Level\",\"Beginner Level\",\"Beginner Level\",\"Beginner Level\",\"Beginner Level\",\"Beginner Level\",\"Beginner Level\",\"Beginner Level\",\"Beginner Level\",\"Beginner Level\",\"Beginner Level\",\"Beginner Level\",\"Beginner Level\",\"Beginner Level\",\"Beginner Level\",\"Beginner Level\",\"Beginner Level\",\"Beginner Level\",\"Beginner Level\",\"Beginner Level\",\"Beginner Level\",\"Beginner Level\",\"Beginner Level\",\"Beginner Level\",\"Beginner Level\",\"Beginner Level\",\"Beginner Level\",\"Beginner Level\",\"Beginner Level\",\"Beginner Level\",\"Beginner Level\",\"Beginner Level\",\"Beginner Level\",\"Beginner Level\",\"Beginner Level\",\"Beginner Level\",\"Beginner Level\",\"Beginner Level\",\"Beginner Level\",\"Beginner Level\",\"Beginner Level\",\"Beginner Level\",\"Beginner Level\",\"Beginner Level\",\"Beginner Level\",\"Beginner Level\",\"Beginner Level\",\"Beginner Level\",\"Beginner Level\",\"Beginner Level\",\"Beginner Level\",\"Beginner Level\",\"Beginner Level\",\"Beginner Level\",\"Beginner Level\",\"Beginner Level\",\"Beginner Level\",\"Beginner Level\",\"Beginner Level\",\"Beginner Level\",\"Beginner Level\",\"Beginner Level\",\"Beginner Level\",\"Beginner Level\",\"Beginner Level\",\"Beginner Level\",\"Beginner Level\",\"Beginner Level\",\"Beginner Level\",\"Beginner Level\",\"Beginner Level\",\"Beginner Level\",\"Beginner Level\",\"Beginner Level\",\"Beginner Level\",\"Beginner Level\",\"Beginner Level\",\"Beginner Level\",\"Beginner Level\",\"Beginner Level\",\"Beginner Level\",\"Beginner Level\",\"Beginner Level\",\"Beginner Level\",\"Beginner Level\",\"Beginner Level\",\"Beginner Level\",\"Beginner Level\",\"Beginner Level\",\"Beginner Level\",\"Beginner Level\",\"Beginner Level\",\"Beginner Level\",\"Beginner Level\",\"Beginner Level\",\"Beginner Level\",\"Beginner Level\",\"Beginner Level\",\"Beginner Level\",\"Beginner Level\",\"Beginner Level\",\"Beginner Level\",\"Beginner Level\",\"Beginner Level\",\"Beginner Level\",\"Beginner Level\",\"Beginner Level\",\"Beginner Level\",\"Beginner Level\",\"Beginner Level\",\"Beginner Level\",\"Beginner Level\",\"Beginner Level\",\"Beginner Level\",\"Beginner Level\",\"Beginner Level\",\"Beginner Level\",\"Beginner Level\",\"Beginner Level\",\"Beginner Level\",\"Beginner Level\",\"Beginner Level\",\"Beginner Level\",\"Beginner Level\",\"Beginner Level\",\"Beginner Level\",\"Beginner Level\",\"Beginner Level\",\"Beginner Level\",\"Beginner Level\",\"Beginner Level\",\"Beginner Level\",\"Beginner Level\",\"Beginner Level\",\"Beginner Level\",\"Beginner Level\",\"Beginner Level\",\"Beginner Level\",\"Beginner Level\",\"Beginner Level\",\"Beginner Level\",\"Beginner Level\",\"Beginner Level\",\"Beginner Level\",\"Beginner Level\",\"Beginner Level\",\"Beginner Level\",\"Beginner Level\",\"Beginner Level\",\"Beginner Level\",\"Beginner Level\",\"Beginner Level\",\"Beginner Level\",\"Beginner Level\",\"Beginner Level\",\"Beginner Level\",\"Beginner Level\",\"Beginner Level\",\"Beginner Level\",\"Beginner Level\",\"Beginner Level\",\"Beginner Level\",\"Beginner Level\",\"Beginner Level\",\"Beginner Level\",\"Beginner Level\",\"Beginner Level\",\"Beginner Level\",\"Beginner Level\",\"Beginner Level\",\"Beginner Level\",\"Beginner Level\",\"Beginner Level\",\"Beginner Level\",\"Beginner Level\",\"Beginner Level\",\"Beginner Level\",\"Beginner Level\",\"Beginner Level\",\"Beginner Level\",\"Beginner Level\",\"Beginner Level\",\"Beginner Level\",\"Beginner Level\",\"Beginner Level\",\"Beginner Level\",\"Beginner Level\",\"Beginner Level\",\"Beginner Level\",\"Beginner Level\",\"Beginner Level\",\"Beginner Level\",\"Beginner Level\",\"Beginner Level\",\"Beginner Level\",\"Beginner Level\",\"Beginner Level\",\"Beginner Level\",\"Beginner Level\",\"Beginner Level\",\"Beginner Level\",\"Beginner Level\",\"Beginner Level\",\"Beginner Level\",\"Beginner Level\",\"Beginner Level\",\"Beginner Level\",\"Beginner Level\",\"Beginner Level\",\"Beginner Level\",\"Beginner Level\",\"Beginner Level\",\"Beginner Level\",\"Beginner Level\",\"Beginner Level\",\"Beginner Level\",\"Beginner Level\",\"Beginner Level\",\"Beginner Level\",\"Beginner Level\",\"Beginner Level\",\"Beginner Level\",\"Beginner Level\",\"Beginner Level\",\"Beginner Level\",\"Beginner Level\",\"Beginner Level\",\"Beginner Level\",\"Beginner Level\",\"Beginner Level\",\"Beginner Level\",\"Beginner Level\",\"Beginner Level\",\"Beginner Level\",\"Beginner Level\",\"Beginner Level\",\"Beginner Level\",\"Beginner Level\",\"Beginner Level\",\"Beginner Level\",\"Beginner Level\",\"Beginner Level\",\"Beginner Level\",\"Beginner Level\",\"Beginner Level\",\"Beginner Level\",\"Beginner Level\",\"Beginner Level\",\"Beginner Level\",\"Beginner Level\",\"Beginner Level\",\"Beginner Level\",\"Beginner Level\",\"Beginner Level\",\"Beginner Level\",\"Beginner Level\",\"Beginner Level\",\"Beginner Level\",\"Beginner Level\",\"Beginner Level\",\"Beginner Level\",\"Beginner Level\",\"Beginner Level\",\"Beginner Level\",\"Beginner Level\",\"Beginner Level\",\"Beginner Level\",\"Beginner Level\",\"Beginner Level\",\"Beginner Level\",\"Beginner Level\",\"Beginner Level\",\"Beginner Level\",\"Beginner Level\",\"Beginner Level\",\"Beginner Level\",\"Beginner Level\",\"Beginner Level\",\"Beginner Level\",\"Beginner Level\",\"Beginner Level\",\"Beginner Level\",\"Beginner Level\",\"Beginner Level\",\"Beginner Level\",\"Beginner Level\",\"Beginner Level\",\"Beginner Level\",\"Beginner Level\",\"Beginner Level\",\"Beginner Level\",\"Beginner Level\",\"Beginner Level\",\"Beginner Level\",\"Beginner Level\",\"Beginner Level\",\"Beginner Level\",\"Beginner Level\",\"Beginner Level\",\"Beginner Level\",\"Beginner Level\",\"Beginner Level\",\"Beginner Level\",\"Beginner Level\",\"Beginner Level\",\"Beginner Level\",\"Beginner Level\",\"Beginner Level\",\"Beginner Level\",\"Beginner Level\",\"Beginner Level\",\"Beginner Level\",\"Beginner Level\",\"Beginner Level\",\"Beginner Level\",\"Beginner Level\",\"Beginner Level\",\"Beginner Level\",\"Beginner Level\",\"Beginner Level\",\"Beginner Level\",\"Beginner Level\",\"Beginner Level\",\"Beginner Level\",\"Beginner Level\",\"Beginner Level\",\"Beginner Level\",\"Beginner Level\",\"Beginner Level\",\"Beginner Level\",\"Beginner Level\",\"Beginner Level\",\"Beginner Level\",\"Beginner Level\",\"Beginner Level\",\"Beginner Level\",\"Beginner Level\",\"Beginner Level\",\"Beginner Level\",\"Beginner Level\",\"Beginner Level\",\"Beginner Level\",\"Beginner Level\",\"Beginner Level\",\"Beginner Level\",\"Beginner Level\",\"Beginner Level\",\"Beginner Level\",\"Beginner Level\",\"Beginner Level\",\"Beginner Level\",\"Beginner Level\",\"Beginner Level\",\"Beginner Level\",\"Beginner Level\",\"Beginner Level\",\"Beginner Level\",\"Beginner Level\",\"Beginner Level\",\"Beginner Level\",\"Beginner Level\",\"Beginner Level\",\"Beginner Level\",\"Beginner Level\",\"Beginner Level\",\"Beginner Level\",\"Beginner Level\",\"Beginner Level\",\"Beginner Level\",\"Beginner Level\",\"Beginner Level\",\"Beginner Level\",\"Beginner Level\",\"Beginner Level\",\"Beginner Level\",\"Beginner Level\",\"Beginner Level\",\"Beginner Level\",\"Beginner Level\",\"Beginner Level\",\"Beginner Level\",\"Beginner Level\",\"Beginner Level\",\"Beginner Level\",\"Beginner Level\",\"Beginner Level\",\"Beginner Level\",\"Beginner Level\",\"Beginner Level\",\"Beginner Level\",\"Beginner Level\",\"Beginner Level\",\"Beginner Level\",\"Beginner Level\",\"Beginner Level\",\"Beginner Level\",\"Beginner Level\",\"Beginner Level\",\"Beginner Level\",\"Beginner Level\",\"Beginner Level\",\"Beginner Level\",\"Beginner Level\",\"Beginner Level\",\"Beginner Level\",\"Beginner Level\",\"Beginner Level\",\"Beginner Level\",\"Beginner Level\",\"Beginner Level\",\"Beginner Level\",\"Beginner Level\",\"Beginner Level\",\"Beginner Level\",\"Beginner Level\",\"Beginner Level\",\"Beginner Level\",\"Beginner Level\",\"Beginner Level\",\"Beginner Level\",\"Beginner Level\",\"Beginner Level\",\"Beginner Level\",\"Beginner Level\",\"Beginner Level\",\"Beginner Level\",\"Beginner Level\",\"Beginner Level\",\"Beginner Level\",\"Beginner Level\",\"Beginner Level\",\"Beginner Level\",\"Beginner Level\",\"Beginner Level\",\"Beginner Level\",\"Beginner Level\",\"Beginner Level\",\"Beginner Level\",\"Beginner Level\",\"Beginner Level\",\"Beginner Level\",\"Beginner Level\",\"Beginner Level\",\"Beginner Level\",\"Beginner Level\",\"Beginner Level\",\"Beginner Level\",\"Beginner Level\",\"Beginner Level\",\"Beginner Level\",\"Beginner Level\",\"Beginner Level\",\"Beginner Level\",\"Beginner Level\",\"Beginner Level\",\"Beginner Level\",\"Beginner Level\",\"Beginner Level\",\"Beginner Level\",\"Beginner Level\",\"Beginner Level\",\"Beginner Level\",\"Beginner Level\",\"Beginner Level\",\"Beginner Level\",\"Beginner Level\",\"Beginner Level\",\"Beginner Level\",\"Beginner Level\",\"Beginner Level\",\"Beginner Level\",\"Beginner Level\",\"Beginner Level\",\"Beginner Level\",\"Beginner Level\",\"Beginner Level\",\"Beginner Level\",\"Beginner Level\",\"Beginner Level\",\"Beginner Level\",\"Beginner Level\",\"Beginner Level\",\"Beginner Level\",\"Beginner Level\",\"Beginner Level\",\"Beginner Level\",\"Beginner Level\",\"Beginner Level\",\"Beginner Level\",\"Beginner Level\",\"Beginner Level\",\"Beginner Level\",\"Beginner Level\",\"Beginner Level\",\"Beginner Level\",\"Beginner Level\",\"Beginner Level\",\"Beginner Level\",\"Beginner Level\",\"Beginner Level\",\"Beginner Level\",\"Beginner Level\",\"Beginner Level\",\"Beginner Level\",\"Beginner Level\",\"Beginner Level\",\"Beginner Level\",\"Beginner Level\",\"Beginner Level\",\"Beginner Level\",\"Beginner Level\",\"Beginner Level\",\"Beginner Level\",\"Beginner Level\",\"Beginner Level\",\"Beginner Level\",\"Beginner Level\",\"Beginner Level\",\"Beginner Level\",\"Beginner Level\",\"Beginner Level\",\"Beginner Level\",\"Beginner Level\",\"Beginner Level\",\"Beginner Level\",\"Beginner Level\",\"Beginner Level\",\"Beginner Level\",\"Beginner Level\"],\"x0\":\" \",\"xaxis\":\"x\",\"y\":[1.0,1.5,0.583333333333333,1.0,3.0,2.5,5.5,11.5,4.0,5.5,9.0,11.0,2.5,3.0,5.0,11.5,1.5,1.0,0.7,5.0,0.55,1.5,2.0,1.5,1.5,1.5,1.0,1.5,2.0,2.5,1.5,1.0,1.0,6.0,1.5,1.5,5.0,2.5,1.0,1.5,3.0,2.0,1.0,4.0,3.0,2.0,10.0,2.0,6.0,5.0,4.5,1.5,2.0,2.0,1.5,12.0,1.5,2.0,5.0,3.5,1.0,0.533333333333333,2.5,2.0,3.0,1.5,3.0,1.0,4.0,3.0,0.716666666666666,1.5,5.5,1.5,1.5,1.5,4.0,3.0,2.0,0.5,2.5,4.0,3.0,2.5,1.0,1.5,3.0,3.5,0.533333333333333,3.0,2.5,0.716666666666666,1.0,1.0,1.5,1.0,3.0,5.0,0.583333333333333,1.0,1.0,0.733333333333333,2.5,1.5,0.6,1.5,4.0,1.0,1.0,1.5,1.5,1.0,2.0,3.0,1.0,2.0,1.0,6.5,5.5,1.5,2.5,2.0,3.5,2.0,1.5,4.5,2.0,1.5,3.5,19.5,1.0,1.5,6.5,2.5,1.0,1.0,7.5,1.0,0.533333333333333,1.0,2.0,1.5,6.5,1.0,3.0,3.5,0.616666666666666,2.5,3.0,0.516666666666666,1.5,1.5,3.5,1.5,1.5,0.616666666666666,1.0,3.5,0.566666666666666,2.5,1.0,14.5,1.5,1.5,2.0,2.5,1.0,7.0,10.0,1.5,1.5,2.0,1.5,2.0,5.0,4.0,5.0,1.5,2.0,0.633333333333333,4.5,4.0,1.5,5.0,1.0,14.5,1.0,2.5,1.0,1.0,0.733333333333333,1.0,1.5,1.5,2.5,3.5,3.5,1.0,0.733333333333333,2.5,1.0,2.0,2.5,1.5,1.0,1.5,1.5,3.0,1.0,0.533333333333333,1.5,4.0,0.616666666666666,3.5,1.0,6.0,2.0,2.5,1.0,7.5,1.0,5.0,3.0,2.5,5.5,1.0,12.0,1.0,0.533333333333333,1.0,1.5,4.5,1.0,0.616666666666666,1.0,1.5,3.0,3.5,4.5,1.0,6.0,2.0,2.0,3.0,7.5,3.0,1.0,1.0,2.0,1.5,1.0,0.633333333333333,1.0,2.0,1.0,2.0,1.0,3.0,6.0,1.5,3.0,4.0,1.0,2.5,0.683333333333333,0.45,4.5,1.5,6.5,5.5,0.566666666666666,3.0,4.0,2.5,7.0,5.5,0.533333333333333,2.0,2.5,2.0,1.0,1.0,1.0,2.0,2.5,1.5,6.0,2.0,3.5,2.0,0.616666666666666,5.5,1.5,3.0,1.5,1.0,5.0,2.0,7.5,11.0,1.0,3.5,4.5,0.666666666666666,1.0,1.5,8.5,2.0,4.5,5.0,3.5,2.5,3.0,1.0,3.5,2.0,1.5,1.5,4.5,5.0,17.5,8.5,4.0,2.0,3.0,0.566666666666666,3.0,1.0,2.5,2.5,1.0,5.5,2.5,0.65,3.0,1.5,1.5,13.0,6.0,0.566666666666666,21.0,2.0,1.0,8.0,11.0,11.5,9.0,3.5,1.0,1.0,1.5,3.5,5.0,1.0,0.616666666666666,1.0,6.0,2.0,1.0,1.0,0.566666666666666,1.0,3.0,1.0,5.0,2.5,2.0,1.0,1.5,1.0,2.5,1.0,11.0,7.5,3.0,3.5,12.5,2.5,1.5,2.5,1.5,1.0,0.55,2.0,1.5,5.0,0.7,1.0,1.0,1.0,1.5,2.0,0.633333333333333,0.683333333333333,0.666666666666666,4.5,0.666666666666666,0.683333333333333,5.5,1.0,2.5,1.5,1.5,1.5,1.5,14.0,1.0,3.5,2.5,2.0,1.5,2.0,3.0,1.0,2.5,6.5,2.5,3.0,3.0,0.7,0.5,1.5,1.0,3.0,2.5,3.5,7.5,5.5,2.0,1.0,0.583333333333333,3.0,3.5,4.5,1.5,1.0,1.0,1.5,1.0,3.5,0.566666666666666,2.5,2.0,8.0,0.666666666666666,1.0,2.0,8.0,1.5,10.5,5.5,2.5,0.633333333333333,1.0,1.5,1.5,1.0,1.0,3.5,3.5,0.566666666666666,1.0,2.5,1.0,0.616666666666666,2.5,9.5,0.616666666666666,5.5,2.0,7.0,4.0,4.5,6.5,1.0,0.633333333333333,2.0,1.0,1.5,7.5,1.0,0.616666666666666,1.5,2.0,6.5,5.0,1.5,3.0,0.533333333333333,4.0,0.6,1.0,1.0,0.733333333333333,5.5,1.5,1.5,1.5,3.5,1.5,4.0,1.5,2.5,1.0,1.0,4.5,0.633333333333333,1.0,3.5,2.5,2.0,7.0,0.6,0.683333333333333,2.5,1.0,0.65,5.0,2.0,3.0,5.0,3.0,5.5,0.583333333333333,3.5,0.666666666666666,2.5,15.0,0.5,1.5,1.0,4.5,6.5,2.0,78.5,1.0,1.0,3.5,6.0,3.0,4.5,1.0,1.0,1.0,2.5,2.0,1.0,4.5,1.0,1.5,1.0,0.616666666666666,3.0,2.0,3.0,11.0,1.5,1.0,1.5,4.0,5.0,1.0,4.0,8.5,0.516666666666666,1.0,6.0,1.0,1.0,6.0,6.0,2.5,1.0,2.0,2.5,1.0,1.5,0.65,1.0,3.0,1.5,7.5,0.7,0.6,1.5,1.5,1.0,0.633333333333333,1.5,2.0,1.0,3.0,0.516666666666666,3.0,2.5,2.0,1.0,7.0,3.5,1.5,0.633333333333333,0.7,4.0,7.0,2.0,7.5,6.0,10.5,0.516666666666666,2.0,3.5,5.0,2.0,3.0,2.0,2.5,1.0,0.683333333333333,2.0,1.0,8.0,3.0,2.5,0.733333333333333,1.0,1.0,4.5,3.5,1.5,1.0,4.5,2.0,1.0,4.0,2.0,1.0,3.0,5.0,4.0,1.5,0.5,1.0,0.666666666666666,0.666666666666666,1.5,6.0,1.5,2.0,1.5,1.0,1.5,1.0,2.0,3.5,1.5,10.0,1.0,1.0,18.5,1.5,5.0,1.5,1.0,0.616666666666666,2.0,4.0,1.0,1.0,3.0,1.0,11.5,9.0,1.0,1.0,6.0,1.0,2.0,4.0,1.5,5.0,1.5,1.0,2.5,2.0,1.0,1.0,14.0,1.5,1.5,2.5,3.0,1.5,3.0,1.5,2.5,1.0,1.0,1.0,4.5,0.666666666666666,5.0,3.0,3.0,3.0,1.0,1.0,4.0,3.0,0.5,1.0,0.583333333333333,1.0,1.5,3.0,1.5,1.0,3.0,4.0,3.0,1.0,4.0,0.733333333333333,1.0,3.5,1.5,1.5,3.0,2.5,1.5,1.5,2.0,1.0,1.5,2.0,1.0,5.0,0.533333333333333,1.0,3.0,1.5,2.0,1.0,1.5,0.616666666666666,2.0,1.0,2.0,6.0,0.55,1.5,7.0,10.5,1.5,3.5,1.5,4.0,1.5,2.5,3.0,6.0,7.0,3.0,0.616666666666666,1.0,1.0,1.5,1.0,1.0,2.0,1.5,0.666666666666666,4.5,1.5,3.0,1.0,1.0,3.0,3.5,1.5,2.5,4.5,1.0,2.0,1.0,1.5,3.0,1.5,4.0,5.0,1.0,3.5,4.5,5.5,4.0,3.0,5.5,1.0,1.5,2.0,1.5,3.5,3.0,1.5,4.0,1.0,1.5,2.0,0.583333333333333,2.0,3.5,1.5,1.0,1.0,1.0,3.5,2.5,3.0,2.5,1.0,1.0,0.633333333333333,2.0,1.0,1.0,1.5,2.5,0.533333333333333,2.5,1.0,1.5,1.0,0.533333333333333,2.5,3.0,1.0,0.6,3.0,1.0,5.5,1.5,2.5,1.0,2.0,2.5,0.516666666666666,0.516666666666666,10.5,1.0,1.0,4.0,4.5,0.616666666666666,1.0,1.5,1.5,2.0,4.0,0.65,2.5,1.5,4.0,0.533333333333333,3.0,1.5,0.7,2.0,1.0,1.5,4.5,1.0,1.0,2.0,1.0,4.5,6.0,3.0,0.7,1.0,1.0,5.5,4.0,5.5,1.5,3.0,1.5,3.0,32.5,1.0,9.0,18.5,15.0,1.0,14.5,3.0,1.0,4.0,1.5,1.0,1.0,1.5,2.0,12.0,9.0,19.5,25.5,20.5,11.0,33.0,2.0,1.5,3.0,2.5,3.5,11.5,1.5,2.0,4.0,2.5,4.5,4.5,1.5,7.0,2.0,6.5,5.0,1.5,1.5,2.0,2.0,1.5,1.0,2.0,1.5,6.5,4.5,2.5,1.5,3.0,5.0,1.0,1.0,2.0,1.0,9.0,44.5,5.5,2.5,4.5,4.0,0.6,1.0,1.0,6.0,1.0,18.0,4.0,1.5,2.5,2.0,1.0,5.0,4.5,2.5,5.0,5.0,0.666666666666666,4.0,2.5,4.0,4.0,1.5,1.0,3.0,1.5,4.0,4.5,11.0,9.0,3.5,1.5,3.0,1.0,1.5,2.0,9.5,4.5,2.5,1.0,1.5,3.5,4.5,3.0,2.0,3.0,1.5,1.5,1.0,1.0,3.5,13.5,4.0,2.0,1.0,1.5,2.0,1.0,1.5,2.0,4.0,6.0,0.533333333333333,2.0,1.5,1.0,2.0,2.0,1.0,1.0,3.5,2.5,6.0,3.5,4.0,1.0,6.0,2.0,4.0,0.566666666666666,19.0,2.0,3.0,1.5,1.5,2.0,1.5,1.5,0.533333333333333,1.0,5.5,2.0,0.7,0.7,1.0,1.0,1.5,16.5,0.733333333333333,1.5,2.0,2.0,1.5,9.0,7.5,1.0,1.5,4.0,3.0,8.0,1.5,2.0,2.0,2.5,1.0,3.5,4.5,13.0,3.5,0.533333333333333,4.5,9.0,11.0,0.633333333333333,2.0,1.5,1.5,2.0,3.0,1.5,2.5,1.5,5.0,2.0,0.65,4.5,2.0,7.5,0.666666666666666,1.0,1.5,2.0,0.666666666666666,6.0,1.0,3.5,1.5,7.5,11.5,3.5,1.0,2.0,2.0,11.0,1.5,14.5,2.5,1.0,1.0,2.0,0.616666666666666,4.0,8.5,3.0,10.0,4.0,2.0,0.633333333333333,8.0,5.0,2.5,6.5,1.0,8.0,8.0,1.0,3.5,1.5,1.0,6.5,1.0,0.616666666666666,3.5,3.5,0.566666666666666,1.0,4.5,5.5,3.0,2.0,1.0,2.0,1.0,2.5,1.5,16.0,4.5,3.5,1.0,1.5,5.5,0.7,6.0,1.0,4.0,3.5,2.0,2.5,1.0,6.0,1.0,2.0,0.633333333333333,1.5,4.0,22.0,1.0,2.0,8.5,1.0,2.0,1.5,3.5,1.0,3.0,7.5,1.0,1.5,3.5,3.0,2.0,3.5,2.5,0.616666666666666,1.0,1.0,2.0,2.0,6.5,3.0,5.5,3.0,5.5,1.0,0.566666666666666,1.5,2.5,1.0,2.5,1.5,1.0,0.5,2.0,1.5,3.0,2.0,1.5,2.0,1.5,1.0,1.5,5.0,2.5,1.0,5.0,0.516666666666666,7.0,1.0,5.0,20.5,3.0,2.5,2.5,0.616666666666666,1.0,7.0,0.683333333333333,1.5,1.0,2.5,1.5,2.0,1.5,2.5,0.6,1.5,2.0,1.5,2.0,3.0,2.0,1.0,8.0,1.0,2.0,1.5,7.5,4.0,2.5,1.5,2.0,0.516666666666666,5.0,3.0,8.5,5.0,10.0,2.0,6.5,1.0,1.0,0.55,5.0,6.5,9.5,1.0,1.5,3.5,0.5,0.583333333333333,3.5,2.0],\"y0\":\" \",\"yaxis\":\"y\",\"type\":\"box\"},{\"alignmentgroup\":\"True\",\"hovertemplate\":\"level=%{x}<br>content_duration=%{y}<extra></extra>\",\"legendgroup\":\"Expert Level\",\"marker\":{\"color\":\"#ab63fa\"},\"name\":\"Expert Level\",\"notched\":false,\"offsetgroup\":\"Expert Level\",\"orientation\":\"v\",\"showlegend\":true,\"x\":[\"Expert Level\",\"Expert Level\",\"Expert Level\",\"Expert Level\",\"Expert Level\",\"Expert Level\",\"Expert Level\",\"Expert Level\",\"Expert Level\",\"Expert Level\",\"Expert Level\",\"Expert Level\",\"Expert Level\",\"Expert Level\",\"Expert Level\",\"Expert Level\",\"Expert Level\",\"Expert Level\",\"Expert Level\",\"Expert Level\",\"Expert Level\",\"Expert Level\",\"Expert Level\",\"Expert Level\",\"Expert Level\",\"Expert Level\",\"Expert Level\",\"Expert Level\",\"Expert Level\",\"Expert Level\",\"Expert Level\",\"Expert Level\",\"Expert Level\",\"Expert Level\",\"Expert Level\",\"Expert Level\",\"Expert Level\",\"Expert Level\",\"Expert Level\",\"Expert Level\",\"Expert Level\",\"Expert Level\",\"Expert Level\",\"Expert Level\",\"Expert Level\",\"Expert Level\",\"Expert Level\",\"Expert Level\",\"Expert Level\",\"Expert Level\",\"Expert Level\",\"Expert Level\",\"Expert Level\",\"Expert Level\",\"Expert Level\",\"Expert Level\",\"Expert Level\",\"Expert Level\"],\"x0\":\" \",\"xaxis\":\"x\",\"y\":[2.5,2.0,1.5,4.5,1.0,1.0,0.716666666666666,1.5,2.0,2.0,6.0,0.7,4.0,3.5,1.0,0.583333333333333,1.0,4.0,1.0,1.0,0.516666666666666,2.0,1.0,2.5,1.5,1.0,3.5,1.0,1.0,1.5,1.5,3.5,12.5,1.0,2.5,3.5,1.5,1.5,4.0,1.5,2.0,4.0,3.5,3.5,6.0,9.0,3.0,1.5,12.5,5.0,4.0,3.0,6.5,3.0,4.0,5.5,1.0,1.5],\"y0\":\" \",\"yaxis\":\"y\",\"type\":\"box\"}],                        {\"template\":{\"data\":{\"bar\":[{\"error_x\":{\"color\":\"#2a3f5f\"},\"error_y\":{\"color\":\"#2a3f5f\"},\"marker\":{\"line\":{\"color\":\"#E5ECF6\",\"width\":0.5},\"pattern\":{\"fillmode\":\"overlay\",\"size\":10,\"solidity\":0.2}},\"type\":\"bar\"}],\"barpolar\":[{\"marker\":{\"line\":{\"color\":\"#E5ECF6\",\"width\":0.5},\"pattern\":{\"fillmode\":\"overlay\",\"size\":10,\"solidity\":0.2}},\"type\":\"barpolar\"}],\"carpet\":[{\"aaxis\":{\"endlinecolor\":\"#2a3f5f\",\"gridcolor\":\"white\",\"linecolor\":\"white\",\"minorgridcolor\":\"white\",\"startlinecolor\":\"#2a3f5f\"},\"baxis\":{\"endlinecolor\":\"#2a3f5f\",\"gridcolor\":\"white\",\"linecolor\":\"white\",\"minorgridcolor\":\"white\",\"startlinecolor\":\"#2a3f5f\"},\"type\":\"carpet\"}],\"choropleth\":[{\"colorbar\":{\"outlinewidth\":0,\"ticks\":\"\"},\"type\":\"choropleth\"}],\"contour\":[{\"colorbar\":{\"outlinewidth\":0,\"ticks\":\"\"},\"colorscale\":[[0.0,\"#0d0887\"],[0.1111111111111111,\"#46039f\"],[0.2222222222222222,\"#7201a8\"],[0.3333333333333333,\"#9c179e\"],[0.4444444444444444,\"#bd3786\"],[0.5555555555555556,\"#d8576b\"],[0.6666666666666666,\"#ed7953\"],[0.7777777777777778,\"#fb9f3a\"],[0.8888888888888888,\"#fdca26\"],[1.0,\"#f0f921\"]],\"type\":\"contour\"}],\"contourcarpet\":[{\"colorbar\":{\"outlinewidth\":0,\"ticks\":\"\"},\"type\":\"contourcarpet\"}],\"heatmap\":[{\"colorbar\":{\"outlinewidth\":0,\"ticks\":\"\"},\"colorscale\":[[0.0,\"#0d0887\"],[0.1111111111111111,\"#46039f\"],[0.2222222222222222,\"#7201a8\"],[0.3333333333333333,\"#9c179e\"],[0.4444444444444444,\"#bd3786\"],[0.5555555555555556,\"#d8576b\"],[0.6666666666666666,\"#ed7953\"],[0.7777777777777778,\"#fb9f3a\"],[0.8888888888888888,\"#fdca26\"],[1.0,\"#f0f921\"]],\"type\":\"heatmap\"}],\"heatmapgl\":[{\"colorbar\":{\"outlinewidth\":0,\"ticks\":\"\"},\"colorscale\":[[0.0,\"#0d0887\"],[0.1111111111111111,\"#46039f\"],[0.2222222222222222,\"#7201a8\"],[0.3333333333333333,\"#9c179e\"],[0.4444444444444444,\"#bd3786\"],[0.5555555555555556,\"#d8576b\"],[0.6666666666666666,\"#ed7953\"],[0.7777777777777778,\"#fb9f3a\"],[0.8888888888888888,\"#fdca26\"],[1.0,\"#f0f921\"]],\"type\":\"heatmapgl\"}],\"histogram\":[{\"marker\":{\"pattern\":{\"fillmode\":\"overlay\",\"size\":10,\"solidity\":0.2}},\"type\":\"histogram\"}],\"histogram2d\":[{\"colorbar\":{\"outlinewidth\":0,\"ticks\":\"\"},\"colorscale\":[[0.0,\"#0d0887\"],[0.1111111111111111,\"#46039f\"],[0.2222222222222222,\"#7201a8\"],[0.3333333333333333,\"#9c179e\"],[0.4444444444444444,\"#bd3786\"],[0.5555555555555556,\"#d8576b\"],[0.6666666666666666,\"#ed7953\"],[0.7777777777777778,\"#fb9f3a\"],[0.8888888888888888,\"#fdca26\"],[1.0,\"#f0f921\"]],\"type\":\"histogram2d\"}],\"histogram2dcontour\":[{\"colorbar\":{\"outlinewidth\":0,\"ticks\":\"\"},\"colorscale\":[[0.0,\"#0d0887\"],[0.1111111111111111,\"#46039f\"],[0.2222222222222222,\"#7201a8\"],[0.3333333333333333,\"#9c179e\"],[0.4444444444444444,\"#bd3786\"],[0.5555555555555556,\"#d8576b\"],[0.6666666666666666,\"#ed7953\"],[0.7777777777777778,\"#fb9f3a\"],[0.8888888888888888,\"#fdca26\"],[1.0,\"#f0f921\"]],\"type\":\"histogram2dcontour\"}],\"mesh3d\":[{\"colorbar\":{\"outlinewidth\":0,\"ticks\":\"\"},\"type\":\"mesh3d\"}],\"parcoords\":[{\"line\":{\"colorbar\":{\"outlinewidth\":0,\"ticks\":\"\"}},\"type\":\"parcoords\"}],\"pie\":[{\"automargin\":true,\"type\":\"pie\"}],\"scatter\":[{\"marker\":{\"colorbar\":{\"outlinewidth\":0,\"ticks\":\"\"}},\"type\":\"scatter\"}],\"scatter3d\":[{\"line\":{\"colorbar\":{\"outlinewidth\":0,\"ticks\":\"\"}},\"marker\":{\"colorbar\":{\"outlinewidth\":0,\"ticks\":\"\"}},\"type\":\"scatter3d\"}],\"scattercarpet\":[{\"marker\":{\"colorbar\":{\"outlinewidth\":0,\"ticks\":\"\"}},\"type\":\"scattercarpet\"}],\"scattergeo\":[{\"marker\":{\"colorbar\":{\"outlinewidth\":0,\"ticks\":\"\"}},\"type\":\"scattergeo\"}],\"scattergl\":[{\"marker\":{\"colorbar\":{\"outlinewidth\":0,\"ticks\":\"\"}},\"type\":\"scattergl\"}],\"scattermapbox\":[{\"marker\":{\"colorbar\":{\"outlinewidth\":0,\"ticks\":\"\"}},\"type\":\"scattermapbox\"}],\"scatterpolar\":[{\"marker\":{\"colorbar\":{\"outlinewidth\":0,\"ticks\":\"\"}},\"type\":\"scatterpolar\"}],\"scatterpolargl\":[{\"marker\":{\"colorbar\":{\"outlinewidth\":0,\"ticks\":\"\"}},\"type\":\"scatterpolargl\"}],\"scatterternary\":[{\"marker\":{\"colorbar\":{\"outlinewidth\":0,\"ticks\":\"\"}},\"type\":\"scatterternary\"}],\"surface\":[{\"colorbar\":{\"outlinewidth\":0,\"ticks\":\"\"},\"colorscale\":[[0.0,\"#0d0887\"],[0.1111111111111111,\"#46039f\"],[0.2222222222222222,\"#7201a8\"],[0.3333333333333333,\"#9c179e\"],[0.4444444444444444,\"#bd3786\"],[0.5555555555555556,\"#d8576b\"],[0.6666666666666666,\"#ed7953\"],[0.7777777777777778,\"#fb9f3a\"],[0.8888888888888888,\"#fdca26\"],[1.0,\"#f0f921\"]],\"type\":\"surface\"}],\"table\":[{\"cells\":{\"fill\":{\"color\":\"#EBF0F8\"},\"line\":{\"color\":\"white\"}},\"header\":{\"fill\":{\"color\":\"#C8D4E3\"},\"line\":{\"color\":\"white\"}},\"type\":\"table\"}]},\"layout\":{\"annotationdefaults\":{\"arrowcolor\":\"#2a3f5f\",\"arrowhead\":0,\"arrowwidth\":1},\"autotypenumbers\":\"strict\",\"coloraxis\":{\"colorbar\":{\"outlinewidth\":0,\"ticks\":\"\"}},\"colorscale\":{\"diverging\":[[0,\"#8e0152\"],[0.1,\"#c51b7d\"],[0.2,\"#de77ae\"],[0.3,\"#f1b6da\"],[0.4,\"#fde0ef\"],[0.5,\"#f7f7f7\"],[0.6,\"#e6f5d0\"],[0.7,\"#b8e186\"],[0.8,\"#7fbc41\"],[0.9,\"#4d9221\"],[1,\"#276419\"]],\"sequential\":[[0.0,\"#0d0887\"],[0.1111111111111111,\"#46039f\"],[0.2222222222222222,\"#7201a8\"],[0.3333333333333333,\"#9c179e\"],[0.4444444444444444,\"#bd3786\"],[0.5555555555555556,\"#d8576b\"],[0.6666666666666666,\"#ed7953\"],[0.7777777777777778,\"#fb9f3a\"],[0.8888888888888888,\"#fdca26\"],[1.0,\"#f0f921\"]],\"sequentialminus\":[[0.0,\"#0d0887\"],[0.1111111111111111,\"#46039f\"],[0.2222222222222222,\"#7201a8\"],[0.3333333333333333,\"#9c179e\"],[0.4444444444444444,\"#bd3786\"],[0.5555555555555556,\"#d8576b\"],[0.6666666666666666,\"#ed7953\"],[0.7777777777777778,\"#fb9f3a\"],[0.8888888888888888,\"#fdca26\"],[1.0,\"#f0f921\"]]},\"colorway\":[\"#636efa\",\"#EF553B\",\"#00cc96\",\"#ab63fa\",\"#FFA15A\",\"#19d3f3\",\"#FF6692\",\"#B6E880\",\"#FF97FF\",\"#FECB52\"],\"font\":{\"color\":\"#2a3f5f\"},\"geo\":{\"bgcolor\":\"white\",\"lakecolor\":\"white\",\"landcolor\":\"#E5ECF6\",\"showlakes\":true,\"showland\":true,\"subunitcolor\":\"white\"},\"hoverlabel\":{\"align\":\"left\"},\"hovermode\":\"closest\",\"mapbox\":{\"style\":\"light\"},\"paper_bgcolor\":\"white\",\"plot_bgcolor\":\"#E5ECF6\",\"polar\":{\"angularaxis\":{\"gridcolor\":\"white\",\"linecolor\":\"white\",\"ticks\":\"\"},\"bgcolor\":\"#E5ECF6\",\"radialaxis\":{\"gridcolor\":\"white\",\"linecolor\":\"white\",\"ticks\":\"\"}},\"scene\":{\"xaxis\":{\"backgroundcolor\":\"#E5ECF6\",\"gridcolor\":\"white\",\"gridwidth\":2,\"linecolor\":\"white\",\"showbackground\":true,\"ticks\":\"\",\"zerolinecolor\":\"white\"},\"yaxis\":{\"backgroundcolor\":\"#E5ECF6\",\"gridcolor\":\"white\",\"gridwidth\":2,\"linecolor\":\"white\",\"showbackground\":true,\"ticks\":\"\",\"zerolinecolor\":\"white\"},\"zaxis\":{\"backgroundcolor\":\"#E5ECF6\",\"gridcolor\":\"white\",\"gridwidth\":2,\"linecolor\":\"white\",\"showbackground\":true,\"ticks\":\"\",\"zerolinecolor\":\"white\"}},\"shapedefaults\":{\"line\":{\"color\":\"#2a3f5f\"}},\"ternary\":{\"aaxis\":{\"gridcolor\":\"white\",\"linecolor\":\"white\",\"ticks\":\"\"},\"baxis\":{\"gridcolor\":\"white\",\"linecolor\":\"white\",\"ticks\":\"\"},\"bgcolor\":\"#E5ECF6\",\"caxis\":{\"gridcolor\":\"white\",\"linecolor\":\"white\",\"ticks\":\"\"}},\"title\":{\"x\":0.05},\"xaxis\":{\"automargin\":true,\"gridcolor\":\"white\",\"linecolor\":\"white\",\"ticks\":\"\",\"title\":{\"standoff\":15},\"zerolinecolor\":\"white\",\"zerolinewidth\":2},\"yaxis\":{\"automargin\":true,\"gridcolor\":\"white\",\"linecolor\":\"white\",\"ticks\":\"\",\"title\":{\"standoff\":15},\"zerolinecolor\":\"white\",\"zerolinewidth\":2}}},\"xaxis\":{\"anchor\":\"y\",\"domain\":[0.0,1.0],\"title\":{\"text\":\"level\"},\"categoryorder\":\"array\",\"categoryarray\":[\"All Levels\",\"Intermediate Level\",\"Beginner Level\",\"Expert Level\"]},\"yaxis\":{\"anchor\":\"x\",\"domain\":[0.0,1.0],\"title\":{\"text\":\"content_duration\"}},\"legend\":{\"title\":{\"text\":\"level\"},\"tracegroupgap\":0},\"title\":{\"text\":\"Box Plot of Level v Content Duration\"},\"boxmode\":\"overlay\"},                        {\"responsive\": true}                    ).then(function(){\n",
       "                            \n",
       "var gd = document.getElementById('23b5a9e2-1436-4c5b-ad04-6ad645f50664');\n",
       "var x = new MutationObserver(function (mutations, observer) {{\n",
       "        var display = window.getComputedStyle(gd).display;\n",
       "        if (!display || display === 'none') {{\n",
       "            console.log([gd, 'removed!']);\n",
       "            Plotly.purge(gd);\n",
       "            observer.disconnect();\n",
       "        }}\n",
       "}});\n",
       "\n",
       "// Listen for the removal of the full notebook cells\n",
       "var notebookContainer = gd.closest('#notebook-container');\n",
       "if (notebookContainer) {{\n",
       "    x.observe(notebookContainer, {childList: true});\n",
       "}}\n",
       "\n",
       "// Listen for the clearing of the current output cell\n",
       "var outputEl = gd.closest('.output');\n",
       "if (outputEl) {{\n",
       "    x.observe(outputEl, {childList: true});\n",
       "}}\n",
       "\n",
       "                        })                };                });            </script>        </div>"
      ]
     },
     "metadata": {},
     "output_type": "display_data"
    }
   ],
   "source": [
    "fig=px.box(df, x='level', y='content_duration', color='level', title='Box Plot of Level v Content Duration')\n",
    "fig.show()"
   ]
  },
  {
   "cell_type": "markdown",
   "metadata": {},
   "source": [
    " Higher level courses seems to be mostly shorter than lower level courses. This means that as your level increases, your required time to comprehend the course decreases"
   ]
  },
  {
   "cell_type": "markdown",
   "metadata": {},
   "source": [
    "# Relationship between variables "
   ]
  },
  {
   "cell_type": "code",
   "execution_count": 92,
   "metadata": {},
   "outputs": [
    {
     "data": {
      "image/png": "[encoded data removed]",
      "text/plain": [
       "<Figure size 720x432 with 2 Axes>"
      ]
     },
     "metadata": {},
     "output_type": "display_data"
    }
   ],
   "source": [
    "df1 = df.drop(['course_id','url','published_timestamp'], axis=1)\n",
    "f = df1.corr()\n",
    "plt.figure(figsize=(10,6))\n",
    "sns.heatmap(f, annot = True)\n",
    "\n",
    "plt.show()"
   ]
  },
  {
   "cell_type": "markdown",
   "metadata": {},
   "source": [
    "This heatmap shows the relationship between the variables. "
   ]
  },
  {
   "cell_type": "code",
   "execution_count": null,
   "metadata": {},
   "outputs": [],
   "source": []
  }
 ],
 "metadata": {
  "kernelspec": {
   "display_name": "Python 3",
   "language": "python",
   "name": "python3"
  },
  "language_info": {
   "codemirror_mode": {
    "name": "ipython",
    "version": 3
   },
   "file_extension": ".py",
   "mimetype": "text/x-python",
   "name": "python",
   "nbconvert_exporter": "python",
   "pygments_lexer": "ipython3",
   "version": "3.8.8"
  }
 },
 "nbformat": 4,
 "nbformat_minor": 4
}
